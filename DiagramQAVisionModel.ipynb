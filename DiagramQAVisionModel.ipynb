{
  "cells": [
    {
      "cell_type": "code",
      "execution_count": 1,
      "metadata": {
        "colab": {
          "base_uri": "https://localhost:8080/"
        },
        "id": "FVMuDWn99jrK",
        "outputId": "98d398ee-80e3-466f-d84b-fbea428cb3b8"
      },
      "outputs": [
        {
          "output_type": "stream",
          "name": "stdout",
          "text": [
            "\u001b[2K   \u001b[90m━━━━━━━━━━━━━━━━━━━━━━━━━━━━━━━━━━━━━━━━\u001b[0m \u001b[32m494.8/494.8 kB\u001b[0m \u001b[31m15.4 MB/s\u001b[0m eta \u001b[36m0:00:00\u001b[0m\n",
            "\u001b[2K   \u001b[90m━━━━━━━━━━━━━━━━━━━━━━━━━━━━━━━━━━━━━━━━\u001b[0m \u001b[32m72.9/72.9 MB\u001b[0m \u001b[31m9.5 MB/s\u001b[0m eta \u001b[36m0:00:00\u001b[0m\n",
            "\u001b[2K   \u001b[90m━━━━━━━━━━━━━━━━━━━━━━━━━━━━━━━━━━━━━━━━\u001b[0m \u001b[32m367.1/367.1 kB\u001b[0m \u001b[31m15.0 MB/s\u001b[0m eta \u001b[36m0:00:00\u001b[0m\n",
            "\u001b[2K   \u001b[90m━━━━━━━━━━━━━━━━━━━━━━━━━━━━━━━━━━━━━━━━\u001b[0m \u001b[32m6.6/6.6 MB\u001b[0m \u001b[31m62.8 MB/s\u001b[0m eta \u001b[36m0:00:00\u001b[0m\n",
            "\u001b[2K   \u001b[90m━━━━━━━━━━━━━━━━━━━━━━━━━━━━━━━━━━━━━━━━\u001b[0m \u001b[32m193.6/193.6 kB\u001b[0m \u001b[31m10.3 MB/s\u001b[0m eta \u001b[36m0:00:00\u001b[0m\n",
            "\u001b[2K   \u001b[90m━━━━━━━━━━━━━━━━━━━━━━━━━━━━━━━━━━━━━━━━\u001b[0m \u001b[32m363.4/363.4 MB\u001b[0m \u001b[31m4.8 MB/s\u001b[0m eta \u001b[36m0:00:00\u001b[0m\n",
            "\u001b[2K   \u001b[90m━━━━━━━━━━━━━━━━━━━━━━━━━━━━━━━━━━━━━━━━\u001b[0m \u001b[32m13.8/13.8 MB\u001b[0m \u001b[31m49.8 MB/s\u001b[0m eta \u001b[36m0:00:00\u001b[0m\n",
            "\u001b[2K   \u001b[90m━━━━━━━━━━━━━━━━━━━━━━━━━━━━━━━━━━━━━━━━\u001b[0m \u001b[32m24.6/24.6 MB\u001b[0m \u001b[31m59.0 MB/s\u001b[0m eta \u001b[36m0:00:00\u001b[0m\n",
            "\u001b[2K   \u001b[90m━━━━━━━━━━━━━━━━━━━━━━━━━━━━━━━━━━━━━━━━\u001b[0m \u001b[32m883.7/883.7 kB\u001b[0m \u001b[31m36.4 MB/s\u001b[0m eta \u001b[36m0:00:00\u001b[0m\n",
            "\u001b[2K   \u001b[90m━━━━━━━━━━━━━━━━━━━━━━━━━━━━━━━━━━━━━━━━\u001b[0m \u001b[32m664.8/664.8 MB\u001b[0m \u001b[31m1.8 MB/s\u001b[0m eta \u001b[36m0:00:00\u001b[0m\n",
            "\u001b[2K   \u001b[90m━━━━━━━━━━━━━━━━━━━━━━━━━━━━━━━━━━━━━━━━\u001b[0m \u001b[32m211.5/211.5 MB\u001b[0m \u001b[31m2.9 MB/s\u001b[0m eta \u001b[36m0:00:00\u001b[0m\n",
            "\u001b[2K   \u001b[90m━━━━━━━━━━━━━━━━━━━━━━━━━━━━━━━━━━━━━━━━\u001b[0m \u001b[32m56.3/56.3 MB\u001b[0m \u001b[31m10.9 MB/s\u001b[0m eta \u001b[36m0:00:00\u001b[0m\n",
            "\u001b[2K   \u001b[90m━━━━━━━━━━━━━━━━━━━━━━━━━━━━━━━━━━━━━━━━\u001b[0m \u001b[32m127.9/127.9 MB\u001b[0m \u001b[31m9.1 MB/s\u001b[0m eta \u001b[36m0:00:00\u001b[0m\n",
            "\u001b[2K   \u001b[90m━━━━━━━━━━━━━━━━━━━━━━━━━━━━━━━━━━━━━━━━\u001b[0m \u001b[32m207.5/207.5 MB\u001b[0m \u001b[31m5.1 MB/s\u001b[0m eta \u001b[36m0:00:00\u001b[0m\n",
            "\u001b[2K   \u001b[90m━━━━━━━━━━━━━━━━━━━━━━━━━━━━━━━━━━━━━━━━\u001b[0m \u001b[32m21.1/21.1 MB\u001b[0m \u001b[31m63.1 MB/s\u001b[0m eta \u001b[36m0:00:00\u001b[0m\n",
            "\u001b[?25h\u001b[31mERROR: pip's dependency resolver does not currently take into account all the packages that are installed. This behaviour is the source of the following dependency conflicts.\n",
            "gcsfs 2025.3.2 requires fsspec==2025.3.2, but you have fsspec 2025.3.0 which is incompatible.\u001b[0m\u001b[31m\n",
            "\u001b[0m"
          ]
        }
      ],
      "source": [
        "!pip install -q transformers peft datasets -U bitsandbytes accelerate sentencepiece pillow tqdm huggingface_hub"
      ]
    },
    {
      "cell_type": "code",
      "execution_count": 2,
      "metadata": {
        "id": "_i5qQI3GHBbh"
      },
      "outputs": [],
      "source": [
        "import os\n",
        "import json\n",
        "import requests\n",
        "from PIL import Image\n",
        "from datasets import Dataset as HFDataset, Features, Image as HFImage, Value\n",
        "from tqdm import tqdm\n",
        "import torch\n",
        "from torch.utils.data import Dataset, DataLoader\n",
        "from transformers import LlavaForConditionalGeneration, LlavaProcessor, BitsAndBytesConfig\n",
        "from peft import LoraConfig, get_peft_model, prepare_model_for_kbit_training\n",
        "from torch.optim import AdamW\n",
        "from huggingface_hub import snapshot_download, hf_hub_download\n",
        "import zipfile\n",
        "import glob\n",
        "import re"
      ]
    },
    {
      "cell_type": "code",
      "execution_count": null,
      "metadata": {
        "colab": {
          "base_uri": "https://localhost:8080/"
        },
        "id": "qZj750L0HK1r",
        "outputId": "e9a77427-b588-47be-c531-557ec30fa6a4"
      },
      "outputs": [
        {
          "output_type": "stream",
          "name": "stdout",
          "text": [
            "Using device: cuda\n"
          ]
        }
      ],
      "source": [
        "device = \"cuda\" if torch.cuda.is_available() else \"cpu\"\n",
        "print(\"Using device:\", device)"
      ]
    },
    {
      "cell_type": "code",
      "execution_count": null,
      "metadata": {
        "colab": {
          "base_uri": "https://localhost:8080/",
          "height": 205,
          "referenced_widgets": [
            "503ddd221b704ab295acb997d8f6ed65",
            "3eeb06e856c8461d8759b7b62f66b2e8",
            "40fb4bde8a114730b3c21ce85c03406d",
            "3e6aee4889b541f38474d93594b4ccdb",
            "9e4aa2d751c2464ab1109a4f756e1dca",
            "c88bc3cb99144ed79bd289f19867b2e9",
            "f67f43598c8c4c90990379b48afac416",
            "c6db3cd40241476da9bdeb510aad9432",
            "65ebcaa5818c4814a51941f806025a50",
            "9a81dab2dc604d9283e01df6b736c3f4",
            "a1ecd215b32a41659028c787078801a9",
            "003099177114457da039b690a52d6810",
            "307c95f929b347929066dbb110f4586b",
            "03355fd851fc4ce7b85f9c08d0e02fba",
            "e276d269cc924227ba58587468ab538c",
            "efe413904d794433971f57974f89683b",
            "bff2c840223447b69d4a0052d8f2ee06",
            "7de2fb05625a4b588d4ef3ceeb825753",
            "7bbbfeebd06e41e99092ea70df072411",
            "b2718cfda91f4cd9bfe2cd8f1056c700",
            "9cff540c06bb4469b6c9f02fb0a71ca2",
            "75dc4c233b234c4e90529232dfd1d38b"
          ]
        },
        "id": "eUFxUUsMuAzT",
        "outputId": "78098181-1d0d-47f8-dfbc-a82a326b4610"
      },
      "outputs": [
        {
          "output_type": "stream",
          "name": "stderr",
          "text": [
            "/usr/local/lib/python3.11/dist-packages/huggingface_hub/utils/_auth.py:94: UserWarning: \n",
            "The secret `HF_TOKEN` does not exist in your Colab secrets.\n",
            "To authenticate with the Hugging Face Hub, create a token in your settings tab (https://huggingface.co/settings/tokens), set it as secret in your Google Colab and restart your session.\n",
            "You will be able to reuse this secret in all of your notebooks.\n",
            "Please note that authentication is recommended but still optional to access public models or datasets.\n",
            "  warnings.warn(\n"
          ]
        },
        {
          "output_type": "display_data",
          "data": {
            "text/plain": [
              "train_val/SPIQA_train.json:   0%|          | 0.00/209M [00:00<?, ?B/s]"
            ],
            "application/vnd.jupyter.widget-view+json": {
              "version_major": 2,
              "version_minor": 0,
              "model_id": "503ddd221b704ab295acb997d8f6ed65"
            }
          },
          "metadata": {}
        },
        {
          "output_type": "display_data",
          "data": {
            "text/plain": [
              "SPIQA_val.json: 0.00B [00:00, ?B/s]"
            ],
            "application/vnd.jupyter.widget-view+json": {
              "version_major": 2,
              "version_minor": 0,
              "model_id": "003099177114457da039b690a52d6810"
            }
          },
          "metadata": {}
        }
      ],
      "source": [
        "for split in [\"train\", \"val\"]:\n",
        "    folder = \"train_val\"\n",
        "    hf_hub_download(repo_id=\"google/spiqa\", filename=f\"{folder}/SPIQA_{split.replace('-', '')}.json\", repo_type=\"dataset\", local_dir=\"./spiqa_data\")"
      ]
    },
    {
      "cell_type": "code",
      "execution_count": null,
      "metadata": {
        "colab": {
          "base_uri": "https://localhost:8080/"
        },
        "id": "mSTV2KqdHLN9",
        "outputId": "097a49a3-b623-481e-f48b-6ac4ef7829e3"
      },
      "outputs": [
        {
          "output_type": "stream",
          "name": "stdout",
          "text": [
            "Mounted at /content/drive\n",
            "Filesystem      Size  Used Avail Use% Mounted on\n",
            "overlay         113G   43G   71G  38% /\n",
            "tmpfs            64M     0   64M   0% /dev\n",
            "shm             5.7G  4.0K  5.7G   1% /dev/shm\n",
            "/dev/root       2.0G  1.2G  775M  61% /usr/sbin/docker-init\n",
            "tmpfs           6.4G  660K  6.4G   1% /var/colab\n",
            "/dev/sda1        74G   47G   27G  64% /kaggle/input\n",
            "tmpfs           6.4G     0  6.4G   0% /proc/acpi\n",
            "tmpfs           6.4G     0  6.4G   0% /proc/scsi\n",
            "tmpfs           6.4G     0  6.4G   0% /sys/firmware\n",
            "drive           113G   47G   67G  41% /content/drive\n",
            "Loaded metadata for train with 25459 papers\n",
            "Sample paper structure: 1612.01810v3 -> dict_keys(['paper_id', 'all_figures', 'qa'])\n",
            "Sample QA pair: {'question': 'Which method converges faster, joint or separate assignment and update steps?', 'answer': 'The joint method converges faster than the separate method.', 'explanation': 'The figure shows the boundary recall of the two methods over the number of iterations. The joint method (red line) reaches a higher boundary recall in fewer iterations than the separate method (blue line).', 'reference': '1612.01810v3-Figure6-1.png'}\n",
            "Found 24398 images in /content/drive/MyDrive/SPIQA_train_val_Images\n"
          ]
        },
        {
          "output_type": "stream",
          "name": "stderr",
          "text": [
            "Processing images:   0%|          | 1/24398 [00:00<6:35:47,  1.03it/s]"
          ]
        },
        {
          "output_type": "stream",
          "name": "stdout",
          "text": [
            "Added sample: image_id=2010.02498v1, question=What are the four dimensions of linguistic quality...\n",
            "Matched via: image_id\n"
          ]
        },
        {
          "output_type": "stream",
          "name": "stderr",
          "text": [
            "\rProcessing images:   0%|          | 2/24398 [00:01<6:06:52,  1.11it/s]"
          ]
        },
        {
          "output_type": "stream",
          "name": "stdout",
          "text": [
            "Added sample: image_id=2010.02498v1, question=Which metric has the highest correlation with huma...\n",
            "Matched via: image_id\n"
          ]
        },
        {
          "output_type": "stream",
          "name": "stderr",
          "text": [
            "\rProcessing images:   0%|          | 3/24398 [00:02<5:33:16,  1.22it/s]"
          ]
        },
        {
          "output_type": "stream",
          "name": "stdout",
          "text": [
            "Added sample: image_id=2010.02498v1, question= Which metric has the highest correlation with hum...\n",
            "Matched via: image_id\n"
          ]
        },
        {
          "output_type": "stream",
          "name": "stderr",
          "text": [
            "\rProcessing images:   0%|          | 4/24398 [00:03<5:41:28,  1.19it/s]"
          ]
        },
        {
          "output_type": "stream",
          "name": "stdout",
          "text": [
            "Added sample: image_id=2010.02498v1, question=Which metric has the highest correlation with huma...\n",
            "Matched via: image_id\n"
          ]
        },
        {
          "output_type": "stream",
          "name": "stderr",
          "text": [
            "\rProcessing images:   0%|          | 5/24398 [00:04<5:52:17,  1.15it/s]"
          ]
        },
        {
          "output_type": "stream",
          "name": "stdout",
          "text": [
            "Added sample: image_id=2010.02498v1, question=Which dataset and metric combination had the most ...\n",
            "Matched via: image_id\n"
          ]
        },
        {
          "output_type": "stream",
          "name": "stderr",
          "text": [
            "\rProcessing images:   0%|          | 6/24398 [00:05<5:33:49,  1.22it/s]"
          ]
        },
        {
          "output_type": "stream",
          "name": "stdout",
          "text": [
            "Added sample: image_id=2010.02498v1, question=What is the relationship between the naturalness a...\n",
            "Matched via: image_id\n"
          ]
        },
        {
          "output_type": "stream",
          "name": "stderr",
          "text": [
            "\rProcessing images:   0%|          | 7/24398 [00:05<5:23:13,  1.26it/s]"
          ]
        },
        {
          "output_type": "stream",
          "name": "stdout",
          "text": [
            "Added sample: image_id=2010.02498v1, question=Which metric has the highest correlation with huma...\n",
            "Matched via: image_id\n"
          ]
        },
        {
          "output_type": "stream",
          "name": "stderr",
          "text": [
            "\rProcessing images:   0%|          | 8/24398 [00:06<5:08:35,  1.32it/s]"
          ]
        },
        {
          "output_type": "stream",
          "name": "stdout",
          "text": [
            "Added sample: image_id=2010.02498v1, question=Which model performs the best on the Grammar task ...\n",
            "Matched via: image_id\n"
          ]
        },
        {
          "output_type": "stream",
          "name": "stderr",
          "text": [
            "\rProcessing images:   0%|          | 9/24398 [00:07<5:01:13,  1.35it/s]"
          ]
        },
        {
          "output_type": "stream",
          "name": "stdout",
          "text": [
            "Added sample: image_id=2010.02498v1, question=Which metric has the highest correlation with huma...\n",
            "Matched via: image_id\n"
          ]
        },
        {
          "output_type": "stream",
          "name": "stderr",
          "text": [
            "\rProcessing images:   0%|          | 10/24398 [00:07<5:02:42,  1.34it/s]"
          ]
        },
        {
          "output_type": "stream",
          "name": "stdout",
          "text": [
            "Added sample: image_id=2010.02498v1, question=What is the relationship between human judgment an...\n",
            "Matched via: image_id\n"
          ]
        },
        {
          "output_type": "stream",
          "name": "stderr",
          "text": [
            "\rProcessing images:   0%|          | 11/24398 [00:08<5:04:56,  1.33it/s]"
          ]
        },
        {
          "output_type": "stream",
          "name": "stdout",
          "text": [
            "Added sample: image_id=2010.02498v1, question=What is the relationship between the number of hum...\n",
            "Matched via: image_id\n"
          ]
        },
        {
          "output_type": "stream",
          "name": "stderr",
          "text": [
            "\rProcessing images:   0%|          | 12/24398 [00:09<4:58:00,  1.36it/s]"
          ]
        },
        {
          "output_type": "stream",
          "name": "stdout",
          "text": [
            "Added sample: image_id=2010.02498v1, question=Which metric has the highest correlation with Gram...\n",
            "Matched via: image_id\n"
          ]
        },
        {
          "output_type": "stream",
          "name": "stderr",
          "text": [
            "\rProcessing images:   0%|          | 13/24398 [00:10<4:50:22,  1.40it/s]"
          ]
        },
        {
          "output_type": "stream",
          "name": "stdout",
          "text": [
            "Added sample: image_id=2010.02498v1, question=Which metric has the highest correlation with huma...\n",
            "Matched via: image_id\n"
          ]
        },
        {
          "output_type": "stream",
          "name": "stderr",
          "text": [
            "\rProcessing images:   0%|          | 14/24398 [00:10<4:50:44,  1.40it/s]"
          ]
        },
        {
          "output_type": "stream",
          "name": "stdout",
          "text": [
            "Added sample: image_id=2010.02498v1, question=What are the different linguistic aspects that are...\n",
            "Matched via: image_id\n"
          ]
        },
        {
          "output_type": "stream",
          "name": "stderr",
          "text": [
            "\rProcessing images:   0%|          | 15/24398 [00:11<4:48:44,  1.41it/s]"
          ]
        },
        {
          "output_type": "stream",
          "name": "stdout",
          "text": [
            "Added sample: image_id=2010.02498v1, question=Which metric has the highest correlation with Read...\n",
            "Matched via: image_id\n"
          ]
        },
        {
          "output_type": "stream",
          "name": "stderr",
          "text": [
            "\rProcessing images:   0%|          | 16/24398 [00:12<4:50:36,  1.40it/s]"
          ]
        },
        {
          "output_type": "stream",
          "name": "stdout",
          "text": [
            "Added sample: image_id=2010.02498v1, question=What are the different aspects of linguistic quali...\n",
            "Matched via: image_id\n"
          ]
        },
        {
          "output_type": "stream",
          "name": "stderr",
          "text": [
            "\rProcessing images:   0%|          | 17/24398 [00:12<4:44:26,  1.43it/s]"
          ]
        },
        {
          "output_type": "stream",
          "name": "stdout",
          "text": [
            "Added sample: image_id=2010.02498v1, question=Which metric has the highest correlation with huma...\n",
            "Matched via: image_id\n"
          ]
        },
        {
          "output_type": "stream",
          "name": "stderr",
          "text": [
            "\rProcessing images:   0%|          | 18/24398 [00:13<4:35:33,  1.47it/s]"
          ]
        },
        {
          "output_type": "stream",
          "name": "stdout",
          "text": [
            "Added sample: image_id=2010.02498v1, question= Which of the example outputs is the most redundan...\n",
            "Matched via: image_id\n"
          ]
        },
        {
          "output_type": "stream",
          "name": "stderr",
          "text": [
            "\rProcessing images:   0%|          | 19/24398 [00:14<4:46:43,  1.42it/s]"
          ]
        },
        {
          "output_type": "stream",
          "name": "stdout",
          "text": [
            "Added sample: image_id=2010.02784v1, question=What are the two tasks shown in the table?...\n",
            "Matched via: image_id\n"
          ]
        },
        {
          "output_type": "stream",
          "name": "stderr",
          "text": [
            "\rProcessing images:   0%|          | 20/24398 [00:14<4:48:26,  1.41it/s]"
          ]
        },
        {
          "output_type": "stream",
          "name": "stdout",
          "text": [
            "Added sample: image_id=2010.02784v1, question=Which model performs the best on the Category Extr...\n",
            "Matched via: image_id\n"
          ]
        },
        {
          "output_type": "stream",
          "name": "stderr",
          "text": [
            "\rProcessing images:   0%|          | 21/24398 [00:15<4:48:55,  1.41it/s]"
          ]
        },
        {
          "output_type": "stream",
          "name": "stdout",
          "text": [
            "Added sample: image_id=2010.02784v1, question=Which model performs best on the 4-way sentiment a...\n",
            "Matched via: image_id\n"
          ]
        },
        {
          "output_type": "stream",
          "name": "stderr",
          "text": [
            "\rProcessing images:   0%|          | 22/24398 [00:16<4:56:01,  1.37it/s]"
          ]
        },
        {
          "output_type": "stream",
          "name": "stdout",
          "text": [
            "Added sample: image_id=2010.02784v1, question=Which model performed the best on the SemEval11-Ta...\n",
            "Matched via: image_id\n"
          ]
        },
        {
          "output_type": "stream",
          "name": "stderr",
          "text": [
            "\rProcessing images:   0%|          | 23/24398 [00:17<5:01:40,  1.35it/s]"
          ]
        },
        {
          "output_type": "stream",
          "name": "stdout",
          "text": [
            "Added sample: image_id=2010.02784v1, question=Which model performed the best in terms of sentime...\n",
            "Matched via: image_id\n"
          ]
        },
        {
          "output_type": "stream",
          "name": "stderr",
          "text": [
            "\rProcessing images:   0%|          | 24/24398 [00:18<5:06:11,  1.33it/s]"
          ]
        },
        {
          "output_type": "stream",
          "name": "stdout",
          "text": [
            "Added sample: image_id=2010.02784v1, question= What are the differences between the original ACS...\n",
            "Matched via: image_id\n"
          ]
        },
        {
          "output_type": "stream",
          "name": "stderr",
          "text": [
            "\rProcessing images:   0%|          | 25/24398 [00:18<4:57:58,  1.36it/s]"
          ]
        },
        {
          "output_type": "stream",
          "name": "stdout",
          "text": [
            "Added sample: image_id=2010.02784v1, question=What is the difference in performance between the ...\n",
            "Matched via: image_id\n"
          ]
        },
        {
          "output_type": "stream",
          "name": "stderr",
          "text": [
            "\rProcessing images:   0%|          | 26/24398 [00:19<5:11:33,  1.30it/s]"
          ]
        },
        {
          "output_type": "stream",
          "name": "stdout",
          "text": [
            "Added sample: image_id=2010.02784v1, question=How does the CNE-net model handle category feature...\n",
            "Matched via: image_id\n"
          ]
        },
        {
          "output_type": "stream",
          "name": "stderr",
          "text": [
            "\rProcessing images:   0%|          | 27/24398 [00:20<5:03:11,  1.34it/s]"
          ]
        },
        {
          "output_type": "stream",
          "name": "stdout",
          "text": [
            "Added sample: image_id=2010.02217v1, question=How does the Top-1 Accuracy change as the coeffici...\n",
            "Matched via: image_id\n"
          ]
        },
        {
          "output_type": "stream",
          "name": "stderr",
          "text": [
            "\rProcessing images:   0%|          | 28/24398 [00:21<5:03:34,  1.34it/s]"
          ]
        },
        {
          "output_type": "stream",
          "name": "stdout",
          "text": [
            "Added sample: image_id=2010.02217v1, question=How does the addition of CO2 affect the instance d...\n",
            "Matched via: image_id\n"
          ]
        },
        {
          "output_type": "stream",
          "name": "stderr",
          "text": [
            "\rProcessing images:   0%|          | 29/24398 [00:21<4:52:31,  1.39it/s]"
          ]
        },
        {
          "output_type": "stream",
          "name": "stdout",
          "text": [
            "Added sample: image_id=2010.02217v1, question=Which self-supervised pretraining method has the h...\n",
            "Matched via: image_id\n"
          ]
        },
        {
          "output_type": "stream",
          "name": "stderr",
          "text": [
            "\rProcessing images:   0%|          | 30/24398 [00:22<5:12:18,  1.30it/s]"
          ]
        },
        {
          "output_type": "stream",
          "name": "stdout",
          "text": [
            "Added sample: image_id=2010.02217v1, question=Which pretext task achieved the highest accuracy w...\n",
            "Matched via: image_id\n"
          ]
        },
        {
          "output_type": "stream",
          "name": "stderr",
          "text": [
            "\rProcessing images:   0%|          | 31/24398 [00:23<5:28:50,  1.24it/s]"
          ]
        },
        {
          "output_type": "stream",
          "name": "stdout",
          "text": [
            "Added sample: image_id=2010.02217v1, question=What is the performance of MoCo v2 with CO2 on obj...\n",
            "Matched via: image_id\n"
          ]
        },
        {
          "output_type": "stream",
          "name": "stderr",
          "text": [
            "\rProcessing images:   0%|          | 32/24398 [00:24<6:10:13,  1.10it/s]"
          ]
        },
        {
          "output_type": "stream",
          "name": "stdout",
          "text": [
            "Added sample: image_id=2010.02217v1, question= What is the difference between instance discrimin...\n",
            "Matched via: image_id\n"
          ]
        },
        {
          "output_type": "stream",
          "name": "stderr",
          "text": [
            "\rProcessing images:   0%|          | 33/24398 [00:25<5:42:26,  1.19it/s]"
          ]
        },
        {
          "output_type": "stream",
          "name": "stdout",
          "text": [
            "Added sample: image_id=2010.02983v2, question=What is the relationship between the autoencoder m...\n",
            "Matched via: image_id\n"
          ]
        },
        {
          "output_type": "stream",
          "name": "stderr",
          "text": [
            "\rProcessing images:   0%|          | 34/24398 [00:26<5:27:00,  1.24it/s]"
          ]
        },
        {
          "output_type": "stream",
          "name": "stdout",
          "text": [
            "Added sample: image_id=2010.02983v2, question=Which model has the highest BLEU score?...\n",
            "Matched via: image_id\n"
          ]
        },
        {
          "output_type": "stream",
          "name": "stderr",
          "text": [
            "\rProcessing images:   0%|          | 35/24398 [00:26<5:18:07,  1.28it/s]"
          ]
        },
        {
          "output_type": "stream",
          "name": "stdout",
          "text": [
            "Added sample: image_id=2010.02983v2, question=Which of the plug and play methods for unsupervise...\n",
            "Matched via: image_id\n"
          ]
        },
        {
          "output_type": "stream",
          "name": "stderr",
          "text": [
            "\rProcessing images:   0%|          | 36/24398 [00:27<5:18:50,  1.27it/s]"
          ]
        },
        {
          "output_type": "stream",
          "name": "stdout",
          "text": [
            "Added sample: image_id=2010.02983v2, question=Which model performs the best in terms of accuracy...\n",
            "Matched via: image_id\n"
          ]
        },
        {
          "output_type": "stream",
          "name": "stderr",
          "text": [
            "\rProcessing images:   0%|          | 37/24398 [00:28<5:07:34,  1.32it/s]"
          ]
        },
        {
          "output_type": "stream",
          "name": "stdout",
          "text": [
            "Added sample: image_id=2010.02983v2, question=What is the role of the mapping function Φ in the ...\n",
            "Matched via: image_id\n"
          ]
        },
        {
          "output_type": "stream",
          "name": "stderr",
          "text": [
            "\rProcessing images:   0%|          | 38/24398 [00:29<5:15:18,  1.29it/s]"
          ]
        },
        {
          "output_type": "stream",
          "name": "stdout",
          "text": [
            "Added sample: image_id=2010.02983v2, question=Which model performs the best on WikiLarge in term...\n",
            "Matched via: image_id\n"
          ]
        },
        {
          "output_type": "stream",
          "name": "stderr",
          "text": [
            "\rProcessing images:   0%|          | 39/24398 [00:29<5:09:15,  1.31it/s]"
          ]
        },
        {
          "output_type": "stream",
          "name": "stdout",
          "text": [
            "Added sample: image_id=2010.02983v2, question=Which model performs the best on the BLEU metric?...\n",
            "Matched via: image_id\n"
          ]
        },
        {
          "output_type": "stream",
          "name": "stderr",
          "text": [
            "\rProcessing images:   0%|          | 40/24398 [00:30<5:02:50,  1.34it/s]"
          ]
        },
        {
          "output_type": "stream",
          "name": "stdout",
          "text": [
            "Added sample: image_id=2010.02983v2, question=Which model architecture performs the best when λa...\n",
            "Matched via: image_id\n"
          ]
        },
        {
          "output_type": "stream",
          "name": "stderr",
          "text": [
            "\rProcessing images:   0%|          | 41/24398 [00:31<5:00:10,  1.35it/s]"
          ]
        },
        {
          "output_type": "stream",
          "name": "stdout",
          "text": [
            "Added sample: image_id=2010.02983v2, question=What is the key difference between OffsetNet and R...\n",
            "Matched via: image_id\n"
          ]
        },
        {
          "output_type": "stream",
          "name": "stderr",
          "text": [
            "\rProcessing images:   0%|          | 42/24398 [00:31<4:54:57,  1.38it/s]"
          ]
        },
        {
          "output_type": "stream",
          "name": "stdout",
          "text": [
            "Added sample: image_id=2010.02983v2, question=Which of the methods compared in the figure perfor...\n",
            "Matched via: image_id\n"
          ]
        },
        {
          "output_type": "stream",
          "name": "stderr",
          "text": [
            "\rProcessing images:   0%|          | 43/24398 [00:32<4:52:09,  1.39it/s]"
          ]
        },
        {
          "output_type": "stream",
          "name": "stdout",
          "text": [
            "Added sample: image_id=2010.02983v2, question=Which model has the highest s-BLEU score and what ...\n",
            "Matched via: image_id\n"
          ]
        },
        {
          "output_type": "stream",
          "name": "stderr",
          "text": [
            "\rProcessing images:   0%|          | 44/24398 [00:33<4:48:46,  1.41it/s]"
          ]
        },
        {
          "output_type": "stream",
          "name": "stdout",
          "text": [
            "Added sample: image_id=2010.02983v2, question=What is the effect of increasing the multiplier an...\n",
            "Matched via: image_id\n"
          ]
        },
        {
          "output_type": "stream",
          "name": "stderr",
          "text": [
            "\rProcessing images:   0%|          | 45/24398 [00:34<4:50:07,  1.40it/s]"
          ]
        },
        {
          "output_type": "stream",
          "name": "stdout",
          "text": [
            "Added sample: image_id=2010.02983v2, question=What is the difference between the input and the r...\n",
            "Matched via: image_id\n"
          ]
        },
        {
          "output_type": "stream",
          "name": "stderr",
          "text": [
            "\rProcessing images:   0%|          | 46/24398 [00:35<5:23:38,  1.25it/s]"
          ]
        },
        {
          "output_type": "stream",
          "name": "stdout",
          "text": [
            "Added sample: image_id=2010.02983v2, question=What is the difference between the input and the r...\n",
            "Matched via: image_id\n"
          ]
        },
        {
          "output_type": "stream",
          "name": "stderr",
          "text": [
            "\rProcessing images:   0%|          | 47/24398 [00:35<5:27:52,  1.24it/s]"
          ]
        },
        {
          "output_type": "stream",
          "name": "stdout",
          "text": [
            "Added sample: image_id=2010.02983v2, question=What is the relationship between the multiplier an...\n",
            "Matched via: image_id\n"
          ]
        },
        {
          "output_type": "stream",
          "name": "stderr",
          "text": [
            "\rProcessing images:   0%|          | 48/24398 [00:36<5:13:48,  1.29it/s]"
          ]
        },
        {
          "output_type": "stream",
          "name": "stdout",
          "text": [
            "Added sample: image_id=2010.02983v2, question=Which of the three model scenarios performed the b...\n",
            "Matched via: image_id\n"
          ]
        },
        {
          "output_type": "stream",
          "name": "stderr",
          "text": [
            "\rProcessing images:   0%|          | 49/24398 [00:37<5:21:25,  1.26it/s]"
          ]
        },
        {
          "output_type": "stream",
          "name": "stdout",
          "text": [
            "Added sample: image_id=2010.02123v1, question=Which method performs the best on average across a...\n",
            "Matched via: image_id\n",
            "Warning: No QA pair matched for 2010.02123v1-Table5-1.png in paper 2010.02123v1, skipping\n",
            "Warning: No QA pair matched for 2010.02123v1-Table7-1.png in paper 2010.02123v1, skipping\n",
            "Warning: No QA pair matched for 2010.02123v1-Figure1-1.png in paper 2010.02123v1, skipping\n",
            "Warning: No QA pair matched for 2010.02123v1-Figure5-1.png in paper 2010.02123v1, skipping\n",
            "Warning: No QA pair matched for 2010.02123v1-Figure3-1.png in paper 2010.02123v1, skipping\n",
            "Warning: No QA pair matched for 2010.02123v1-Table1-1.png in paper 2010.02123v1, skipping\n",
            "Warning: No QA pair matched for 2010.02123v1-Figure2-1.png in paper 2010.02123v1, skipping\n",
            "Warning: No QA pair matched for 2010.02123v1-Table2-1.png in paper 2010.02123v1, skipping\n",
            "Warning: No QA pair matched for 2010.02123v1-Figure4-1.png in paper 2010.02123v1, skipping\n",
            "Warning: No QA pair matched for 2010.02123v1-Table3-1.png in paper 2010.02123v1, skipping\n",
            "Warning: No QA pair matched for 2010.02123v1-Table8-1.png in paper 2010.02123v1, skipping\n",
            "Warning: No QA pair matched for 2010.02123v1-Table6-1.png in paper 2010.02123v1, skipping\n"
          ]
        },
        {
          "output_type": "stream",
          "name": "stderr",
          "text": [
            "\rProcessing images:   0%|          | 62/24398 [00:38<1:08:21,  5.93it/s]"
          ]
        },
        {
          "output_type": "stream",
          "name": "stdout",
          "text": [
            "Added sample: image_id=2010.02311v2, question=Which model performed better on the QM9 dataset in...\n",
            "Matched via: image_id\n",
            "Warning: Could not parse figure or table ID from 2010.02311v2-TableI-1.png, skipping\n"
          ]
        },
        {
          "output_type": "stream",
          "name": "stderr",
          "text": [
            "\rProcessing images:   0%|          | 64/24398 [00:38<1:23:11,  4.88it/s]"
          ]
        },
        {
          "output_type": "stream",
          "name": "stdout",
          "text": [
            "Added sample: image_id=2010.02311v2, question=What are the structural features that differentiat...\n",
            "Matched via: image_id\n"
          ]
        },
        {
          "output_type": "stream",
          "name": "stderr",
          "text": [
            "\rProcessing images:   0%|          | 65/24398 [00:39<1:45:07,  3.86it/s]"
          ]
        },
        {
          "output_type": "stream",
          "name": "stdout",
          "text": [
            "Added sample: image_id=2010.02311v2, question=Which model performs better at generating molecule...\n",
            "Matched via: image_id\n"
          ]
        },
        {
          "output_type": "stream",
          "name": "stderr",
          "text": [
            "\rProcessing images:   0%|          | 66/24398 [00:40<2:11:03,  3.09it/s]"
          ]
        },
        {
          "output_type": "stream",
          "name": "stdout",
          "text": [
            "Added sample: image_id=2010.02311v2, question=What is the purpose of the LSTM layers in the mode...\n",
            "Matched via: image_id\n"
          ]
        },
        {
          "output_type": "stream",
          "name": "stderr",
          "text": [
            "\rProcessing images:   0%|          | 67/24398 [00:41<2:39:30,  2.54it/s]"
          ]
        },
        {
          "output_type": "stream",
          "name": "stdout",
          "text": [
            "Added sample: image_id=2010.02311v2, question=Which number of edits results in the lowest MSE?...\n",
            "Matched via: image_id\n"
          ]
        },
        {
          "output_type": "stream",
          "name": "stderr",
          "text": [
            "\rProcessing images:   0%|          | 68/24398 [00:41<3:07:01,  2.17it/s]"
          ]
        },
        {
          "output_type": "stream",
          "name": "stdout",
          "text": [
            "Added sample: image_id=2010.02311v2, question=Which data augmentation technique achieves the bes...\n",
            "Matched via: image_id\n",
            "Warning: Could not parse figure or table ID from 2010.02311v2-FigureD.3-1.png, skipping\n"
          ]
        },
        {
          "output_type": "stream",
          "name": "stderr",
          "text": [
            "\rProcessing images:   0%|          | 70/24398 [00:42<2:57:43,  2.28it/s]"
          ]
        },
        {
          "output_type": "stream",
          "name": "stdout",
          "text": [
            "Added sample: image_id=2010.02656v1, question=What is the overall sentiment of the sentence?...\n",
            "Matched via: image_id\n"
          ]
        },
        {
          "output_type": "stream",
          "name": "stderr",
          "text": [
            "\rProcessing images:   0%|          | 71/24398 [00:43<3:25:14,  1.98it/s]"
          ]
        },
        {
          "output_type": "stream",
          "name": "stdout",
          "text": [
            "Added sample: image_id=2010.02656v1, question=Which method achieved the highest accuracy for the...\n",
            "Matched via: image_id\n"
          ]
        },
        {
          "output_type": "stream",
          "name": "stderr",
          "text": [
            "\rProcessing images:   0%|          | 72/24398 [00:44<3:56:34,  1.71it/s]"
          ]
        },
        {
          "output_type": "stream",
          "name": "stdout",
          "text": [
            "Added sample: image_id=2010.02656v1, question=Which method performed the best on the Rest14-hard...\n",
            "Matched via: image_id\n"
          ]
        },
        {
          "output_type": "stream",
          "name": "stderr",
          "text": [
            "\rProcessing images:   0%|          | 73/24398 [00:45<4:01:17,  1.68it/s]"
          ]
        },
        {
          "output_type": "stream",
          "name": "stdout",
          "text": [
            "Added sample: image_id=2010.02656v1, question=Which method achieved the highest F1 measure for K...\n",
            "Matched via: image_id\n"
          ]
        },
        {
          "output_type": "stream",
          "name": "stderr",
          "text": [
            "\rProcessing images:   0%|          | 74/24398 [00:45<4:14:50,  1.59it/s]"
          ]
        },
        {
          "output_type": "stream",
          "name": "stdout",
          "text": [
            "Added sample: image_id=2010.02656v1, question=Which method achieved the highest accuracy on the ...\n",
            "Matched via: image_id\n"
          ]
        },
        {
          "output_type": "stream",
          "name": "stderr",
          "text": [
            "\rProcessing images:   0%|          | 75/24398 [00:46<4:27:12,  1.52it/s]"
          ]
        },
        {
          "output_type": "stream",
          "name": "stdout",
          "text": [
            "Added sample: image_id=2010.02656v1, question=Which model architecture performs best on the Rest...\n",
            "Matched via: image_id\n"
          ]
        },
        {
          "output_type": "stream",
          "name": "stderr",
          "text": [
            "\rProcessing images:   0%|          | 76/24398 [00:47<4:33:08,  1.48it/s]"
          ]
        },
        {
          "output_type": "stream",
          "name": "stdout",
          "text": [
            "Added sample: image_id=2010.02656v1, question=What is the relationship between the attention wei...\n",
            "Matched via: image_id\n"
          ]
        },
        {
          "output_type": "stream",
          "name": "stderr",
          "text": [
            "\rProcessing images:   0%|          | 77/24398 [00:48<4:45:38,  1.42it/s]"
          ]
        },
        {
          "output_type": "stream",
          "name": "stdout",
          "text": [
            "Added sample: image_id=2010.02656v1, question= How does the attention mechanism in ACSA differ f...\n",
            "Matched via: image_id\n"
          ]
        },
        {
          "output_type": "stream",
          "name": "stderr",
          "text": [
            "\rProcessing images:   0%|          | 78/24398 [00:48<4:52:49,  1.38it/s]"
          ]
        },
        {
          "output_type": "stream",
          "name": "stdout",
          "text": [
            "Added sample: image_id=2010.02656v1, question=Which dataset has the largest number of negative e...\n",
            "Matched via: image_id\n"
          ]
        },
        {
          "output_type": "stream",
          "name": "stderr",
          "text": [
            "\rProcessing images:   0%|          | 79/24398 [00:49<4:54:42,  1.38it/s]"
          ]
        },
        {
          "output_type": "stream",
          "name": "stdout",
          "text": [
            "Added sample: image_id=2010.02473v1, question=Which method achieved the highest BLEU score with ...\n",
            "Matched via: image_id\n"
          ]
        },
        {
          "output_type": "stream",
          "name": "stderr",
          "text": [
            "\rProcessing images:   0%|          | 80/24398 [00:50<4:51:42,  1.39it/s]"
          ]
        },
        {
          "output_type": "stream",
          "name": "stdout",
          "text": [
            "Added sample: image_id=2010.02473v1, question=Which method achieved the highest BLEU score for t...\n",
            "Matched via: image_id\n"
          ]
        },
        {
          "output_type": "stream",
          "name": "stderr",
          "text": [
            "\rProcessing images:   0%|          | 81/24398 [00:50<4:46:03,  1.42it/s]"
          ]
        },
        {
          "output_type": "stream",
          "name": "stdout",
          "text": [
            "Added sample: image_id=2010.02473v1, question=What is the purpose of the iterative domain-repair...\n",
            "Matched via: image_id\n"
          ]
        },
        {
          "output_type": "stream",
          "name": "stderr",
          "text": [
            "\rProcessing images:   0%|          | 82/24398 [00:51<4:42:38,  1.43it/s]"
          ]
        },
        {
          "output_type": "stream",
          "name": "stdout",
          "text": [
            "Added sample: image_id=2010.02473v1, question=What are the two incorrect medical translations ca...\n",
            "Matched via: image_id\n"
          ]
        },
        {
          "output_type": "stream",
          "name": "stderr",
          "text": [
            "\rProcessing images:   0%|          | 83/24398 [00:52<5:16:06,  1.28it/s]"
          ]
        },
        {
          "output_type": "stream",
          "name": "stdout",
          "text": [
            "Added sample: image_id=2010.02473v1, question=What is the effect of applying DR models on the BL...\n",
            "Matched via: image_id\n"
          ]
        },
        {
          "output_type": "stream",
          "name": "stderr",
          "text": [
            "\rProcessing images:   0%|          | 84/24398 [00:53<6:27:16,  1.05it/s]"
          ]
        },
        {
          "output_type": "stream",
          "name": "stdout",
          "text": [
            "Added sample: image_id=2010.02473v1, question=How does the BLEU score of iter-DRBT compare to it...\n",
            "Matched via: image_id\n"
          ]
        },
        {
          "output_type": "stream",
          "name": "stderr",
          "text": [
            "\rProcessing images:   0%|          | 85/24398 [00:54<5:51:36,  1.15it/s]"
          ]
        },
        {
          "output_type": "stream",
          "name": "stdout",
          "text": [
            "Added sample: image_id=2010.02473v1, question=Which language pair has the highest F-measure for ...\n",
            "Matched via: image_id\n"
          ]
        },
        {
          "output_type": "stream",
          "name": "stderr",
          "text": [
            "\rProcessing images:   0%|          | 86/24398 [00:55<5:29:55,  1.23it/s]"
          ]
        },
        {
          "output_type": "stream",
          "name": "stdout",
          "text": [
            "Added sample: image_id=2010.02473v1, question=What is the effect of domain repair on the perplex...\n",
            "Matched via: image_id\n"
          ]
        },
        {
          "output_type": "stream",
          "name": "stderr",
          "text": [
            "\rProcessing images:   0%|          | 87/24398 [00:56<5:28:47,  1.23it/s]"
          ]
        },
        {
          "output_type": "stream",
          "name": "stdout",
          "text": [
            "Added sample: image_id=2010.02473v1, question=What is the effect of St. John's wort on the serum...\n",
            "Matched via: image_id\n"
          ]
        },
        {
          "output_type": "stream",
          "name": "stderr",
          "text": [
            "\rProcessing images:   0%|          | 88/24398 [00:56<5:14:51,  1.29it/s]"
          ]
        },
        {
          "output_type": "stream",
          "name": "stdout",
          "text": [
            "Added sample: image_id=2010.02473v1, question=How does the dual-source transformer architecture ...\n",
            "Matched via: image_id\n"
          ]
        },
        {
          "output_type": "stream",
          "name": "stderr",
          "text": [
            "\rProcessing images:   0%|          | 89/24398 [00:57<5:23:30,  1.25it/s]"
          ]
        },
        {
          "output_type": "stream",
          "name": "stdout",
          "text": [
            "Added sample: image_id=2010.02473v1, question=Which domain has more monolingual data in German t...\n",
            "Matched via: image_id\n"
          ]
        },
        {
          "output_type": "stream",
          "name": "stderr",
          "text": [
            "\rProcessing images:   0%|          | 90/24398 [00:58<5:05:31,  1.33it/s]"
          ]
        },
        {
          "output_type": "stream",
          "name": "stdout",
          "text": [
            "Added sample: image_id=2010.02804v1, question=Which language has the longest canonical segmentat...\n",
            "Matched via: image_id\n"
          ]
        },
        {
          "output_type": "stream",
          "name": "stderr",
          "text": [
            "\rProcessing images:   0%|          | 91/24398 [00:59<5:13:39,  1.29it/s]"
          ]
        },
        {
          "output_type": "stream",
          "name": "stdout",
          "text": [
            "Added sample: image_id=2010.02804v1, question=Which method performed the best on the Indonesian ...\n",
            "Matched via: image_id\n"
          ]
        },
        {
          "output_type": "stream",
          "name": "stderr",
          "text": [
            "\rProcessing images:   0%|          | 92/24398 [00:59<5:03:08,  1.34it/s]"
          ]
        },
        {
          "output_type": "stream",
          "name": "stdout",
          "text": [
            "Added sample: image_id=2010.02804v1, question=Which model performs best on the Tepehua dataset i...\n",
            "Matched via: image_id\n"
          ]
        },
        {
          "output_type": "stream",
          "name": "stderr",
          "text": [
            "\rProcessing images:   0%|          | 93/24398 [01:02<8:58:29,  1.33s/it]"
          ]
        },
        {
          "output_type": "stream",
          "name": "stdout",
          "text": [
            "Added sample: image_id=2010.02804v1, question=Which language has the highest accuracy for all tr...\n",
            "Matched via: image_id\n"
          ]
        },
        {
          "output_type": "stream",
          "name": "stderr",
          "text": [
            "\rProcessing images:   0%|          | 94/24398 [01:05<12:24:21,  1.84s/it]"
          ]
        },
        {
          "output_type": "stream",
          "name": "stdout",
          "text": [
            "Added sample: image_id=2010.02804v1, question=Which language has the highest percentage of wrong...\n",
            "Matched via: image_id\n"
          ]
        },
        {
          "output_type": "stream",
          "name": "stderr",
          "text": [
            "\rProcessing images:   0%|          | 95/24398 [01:06<10:02:24,  1.49s/it]"
          ]
        },
        {
          "output_type": "stream",
          "name": "stdout",
          "text": [
            "Added sample: image_id=2010.02804v1, question= What is the link to the semiCRF system?...\n",
            "Matched via: image_id\n"
          ]
        },
        {
          "output_type": "stream",
          "name": "stderr",
          "text": [
            "\rProcessing images:   0%|          | 96/24398 [01:06<8:23:02,  1.24s/it] "
          ]
        },
        {
          "output_type": "stream",
          "name": "stdout",
          "text": [
            "Added sample: image_id=2010.02804v1, question=Which language has the highest relative frequency ...\n",
            "Matched via: image_id\n"
          ]
        },
        {
          "output_type": "stream",
          "name": "stderr",
          "text": [
            "\rProcessing images:   0%|          | 97/24398 [01:07<7:18:02,  1.08s/it]"
          ]
        },
        {
          "output_type": "stream",
          "name": "stdout",
          "text": [
            "Added sample: image_id=2010.02804v1, question=Which dataset has the highest percentage of words ...\n",
            "Matched via: image_id\n"
          ]
        },
        {
          "output_type": "stream",
          "name": "stderr",
          "text": [
            "\rProcessing images:   0%|          | 98/24398 [01:08<6:30:09,  1.04it/s]"
          ]
        },
        {
          "output_type": "stream",
          "name": "stdout",
          "text": [
            "Added sample: image_id=2010.02804v1, question=Which system performs the best on the German datas...\n",
            "Matched via: image_id\n"
          ]
        },
        {
          "output_type": "stream",
          "name": "stderr",
          "text": [
            "\rProcessing images:   0%|          | 99/24398 [01:09<6:35:37,  1.02it/s]"
          ]
        },
        {
          "output_type": "stream",
          "name": "stdout",
          "text": [
            "Added sample: image_id=2010.02804v1, question=What is the difference between oversegmentation an...\n",
            "Matched via: image_id\n"
          ]
        },
        {
          "output_type": "stream",
          "name": "stderr",
          "text": [
            "\rProcessing images:   0%|          | 100/24398 [01:09<6:01:55,  1.12it/s]"
          ]
        },
        {
          "output_type": "stream",
          "name": "stdout",
          "text": [
            "Added sample: image_id=2010.02804v1, question=Which model performed the best in terms of over-se...\n",
            "Matched via: image_id\n"
          ]
        },
        {
          "output_type": "stream",
          "name": "stderr",
          "text": [
            "\rProcessing images:   0%|          | 101/24398 [01:10<5:38:12,  1.20it/s]"
          ]
        },
        {
          "output_type": "stream",
          "name": "stdout",
          "text": [
            "Added sample: image_id=2010.02693v2, question=Which model has the lowest latency?...\n",
            "Matched via: image_id\n"
          ]
        },
        {
          "output_type": "stream",
          "name": "stderr",
          "text": [
            "\rProcessing images:   0%|          | 102/24398 [01:11<5:32:38,  1.22it/s]"
          ]
        },
        {
          "output_type": "stream",
          "name": "stdout",
          "text": [
            "Added sample: image_id=2010.02693v2, question=Which method is the most effective at reducing the...\n",
            "Matched via: image_id\n"
          ]
        },
        {
          "output_type": "stream",
          "name": "stderr",
          "text": [
            "\rProcessing images:   0%|          | 103/24398 [01:12<5:18:38,  1.27it/s]"
          ]
        },
        {
          "output_type": "stream",
          "name": "stdout",
          "text": [
            "Added sample: image_id=2010.02693v2, question=How does SlotRefine improve the slot tagging resul...\n",
            "Matched via: image_id\n"
          ]
        },
        {
          "output_type": "stream",
          "name": "stderr",
          "text": [
            "\rProcessing images:   0%|          | 104/24398 [01:12<5:09:38,  1.31it/s]"
          ]
        },
        {
          "output_type": "stream",
          "name": "stdout",
          "text": [
            "Added sample: image_id=2010.02693v2, question=What is the problem with the slot tagging in the f...\n",
            "Matched via: image_id\n"
          ]
        },
        {
          "output_type": "stream",
          "name": "stderr",
          "text": [
            "\rProcessing images:   0%|          | 105/24398 [01:13<5:00:15,  1.35it/s]"
          ]
        },
        {
          "output_type": "stream",
          "name": "stdout",
          "text": [
            "Added sample: image_id=2010.02693v2, question=Which model performed the best on the ATIS dataset...\n",
            "Matched via: image_id\n"
          ]
        },
        {
          "output_type": "stream",
          "name": "stderr",
          "text": [
            "\rProcessing images:   0%|          | 106/24398 [01:14<4:52:01,  1.39it/s]"
          ]
        },
        {
          "output_type": "stream",
          "name": "stdout",
          "text": [
            "Added sample: image_id=2010.02693v2, question=Which model performs the best on the ATIS dataset ...\n",
            "Matched via: image_id\n"
          ]
        },
        {
          "output_type": "stream",
          "name": "stderr",
          "text": [
            "\rProcessing images:   0%|          | 107/24398 [01:14<4:50:01,  1.40it/s]"
          ]
        },
        {
          "output_type": "stream",
          "name": "stdout",
          "text": [
            "Added sample: image_id=2010.00840v1, question=What is the effect of increasing model size on sto...\n",
            "Matched via: image_id\n"
          ]
        },
        {
          "output_type": "stream",
          "name": "stderr",
          "text": [
            "\rProcessing images:   0%|          | 108/24398 [01:15<4:52:53,  1.38it/s]"
          ]
        },
        {
          "output_type": "stream",
          "name": "stdout",
          "text": [
            "Added sample: image_id=2010.00840v1, question=Which model has the most parameters?...\n",
            "Matched via: image_id\n"
          ]
        },
        {
          "output_type": "stream",
          "name": "stderr",
          "text": [
            "\rProcessing images:   0%|          | 109/24398 [01:16<4:45:03,  1.42it/s]"
          ]
        },
        {
          "output_type": "stream",
          "name": "stdout",
          "text": [
            "Added sample: image_id=2010.00840v1, question=How does the system incorporate external knowledge...\n",
            "Matched via: image_id\n"
          ]
        },
        {
          "output_type": "stream",
          "name": "stderr",
          "text": [
            "\rProcessing images:   0%|          | 110/24398 [01:16<4:39:50,  1.45it/s]"
          ]
        },
        {
          "output_type": "stream",
          "name": "stdout",
          "text": [
            "Added sample: image_id=2010.00840v1, question=Which model has the lowest perplexity?...\n",
            "Matched via: image_id\n"
          ]
        },
        {
          "output_type": "stream",
          "name": "stderr",
          "text": [
            "\rProcessing images:   0%|          | 111/24398 [01:17<4:36:32,  1.46it/s]"
          ]
        },
        {
          "output_type": "stream",
          "name": "stdout",
          "text": [
            "Added sample: image_id=2010.00840v1, question=How does the performance of MEGATRON-CNTRL-124M co...\n",
            "Matched via: image_id\n"
          ]
        },
        {
          "output_type": "stream",
          "name": "stderr",
          "text": [
            "\rProcessing images:   0%|          | 112/24398 [01:18<4:43:45,  1.43it/s]"
          ]
        },
        {
          "output_type": "stream",
          "name": "stdout",
          "text": [
            "Added sample: image_id=2010.00840v1, question=What is the relationship between the keywords and ...\n",
            "Matched via: image_id\n"
          ]
        },
        {
          "output_type": "stream",
          "name": "stderr",
          "text": [
            "\rProcessing images:   0%|          | 113/24398 [01:19<4:44:15,  1.42it/s]"
          ]
        },
        {
          "output_type": "stream",
          "name": "stdout",
          "text": [
            "Added sample: image_id=2010.00840v1, question=What is the main idea of the passage?...\n",
            "Matched via: image_id\n"
          ]
        },
        {
          "output_type": "stream",
          "name": "stderr",
          "text": [
            "\rProcessing images:   0%|          | 114/24398 [01:19<4:42:44,  1.43it/s]"
          ]
        },
        {
          "output_type": "stream",
          "name": "stdout",
          "text": [
            "Added sample: image_id=2010.00840v1, question=What did [MALE] do with the money he earned from h...\n",
            "Matched via: image_id\n"
          ]
        },
        {
          "output_type": "stream",
          "name": "stderr",
          "text": [
            "\rProcessing images:   0%|          | 115/24398 [01:20<4:44:17,  1.42it/s]"
          ]
        },
        {
          "output_type": "stream",
          "name": "stdout",
          "text": [
            "Added sample: image_id=2010.00840v1, question=How did the MALE and his friends feel after going ...\n",
            "Matched via: image_id\n"
          ]
        },
        {
          "output_type": "stream",
          "name": "stderr",
          "text": [
            "\rProcessing images:   0%|          | 116/24398 [01:21<5:05:45,  1.32it/s]"
          ]
        },
        {
          "output_type": "stream",
          "name": "stdout",
          "text": [
            "Added sample: image_id=2010.00840v1, question=What was the overall sentiment of the passage?...\n",
            "Matched via: image_id\n"
          ]
        },
        {
          "output_type": "stream",
          "name": "stderr",
          "text": [
            "\rProcessing images:   0%|          | 117/24398 [01:22<5:16:51,  1.28it/s]"
          ]
        },
        {
          "output_type": "stream",
          "name": "stdout",
          "text": [
            "Added sample: image_id=2010.00840v1, question=What are the three different ways that [MALE] and ...\n",
            "Matched via: image_id\n"
          ]
        },
        {
          "output_type": "stream",
          "name": "stderr",
          "text": [
            "\rProcessing images:   0%|          | 118/24398 [01:23<5:21:44,  1.26it/s]"
          ]
        },
        {
          "output_type": "stream",
          "name": "stdout",
          "text": [
            "Added sample: image_id=2010.00840v1, question=What happened to [MALE]'s backpack in the jungle?...\n",
            "Matched via: image_id\n"
          ]
        },
        {
          "output_type": "stream",
          "name": "stderr",
          "text": [
            "\rProcessing images:   0%|          | 119/24398 [01:23<5:22:09,  1.26it/s]"
          ]
        },
        {
          "output_type": "stream",
          "name": "stdout",
          "text": [
            "Added sample: image_id=2010.00840v1, question=What is the main difference between the outputs of...\n",
            "Matched via: image_id\n"
          ]
        },
        {
          "output_type": "stream",
          "name": "stderr",
          "text": [
            "\rProcessing images:   0%|          | 120/24398 [01:24<5:15:36,  1.28it/s]"
          ]
        },
        {
          "output_type": "stream",
          "name": "stdout",
          "text": [
            "Added sample: image_id=2010.00840v1, question=Which planning strategy leads to higher distinct v...\n",
            "Matched via: image_id\n"
          ]
        },
        {
          "output_type": "stream",
          "name": "stderr",
          "text": [
            "\rProcessing images:   0%|          | 121/24398 [01:25<5:09:36,  1.31it/s]"
          ]
        },
        {
          "output_type": "stream",
          "name": "stdout",
          "text": [
            "Added sample: image_id=2010.00840v1, question=What is the effect of changing the keywords to the...\n",
            "Matched via: image_id\n"
          ]
        },
        {
          "output_type": "stream",
          "name": "stderr",
          "text": [
            "\rProcessing images:   1%|          | 122/24398 [01:25<4:59:59,  1.35it/s]"
          ]
        },
        {
          "output_type": "stream",
          "name": "stdout",
          "text": [
            "Added sample: image_id=2010.00840v1, question=Which model has the highest controllability accord...\n",
            "Matched via: image_id\n"
          ]
        },
        {
          "output_type": "stream",
          "name": "stderr",
          "text": [
            "\rProcessing images:   1%|          | 123/24398 [01:26<4:52:57,  1.38it/s]"
          ]
        },
        {
          "output_type": "stream",
          "name": "stdout",
          "text": [
            "Added sample: image_id=2010.00840v1, question=Which keyword prediction model and ranking model c...\n",
            "Matched via: image_id\n"
          ]
        },
        {
          "output_type": "stream",
          "name": "stderr",
          "text": [
            "\rProcessing images:   1%|          | 124/24398 [01:27<4:50:08,  1.39it/s]"
          ]
        },
        {
          "output_type": "stream",
          "name": "stdout",
          "text": [
            "Added sample: image_id=2010.00827v2, question=Which algorithm performed better on the Adult data...\n",
            "Matched via: image_id\n"
          ]
        },
        {
          "output_type": "stream",
          "name": "stderr",
          "text": [
            "\rProcessing images:   1%|          | 125/24398 [01:28<4:50:38,  1.39it/s]"
          ]
        },
        {
          "output_type": "stream",
          "name": "stdout",
          "text": [
            "Added sample: image_id=2010.00827v2, question=Which method performed best on the Magic dataset?...\n",
            "Matched via: image_id\n"
          ]
        },
        {
          "output_type": "stream",
          "name": "stderr",
          "text": [
            "\rProcessing images:   1%|          | 126/24398 [01:28<4:48:06,  1.40it/s]"
          ]
        },
        {
          "output_type": "stream",
          "name": "stdout",
          "text": [
            "Added sample: image_id=2010.00827v2, question=Which algorithm consistently achieves the lowest t...\n",
            "Matched via: image_id\n"
          ]
        },
        {
          "output_type": "stream",
          "name": "stderr",
          "text": [
            "\rProcessing images:   1%|          | 127/24398 [01:29<4:49:27,  1.40it/s]"
          ]
        },
        {
          "output_type": "stream",
          "name": "stdout",
          "text": [
            "Added sample: image_id=2010.00827v2, question=Which algorithm performs the best on the MNIST dat...\n",
            "Matched via: image_id\n"
          ]
        },
        {
          "output_type": "stream",
          "name": "stderr",
          "text": [
            "\rProcessing images:   1%|          | 128/24398 [01:30<4:55:22,  1.37it/s]"
          ]
        },
        {
          "output_type": "stream",
          "name": "stdout",
          "text": [
            "Added sample: image_id=2010.00827v2, question=Which algorithm performed better on the MNIST data...\n",
            "Matched via: image_id\n"
          ]
        },
        {
          "output_type": "stream",
          "name": "stderr",
          "text": [
            "\rProcessing images:   1%|          | 129/24398 [01:31<5:17:49,  1.27it/s]"
          ]
        },
        {
          "output_type": "stream",
          "name": "stdout",
          "text": [
            "Added sample: image_id=2010.00827v2, question=Which algorithm performed the best on the Magic da...\n",
            "Matched via: image_id\n"
          ]
        },
        {
          "output_type": "stream",
          "name": "stderr",
          "text": [
            "\rProcessing images:   1%|          | 130/24398 [01:31<5:10:42,  1.30it/s]"
          ]
        },
        {
          "output_type": "stream",
          "name": "stdout",
          "text": [
            "Added sample: image_id=2010.00827v2, question=Which algorithm has the shortest running time on t...\n",
            "Matched via: image_id\n"
          ]
        },
        {
          "output_type": "stream",
          "name": "stderr",
          "text": [
            "\rProcessing images:   1%|          | 131/24398 [01:32<4:56:54,  1.36it/s]"
          ]
        },
        {
          "output_type": "stream",
          "name": "stdout",
          "text": [
            "Added sample: image_id=2010.01512v2, question=What is the difference between aspect-sentiment pa...\n",
            "Matched via: image_id\n"
          ]
        },
        {
          "output_type": "stream",
          "name": "stderr",
          "text": [
            "\rProcessing images:   1%|          | 132/24398 [01:33<4:55:36,  1.37it/s]"
          ]
        },
        {
          "output_type": "stream",
          "name": "stdout",
          "text": [
            "Added sample: image_id=2010.01512v2, question=Which dataset has the most sentences with overlapp...\n",
            "Matched via: image_id\n"
          ]
        },
        {
          "output_type": "stream",
          "name": "stderr",
          "text": [
            "\rProcessing images:   1%|          | 133/24398 [01:33<4:50:18,  1.39it/s]"
          ]
        },
        {
          "output_type": "stream",
          "name": "stdout",
          "text": [
            "Added sample: image_id=2010.01512v2, question=What is the difference between a normal triplet an...\n",
            "Matched via: image_id\n"
          ]
        },
        {
          "output_type": "stream",
          "name": "stderr",
          "text": [
            "\rProcessing images:   1%|          | 134/24398 [01:34<5:08:51,  1.31it/s]"
          ]
        },
        {
          "output_type": "stream",
          "name": "stdout",
          "text": [
            "Added sample: image_id=2010.01512v2, question=Which model performs the best on the REST14 datase...\n",
            "Matched via: image_id\n"
          ]
        },
        {
          "output_type": "stream",
          "name": "stderr",
          "text": [
            "\rProcessing images:   1%|          | 135/24398 [01:35<4:57:23,  1.36it/s]"
          ]
        },
        {
          "output_type": "stream",
          "name": "stdout",
          "text": [
            "Added sample: image_id=2010.01512v2, question= Which components of the framework are responsible...\n",
            "Matched via: image_id\n"
          ]
        },
        {
          "output_type": "stream",
          "name": "stderr",
          "text": [
            "\rProcessing images:   1%|          | 136/24398 [01:36<5:01:33,  1.34it/s]"
          ]
        },
        {
          "output_type": "stream",
          "name": "stdout",
          "text": [
            "Added sample: image_id=2010.01512v2, question=Which type of error is more likely to be caused by...\n",
            "Matched via: image_id\n"
          ]
        },
        {
          "output_type": "stream",
          "name": "stderr",
          "text": [
            "\rProcessing images:   1%|          | 137/24398 [01:36<4:55:26,  1.37it/s]"
          ]
        },
        {
          "output_type": "stream",
          "name": "stdout",
          "text": [
            "Added sample: image_id=2010.01512v2, question=Which model incorrectly predicted the sentiment of...\n",
            "Matched via: image_id\n"
          ]
        },
        {
          "output_type": "stream",
          "name": "stderr",
          "text": [
            "\rProcessing images:   1%|          | 138/24398 [01:37<4:51:18,  1.39it/s]"
          ]
        },
        {
          "output_type": "stream",
          "name": "stdout",
          "text": [
            "Added sample: image_id=2010.01412v3, question=What is the effect of using AutoAugment (AA) on th...\n",
            "Matched via: image_id\n"
          ]
        },
        {
          "output_type": "stream",
          "name": "stderr",
          "text": [
            "\rProcessing images:   1%|          | 139/24398 [01:38<4:58:45,  1.35it/s]"
          ]
        },
        {
          "output_type": "stream",
          "name": "stdout",
          "text": [
            "Added sample: image_id=2010.01412v3, question=Does SAM improve the performance of ResNet-50 on I...\n",
            "Matched via: image_id\n"
          ]
        },
        {
          "output_type": "stream",
          "name": "stderr",
          "text": [
            "\rProcessing images:   1%|          | 140/24398 [01:39<4:51:43,  1.39it/s]"
          ]
        },
        {
          "output_type": "stream",
          "name": "stdout",
          "text": [
            "Added sample: image_id=2010.01412v3, question=How does the shape of the loss landscape differ be...\n",
            "Matched via: image_id\n"
          ]
        },
        {
          "output_type": "stream",
          "name": "stderr",
          "text": [
            "\rProcessing images:   1%|          | 141/24398 [01:39<4:42:50,  1.43it/s]"
          ]
        },
        {
          "output_type": "stream",
          "name": "stdout",
          "text": [
            "Added sample: image_id=2010.01412v3, question=Which method performs best on the clean test set f...\n",
            "Matched via: image_id\n"
          ]
        },
        {
          "output_type": "stream",
          "name": "stderr",
          "text": [
            "\rProcessing images:   1%|          | 142/24398 [01:40<4:45:11,  1.42it/s]"
          ]
        },
        {
          "output_type": "stream",
          "name": "stdout",
          "text": [
            "Added sample: image_id=2010.01412v3, question=How does adding SAM affect the performance of Effi...\n",
            "Matched via: image_id\n"
          ]
        },
        {
          "output_type": "stream",
          "name": "stderr",
          "text": [
            "\rProcessing images:   1%|          | 143/24398 [01:41<4:45:04,  1.42it/s]"
          ]
        },
        {
          "output_type": "stream",
          "name": "stdout",
          "text": [
            "Added sample: image_id=2010.01412v3, question=What is the validation accuracy of the bootstrappe...\n",
            "Matched via: image_id\n"
          ]
        },
        {
          "output_type": "stream",
          "name": "stderr",
          "text": [
            "\rProcessing images:   1%|          | 144/24398 [01:41<4:39:46,  1.44it/s]"
          ]
        },
        {
          "output_type": "stream",
          "name": "stdout",
          "text": [
            "Added sample: image_id=2010.01412v3, question=What is the best performing model on CIFAR-100 wit...\n",
            "Matched via: image_id\n"
          ]
        },
        {
          "output_type": "stream",
          "name": "stderr",
          "text": [
            "\rProcessing images:   1%|          | 145/24398 [01:42<4:53:31,  1.38it/s]"
          ]
        },
        {
          "output_type": "stream",
          "name": "stdout",
          "text": [
            "Added sample: image_id=2010.01412v3, question=How does the spectrum of the Hessian change during...\n",
            "Matched via: image_id\n"
          ]
        },
        {
          "output_type": "stream",
          "name": "stderr",
          "text": [
            "\rProcessing images:   1%|          | 146/24398 [01:43<4:54:07,  1.37it/s]"
          ]
        },
        {
          "output_type": "stream",
          "name": "stdout",
          "text": [
            "Added sample: image_id=2010.01412v3, question=What is the difference between the SAM update and ...\n",
            "Matched via: image_id\n"
          ]
        },
        {
          "output_type": "stream",
          "name": "stderr",
          "text": [
            "\rProcessing images:   1%|          | 147/24398 [01:44<5:07:43,  1.31it/s]"
          ]
        },
        {
          "output_type": "stream",
          "name": "stdout",
          "text": [
            "Added sample: image_id=2010.01412v3, question=Which order of the algorithm performs better on th...\n",
            "Matched via: image_id\n"
          ]
        },
        {
          "output_type": "stream",
          "name": "stderr",
          "text": [
            "\rProcessing images:   1%|          | 148/24398 [01:44<4:53:17,  1.38it/s]"
          ]
        },
        {
          "output_type": "stream",
          "name": "stdout",
          "text": [
            "Added sample: image_id=2010.01412v3, question=What is the relationship between the number of pro...\n",
            "Matched via: image_id\n"
          ]
        },
        {
          "output_type": "stream",
          "name": "stderr",
          "text": [
            "\rProcessing images:   1%|          | 149/24398 [01:45<4:49:16,  1.40it/s]"
          ]
        },
        {
          "output_type": "stream",
          "name": "stdout",
          "text": [
            "Added sample: image_id=2010.01412v3, question=What is the impact of using SAM with ρ = 0.05 on t...\n",
            "Matched via: image_id\n"
          ]
        },
        {
          "output_type": "stream",
          "name": "stderr",
          "text": [
            "\rProcessing images:   1%|          | 150/24398 [01:50<12:51:55,  1.91s/it]"
          ]
        },
        {
          "output_type": "stream",
          "name": "stdout",
          "text": [
            "Added sample: image_id=2010.01412v3, question=What are the hyperparameters used to produce the r...\n",
            "Matched via: image_id\n"
          ]
        },
        {
          "output_type": "stream",
          "name": "stderr",
          "text": [
            "\rProcessing images:   1%|          | 151/24398 [01:50<10:26:26,  1.55s/it]"
          ]
        },
        {
          "output_type": "stream",
          "name": "stdout",
          "text": [
            "Added sample: image_id=2010.01412v3, question=Which model architecture and hyper-parameter combi...\n",
            "Matched via: image_id\n"
          ]
        },
        {
          "output_type": "stream",
          "name": "stderr",
          "text": [
            "\rProcessing images:   1%|          | 152/24398 [01:51<8:46:12,  1.30s/it] "
          ]
        },
        {
          "output_type": "stream",
          "name": "stdout",
          "text": [
            "Added sample: image_id=2010.01412v3, question=Which constraint leads to the lowest test accuracy...\n",
            "Matched via: image_id\n"
          ]
        },
        {
          "output_type": "stream",
          "name": "stderr",
          "text": [
            "\rProcessing images:   1%|          | 153/24398 [01:52<7:48:07,  1.16s/it]"
          ]
        },
        {
          "output_type": "stream",
          "name": "stdout",
          "text": [
            "Added sample: image_id=2010.01412v3, question=Which number of inner projected gradient steps res...\n",
            "Matched via: image_id\n"
          ]
        },
        {
          "output_type": "stream",
          "name": "stderr",
          "text": [
            "\rProcessing images:   1%|          | 154/24398 [01:53<7:02:04,  1.04s/it]"
          ]
        },
        {
          "output_type": "stream",
          "name": "stdout",
          "text": [
            "Added sample: image_id=2010.01412v3, question=Which model performs better on the Fashion-MNIST d...\n",
            "Matched via: image_id\n"
          ]
        },
        {
          "output_type": "stream",
          "name": "stderr",
          "text": [
            "\rProcessing images:   1%|          | 155/24398 [01:55<9:32:15,  1.42s/it]"
          ]
        },
        {
          "output_type": "stream",
          "name": "stdout",
          "text": [
            "Added sample: image_id=2010.00190v1, question=What is the main topic of the dialogue?...\n",
            "Matched via: image_id\n"
          ]
        },
        {
          "output_type": "stream",
          "name": "stderr",
          "text": [
            "\rProcessing images:   1%|          | 156/24398 [01:56<8:09:18,  1.21s/it]"
          ]
        },
        {
          "output_type": "stream",
          "name": "stdout",
          "text": [
            "Added sample: image_id=2010.00190v1, question=Who played the role of Elisa Esposito in the film ...\n",
            "Matched via: image_id\n"
          ]
        },
        {
          "output_type": "stream",
          "name": "stderr",
          "text": [
            "\rProcessing images:   1%|          | 157/24398 [01:57<7:23:38,  1.10s/it]"
          ]
        },
        {
          "output_type": "stream",
          "name": "stdout",
          "text": [
            "Added sample: image_id=2010.00190v1, question=Which model performs the best on the BLEU metric?...\n",
            "Matched via: image_id\n"
          ]
        },
        {
          "output_type": "stream",
          "name": "stderr",
          "text": [
            "\rProcessing images:   1%|          | 158/24398 [01:57<6:42:12,  1.00it/s]"
          ]
        },
        {
          "output_type": "stream",
          "name": "stdout",
          "text": [
            "Added sample: image_id=2010.00190v1, question=What is the relationship between the number of dia...\n",
            "Matched via: image_id\n"
          ]
        },
        {
          "output_type": "stream",
          "name": "stderr",
          "text": [
            "\rProcessing images:   1%|          | 159/24398 [01:58<6:26:55,  1.04it/s]"
          ]
        },
        {
          "output_type": "stream",
          "name": "stdout",
          "text": [
            "Added sample: image_id=2010.00190v1, question=What are the differences between the CAT model, th...\n",
            "Matched via: image_id\n"
          ]
        },
        {
          "output_type": "stream",
          "name": "stderr",
          "text": [
            "\rProcessing images:   1%|          | 160/24398 [01:59<5:55:53,  1.14it/s]"
          ]
        },
        {
          "output_type": "stream",
          "name": "stdout",
          "text": [
            "Added sample: image_id=2010.00190v1, question=Which dataset has the highest number of words per ...\n",
            "Matched via: image_id\n"
          ]
        },
        {
          "output_type": "stream",
          "name": "stderr",
          "text": [
            "\rProcessing images:   1%|          | 161/24398 [02:00<5:36:05,  1.20it/s]"
          ]
        },
        {
          "output_type": "stream",
          "name": "stdout",
          "text": [
            "Added sample: image_id=2010.00190v1, question=Which model performed the best in terms of Fluency...\n",
            "Matched via: image_id\n"
          ]
        },
        {
          "output_type": "stream",
          "name": "stderr",
          "text": [
            "\rProcessing images:   1%|          | 162/24398 [02:00<5:23:47,  1.25it/s]"
          ]
        },
        {
          "output_type": "stream",
          "name": "stdout",
          "text": [
            "Added sample: image_id=2010.00190v1, question=Which model has the lowest perplexity?...\n",
            "Matched via: image_id\n"
          ]
        },
        {
          "output_type": "stream",
          "name": "stderr",
          "text": [
            "\rProcessing images:   1%|          | 163/24398 [02:01<5:15:56,  1.28it/s]"
          ]
        },
        {
          "output_type": "stream",
          "name": "stdout",
          "text": [
            "Added sample: image_id=2010.00190v1, question=Which model has the highest BLEU score on the redu...\n",
            "Matched via: image_id\n"
          ]
        },
        {
          "output_type": "stream",
          "name": "stderr",
          "text": [
            "\rProcessing images:   1%|          | 164/24398 [02:02<5:11:56,  1.29it/s]"
          ]
        },
        {
          "output_type": "stream",
          "name": "stdout",
          "text": [
            "Added sample: image_id=2010.00979v1, question=Which of the objectives resulted in the lowest mea...\n",
            "Matched via: image_id\n"
          ]
        },
        {
          "output_type": "stream",
          "name": "stderr",
          "text": [
            "\rProcessing images:   1%|          | 165/24398 [02:03<5:10:29,  1.30it/s]"
          ]
        },
        {
          "output_type": "stream",
          "name": "stdout",
          "text": [
            "Added sample: image_id=2010.00979v1, question=Which type of benchmark tends to have a higher sta...\n",
            "Matched via: image_id\n"
          ]
        },
        {
          "output_type": "stream",
          "name": "stderr",
          "text": [
            "\rProcessing images:   1%|          | 166/24398 [02:04<5:39:09,  1.19it/s]"
          ]
        },
        {
          "output_type": "stream",
          "name": "stdout",
          "text": [
            "Added sample: image_id=2010.00979v1, question=Which optimization method achieves the highest obj...\n",
            "Matched via: image_id\n"
          ]
        },
        {
          "output_type": "stream",
          "name": "stderr",
          "text": [
            "\rProcessing images:   1%|          | 167/24398 [02:04<5:26:09,  1.24it/s]"
          ]
        },
        {
          "output_type": "stream",
          "name": "stdout",
          "text": [
            "Added sample: image_id=2010.00979v1, question=What is the difference between the two molecules s...\n",
            "Matched via: image_id\n"
          ]
        },
        {
          "output_type": "stream",
          "name": "stderr",
          "text": [
            "\rProcessing images:   1%|          | 168/24398 [02:05<5:12:54,  1.29it/s]"
          ]
        },
        {
          "output_type": "stream",
          "name": "stdout",
          "text": [
            "Added sample: image_id=2010.00979v1, question=What is the purpose of the Gaussian process surrog...\n",
            "Matched via: image_id\n"
          ]
        },
        {
          "output_type": "stream",
          "name": "stderr",
          "text": [
            "\rProcessing images:   1%|          | 169/24398 [02:06<5:00:22,  1.34it/s]"
          ]
        },
        {
          "output_type": "stream",
          "name": "stdout",
          "text": [
            "Added sample: image_id=2010.00979v1, question=How does the performance of different protein sequ...\n",
            "Matched via: image_id\n"
          ]
        },
        {
          "output_type": "stream",
          "name": "stderr",
          "text": [
            "\rProcessing images:   1%|          | 170/24398 [02:07<5:50:43,  1.15it/s]"
          ]
        },
        {
          "output_type": "stream",
          "name": "stdout",
          "text": [
            "Added sample: image_id=2010.00979v1, question=What is the contribution of the sub-sequence \"geno...\n",
            "Matched via: image_id\n"
          ]
        },
        {
          "output_type": "stream",
          "name": "stderr",
          "text": [
            "\rProcessing images:   1%|          | 171/24398 [02:08<5:29:42,  1.22it/s]"
          ]
        },
        {
          "output_type": "stream",
          "name": "stdout",
          "text": [
            "Added sample: image_id=2010.00979v1, question=How does the optimization performance and computat...\n",
            "Matched via: image_id\n"
          ]
        },
        {
          "output_type": "stream",
          "name": "stderr",
          "text": [
            "\rProcessing images:   1%|          | 172/24398 [02:08<5:12:38,  1.29it/s]"
          ]
        },
        {
          "output_type": "stream",
          "name": "stdout",
          "text": [
            "Added sample: image_id=2010.00979v1, question=How do the representations of the SSK and the SE k...\n",
            "Matched via: image_id\n"
          ]
        },
        {
          "output_type": "stream",
          "name": "stderr",
          "text": [
            "\rProcessing images:   1%|          | 173/24398 [02:09<5:03:38,  1.33it/s]"
          ]
        },
        {
          "output_type": "stream",
          "name": "stdout",
          "text": [
            "Added sample: image_id=2010.00979v1, question=Which method consistently performs the best at fin...\n",
            "Matched via: image_id\n"
          ]
        },
        {
          "output_type": "stream",
          "name": "stderr",
          "text": [
            "\rProcessing images:   1%|          | 174/24398 [02:10<4:56:06,  1.36it/s]"
          ]
        },
        {
          "output_type": "stream",
          "name": "stdout",
          "text": [
            "Added sample: image_id=2010.00979v1, question=Which of the tested methods appears to perform bes...\n",
            "Matched via: image_id\n"
          ]
        },
        {
          "output_type": "stream",
          "name": "stderr",
          "text": [
            "\rProcessing images:   1%|          | 175/24398 [02:10<4:50:14,  1.39it/s]"
          ]
        },
        {
          "output_type": "stream",
          "name": "stdout",
          "text": [
            "Added sample: image_id=2010.00979v1, question=Which of the following figures shows the best sepa...\n",
            "Matched via: image_id\n"
          ]
        },
        {
          "output_type": "stream",
          "name": "stderr",
          "text": [
            "\rProcessing images:   1%|          | 176/24398 [02:11<5:03:16,  1.33it/s]"
          ]
        },
        {
          "output_type": "stream",
          "name": "stdout",
          "text": [
            "Added sample: image_id=2010.00979v1, question=Which method performs the best in terms of both ob...\n",
            "Matched via: image_id\n"
          ]
        },
        {
          "output_type": "stream",
          "name": "stderr",
          "text": [
            "\rProcessing images:   1%|          | 177/24398 [02:12<4:58:02,  1.35it/s]"
          ]
        },
        {
          "output_type": "stream",
          "name": "stdout",
          "text": [
            "Added sample: image_id=2010.00979v1, question=How does the crossover operation in the image work...\n",
            "Matched via: image_id\n"
          ]
        },
        {
          "output_type": "stream",
          "name": "stderr",
          "text": [
            "\rProcessing images:   1%|          | 178/24398 [02:13<4:55:41,  1.37it/s]"
          ]
        },
        {
          "output_type": "stream",
          "name": "stdout",
          "text": [
            "Added sample: image_id=2010.00979v1, question=How does the computational overhead of different o...\n",
            "Matched via: image_id\n"
          ]
        },
        {
          "output_type": "stream",
          "name": "stderr",
          "text": [
            "\rProcessing images:   1%|          | 179/24398 [02:13<4:51:15,  1.39it/s]"
          ]
        },
        {
          "output_type": "stream",
          "name": "stdout",
          "text": [
            "Added sample: image_id=2010.00979v1, question=Which algorithm performed the best in terms of ach...\n",
            "Matched via: image_id\n"
          ]
        },
        {
          "output_type": "stream",
          "name": "stderr",
          "text": [
            "\rProcessing images:   1%|          | 180/24398 [02:14<5:11:29,  1.30it/s]"
          ]
        },
        {
          "output_type": "stream",
          "name": "stdout",
          "text": [
            "Added sample: image_id=2010.00979v1, question=Which algorithm achieved the highest objective sco...\n",
            "Matched via: image_id\n"
          ]
        },
        {
          "output_type": "stream",
          "name": "stderr",
          "text": [
            "\rProcessing images:   1%|          | 181/24398 [02:15<5:16:55,  1.27it/s]"
          ]
        },
        {
          "output_type": "stream",
          "name": "stdout",
          "text": [
            "Added sample: image_id=2010.00979v1, question=Which algorithm achieved the highest score in the ...\n",
            "Matched via: image_id\n"
          ]
        },
        {
          "output_type": "stream",
          "name": "stderr",
          "text": [
            "\rProcessing images:   1%|          | 182/24398 [02:16<5:12:44,  1.29it/s]"
          ]
        },
        {
          "output_type": "stream",
          "name": "stdout",
          "text": [
            "Added sample: image_id=2010.00979v1, question=Which optimization algorithm achieves the highest ...\n",
            "Matched via: image_id\n"
          ]
        },
        {
          "output_type": "stream",
          "name": "stderr",
          "text": [
            "\rProcessing images:   1%|          | 183/24398 [02:16<4:56:31,  1.36it/s]"
          ]
        },
        {
          "output_type": "stream",
          "name": "stdout",
          "text": [
            "Added sample: image_id=2010.00979v1, question=Which method achieves the highest score in the lea...\n",
            "Matched via: image_id\n"
          ]
        },
        {
          "output_type": "stream",
          "name": "stderr",
          "text": [
            "\rProcessing images:   1%|          | 184/24398 [02:17<4:57:18,  1.36it/s]"
          ]
        },
        {
          "output_type": "stream",
          "name": "stdout",
          "text": [
            "Added sample: image_id=2010.01057v1, question=Which model performed the best on the CoNLL-2003 d...\n",
            "Matched via: image_id\n"
          ]
        },
        {
          "output_type": "stream",
          "name": "stderr",
          "text": [
            "\rProcessing images:   1%|          | 185/24398 [02:18<4:46:19,  1.41it/s]"
          ]
        },
        {
          "output_type": "stream",
          "name": "stdout",
          "text": [
            "Added sample: image_id=2010.01057v1, question=Which model has the highest F1 score on the TACRED...\n",
            "Matched via: image_id\n"
          ]
        },
        {
          "output_type": "stream",
          "name": "stderr",
          "text": [
            "\rProcessing images:   1%|          | 186/24398 [02:19<4:57:59,  1.35it/s]"
          ]
        },
        {
          "output_type": "stream",
          "name": "stdout",
          "text": [
            "Added sample: image_id=2010.01057v1, question=What is the learning rate decay used in the pretra...\n",
            "Matched via: image_id\n"
          ]
        },
        {
          "output_type": "stream",
          "name": "stderr",
          "text": [
            "\rProcessing images:   1%|          | 187/24398 [02:19<5:01:25,  1.34it/s]"
          ]
        },
        {
          "output_type": "stream",
          "name": "stdout",
          "text": [
            "Added sample: image_id=2010.01057v1, question=What is the purpose of the table?...\n",
            "Matched via: image_id\n"
          ]
        },
        {
          "output_type": "stream",
          "name": "stderr",
          "text": [
            "\rProcessing images:   1%|          | 188/24398 [02:20<4:56:23,  1.36it/s]"
          ]
        },
        {
          "output_type": "stream",
          "name": "stdout",
          "text": [
            "Added sample: image_id=2010.01057v1, question=What are the different types of information that L...\n",
            "Matched via: image_id\n"
          ]
        },
        {
          "output_type": "stream",
          "name": "stderr",
          "text": [
            "\rProcessing images:   1%|          | 189/24398 [02:21<5:22:51,  1.25it/s]"
          ]
        },
        {
          "output_type": "stream",
          "name": "stdout",
          "text": [
            "Added sample: image_id=2010.01057v1, question=Which model performed the best on the ReCoRD datas...\n",
            "Matched via: image_id\n"
          ]
        },
        {
          "output_type": "stream",
          "name": "stderr",
          "text": [
            "\rProcessing images:   1%|          | 190/24398 [02:22<5:10:52,  1.30it/s]"
          ]
        },
        {
          "output_type": "stream",
          "name": "stdout",
          "text": [
            "Added sample: image_id=2010.01057v1, question=Which model achieved the highest EM score on the S...\n",
            "Matched via: image_id\n"
          ]
        },
        {
          "output_type": "stream",
          "name": "stderr",
          "text": [
            "\rProcessing images:   1%|          | 191/24398 [02:22<5:00:04,  1.34it/s]"
          ]
        },
        {
          "output_type": "stream",
          "name": "stdout",
          "text": [
            "Added sample: image_id=2010.01057v1, question=How does the performance of LUKE compare to LUKE w...\n",
            "Matched via: image_id\n"
          ]
        },
        {
          "output_type": "stream",
          "name": "stderr",
          "text": [
            "\rProcessing images:   1%|          | 192/24398 [02:23<5:09:48,  1.30it/s]"
          ]
        },
        {
          "output_type": "stream",
          "name": "stdout",
          "text": [
            "Added sample: image_id=2010.01057v1, question=Which dataset required the longest training time?...\n",
            "Matched via: image_id\n"
          ]
        },
        {
          "output_type": "stream",
          "name": "stderr",
          "text": [
            "\rProcessing images:   1%|          | 193/24398 [02:24<5:14:37,  1.28it/s]"
          ]
        },
        {
          "output_type": "stream",
          "name": "stdout",
          "text": [
            "Added sample: image_id=2010.01057v1, question=What is the maximum word length used in the experi...\n",
            "Matched via: image_id\n"
          ]
        },
        {
          "output_type": "stream",
          "name": "stderr",
          "text": [
            "\rProcessing images:   1%|          | 194/24398 [02:25<5:17:55,  1.27it/s]"
          ]
        },
        {
          "output_type": "stream",
          "name": "stdout",
          "text": [
            "Added sample: image_id=2010.01057v1, question=How does the entity-aware self-attention mechanism...\n",
            "Matched via: image_id\n"
          ]
        },
        {
          "output_type": "stream",
          "name": "stderr",
          "text": [
            "\rProcessing images:   1%|          | 195/24398 [02:26<5:09:01,  1.31it/s]"
          ]
        },
        {
          "output_type": "stream",
          "name": "stdout",
          "text": [
            "Added sample: image_id=2010.01057v1, question=Did RoBERTa with extra training perform better tha...\n",
            "Matched via: image_id\n"
          ]
        },
        {
          "output_type": "stream",
          "name": "stderr",
          "text": [
            "\rProcessing images:   1%|          | 196/24398 [02:26<4:56:31,  1.36it/s]"
          ]
        },
        {
          "output_type": "stream",
          "name": "stdout",
          "text": [
            "Added sample: image_id=2010.01057v1, question=Which entity typing model has the highest F1 score...\n",
            "Matched via: image_id\n"
          ]
        },
        {
          "output_type": "stream",
          "name": "stderr",
          "text": [
            "\rProcessing images:   1%|          | 197/24398 [02:27<5:01:27,  1.34it/s]"
          ]
        },
        {
          "output_type": "stream",
          "name": "stdout",
          "text": [
            "Added sample: image_id=2009.14660v2, question=What is the purpose of the color-coded circle in t...\n",
            "Matched via: image_id\n"
          ]
        },
        {
          "output_type": "stream",
          "name": "stderr",
          "text": [
            "\rProcessing images:   1%|          | 198/24398 [02:28<4:52:10,  1.38it/s]"
          ]
        },
        {
          "output_type": "stream",
          "name": "stdout",
          "text": [
            "Added sample: image_id=2009.14660v2, question=Which metric achieved the highest classification a...\n",
            "Matched via: image_id\n"
          ]
        },
        {
          "output_type": "stream",
          "name": "stderr",
          "text": [
            "\rProcessing images:   1%|          | 199/24398 [02:28<4:51:38,  1.38it/s]"
          ]
        },
        {
          "output_type": "stream",
          "name": "stdout",
          "text": [
            "Added sample: image_id=2009.14660v2, question=Which loss function performs the best for the Top+...\n",
            "Matched via: image_id\n"
          ]
        },
        {
          "output_type": "stream",
          "name": "stderr",
          "text": [
            "\rProcessing images:   1%|          | 200/24398 [02:29<4:44:30,  1.42it/s]"
          ]
        },
        {
          "output_type": "stream",
          "name": "stdout",
          "text": [
            "Added sample: image_id=2009.14660v2, question=What is the relationship between the similarity sc...\n",
            "Matched via: image_id\n"
          ]
        },
        {
          "output_type": "stream",
          "name": "stderr",
          "text": [
            "\rProcessing images:   1%|          | 201/24398 [02:30<4:56:35,  1.36it/s]"
          ]
        },
        {
          "output_type": "stream",
          "name": "stdout",
          "text": [
            "Added sample: image_id=2009.14660v2, question=Which network architecture has the highest AUC for...\n",
            "Matched via: image_id\n"
          ]
        },
        {
          "output_type": "stream",
          "name": "stderr",
          "text": [
            "\rProcessing images:   1%|          | 202/24398 [02:31<4:50:19,  1.39it/s]"
          ]
        },
        {
          "output_type": "stream",
          "name": "stdout",
          "text": [
            "Added sample: image_id=2009.14660v2, question=How are the top and front depth images different f...\n",
            "Matched via: image_id\n"
          ]
        },
        {
          "output_type": "stream",
          "name": "stderr",
          "text": [
            "\rProcessing images:   1%|          | 203/24398 [02:31<4:45:38,  1.41it/s]"
          ]
        },
        {
          "output_type": "stream",
          "name": "stdout",
          "text": [
            "Added sample: image_id=2009.14660v2, question=What is the average time spent on training per sub...\n",
            "Matched via: image_id\n"
          ]
        },
        {
          "output_type": "stream",
          "name": "stderr",
          "text": [
            "\rProcessing images:   1%|          | 204/24398 [02:32<4:43:19,  1.42it/s]"
          ]
        },
        {
          "output_type": "stream",
          "name": "stdout",
          "text": [
            "Added sample: image_id=2009.14660v2, question=What is the average specificity of ResNet-18 on cl...\n",
            "Matched via: image_id\n"
          ]
        },
        {
          "output_type": "stream",
          "name": "stderr",
          "text": [
            "\rProcessing images:   1%|          | 205/24398 [02:33<4:41:27,  1.43it/s]"
          ]
        },
        {
          "output_type": "stream",
          "name": "stdout",
          "text": [
            "Added sample: image_id=2009.14660v2, question=Which base encoder performed the best?...\n",
            "Matched via: image_id\n"
          ]
        },
        {
          "output_type": "stream",
          "name": "stderr",
          "text": [
            "\rProcessing images:   1%|          | 206/24398 [02:33<4:55:50,  1.36it/s]"
          ]
        },
        {
          "output_type": "stream",
          "name": "stdout",
          "text": [
            "Added sample: image_id=2009.14660v2, question=What is the effect of varying the amount of normal...\n",
            "Matched via: image_id\n"
          ]
        },
        {
          "output_type": "stream",
          "name": "stderr",
          "text": [
            "\rProcessing images:   1%|          | 207/24398 [02:34<4:42:10,  1.43it/s]"
          ]
        },
        {
          "output_type": "stream",
          "name": "stdout",
          "text": [
            "Added sample: image_id=2009.14660v2, question=What are some examples of anomalous actions that a...\n",
            "Matched via: image_id\n"
          ]
        },
        {
          "output_type": "stream",
          "name": "stderr",
          "text": [
            "\rProcessing images:   1%|          | 208/24398 [02:35<4:34:41,  1.47it/s]"
          ]
        },
        {
          "output_type": "stream",
          "name": "stdout",
          "text": [
            "Added sample: image_id=2009.14660v2, question=What is the purpose of the contrastive learning fr...\n",
            "Matched via: image_id\n"
          ]
        },
        {
          "output_type": "stream",
          "name": "stderr",
          "text": [
            "\rProcessing images:   1%|          | 209/24398 [02:36<4:46:10,  1.41it/s]"
          ]
        },
        {
          "output_type": "stream",
          "name": "stdout",
          "text": [
            "Added sample: image_id=2010.01475v1, question=Which method achieves the highest EM score?...\n",
            "Matched via: image_id\n"
          ]
        },
        {
          "output_type": "stream",
          "name": "stderr",
          "text": [
            "\rProcessing images:   1%|          | 210/24398 [02:36<4:53:56,  1.37it/s]"
          ]
        },
        {
          "output_type": "stream",
          "name": "stdout",
          "text": [
            "Added sample: image_id=2010.01475v1, question=What is the best performing method according to th...\n",
            "Matched via: image_id\n"
          ]
        },
        {
          "output_type": "stream",
          "name": "stderr",
          "text": [
            "\rProcessing images:   1%|          | 211/24398 [02:37<4:52:11,  1.38it/s]"
          ]
        },
        {
          "output_type": "stream",
          "name": "stdout",
          "text": [
            "Added sample: image_id=2010.01475v1, question=What is the effect of adding CRQDA to BERTbase on ...\n",
            "Matched via: image_id\n"
          ]
        },
        {
          "output_type": "stream",
          "name": "stderr",
          "text": [
            "\rProcessing images:   1%|          | 212/24398 [02:38<4:53:17,  1.37it/s]"
          ]
        },
        {
          "output_type": "stream",
          "name": "stdout",
          "text": [
            "Added sample: image_id=2010.01475v1, question=Which model performs best on the SQuAD 2.0 dataset...\n",
            "Matched via: image_id\n"
          ]
        },
        {
          "output_type": "stream",
          "name": "stderr",
          "text": [
            "\rProcessing images:   1%|          | 213/24398 [02:38<4:50:22,  1.39it/s]"
          ]
        },
        {
          "output_type": "stream",
          "name": "stdout",
          "text": [
            "Added sample: image_id=2010.01475v1, question=What was the outcome of the Space Race?...\n",
            "Matched via: image_id\n"
          ]
        },
        {
          "output_type": "stream",
          "name": "stderr",
          "text": [
            "\rProcessing images:   1%|          | 214/24398 [02:39<4:37:44,  1.45it/s]"
          ]
        },
        {
          "output_type": "stream",
          "name": "stdout",
          "text": [
            "Added sample: image_id=2010.01475v1, question=Which method performs best according to ROUGE-L?...\n",
            "Matched via: image_id\n"
          ]
        },
        {
          "output_type": "stream",
          "name": "stderr",
          "text": [
            "\rProcessing images:   1%|          | 215/24398 [02:40<4:46:15,  1.41it/s]"
          ]
        },
        {
          "output_type": "stream",
          "name": "stdout",
          "text": [
            "Added sample: image_id=2010.01475v1, question=How did the accuracy of BERT change when CRQDA was...\n",
            "Matched via: image_id\n"
          ]
        },
        {
          "output_type": "stream",
          "name": "stderr",
          "text": [
            "\rProcessing images:   1%|          | 216/24398 [02:40<4:40:30,  1.44it/s]"
          ]
        },
        {
          "output_type": "stream",
          "name": "stdout",
          "text": [
            "Added sample: image_id=2010.01475v1, question=What is the purpose of the Shared Question Embeddi...\n",
            "Matched via: image_id\n"
          ]
        },
        {
          "output_type": "stream",
          "name": "stderr",
          "text": [
            "\rProcessing images:   1%|          | 217/24398 [02:41<4:51:51,  1.38it/s]"
          ]
        },
        {
          "output_type": "stream",
          "name": "stdout",
          "text": [
            "Added sample: image_id=2010.01475v1, question=What is the original question asked in the SQuAD 2...\n",
            "Matched via: image_id\n"
          ]
        },
        {
          "output_type": "stream",
          "name": "stderr",
          "text": [
            "\rProcessing images:   1%|          | 218/24398 [02:42<5:09:41,  1.30it/s]"
          ]
        },
        {
          "output_type": "stream",
          "name": "stdout",
          "text": [
            "Added sample: image_id=2010.01475v1, question=What is the role of the transformer autoencoder in...\n",
            "Matched via: image_id\n"
          ]
        },
        {
          "output_type": "stream",
          "name": "stderr",
          "text": [
            "\rProcessing images:   1%|          | 219/24398 [02:43<5:02:57,  1.33it/s]"
          ]
        },
        {
          "output_type": "stream",
          "name": "stdout",
          "text": [
            "Added sample: image_id=2009.14530v1, question=What is the role of the GlobalAvgPool2D layer in t...\n",
            "Matched via: image_id\n"
          ]
        },
        {
          "output_type": "stream",
          "name": "stderr",
          "text": [
            "\rProcessing images:   1%|          | 220/24398 [02:44<4:58:09,  1.35it/s]"
          ]
        },
        {
          "output_type": "stream",
          "name": "stdout",
          "text": [
            "Added sample: image_id=2009.14530v1, question=What is the difference between the ACM-FPN and ACM...\n",
            "Matched via: image_id\n"
          ]
        },
        {
          "output_type": "stream",
          "name": "stderr",
          "text": [
            "\rProcessing images:   1%|          | 221/24398 [02:44<4:51:03,  1.38it/s]"
          ]
        },
        {
          "output_type": "stream",
          "name": "stdout",
          "text": [
            "Added sample: image_id=2009.14530v1, question=How does the backbone of the ACM-FPN and ACM-U-Net...\n",
            "Matched via: image_id\n"
          ]
        },
        {
          "output_type": "stream",
          "name": "stderr",
          "text": [
            "\rProcessing images:   1%|          | 222/24398 [02:45<5:08:14,  1.31it/s]"
          ]
        },
        {
          "output_type": "stream",
          "name": "stdout",
          "text": [
            "Added sample: image_id=2009.14530v1, question=Which network architecture has the highest IoU and...\n",
            "Matched via: image_id\n"
          ]
        },
        {
          "output_type": "stream",
          "name": "stderr",
          "text": [
            "\rProcessing images:   1%|          | 223/24398 [02:46<4:52:59,  1.38it/s]"
          ]
        },
        {
          "output_type": "stream",
          "name": "stdout",
          "text": [
            "Added sample: image_id=2009.14530v1, question=Which methods are data-driven?...\n",
            "Matched via: image_id\n"
          ]
        },
        {
          "output_type": "stream",
          "name": "stderr",
          "text": [
            "\rProcessing images:   1%|          | 224/24398 [02:47<4:57:27,  1.35it/s]"
          ]
        },
        {
          "output_type": "stream",
          "name": "stdout",
          "text": [
            "Added sample: image_id=2009.14530v1, question=Which method has the best performance based on the...\n",
            "Matched via: image_id\n"
          ]
        },
        {
          "output_type": "stream",
          "name": "stderr",
          "text": [
            "\rProcessing images:   1%|          | 225/24398 [02:47<4:55:56,  1.36it/s]"
          ]
        },
        {
          "output_type": "stream",
          "name": "stdout",
          "text": [
            "Added sample: image_id=2009.14530v1, question=What are some of the different types of background...\n",
            "Matched via: image_id\n"
          ]
        },
        {
          "output_type": "stream",
          "name": "stderr",
          "text": [
            "\rProcessing images:   1%|          | 226/24398 [02:48<4:51:22,  1.38it/s]"
          ]
        },
        {
          "output_type": "stream",
          "name": "stdout",
          "text": [
            "Added sample: image_id=2009.14530v1, question=What is the difference between semantic segmentati...\n",
            "Matched via: image_id\n"
          ]
        },
        {
          "output_type": "stream",
          "name": "stderr",
          "text": [
            "\rProcessing images:   1%|          | 227/24398 [02:49<4:53:38,  1.37it/s]"
          ]
        },
        {
          "output_type": "stream",
          "name": "stdout",
          "text": [
            "Added sample: image_id=2009.14530v1, question=What are the differences between the top-down glob...\n",
            "Matched via: image_id\n"
          ]
        },
        {
          "output_type": "stream",
          "name": "stderr",
          "text": [
            "\rProcessing images:   1%|          | 228/24398 [02:49<5:05:04,  1.32it/s]"
          ]
        },
        {
          "output_type": "stream",
          "name": "stdout",
          "text": [
            "Added sample: image_id=2009.14530v1, question= What is the distribution of target size in the SI...\n",
            "Matched via: image_id\n"
          ]
        },
        {
          "output_type": "stream",
          "name": "stderr",
          "text": [
            "\rProcessing images:   1%|          | 229/24398 [02:50<4:58:51,  1.35it/s]"
          ]
        },
        {
          "output_type": "stream",
          "name": "stdout",
          "text": [
            "Added sample: image_id=2009.10557v2, question=What is the difference between the joint and colla...\n",
            "Matched via: image_id\n"
          ]
        },
        {
          "output_type": "stream",
          "name": "stderr",
          "text": [
            "\rProcessing images:   1%|          | 230/24398 [02:51<4:47:22,  1.40it/s]"
          ]
        },
        {
          "output_type": "stream",
          "name": "stdout",
          "text": [
            "Added sample: image_id=2009.10557v2, question=What percentage of samples in the dataset have a g...\n",
            "Matched via: image_id\n"
          ]
        },
        {
          "output_type": "stream",
          "name": "stderr",
          "text": [
            "\rProcessing images:   1%|          | 231/24398 [02:52<4:49:54,  1.39it/s]"
          ]
        },
        {
          "output_type": "stream",
          "name": "stdout",
          "text": [
            "Added sample: image_id=2009.10557v2, question=Which model achieved the highest F1 score for aspe...\n",
            "Matched via: image_id\n"
          ]
        },
        {
          "output_type": "stream",
          "name": "stderr",
          "text": [
            "\rProcessing images:   1%|          | 232/24398 [02:52<4:51:56,  1.38it/s]"
          ]
        },
        {
          "output_type": "stream",
          "name": "stdout",
          "text": [
            "Added sample: image_id=2009.10557v2, question=Which model performs the best on the DR-14 dataset...\n",
            "Matched via: image_id\n"
          ]
        },
        {
          "output_type": "stream",
          "name": "stderr",
          "text": [
            "\rProcessing images:   1%|          | 233/24398 [02:53<4:47:05,  1.40it/s]"
          ]
        },
        {
          "output_type": "stream",
          "name": "stdout",
          "text": [
            "Added sample: image_id=2009.10557v2, question=Which model performs best on the D_R dataset?...\n",
            "Matched via: image_id\n"
          ]
        },
        {
          "output_type": "stream",
          "name": "stderr",
          "text": [
            "\rProcessing images:   1%|          | 234/24398 [02:54<4:47:13,  1.40it/s]"
          ]
        },
        {
          "output_type": "stream",
          "name": "stdout",
          "text": [
            "Added sample: image_id=2009.10557v2, question=What is the purpose of the Multi-Head Attention la...\n",
            "Matched via: image_id\n"
          ]
        },
        {
          "output_type": "stream",
          "name": "stderr",
          "text": [
            "\rProcessing images:   1%|          | 235/24398 [02:54<4:45:15,  1.41it/s]"
          ]
        },
        {
          "output_type": "stream",
          "name": "stdout",
          "text": [
            "Added sample: image_id=2009.10557v2, question= Which model performs the best in predicting the c...\n",
            "Matched via: image_id\n"
          ]
        },
        {
          "output_type": "stream",
          "name": "stderr",
          "text": [
            "\rProcessing images:   1%|          | 236/24398 [02:55<4:47:44,  1.40it/s]"
          ]
        },
        {
          "output_type": "stream",
          "name": "stdout",
          "text": [
            "Added sample: image_id=2009.10557v2, question=Which dataset has the highest number of negative e...\n",
            "Matched via: image_id\n"
          ]
        },
        {
          "output_type": "stream",
          "name": "stderr",
          "text": [
            "\rProcessing images:   1%|          | 237/24398 [02:56<5:00:51,  1.34it/s]"
          ]
        },
        {
          "output_type": "stream",
          "name": "stdout",
          "text": [
            "Added sample: image_id=2009.11146v2, question=Which type of attack is more effective against the...\n",
            "Matched via: image_id\n"
          ]
        },
        {
          "output_type": "stream",
          "name": "stderr",
          "text": [
            "\rProcessing images:   1%|          | 238/24398 [02:57<4:59:12,  1.35it/s]"
          ]
        },
        {
          "output_type": "stream",
          "name": "stdout",
          "text": [
            "Added sample: image_id=2009.11146v2, question=How does the mean squared bias error (MSBE) change...\n",
            "Matched via: image_id\n"
          ]
        },
        {
          "output_type": "stream",
          "name": "stderr",
          "text": [
            "\rProcessing images:   1%|          | 239/24398 [02:57<5:03:01,  1.33it/s]"
          ]
        },
        {
          "output_type": "stream",
          "name": "stdout",
          "text": [
            "Added sample: image_id=2009.11146v2, question=Which agent has the most Byzantine neighbors?...\n",
            "Matched via: image_id\n"
          ]
        },
        {
          "output_type": "stream",
          "name": "stderr",
          "text": [
            "\rProcessing images:   1%|          | 240/24398 [02:58<4:59:59,  1.34it/s]"
          ]
        },
        {
          "output_type": "stream",
          "name": "stdout",
          "text": [
            "Added sample: image_id=2009.11146v2, question=How does the performance of TD(λ)-mean and TD(λ)-t...\n",
            "Matched via: image_id\n"
          ]
        },
        {
          "output_type": "stream",
          "name": "stderr",
          "text": [
            "\rProcessing images:   1%|          | 241/24398 [02:59<5:22:47,  1.25it/s]"
          ]
        },
        {
          "output_type": "stream",
          "name": "stdout",
          "text": [
            "Added sample: image_id=2009.11146v2, question= What is the role of the Byzantine agent in the MA...\n",
            "Matched via: image_id\n"
          ]
        },
        {
          "output_type": "stream",
          "name": "stderr",
          "text": [
            "\rProcessing images:   1%|          | 242/24398 [03:00<5:30:04,  1.22it/s]"
          ]
        },
        {
          "output_type": "stream",
          "name": "stdout",
          "text": [
            "Added sample: image_id=2009.11146v2, question=Which value of λ appears to result in the fastest ...\n",
            "Matched via: image_id\n"
          ]
        },
        {
          "output_type": "stream",
          "name": "stderr",
          "text": [
            "\rProcessing images:   1%|          | 243/24398 [03:01<5:24:55,  1.24it/s]"
          ]
        },
        {
          "output_type": "stream",
          "name": "stdout",
          "text": [
            "Added sample: image_id=2009.11146v2, question=What is the effect of increasing λ on the MSBE and...\n",
            "Matched via: image_id\n"
          ]
        },
        {
          "output_type": "stream",
          "name": "stderr",
          "text": [
            "\rProcessing images:   1%|          | 244/24398 [03:01<5:07:38,  1.31it/s]"
          ]
        },
        {
          "output_type": "stream",
          "name": "stdout",
          "text": [
            "Added sample: image_id=2009.11146v2, question=How does the MSBE and MCE of the TD(λ)-mean algori...\n",
            "Matched via: image_id\n"
          ]
        },
        {
          "output_type": "stream",
          "name": "stderr",
          "text": [
            "\rProcessing images:   1%|          | 245/24398 [03:02<5:08:31,  1.30it/s]"
          ]
        },
        {
          "output_type": "stream",
          "name": "stdout",
          "text": [
            "Added sample: image_id=2009.13888v4, question=How does the utility function of leaderboards diff...\n",
            "Matched via: image_id\n"
          ]
        },
        {
          "output_type": "stream",
          "name": "stderr",
          "text": [
            "\rProcessing images:   1%|          | 246/24398 [03:03<5:04:08,  1.32it/s]"
          ]
        },
        {
          "output_type": "stream",
          "name": "stdout",
          "text": [
            "Added sample: image_id=2009.12677v2, question=Which model has the highest accuracy on CSQA after...\n",
            "Matched via: image_id\n"
          ]
        },
        {
          "output_type": "stream",
          "name": "stderr",
          "text": [
            "\rProcessing images:   1%|          | 247/24398 [03:04<5:03:31,  1.33it/s]"
          ]
        },
        {
          "output_type": "stream",
          "name": "stdout",
          "text": [
            "Added sample: image_id=2009.12677v2, question=What is the role of the textual encoder and decode...\n",
            "Matched via: image_id\n"
          ]
        },
        {
          "output_type": "stream",
          "name": "stderr",
          "text": [
            "\rProcessing images:   1%|          | 248/24398 [03:04<5:08:28,  1.30it/s]"
          ]
        },
        {
          "output_type": "stream",
          "name": "stdout",
          "text": [
            "Added sample: image_id=2009.12677v2, question=What is the role of the Multi-Head Graph Attention...\n",
            "Matched via: image_id\n"
          ]
        },
        {
          "output_type": "stream",
          "name": "stderr",
          "text": [
            "\rProcessing images:   1%|          | 249/24398 [03:05<4:58:48,  1.35it/s]"
          ]
        },
        {
          "output_type": "stream",
          "name": "stdout",
          "text": [
            "Added sample: image_id=2009.12677v2, question=What is the role of TransE in the KG-augmented dec...\n",
            "Matched via: image_id\n"
          ]
        },
        {
          "output_type": "stream",
          "name": "stderr",
          "text": [
            "\rProcessing images:   1%|          | 250/24398 [03:06<4:53:04,  1.37it/s]"
          ]
        },
        {
          "output_type": "stream",
          "name": "stdout",
          "text": [
            "Added sample: image_id=2009.12677v2, question=What is the percentage of unseen concepts in the t...\n",
            "Matched via: image_id\n",
            "Warning: No QA pair matched for 2009.12677v2-Table3-1.png in paper 2009.12677v2, skipping\n",
            "Warning: No QA pair matched for 2009.12677v2-Table2-1.png in paper 2009.12677v2, skipping\n",
            "Warning: No QA pair matched for 2009.12677v2-Figure2-1.png in paper 2009.12677v2, skipping\n",
            "Warning: No QA pair matched for 2009.12677v2-Figure5-1.png in paper 2009.12677v2, skipping\n",
            "Warning: No QA pair matched for 2009.12677v2-Table1-1.png in paper 2009.12677v2, skipping\n",
            "Warning: No QA pair matched for 2009.12677v2-Figure3-1.png in paper 2009.12677v2, skipping\n"
          ]
        },
        {
          "output_type": "stream",
          "name": "stderr",
          "text": [
            "\rProcessing images:   1%|          | 257/24398 [03:07<1:42:42,  3.92it/s]"
          ]
        },
        {
          "output_type": "stream",
          "name": "stdout",
          "text": [
            "Added sample: image_id=2009.09805v2, question=Which approach performed the best on the UCF101 da...\n",
            "Matched via: image_id\n"
          ]
        },
        {
          "output_type": "stream",
          "name": "stderr",
          "text": [
            "\rProcessing images:   1%|          | 258/24398 [03:07<2:06:56,  3.17it/s]"
          ]
        },
        {
          "output_type": "stream",
          "name": "stdout",
          "text": [
            "Added sample: image_id=2009.09805v2, question=How does the probability of sampling unique negati...\n",
            "Matched via: image_id\n"
          ]
        },
        {
          "output_type": "stream",
          "name": "stderr",
          "text": [
            "\rProcessing images:   1%|          | 259/24398 [03:08<2:32:24,  2.64it/s]"
          ]
        },
        {
          "output_type": "stream",
          "name": "stdout",
          "text": [
            "Added sample: image_id=2009.09805v2, question=Which approach achieves the highest accuracy on th...\n",
            "Matched via: image_id\n"
          ]
        },
        {
          "output_type": "stream",
          "name": "stderr",
          "text": [
            "\rProcessing images:   1%|          | 260/24398 [03:09<3:01:59,  2.21it/s]"
          ]
        },
        {
          "output_type": "stream",
          "name": "stdout",
          "text": [
            "Added sample: image_id=2009.09805v2, question=What is the effect of batch size on the number of ...\n",
            "Matched via: image_id\n"
          ]
        },
        {
          "output_type": "stream",
          "name": "stderr",
          "text": [
            "\rProcessing images:   1%|          | 261/24398 [03:10<3:31:53,  1.90it/s]"
          ]
        },
        {
          "output_type": "stream",
          "name": "stdout",
          "text": [
            "Added sample: image_id=2009.09805v2, question=What is the relationship between dictionary size a...\n",
            "Matched via: image_id\n"
          ]
        },
        {
          "output_type": "stream",
          "name": "stderr",
          "text": [
            "\rProcessing images:   1%|          | 262/24398 [03:10<3:58:46,  1.68it/s]"
          ]
        },
        {
          "output_type": "stream",
          "name": "stdout",
          "text": [
            "Added sample: image_id=2009.09805v2, question=How does the active sampling process in the figure...\n",
            "Matched via: image_id\n"
          ]
        },
        {
          "output_type": "stream",
          "name": "stderr",
          "text": [
            "\rProcessing images:   1%|          | 263/24398 [03:11<4:22:29,  1.53it/s]"
          ]
        },
        {
          "output_type": "stream",
          "name": "stdout",
          "text": [
            "Added sample: image_id=2009.09805v2, question=How does the performance of the active sampling me...\n",
            "Matched via: image_id\n"
          ]
        },
        {
          "output_type": "stream",
          "name": "stderr",
          "text": [
            "\rProcessing images:   1%|          | 264/24398 [03:12<4:39:09,  1.44it/s]"
          ]
        },
        {
          "output_type": "stream",
          "name": "stdout",
          "text": [
            "Added sample: image_id=2009.09805v2, question=What is the difference in top-1 accuracy between f...\n",
            "Matched via: image_id\n"
          ]
        },
        {
          "output_type": "stream",
          "name": "stderr",
          "text": [
            "\rProcessing images:   1%|          | 265/24398 [03:13<5:50:48,  1.15it/s]"
          ]
        },
        {
          "output_type": "stream",
          "name": "stdout",
          "text": [
            "Added sample: image_id=2009.09805v2, question=Which activities are more accurately predicted by ...\n",
            "Matched via: image_id\n"
          ]
        },
        {
          "output_type": "stream",
          "name": "stderr",
          "text": [
            "\rProcessing images:   1%|          | 266/24398 [03:14<5:27:03,  1.23it/s]"
          ]
        },
        {
          "output_type": "stream",
          "name": "stdout",
          "text": [
            "Added sample: image_id=2009.09805v2, question=Which method achieved the highest accuracy on the ...\n",
            "Matched via: image_id\n"
          ]
        },
        {
          "output_type": "stream",
          "name": "stderr",
          "text": [
            "\rProcessing images:   1%|          | 267/24398 [03:15<5:19:43,  1.26it/s]"
          ]
        },
        {
          "output_type": "stream",
          "name": "stdout",
          "text": [
            "Added sample: image_id=2009.09805v2, question=Which method has the highest performance on the Au...\n",
            "Matched via: image_id\n"
          ]
        },
        {
          "output_type": "stream",
          "name": "stderr",
          "text": [
            "\rProcessing images:   1%|          | 268/24398 [03:15<4:59:36,  1.34it/s]"
          ]
        },
        {
          "output_type": "stream",
          "name": "stdout",
          "text": [
            "Added sample: image_id=2009.09805v2, question=How does the gradient norm of the center frame of ...\n",
            "Matched via: image_id\n"
          ]
        },
        {
          "output_type": "stream",
          "name": "stderr",
          "text": [
            "\rProcessing images:   1%|          | 269/24398 [03:16<5:14:53,  1.28it/s]"
          ]
        },
        {
          "output_type": "stream",
          "name": "stdout",
          "text": [
            "Added sample: image_id=2009.09680v5, question=Why is R3 considered entailed by the current locat...\n",
            "Matched via: image_id\n"
          ]
        },
        {
          "output_type": "stream",
          "name": "stderr",
          "text": [
            "\rProcessing images:   1%|          | 270/24398 [03:17<5:04:45,  1.32it/s]"
          ]
        },
        {
          "output_type": "stream",
          "name": "stdout",
          "text": [
            "Added sample: image_id=2009.09680v5, question=Which model performed best on the Location domain ...\n",
            "Matched via: image_id\n"
          ]
        },
        {
          "output_type": "stream",
          "name": "stderr",
          "text": [
            "\rProcessing images:   1%|          | 271/24398 [03:18<5:01:44,  1.33it/s]"
          ]
        },
        {
          "output_type": "stream",
          "name": "stdout",
          "text": [
            "Added sample: image_id=2009.09680v5, question=What is the percentage of responses that are irrel...\n",
            "Matched via: image_id\n"
          ]
        },
        {
          "output_type": "stream",
          "name": "stderr",
          "text": [
            "\rProcessing images:   1%|          | 272/24398 [03:18<5:00:51,  1.34it/s]"
          ]
        },
        {
          "output_type": "stream",
          "name": "stdout",
          "text": [
            "Added sample: image_id=2009.09680v5, question=Which annotated attribute was the most common in t...\n",
            "Matched via: image_id\n"
          ]
        },
        {
          "output_type": "stream",
          "name": "stderr",
          "text": [
            "\rProcessing images:   1%|          | 273/24398 [03:19<4:52:08,  1.38it/s]"
          ]
        },
        {
          "output_type": "stream",
          "name": "stdout",
          "text": [
            "Added sample: image_id=2009.09680v5, question=Which constellation has the lowest F1-score for th...\n",
            "Matched via: image_id\n"
          ]
        },
        {
          "output_type": "stream",
          "name": "stderr",
          "text": [
            "\rProcessing images:   1%|          | 274/24398 [03:20<4:48:08,  1.40it/s]"
          ]
        },
        {
          "output_type": "stream",
          "name": "stdout",
          "text": [
            "Added sample: image_id=2009.09680v5, question=What is the relationship between treeLSTM accuracy...\n",
            "Matched via: image_id\n"
          ]
        },
        {
          "output_type": "stream",
          "name": "stderr",
          "text": [
            "\rProcessing images:   1%|          | 275/24398 [03:21<5:00:38,  1.34it/s]"
          ]
        },
        {
          "output_type": "stream",
          "name": "stdout",
          "text": [
            "Added sample: image_id=2009.09680v5, question=Which domain has the highest percentage of entailm...\n",
            "Matched via: image_id\n"
          ]
        },
        {
          "output_type": "stream",
          "name": "stderr",
          "text": [
            "\rProcessing images:   1%|          | 276/24398 [03:21<4:48:18,  1.39it/s]"
          ]
        },
        {
          "output_type": "stream",
          "name": "stdout",
          "text": [
            "Added sample: image_id=2009.09680v5, question= What is the role of the 12-Layer BERT-Base-Chines...\n",
            "Matched via: image_id\n"
          ]
        },
        {
          "output_type": "stream",
          "name": "stderr",
          "text": [
            "\rProcessing images:   1%|          | 277/24398 [03:22<5:23:42,  1.24it/s]"
          ]
        },
        {
          "output_type": "stream",
          "name": "stdout",
          "text": [
            "Added sample: image_id=2009.13436v2, question=Which class has the most labels in the validation ...\n",
            "Matched via: image_id\n"
          ]
        },
        {
          "output_type": "stream",
          "name": "stderr",
          "text": [
            "\rProcessing images:   1%|          | 278/24398 [03:23<5:14:53,  1.28it/s]"
          ]
        },
        {
          "output_type": "stream",
          "name": "stdout",
          "text": [
            "Added sample: image_id=2009.13436v2, question=What are the different types of objects that are d...\n",
            "Matched via: image_id\n"
          ]
        },
        {
          "output_type": "stream",
          "name": "stderr",
          "text": [
            "\rProcessing images:   1%|          | 279/24398 [03:24<5:00:20,  1.34it/s]"
          ]
        },
        {
          "output_type": "stream",
          "name": "stdout",
          "text": [
            "Added sample: image_id=2009.13436v2, question=What is the main advantage of RED over the other m...\n",
            "Matched via: image_id\n"
          ]
        },
        {
          "output_type": "stream",
          "name": "stderr",
          "text": [
            "\rProcessing images:   1%|          | 280/24398 [03:24<4:52:52,  1.37it/s]"
          ]
        },
        {
          "output_type": "stream",
          "name": "stdout",
          "text": [
            "Added sample: image_id=2009.13436v2, question=Which input representation gives the best performa...\n",
            "Matched via: image_id\n"
          ]
        },
        {
          "output_type": "stream",
          "name": "stderr",
          "text": [
            "\rProcessing images:   1%|          | 281/24398 [03:25<4:49:32,  1.39it/s]"
          ]
        },
        {
          "output_type": "stream",
          "name": "stdout",
          "text": [
            "Added sample: image_id=2009.13436v2, question=What do the different colors in the image represen...\n",
            "Matched via: image_id\n"
          ]
        },
        {
          "output_type": "stream",
          "name": "stderr",
          "text": [
            "\rProcessing images:   1%|          | 282/24398 [03:26<4:49:48,  1.39it/s]"
          ]
        },
        {
          "output_type": "stream",
          "name": "stdout",
          "text": [
            "Added sample: image_id=2009.13436v2, question=Which of the following failure cases is shown in t...\n",
            "Matched via: image_id\n"
          ]
        },
        {
          "output_type": "stream",
          "name": "stderr",
          "text": [
            "\rProcessing images:   1%|          | 283/24398 [03:27<4:50:54,  1.38it/s]"
          ]
        },
        {
          "output_type": "stream",
          "name": "stdout",
          "text": [
            "Added sample: image_id=2009.13436v2, question=Which method has the highest mAP on the 1Mpx Detec...\n",
            "Matched via: image_id\n"
          ]
        },
        {
          "output_type": "stream",
          "name": "stderr",
          "text": [
            "\rProcessing images:   1%|          | 284/24398 [03:27<4:49:11,  1.39it/s]"
          ]
        },
        {
          "output_type": "stream",
          "name": "stdout",
          "text": [
            "Added sample: image_id=2009.13436v2, question=What is the role of the ConvLSTM layers in the pro...\n",
            "Matched via: image_id\n"
          ]
        },
        {
          "output_type": "stream",
          "name": "stderr",
          "text": [
            "\rProcessing images:   1%|          | 285/24398 [03:28<4:47:19,  1.40it/s]"
          ]
        },
        {
          "output_type": "stream",
          "name": "stdout",
          "text": [
            "Added sample: image_id=2009.13436v2, question=What is the purpose of the bounding boxes in the i...\n",
            "Matched via: image_id\n"
          ]
        },
        {
          "output_type": "stream",
          "name": "stderr",
          "text": [
            "\rProcessing images:   1%|          | 286/24398 [03:29<4:43:30,  1.42it/s]"
          ]
        },
        {
          "output_type": "stream",
          "name": "stdout",
          "text": [
            "Added sample: image_id=2009.13436v2, question=How well does Gray-Retinanet generalize to night i...\n",
            "Matched via: image_id\n"
          ]
        },
        {
          "output_type": "stream",
          "name": "stderr",
          "text": [
            "\rProcessing images:   1%|          | 287/24398 [03:30<5:07:21,  1.31it/s]"
          ]
        },
        {
          "output_type": "stream",
          "name": "stdout",
          "text": [
            "Added sample: image_id=2009.13436v2, question=What is the purpose of the RED detector?...\n",
            "Matched via: image_id\n"
          ]
        },
        {
          "output_type": "stream",
          "name": "stderr",
          "text": [
            "\rProcessing images:   1%|          | 288/24398 [03:30<5:31:53,  1.21it/s]"
          ]
        },
        {
          "output_type": "stream",
          "name": "stdout",
          "text": [
            "Added sample: image_id=2009.13436v2, question=How does the consistency loss help to improve the ...\n",
            "Matched via: image_id\n"
          ]
        },
        {
          "output_type": "stream",
          "name": "stderr",
          "text": [
            "\rProcessing images:   1%|          | 289/24398 [03:31<5:32:13,  1.21it/s]"
          ]
        },
        {
          "output_type": "stream",
          "name": "stdout",
          "text": [
            "Added sample: image_id=2009.13436v2, question=How many layers does the Feature Extractor have?...\n",
            "Matched via: image_id\n"
          ]
        },
        {
          "output_type": "stream",
          "name": "stderr",
          "text": [
            "\rProcessing images:   1%|          | 290/24398 [03:32<5:23:34,  1.24it/s]"
          ]
        },
        {
          "output_type": "stream",
          "name": "stdout",
          "text": [
            "Added sample: image_id=2009.13436v2, question=What is the purpose of the Squeeze-Excitation (SE)...\n",
            "Matched via: image_id\n"
          ]
        },
        {
          "output_type": "stream",
          "name": "stderr",
          "text": [
            "\rProcessing images:   1%|          | 291/24398 [03:33<5:17:47,  1.26it/s]"
          ]
        },
        {
          "output_type": "stream",
          "name": "stdout",
          "text": [
            "Added sample: image_id=2009.12991v4, question=What is the effect of increasing the TDE parameter...\n",
            "Matched via: image_id\n"
          ]
        },
        {
          "output_type": "stream",
          "name": "stderr",
          "text": [
            "\rProcessing images:   1%|          | 292/24398 [03:34<5:06:57,  1.31it/s]"
          ]
        },
        {
          "output_type": "stream",
          "name": "stdout",
          "text": [
            "Added sample: image_id=2009.12991v4, question=Which methods can be used to estimate the total di...\n",
            "Matched via: image_id\n"
          ]
        },
        {
          "output_type": "stream",
          "name": "stderr",
          "text": [
            "\rProcessing images:   1%|          | 293/24398 [03:34<4:51:27,  1.38it/s]"
          ]
        },
        {
          "output_type": "stream",
          "name": "stdout",
          "text": [
            "Added sample: image_id=2009.12991v4, question=What is the effect of using TDE with Background-Ex...\n",
            "Matched via: image_id\n"
          ]
        },
        {
          "output_type": "stream",
          "name": "stderr",
          "text": [
            "\rProcessing images:   1%|          | 294/24398 [03:35<5:05:42,  1.31it/s]"
          ]
        },
        {
          "output_type": "stream",
          "name": "stdout",
          "text": [
            "Added sample: image_id=2009.12991v4, question=How does the momentum decay ratio affect the accur...\n",
            "Matched via: image_id\n"
          ]
        },
        {
          "output_type": "stream",
          "name": "stderr",
          "text": [
            "\rProcessing images:   1%|          | 295/24398 [03:36<4:57:24,  1.35it/s]"
          ]
        },
        {
          "output_type": "stream",
          "name": "stdout",
          "text": [
            "Added sample: image_id=2009.12991v4, question=Which method performed the best overall?...\n",
            "Matched via: image_id\n"
          ]
        },
        {
          "output_type": "stream",
          "name": "stderr",
          "text": [
            "\rProcessing images:   1%|          | 296/24398 [03:36<4:57:54,  1.35it/s]"
          ]
        },
        {
          "output_type": "stream",
          "name": "stdout",
          "text": [
            "Added sample: image_id=2009.12991v4, question=What is the relationship between the magnitude of ...\n",
            "Matched via: image_id\n"
          ]
        },
        {
          "output_type": "stream",
          "name": "stderr",
          "text": [
            "\rProcessing images:   1%|          | 297/24398 [03:37<5:10:14,  1.29it/s]"
          ]
        },
        {
          "output_type": "stream",
          "name": "stdout",
          "text": [
            "Added sample: image_id=2009.12991v4, question=Which method performed the best on the LVIS V0.5 e...\n",
            "Matched via: image_id\n"
          ]
        },
        {
          "output_type": "stream",
          "name": "stderr",
          "text": [
            "\rProcessing images:   1%|          | 298/24398 [03:38<5:02:26,  1.33it/s]"
          ]
        },
        {
          "output_type": "stream",
          "name": "stdout",
          "text": [
            "Added sample: image_id=2009.12991v4, question=What is the effect of increasing the number of hea...\n",
            "Matched via: image_id\n"
          ]
        },
        {
          "output_type": "stream",
          "name": "stderr",
          "text": [
            "\rProcessing images:   1%|          | 299/24398 [03:39<4:56:48,  1.35it/s]"
          ]
        },
        {
          "output_type": "stream",
          "name": "stdout",
          "text": [
            "Added sample: image_id=2009.12991v4, question=What is the effect of the De-confound-TDE method o...\n",
            "Matched via: image_id\n"
          ]
        },
        {
          "output_type": "stream",
          "name": "stderr",
          "text": [
            "\rProcessing images:   1%|          | 300/24398 [03:39<4:59:07,  1.34it/s]"
          ]
        },
        {
          "output_type": "stream",
          "name": "stdout",
          "text": [
            "Added sample: image_id=2009.12991v4, question=Which method achieved the highest AP score on the ...\n",
            "Matched via: image_id\n"
          ]
        },
        {
          "output_type": "stream",
          "name": "stderr",
          "text": [
            "\rProcessing images:   1%|          | 301/24398 [03:40<4:58:36,  1.34it/s]"
          ]
        },
        {
          "output_type": "stream",
          "name": "stdout",
          "text": [
            "Added sample: image_id=2009.12991v4, question=Which parameter has the greatest impact on the ove...\n",
            "Matched via: image_id\n"
          ]
        },
        {
          "output_type": "stream",
          "name": "stderr",
          "text": [
            "\rProcessing images:   1%|          | 302/24398 [03:41<4:57:46,  1.35it/s]"
          ]
        },
        {
          "output_type": "stream",
          "name": "stdout",
          "text": [
            "Added sample: image_id=2009.12991v4, question=Which method seems to perform better in identifyin...\n",
            "Matched via: image_id\n"
          ]
        },
        {
          "output_type": "stream",
          "name": "stderr",
          "text": [
            "\rProcessing images:   1%|          | 303/24398 [03:42<5:15:47,  1.27it/s]"
          ]
        },
        {
          "output_type": "stream",
          "name": "stdout",
          "text": [
            "Added sample: image_id=2009.12991v4, question=Which method performs best on Long-tailed CIFAR-10...\n",
            "Matched via: image_id\n"
          ]
        },
        {
          "output_type": "stream",
          "name": "stderr",
          "text": [
            "\rProcessing images:   1%|          | 304/24398 [03:43<5:33:04,  1.21it/s]"
          ]
        },
        {
          "output_type": "stream",
          "name": "stdout",
          "text": [
            "Added sample: image_id=2009.12991v4, question=How is the biased feature vector x decomposed in t...\n",
            "Matched via: image_id\n"
          ]
        },
        {
          "output_type": "stream",
          "name": "stderr",
          "text": [
            "\rProcessing images:   1%|▏         | 305/24398 [03:43<5:20:54,  1.25it/s]"
          ]
        },
        {
          "output_type": "stream",
          "name": "stdout",
          "text": [
            "Added sample: image_id=2009.12991v4, question=What is the difference between the two graphs in t...\n",
            "Matched via: image_id\n"
          ]
        },
        {
          "output_type": "stream",
          "name": "stderr",
          "text": [
            "\rProcessing images:   1%|▏         | 306/24398 [03:44<5:06:44,  1.31it/s]"
          ]
        },
        {
          "output_type": "stream",
          "name": "stdout",
          "text": [
            "Added sample: image_id=2009.12991v4, question= Why does the baseline model perform poorly on the...\n",
            "Matched via: image_id\n"
          ]
        },
        {
          "output_type": "stream",
          "name": "stderr",
          "text": [
            "\rProcessing images:   1%|▏         | 307/24398 [03:45<4:59:34,  1.34it/s]"
          ]
        },
        {
          "output_type": "stream",
          "name": "stdout",
          "text": [
            "Added sample: image_id=2009.12991v4, question=Which model and LVIS version combination achieved ...\n",
            "Matched via: image_id\n"
          ]
        },
        {
          "output_type": "stream",
          "name": "stderr",
          "text": [
            "\rProcessing images:   1%|▏         | 308/24398 [03:46<4:54:57,  1.36it/s]"
          ]
        },
        {
          "output_type": "stream",
          "name": "stdout",
          "text": [
            "Added sample: image_id=2009.09801v1, question=What does the exhaustive rooted CCQ q represent?...\n",
            "Matched via: image_id\n"
          ]
        },
        {
          "output_type": "stream",
          "name": "stderr",
          "text": [
            "\rProcessing images:   1%|▏         | 309/24398 [03:46<4:55:32,  1.36it/s]"
          ]
        },
        {
          "output_type": "stream",
          "name": "stdout",
          "text": [
            "Added sample: image_id=2009.09801v1, question=What is the relationship between the two parts of ...\n",
            "Matched via: image_id\n"
          ]
        },
        {
          "output_type": "stream",
          "name": "stderr",
          "text": [
            "\rProcessing images:   1%|▏         | 310/24398 [03:47<4:50:12,  1.38it/s]"
          ]
        },
        {
          "output_type": "stream",
          "name": "stdout",
          "text": [
            "Added sample: image_id=2009.09801v1, question=What is the value of τ (2n − 1, 2n − 1)?...\n",
            "Matched via: image_id\n"
          ]
        },
        {
          "output_type": "stream",
          "name": "stderr",
          "text": [
            "\rProcessing images:   1%|▏         | 311/24398 [03:48<4:48:47,  1.39it/s]"
          ]
        },
        {
          "output_type": "stream",
          "name": "stdout",
          "text": [
            "Added sample: image_id=2009.09801v1, question=What is the relationship between the variables y a...\n",
            "Matched via: image_id\n"
          ]
        },
        {
          "output_type": "stream",
          "name": "stderr",
          "text": [
            "\rProcessing images:   1%|▏         | 312/24398 [03:48<4:49:35,  1.39it/s]"
          ]
        },
        {
          "output_type": "stream",
          "name": "stdout",
          "text": [
            "Added sample: image_id=2009.09801v1, question=Which data set has the lowest combined complexity ...\n",
            "Matched via: image_id\n"
          ]
        },
        {
          "output_type": "stream",
          "name": "stderr",
          "text": [
            "\rProcessing images:   1%|▏         | 313/24398 [03:49<4:43:52,  1.41it/s]"
          ]
        },
        {
          "output_type": "stream",
          "name": "stdout",
          "text": [
            "Added sample: image_id=2009.09801v1, question=What is the relationship between the variables $z_...\n",
            "Matched via: image_id\n"
          ]
        },
        {
          "output_type": "stream",
          "name": "stderr",
          "text": [
            "\rProcessing images:   1%|▏         | 314/24398 [03:50<4:52:21,  1.37it/s]"
          ]
        },
        {
          "output_type": "stream",
          "name": "stdout",
          "text": [
            "Added sample: image_id=2009.09801v1, question=Which clauses are satisfied by the assignment a = ...\n",
            "Matched via: image_id\n"
          ]
        },
        {
          "output_type": "stream",
          "name": "stderr",
          "text": [
            "\rProcessing images:   1%|▏         | 315/24398 [03:51<4:55:40,  1.36it/s]"
          ]
        },
        {
          "output_type": "stream",
          "name": "stdout",
          "text": [
            "Added sample: image_id=2009.09801v1, question=What is the relationship between the two vertices ...\n",
            "Matched via: image_id\n"
          ]
        },
        {
          "output_type": "stream",
          "name": "stderr",
          "text": [
            "\rProcessing images:   1%|▏         | 316/24398 [03:52<5:14:16,  1.28it/s]"
          ]
        },
        {
          "output_type": "stream",
          "name": "stdout",
          "text": [
            "Added sample: image_id=2009.09801v1, question=How many edges are there in the Count CQ q?...\n",
            "Matched via: image_id\n"
          ]
        },
        {
          "output_type": "stream",
          "name": "stderr",
          "text": [
            "\rProcessing images:   1%|▏         | 317/24398 [03:52<5:14:47,  1.27it/s]"
          ]
        },
        {
          "output_type": "stream",
          "name": "stdout",
          "text": [
            "Added sample: image_id=2009.09801v1, question= What is the relationship between the queries q0, ...\n",
            "Matched via: image_id\n"
          ]
        },
        {
          "output_type": "stream",
          "name": "stderr",
          "text": [
            "\rProcessing images:   1%|▏         | 318/24398 [03:53<5:10:25,  1.29it/s]"
          ]
        },
        {
          "output_type": "stream",
          "name": "stdout",
          "text": [
            "Added sample: image_id=2009.09801v1, question=What does the arrow labeled \"HasCol\" represent?...\n",
            "Matched via: image_id\n"
          ]
        },
        {
          "output_type": "stream",
          "name": "stderr",
          "text": [
            "\rProcessing images:   1%|▏         | 319/24398 [03:54<5:18:14,  1.26it/s]"
          ]
        },
        {
          "output_type": "stream",
          "name": "stdout",
          "text": [
            "Added sample: image_id=2009.09801v1, question= What is the relationship between the vertex $a$ a...\n",
            "Matched via: image_id\n"
          ]
        },
        {
          "output_type": "stream",
          "name": "stderr",
          "text": [
            "\rProcessing images:   1%|▏         | 320/24398 [03:55<5:04:07,  1.32it/s]"
          ]
        },
        {
          "output_type": "stream",
          "name": "stdout",
          "text": [
            "Added sample: image_id=2009.09801v1, question=What is the relationship between the two subgraphs...\n",
            "Matched via: image_id\n"
          ]
        },
        {
          "output_type": "stream",
          "name": "stderr",
          "text": [
            "\rProcessing images:   1%|▏         | 321/24398 [03:55<4:57:43,  1.35it/s]"
          ]
        },
        {
          "output_type": "stream",
          "name": "stdout",
          "text": [
            "Added sample: image_id=2009.09801v1, question=What does the edge between u1 and u2 represent?...\n",
            "Matched via: image_id\n"
          ]
        },
        {
          "output_type": "stream",
          "name": "stderr",
          "text": [
            "\rProcessing images:   1%|▏         | 322/24398 [03:56<4:57:55,  1.35it/s]"
          ]
        },
        {
          "output_type": "stream",
          "name": "stdout",
          "text": [
            "Added sample: image_id=2009.09801v1, question=What is the relationship between the nodes labeled...\n",
            "Matched via: image_id\n"
          ]
        },
        {
          "output_type": "stream",
          "name": "stderr",
          "text": [
            "\rProcessing images:   1%|▏         | 323/24398 [03:57<4:55:20,  1.36it/s]"
          ]
        },
        {
          "output_type": "stream",
          "name": "stdout",
          "text": [
            "Added sample: image_id=2009.09801v1, question=What is the main result of Theorem 7?...\n",
            "Matched via: image_id\n"
          ]
        },
        {
          "output_type": "stream",
          "name": "stderr",
          "text": [
            "\rProcessing images:   1%|▏         | 324/24398 [03:59<7:03:58,  1.06s/it]"
          ]
        },
        {
          "output_type": "stream",
          "name": "stdout",
          "text": [
            "Added sample: image_id=2009.09801v1, question=What is the role of the nodes labeled with the sym...\n",
            "Matched via: image_id\n"
          ]
        },
        {
          "output_type": "stream",
          "name": "stderr",
          "text": [
            "\rProcessing images:   1%|▏         | 325/24398 [04:00<6:59:39,  1.05s/it]"
          ]
        },
        {
          "output_type": "stream",
          "name": "stdout",
          "text": [
            "Added sample: image_id=2009.13299v1, question=Which job category has the highest number of job p...\n",
            "Matched via: image_id\n"
          ]
        },
        {
          "output_type": "stream",
          "name": "stderr",
          "text": [
            "\rProcessing images:   1%|▏         | 326/24398 [04:00<6:22:22,  1.05it/s]"
          ]
        },
        {
          "output_type": "stream",
          "name": "stdout",
          "text": [
            "Added sample: image_id=2009.13299v1, question=Which job skills are required for the Big Data Dev...\n",
            "Matched via: image_id\n"
          ]
        },
        {
          "output_type": "stream",
          "name": "stderr",
          "text": [
            "\rProcessing images:   1%|▏         | 327/24398 [04:01<5:55:42,  1.13it/s]"
          ]
        },
        {
          "output_type": "stream",
          "name": "stdout",
          "text": [
            "Added sample: image_id=2009.13299v1, question=What are the two main components of the proposed a...\n",
            "Matched via: image_id\n"
          ]
        },
        {
          "output_type": "stream",
          "name": "stderr",
          "text": [
            "\rProcessing images:   1%|▏         | 328/24398 [04:02<5:28:44,  1.22it/s]"
          ]
        },
        {
          "output_type": "stream",
          "name": "stdout",
          "text": [
            "Added sample: image_id=2009.13299v1, question=Which model component contributes the most to the ...\n",
            "Matched via: image_id\n"
          ]
        },
        {
          "output_type": "stream",
          "name": "stderr",
          "text": [
            "\rProcessing images:   1%|▏         | 329/24398 [04:02<5:18:04,  1.26it/s]"
          ]
        },
        {
          "output_type": "stream",
          "name": "stdout",
          "text": [
            "Added sample: image_id=2009.13299v1, question=Which model performs best on the APJ dataset?...\n",
            "Matched via: image_id\n"
          ]
        },
        {
          "output_type": "stream",
          "name": "stderr",
          "text": [
            "\rProcessing images:   1%|▏         | 330/24398 [04:06<11:43:57,  1.75s/it]"
          ]
        },
        {
          "output_type": "stream",
          "name": "stdout",
          "text": [
            "Added sample: image_id=2009.13299v1, question=What is the purpose of the figure?...\n",
            "Matched via: image_id\n"
          ]
        },
        {
          "output_type": "stream",
          "name": "stderr",
          "text": [
            "\rProcessing images:   1%|▏         | 331/24398 [04:07<9:49:47,  1.47s/it] "
          ]
        },
        {
          "output_type": "stream",
          "name": "stdout",
          "text": [
            "Added sample: image_id=2009.08965v3, question=Which data augmentation method performs the best o...\n",
            "Matched via: image_id\n"
          ]
        },
        {
          "output_type": "stream",
          "name": "stderr",
          "text": [
            "\rProcessing images:   1%|▏         | 332/24398 [04:09<9:38:58,  1.44s/it]"
          ]
        },
        {
          "output_type": "stream",
          "name": "stdout",
          "text": [
            "Added sample: image_id=2009.08965v3, question=Which model configuration has the shortest trainin...\n",
            "Matched via: image_id\n"
          ]
        },
        {
          "output_type": "stream",
          "name": "stderr",
          "text": [
            "\rProcessing images:   1%|▏         | 333/24398 [04:09<8:13:54,  1.23s/it]"
          ]
        },
        {
          "output_type": "stream",
          "name": "stdout",
          "text": [
            "Added sample: image_id=2009.08965v3, question=Which method achieved the highest accuracy on the ...\n",
            "Matched via: image_id\n"
          ]
        },
        {
          "output_type": "stream",
          "name": "stderr",
          "text": [
            "\rProcessing images:   1%|▏         | 334/24398 [04:10<7:13:29,  1.08s/it]"
          ]
        },
        {
          "output_type": "stream",
          "name": "stdout",
          "text": [
            "Added sample: image_id=2009.08965v3, question=What is the effect of ImageNet-AdvBN-VGG on the im...\n",
            "Matched via: image_id\n"
          ]
        },
        {
          "output_type": "stream",
          "name": "stderr",
          "text": [
            "\rProcessing images:   1%|▏         | 335/24398 [04:11<6:28:42,  1.03it/s]"
          ]
        },
        {
          "output_type": "stream",
          "name": "stdout",
          "text": [
            "Added sample: image_id=2009.08965v3, question=Which dataset does the model perform the best on?...\n",
            "Matched via: image_id\n"
          ]
        },
        {
          "output_type": "stream",
          "name": "stderr",
          "text": [
            "\rProcessing images:   1%|▏         | 336/24398 [04:12<6:02:41,  1.11it/s]"
          ]
        },
        {
          "output_type": "stream",
          "name": "stdout",
          "text": [
            "Added sample: image_id=2009.08965v3, question=Which type of image corruption results in the lowe...\n",
            "Matched via: image_id\n"
          ]
        },
        {
          "output_type": "stream",
          "name": "stderr",
          "text": [
            "\rProcessing images:   1%|▏         | 337/24398 [04:12<5:42:24,  1.17it/s]"
          ]
        },
        {
          "output_type": "stream",
          "name": "stdout",
          "text": [
            "Added sample: image_id=2009.08965v3, question=Which method performed better on ImageNet-C?...\n",
            "Matched via: image_id\n"
          ]
        },
        {
          "output_type": "stream",
          "name": "stderr",
          "text": [
            "\rProcessing images:   1%|▏         | 338/24398 [04:13<5:23:43,  1.24it/s]"
          ]
        },
        {
          "output_type": "stream",
          "name": "stdout",
          "text": [
            "Added sample: image_id=2009.08965v3, question=Which type of corruption is the Base model most ro...\n",
            "Matched via: image_id\n"
          ]
        },
        {
          "output_type": "stream",
          "name": "stderr",
          "text": [
            "\rProcessing images:   1%|▏         | 339/24398 [04:14<5:08:02,  1.30it/s]"
          ]
        },
        {
          "output_type": "stream",
          "name": "stdout",
          "text": [
            "Added sample: image_id=2009.08965v3, question=Which model and corruption type combination result...\n",
            "Matched via: image_id\n"
          ]
        },
        {
          "output_type": "stream",
          "name": "stderr",
          "text": [
            "\rProcessing images:   1%|▏         | 340/24398 [04:15<5:21:29,  1.25it/s]"
          ]
        },
        {
          "output_type": "stream",
          "name": "stdout",
          "text": [
            "Added sample: image_id=2009.08965v3, question=Which architecture has the highest accuracy on Ima...\n",
            "Matched via: image_id\n"
          ]
        },
        {
          "output_type": "stream",
          "name": "stderr",
          "text": [
            "\rProcessing images:   1%|▏         | 341/24398 [04:15<5:29:19,  1.22it/s]"
          ]
        },
        {
          "output_type": "stream",
          "name": "stdout",
          "text": [
            "Added sample: image_id=2009.08965v3, question=Which pair of datasets has the highest feature div...\n",
            "Matched via: image_id\n"
          ]
        },
        {
          "output_type": "stream",
          "name": "stderr",
          "text": [
            "\rProcessing images:   1%|▏         | 342/24398 [04:16<5:23:54,  1.24it/s]"
          ]
        },
        {
          "output_type": "stream",
          "name": "stdout",
          "text": [
            "Added sample: image_id=2009.08965v3, question=What is the effect of AdvBN on the images?...\n",
            "Matched via: image_id\n"
          ]
        },
        {
          "output_type": "stream",
          "name": "stderr",
          "text": [
            "\rProcessing images:   1%|▏         | 343/24398 [04:17<5:01:37,  1.33it/s]"
          ]
        },
        {
          "output_type": "stream",
          "name": "stdout",
          "text": [
            "Added sample: image_id=2009.08965v3, question=What is the effect of increasing the number of PGD...\n",
            "Matched via: image_id\n"
          ]
        },
        {
          "output_type": "stream",
          "name": "stderr",
          "text": [
            "\rProcessing images:   1%|▏         | 344/24398 [04:18<5:03:07,  1.32it/s]"
          ]
        },
        {
          "output_type": "stream",
          "name": "stdout",
          "text": [
            "Added sample: image_id=2009.08965v3, question=Which image shows the most difficult driving condi...\n",
            "Matched via: image_id\n"
          ]
        },
        {
          "output_type": "stream",
          "name": "stderr",
          "text": [
            "\rProcessing images:   1%|▏         | 345/24398 [04:18<4:56:47,  1.35it/s]"
          ]
        },
        {
          "output_type": "stream",
          "name": "stdout",
          "text": [
            "Added sample: image_id=2009.08965v3, question=Which training method achieved the highest mean Io...\n",
            "Matched via: image_id\n"
          ]
        },
        {
          "output_type": "stream",
          "name": "stderr",
          "text": [
            "\rProcessing images:   1%|▏         | 346/24398 [04:19<5:02:19,  1.33it/s]"
          ]
        },
        {
          "output_type": "stream",
          "name": "stdout",
          "text": [
            "Added sample: image_id=2009.08229v2, question=What is the difference between a linear-chain CRF ...\n",
            "Matched via: image_id\n"
          ]
        },
        {
          "output_type": "stream",
          "name": "stderr",
          "text": [
            "\rProcessing images:   1%|▏         | 347/24398 [04:20<4:51:17,  1.38it/s]"
          ]
        },
        {
          "output_type": "stream",
          "name": "stdout",
          "text": [
            "Added sample: image_id=2009.08229v2, question=Which treebank is used for UD POS tagging in Itali...\n",
            "Matched via: image_id\n"
          ]
        },
        {
          "output_type": "stream",
          "name": "stderr",
          "text": [
            "\rProcessing images:   1%|▏         | 348/24398 [04:20<4:49:16,  1.39it/s]"
          ]
        },
        {
          "output_type": "stream",
          "name": "stdout",
          "text": [
            "Added sample: image_id=2009.08229v2, question=What is the difference between the Viterbi decodin...\n",
            "Matched via: image_id\n"
          ]
        },
        {
          "output_type": "stream",
          "name": "stderr",
          "text": [
            "\rProcessing images:   1%|▏         | 349/24398 [04:21<5:00:56,  1.33it/s]"
          ]
        },
        {
          "output_type": "stream",
          "name": "stdout",
          "text": [
            "Added sample: image_id=2009.08229v2, question=Which model performs the best on POS tagging for t...\n",
            "Matched via: image_id\n"
          ]
        },
        {
          "output_type": "stream",
          "name": "stderr",
          "text": [
            "\rProcessing images:   1%|▏         | 350/24398 [04:22<4:53:53,  1.36it/s]"
          ]
        },
        {
          "output_type": "stream",
          "name": "stdout",
          "text": [
            "Added sample: image_id=2009.08229v2, question=Which model performs best on average across all la...\n",
            "Matched via: image_id\n"
          ]
        },
        {
          "output_type": "stream",
          "name": "stderr",
          "text": [
            "\rProcessing images:   1%|▏         | 351/24398 [04:23<4:46:55,  1.40it/s]"
          ]
        },
        {
          "output_type": "stream",
          "name": "stdout",
          "text": [
            "Added sample: image_id=2009.08229v2, question=Which model is the fastest for training with 32 wo...\n",
            "Matched via: image_id\n"
          ]
        },
        {
          "output_type": "stream",
          "name": "stderr",
          "text": [
            "\rProcessing images:   1%|▏         | 352/24398 [04:23<5:00:31,  1.33it/s]"
          ]
        },
        {
          "output_type": "stream",
          "name": "stdout",
          "text": [
            "Added sample: image_id=2009.08229v2, question=Which model performed the best on the NER task?...\n",
            "Matched via: image_id\n"
          ]
        },
        {
          "output_type": "stream",
          "name": "stderr",
          "text": [
            "\rProcessing images:   1%|▏         | 353/24398 [04:24<4:56:48,  1.35it/s]"
          ]
        },
        {
          "output_type": "stream",
          "name": "stdout",
          "text": [
            "Added sample: image_id=2009.08697v2, question=What is the effect of increasing the γ value on th...\n",
            "Matched via: image_id\n"
          ]
        },
        {
          "output_type": "stream",
          "name": "stderr",
          "text": [
            "\rProcessing images:   1%|▏         | 354/24398 [04:25<4:50:46,  1.38it/s]"
          ]
        },
        {
          "output_type": "stream",
          "name": "stdout",
          "text": [
            "Added sample: image_id=2009.08697v2, question=Which augmentation technique is most effective aga...\n",
            "Matched via: image_id\n"
          ]
        },
        {
          "output_type": "stream",
          "name": "stderr",
          "text": [
            "\rProcessing images:   1%|▏         | 355/24398 [04:26<4:52:24,  1.37it/s]"
          ]
        },
        {
          "output_type": "stream",
          "name": "stdout",
          "text": [
            "Added sample: image_id=2009.08697v2, question=What is the effect of increasing the number of unl...\n",
            "Matched via: image_id\n"
          ]
        },
        {
          "output_type": "stream",
          "name": "stderr",
          "text": [
            "\rProcessing images:   1%|▏         | 356/24398 [04:26<4:45:46,  1.40it/s]"
          ]
        },
        {
          "output_type": "stream",
          "name": "stdout",
          "text": [
            "Added sample: image_id=2009.08697v2, question=Which method is most effective at removing waterma...\n",
            "Matched via: image_id\n"
          ]
        },
        {
          "output_type": "stream",
          "name": "stderr",
          "text": [
            "\rProcessing images:   1%|▏         | 357/24398 [04:27<4:55:08,  1.36it/s]"
          ]
        },
        {
          "output_type": "stream",
          "name": "stdout",
          "text": [
            "Added sample: image_id=2009.08697v2, question=What is the purpose of the watermark samples?...\n",
            "Matched via: image_id\n"
          ]
        },
        {
          "output_type": "stream",
          "name": "stderr",
          "text": [
            "\rProcessing images:   1%|▏         | 358/24398 [04:28<4:46:38,  1.40it/s]"
          ]
        },
        {
          "output_type": "stream",
          "name": "stdout",
          "text": [
            "Added sample: image_id=2009.08697v2, question= What are the steps involved in the proposed attac...\n",
            "Matched via: image_id\n"
          ]
        },
        {
          "output_type": "stream",
          "name": "stderr",
          "text": [
            "\rProcessing images:   1%|▏         | 359/24398 [04:28<4:45:39,  1.40it/s]"
          ]
        },
        {
          "output_type": "stream",
          "name": "stdout",
          "text": [
            "Added sample: image_id=2009.09318v2, question= Which image shows the most deformation?...\n",
            "Matched via: image_id\n"
          ]
        },
        {
          "output_type": "stream",
          "name": "stderr",
          "text": [
            "\rProcessing images:   1%|▏         | 360/24398 [04:29<4:55:16,  1.36it/s]"
          ]
        },
        {
          "output_type": "stream",
          "name": "stdout",
          "text": [
            "Added sample: image_id=2009.09318v2, question=Which model achieved the highest accuracy on the M...\n",
            "Matched via: image_id\n"
          ]
        },
        {
          "output_type": "stream",
          "name": "stderr",
          "text": [
            "\rProcessing images:   1%|▏         | 361/24398 [04:30<5:15:39,  1.27it/s]"
          ]
        },
        {
          "output_type": "stream",
          "name": "stdout",
          "text": [
            "Added sample: image_id=2009.09318v2, question=What is the effect of increasing the flow paramete...\n",
            "Matched via: image_id\n"
          ]
        },
        {
          "output_type": "stream",
          "name": "stderr",
          "text": [
            "\rProcessing images:   1%|▏         | 362/24398 [04:31<5:06:57,  1.31it/s]"
          ]
        },
        {
          "output_type": "stream",
          "name": "stdout",
          "text": [
            "Added sample: image_id=2009.09318v2, question=Which algorithm and norm combination resulted in t...\n",
            "Matched via: image_id\n"
          ]
        },
        {
          "output_type": "stream",
          "name": "stderr",
          "text": [
            "\rProcessing images:   1%|▏         | 363/24398 [04:32<4:55:14,  1.36it/s]"
          ]
        },
        {
          "output_type": "stream",
          "name": "stdout",
          "text": [
            "Added sample: image_id=2009.09318v2, question=What is the certification rate of DEEPPOly with th...\n",
            "Matched via: image_id\n"
          ]
        },
        {
          "output_type": "stream",
          "name": "stderr",
          "text": [
            "\rProcessing images:   1%|▏         | 364/24398 [04:32<4:59:27,  1.34it/s]"
          ]
        },
        {
          "output_type": "stream",
          "name": "stdout",
          "text": [
            "Added sample: image_id=2009.09318v2, question=What are the inputs to the neural network shown in...\n",
            "Matched via: image_id\n"
          ]
        },
        {
          "output_type": "stream",
          "name": "stderr",
          "text": [
            "\rProcessing images:   1%|▏         | 365/24398 [04:33<5:19:58,  1.25it/s]"
          ]
        },
        {
          "output_type": "stream",
          "name": "stdout",
          "text": [
            "Added sample: image_id=2009.09318v2, question=What is the effect of decreasing the flow paramete...\n",
            "Matched via: image_id\n"
          ]
        },
        {
          "output_type": "stream",
          "name": "stderr",
          "text": [
            "\rProcessing images:   2%|▏         | 366/24398 [04:34<5:08:38,  1.30it/s]"
          ]
        },
        {
          "output_type": "stream",
          "name": "stdout",
          "text": [
            "Added sample: image_id=2009.09318v2, question=What is the average running time for certification...\n",
            "Matched via: image_id\n"
          ]
        },
        {
          "output_type": "stream",
          "name": "stderr",
          "text": [
            "\rProcessing images:   2%|▏         | 367/24398 [04:35<5:06:23,  1.31it/s]"
          ]
        },
        {
          "output_type": "stream",
          "name": "stdout",
          "text": [
            "Added sample: image_id=2009.09318v2, question=What are the potential extrema of bilinear interpo...\n",
            "Matched via: image_id\n"
          ]
        },
        {
          "output_type": "stream",
          "name": "stderr",
          "text": [
            "\rProcessing images:   2%|▏         | 368/24398 [04:35<4:52:56,  1.37it/s]"
          ]
        },
        {
          "output_type": "stream",
          "name": "stdout",
          "text": [
            "Added sample: image_id=2009.08454v3, question=Which method has a lower reconstruction loss?...\n",
            "Matched via: image_id\n"
          ]
        },
        {
          "output_type": "stream",
          "name": "stderr",
          "text": [
            "\rProcessing images:   2%|▏         | 369/24398 [04:36<4:49:29,  1.38it/s]"
          ]
        },
        {
          "output_type": "stream",
          "name": "stdout",
          "text": [
            "Added sample: image_id=2009.08454v3, question=What is the effect of increasing the value of c on...\n",
            "Matched via: image_id\n"
          ]
        },
        {
          "output_type": "stream",
          "name": "stderr",
          "text": [
            "\rProcessing images:   2%|▏         | 370/24398 [04:37<4:51:27,  1.37it/s]"
          ]
        },
        {
          "output_type": "stream",
          "name": "stdout",
          "text": [
            "Added sample: image_id=2009.08454v3, question=Which of the two images shows a more extreme rainf...\n",
            "Matched via: image_id\n"
          ]
        },
        {
          "output_type": "stream",
          "name": "stderr",
          "text": [
            "\rProcessing images:   2%|▏         | 371/24398 [04:38<5:00:50,  1.33it/s]"
          ]
        },
        {
          "output_type": "stream",
          "name": "stdout",
          "text": [
            "Added sample: image_id=2009.08454v3, question=How does the sampling time of DCGAN and ExGAN comp...\n",
            "Matched via: image_id\n"
          ]
        },
        {
          "output_type": "stream",
          "name": "stderr",
          "text": [
            "\rProcessing images:   2%|▏         | 372/24398 [04:38<5:11:18,  1.29it/s]"
          ]
        },
        {
          "output_type": "stream",
          "name": "stdout",
          "text": [
            "Added sample: image_id=2009.08454v3, question=What is the relationship between the extremeness p...\n",
            "Matched via: image_id\n"
          ]
        },
        {
          "output_type": "stream",
          "name": "stderr",
          "text": [
            "\rProcessing images:   2%|▏         | 373/24398 [04:39<5:20:49,  1.25it/s]"
          ]
        },
        {
          "output_type": "stream",
          "name": "stdout",
          "text": [
            "Added sample: image_id=2009.08454v3, question=What is the output size of the fourth layer in the...\n",
            "Matched via: image_id\n"
          ]
        },
        {
          "output_type": "stream",
          "name": "stderr",
          "text": [
            "\rProcessing images:   2%|▏         | 374/24398 [04:40<5:11:25,  1.29it/s]"
          ]
        },
        {
          "output_type": "stream",
          "name": "stdout",
          "text": [
            "Added sample: image_id=2009.08454v3, question=What is the output size of the third layer of the ...\n",
            "Matched via: image_id\n"
          ]
        },
        {
          "output_type": "stream",
          "name": "stderr",
          "text": [
            "\rProcessing images:   2%|▏         | 375/24398 [04:41<5:01:15,  1.33it/s]"
          ]
        },
        {
          "output_type": "stream",
          "name": "stdout",
          "text": [
            "Added sample: image_id=2009.08454v3, question=What is the output size of the third layer in the ...\n",
            "Matched via: image_id\n"
          ]
        },
        {
          "output_type": "stream",
          "name": "stderr",
          "text": [
            "\rProcessing images:   2%|▏         | 376/24398 [04:41<4:54:51,  1.36it/s]"
          ]
        },
        {
          "output_type": "stream",
          "name": "stdout",
          "text": [
            "Added sample: image_id=2009.08454v3, question=What is the output size of the first linear layer ...\n",
            "Matched via: image_id\n"
          ]
        },
        {
          "output_type": "stream",
          "name": "stderr",
          "text": [
            "\rProcessing images:   2%|▏         | 377/24398 [04:42<4:43:39,  1.41it/s]"
          ]
        },
        {
          "output_type": "stream",
          "name": "stdout",
          "text": [
            "Added sample: image_id=2009.08454v3, question=What is the output size of the fourth layer in the...\n",
            "Matched via: image_id\n"
          ]
        },
        {
          "output_type": "stream",
          "name": "stderr",
          "text": [
            "\rProcessing images:   2%|▏         | 378/24398 [04:43<5:02:45,  1.32it/s]"
          ]
        },
        {
          "output_type": "stream",
          "name": "stdout",
          "text": [
            "Added sample: image_id=2009.08454v3, question=What is the difference between the rainfall patter...\n",
            "Matched via: image_id\n"
          ]
        },
        {
          "output_type": "stream",
          "name": "stderr",
          "text": [
            "\rProcessing images:   2%|▏         | 379/24398 [04:44<5:10:43,  1.29it/s]"
          ]
        },
        {
          "output_type": "stream",
          "name": "stdout",
          "text": [
            "Added sample: image_id=2009.07602v1, question=Which of the generated stories is most similar to ...\n",
            "Matched via: image_id\n"
          ]
        },
        {
          "output_type": "stream",
          "name": "stderr",
          "text": [
            "\rProcessing images:   2%|▏         | 380/24398 [04:44<5:01:22,  1.33it/s]"
          ]
        },
        {
          "output_type": "stream",
          "name": "stdout",
          "text": [
            "Added sample: image_id=2009.07602v1, question=What is the difference between DisScore and RUBERu...\n",
            "Matched via: image_id\n"
          ]
        },
        {
          "output_type": "stream",
          "name": "stderr",
          "text": [
            "\rProcessing images:   2%|▏         | 381/24398 [04:45<4:50:31,  1.38it/s]"
          ]
        },
        {
          "output_type": "stream",
          "name": "stdout",
          "text": [
            "Added sample: image_id=2009.07602v1, question=Which of the generated samples is most likely to b...\n",
            "Matched via: image_id\n"
          ]
        },
        {
          "output_type": "stream",
          "name": "stderr",
          "text": [
            "\rProcessing images:   2%|▏         | 382/24398 [04:46<4:52:26,  1.37it/s]"
          ]
        },
        {
          "output_type": "stream",
          "name": "stdout",
          "text": [
            "Added sample: image_id=2009.07602v1, question=Which metric has the highest correlation with huma...\n",
            "Matched via: image_id\n"
          ]
        },
        {
          "output_type": "stream",
          "name": "stderr",
          "text": [
            "\rProcessing images:   2%|▏         | 383/24398 [04:47<4:53:33,  1.36it/s]"
          ]
        },
        {
          "output_type": "stream",
          "name": "stdout",
          "text": [
            "Added sample: image_id=2009.07602v1, question=Which metric performs best on the test set when tr...\n",
            "Matched via: image_id\n"
          ]
        },
        {
          "output_type": "stream",
          "name": "stderr",
          "text": [
            "\rProcessing images:   2%|▏         | 384/24398 [04:47<4:51:55,  1.37it/s]"
          ]
        },
        {
          "output_type": "stream",
          "name": "stdout",
          "text": [
            "Added sample: image_id=2009.07602v1, question=What is the most common score for ROCStories?...\n",
            "Matched via: image_id\n"
          ]
        },
        {
          "output_type": "stream",
          "name": "stderr",
          "text": [
            "\rProcessing images:   2%|▏         | 385/24398 [04:48<4:56:01,  1.35it/s]"
          ]
        },
        {
          "output_type": "stream",
          "name": "stdout",
          "text": [
            "Added sample: image_id=2009.07602v1, question=What are the four error types in the generated sam...\n",
            "Matched via: image_id\n"
          ]
        },
        {
          "output_type": "stream",
          "name": "stderr",
          "text": [
            "\rProcessing images:   2%|▏         | 386/24398 [04:49<5:07:48,  1.30it/s]"
          ]
        },
        {
          "output_type": "stream",
          "name": "stdout",
          "text": [
            "Added sample: image_id=2009.07602v1, question=What are the four negative sampling techniques use...\n",
            "Matched via: image_id\n"
          ]
        },
        {
          "output_type": "stream",
          "name": "stderr",
          "text": [
            "\rProcessing images:   2%|▏         | 387/24398 [04:50<4:55:17,  1.36it/s]"
          ]
        },
        {
          "output_type": "stream",
          "name": "stdout",
          "text": [
            "Added sample: image_id=2009.07602v1, question=What are the different types of errors that can be...\n",
            "Matched via: image_id\n"
          ]
        },
        {
          "output_type": "stream",
          "name": "stderr",
          "text": [
            "\rProcessing images:   2%|▏         | 388/24398 [04:50<5:14:58,  1.27it/s]"
          ]
        },
        {
          "output_type": "stream",
          "name": "stdout",
          "text": [
            "Added sample: image_id=2009.07602v1, question=Which negative sampling technique results in the l...\n",
            "Matched via: image_id\n"
          ]
        },
        {
          "output_type": "stream",
          "name": "stderr",
          "text": [
            "\rProcessing images:   2%|▏         | 389/24398 [04:51<4:54:34,  1.36it/s]"
          ]
        },
        {
          "output_type": "stream",
          "name": "stdout",
          "text": [
            "Added sample: image_id=2009.07602v1, question=Which metric has the highest correlation with huma...\n",
            "Matched via: image_id\n"
          ]
        },
        {
          "output_type": "stream",
          "name": "stderr",
          "text": [
            "\rProcessing images:   2%|▏         | 390/24398 [04:52<5:06:33,  1.31it/s]"
          ]
        },
        {
          "output_type": "stream",
          "name": "stdout",
          "text": [
            "Added sample: image_id=2009.07602v1, question=Which error type is the most common in the 381 unr...\n",
            "Matched via: image_id\n"
          ]
        },
        {
          "output_type": "stream",
          "name": "stderr",
          "text": [
            "\rProcessing images:   2%|▏         | 391/24398 [04:53<5:05:08,  1.31it/s]"
          ]
        },
        {
          "output_type": "stream",
          "name": "stdout",
          "text": [
            "Added sample: image_id=2009.07602v1, question=What is the difference between the rules for negat...\n",
            "Matched via: image_id\n"
          ]
        },
        {
          "output_type": "stream",
          "name": "stderr",
          "text": [
            "\rProcessing images:   2%|▏         | 392/24398 [04:53<4:59:10,  1.34it/s]"
          ]
        },
        {
          "output_type": "stream",
          "name": "stdout",
          "text": [
            "Added sample: image_id=2009.07602v1, question=Which story sample has the highest score for coher...\n",
            "Matched via: image_id\n"
          ]
        },
        {
          "output_type": "stream",
          "name": "stderr",
          "text": [
            "\rProcessing images:   2%|▏         | 393/24398 [04:54<4:58:52,  1.34it/s]"
          ]
        },
        {
          "output_type": "stream",
          "name": "stdout",
          "text": [
            "Added sample: image_id=2009.07602v1, question=What is the difference between the reference text ...\n",
            "Matched via: image_id\n"
          ]
        },
        {
          "output_type": "stream",
          "name": "stderr",
          "text": [
            "\rProcessing images:   2%|▏         | 394/24398 [04:55<4:44:45,  1.40it/s]"
          ]
        },
        {
          "output_type": "stream",
          "name": "stdout",
          "text": [
            "Added sample: image_id=2009.07526v2, question=How does the proposed cognition tree loss in (b) d...\n",
            "Matched via: image_id\n"
          ]
        },
        {
          "output_type": "stream",
          "name": "stderr",
          "text": [
            "\rProcessing images:   2%|▏         | 395/24398 [04:56<6:22:12,  1.05it/s]"
          ]
        },
        {
          "output_type": "stream",
          "name": "stdout",
          "text": [
            "Added sample: image_id=2009.07526v2, question= What is the effect of increasing the balancing we...\n",
            "Matched via: image_id\n"
          ]
        },
        {
          "output_type": "stream",
          "name": "stderr",
          "text": [
            "\rProcessing images:   2%|▏         | 396/24398 [04:57<5:46:59,  1.15it/s]"
          ]
        },
        {
          "output_type": "stream",
          "name": "stdout",
          "text": [
            "Added sample: image_id=2009.07526v2, question=Which model is more accurate in predicting the rel...\n",
            "Matched via: image_id\n"
          ]
        },
        {
          "output_type": "stream",
          "name": "stderr",
          "text": [
            "\rProcessing images:   2%|▏         | 397/24398 [04:58<5:15:14,  1.27it/s]"
          ]
        },
        {
          "output_type": "stream",
          "name": "stdout",
          "text": [
            "Added sample: image_id=2009.07526v2, question=Which step of the process does the Debiasing CogTr...\n",
            "Matched via: image_id\n"
          ]
        },
        {
          "output_type": "stream",
          "name": "stderr",
          "text": [
            "\rProcessing images:   2%|▏         | 398/24398 [04:58<4:58:27,  1.34it/s]"
          ]
        },
        {
          "output_type": "stream",
          "name": "stdout",
          "text": [
            "Added sample: image_id=2009.07526v2, question=What are the three components of the multi-head at...\n",
            "Matched via: image_id\n"
          ]
        },
        {
          "output_type": "stream",
          "name": "stderr",
          "text": [
            "\rProcessing images:   2%|▏         | 399/24398 [04:59<4:50:06,  1.38it/s]"
          ]
        },
        {
          "output_type": "stream",
          "name": "stdout",
          "text": [
            "Added sample: image_id=2009.07526v2, question= What is the relationship between the concepts \"on...\n",
            "Matched via: image_id\n"
          ]
        },
        {
          "output_type": "stream",
          "name": "stderr",
          "text": [
            "\rProcessing images:   2%|▏         | 400/24398 [05:00<5:31:43,  1.21it/s]"
          ]
        },
        {
          "output_type": "stream",
          "name": "stdout",
          "text": [
            "Added sample: image_id=2009.07526v2, question=Which model performs better at predicting relation...\n",
            "Matched via: image_id\n"
          ]
        },
        {
          "output_type": "stream",
          "name": "stderr",
          "text": [
            "\rProcessing images:   2%|▏         | 401/24398 [05:01<5:55:00,  1.13it/s]"
          ]
        },
        {
          "output_type": "stream",
          "name": "stdout",
          "text": [
            "Added sample: image_id=2009.07526v2, question=Which loss function performs the best on the PredC...\n",
            "Matched via: image_id\n"
          ]
        },
        {
          "output_type": "stream",
          "name": "stderr",
          "text": [
            "\rProcessing images:   2%|▏         | 402/24398 [05:02<5:25:19,  1.23it/s]"
          ]
        },
        {
          "output_type": "stream",
          "name": "stdout",
          "text": [
            "Added sample: image_id=2009.07526v2, question=Which model achieved the best performance on the P...\n",
            "Matched via: image_id\n"
          ]
        },
        {
          "output_type": "stream",
          "name": "stderr",
          "text": [
            "\rProcessing images:   2%|▏         | 403/24398 [05:02<5:28:48,  1.22it/s]"
          ]
        },
        {
          "output_type": "stream",
          "name": "stdout",
          "text": [
            "Added sample: image_id=2009.07526v2, question=What is the best performing method on the MOTIFS d...\n",
            "Matched via: image_id\n"
          ]
        },
        {
          "output_type": "stream",
          "name": "stderr",
          "text": [
            "\rProcessing images:   2%|▏         | 404/24398 [05:03<5:18:24,  1.26it/s]"
          ]
        },
        {
          "output_type": "stream",
          "name": "stdout",
          "text": [
            "Added sample: image_id=2009.07453v2, question=Which model has the highest BLEU score for beam si...\n",
            "Matched via: image_id\n"
          ]
        },
        {
          "output_type": "stream",
          "name": "stderr",
          "text": [
            "\rProcessing images:   2%|▏         | 405/24398 [05:04<5:03:30,  1.32it/s]"
          ]
        },
        {
          "output_type": "stream",
          "name": "stdout",
          "text": [
            "Added sample: image_id=2009.07453v2, question=Which of the two sources is more likely to be bias...\n",
            "Matched via: image_id\n"
          ]
        },
        {
          "output_type": "stream",
          "name": "stderr",
          "text": [
            "\rProcessing images:   2%|▏         | 406/24398 [05:05<4:58:00,  1.34it/s]"
          ]
        },
        {
          "output_type": "stream",
          "name": "stdout",
          "text": [
            "Added sample: image_id=2009.07453v2, question=Which component of the translation system requires...\n",
            "Matched via: image_id\n"
          ]
        },
        {
          "output_type": "stream",
          "name": "stderr",
          "text": [
            "\rProcessing images:   2%|▏         | 407/24398 [05:05<4:52:15,  1.37it/s]"
          ]
        },
        {
          "output_type": "stream",
          "name": "stdout",
          "text": [
            "Added sample: image_id=2009.07453v2, question=What is the average latency of the 2.5, 1.8, 3.7 m...\n",
            "Matched via: image_id\n"
          ]
        },
        {
          "output_type": "stream",
          "name": "stderr",
          "text": [
            "\rProcessing images:   2%|▏         | 408/24398 [05:06<4:57:20,  1.34it/s]"
          ]
        },
        {
          "output_type": "stream",
          "name": "stdout",
          "text": [
            "Added sample: image_id=2009.07453v2, question=What is the latency contribution of the 2-bit base...\n",
            "Matched via: image_id\n"
          ]
        },
        {
          "output_type": "stream",
          "name": "stderr",
          "text": [
            "\rProcessing images:   2%|▏         | 409/24398 [05:07<4:49:43,  1.38it/s]"
          ]
        },
        {
          "output_type": "stream",
          "name": "stdout",
          "text": [
            "Added sample: image_id=2009.07453v2, question=Which model achieved the highest BLEU score on the...\n",
            "Matched via: image_id\n"
          ]
        },
        {
          "output_type": "stream",
          "name": "stderr",
          "text": [
            "\rProcessing images:   2%|▏         | 410/24398 [05:07<4:43:56,  1.41it/s]"
          ]
        },
        {
          "output_type": "stream",
          "name": "stdout",
          "text": [
            "Added sample: image_id=2009.07453v2, question=What are the values of the binary code weights for...\n",
            "Matched via: image_id\n"
          ]
        },
        {
          "output_type": "stream",
          "name": "stderr",
          "text": [
            "\rProcessing images:   2%|▏         | 411/24398 [05:08<4:41:16,  1.42it/s]"
          ]
        },
        {
          "output_type": "stream",
          "name": "stdout",
          "text": [
            "Added sample: image_id=2009.07453v2, question=What is the relationship between word frequency an...\n",
            "Matched via: image_id\n"
          ]
        },
        {
          "output_type": "stream",
          "name": "stderr",
          "text": [
            "\rProcessing images:   2%|▏         | 412/24398 [05:09<4:40:02,  1.43it/s]"
          ]
        },
        {
          "output_type": "stream",
          "name": "stdout",
          "text": [
            "Added sample: image_id=2009.07453v2, question=What is the difference between the full-precision ...\n",
            "Matched via: image_id\n"
          ]
        },
        {
          "output_type": "stream",
          "name": "stderr",
          "text": [
            "\rProcessing images:   2%|▏         | 413/24398 [05:10<4:44:08,  1.41it/s]"
          ]
        },
        {
          "output_type": "stream",
          "name": "stdout",
          "text": [
            "Added sample: image_id=2009.07453v2, question=Which quantization method has the highest BLEU sco...\n",
            "Matched via: image_id\n"
          ]
        },
        {
          "output_type": "stream",
          "name": "stderr",
          "text": [
            "\rProcessing images:   2%|▏         | 414/24398 [05:10<4:45:19,  1.40it/s]"
          ]
        },
        {
          "output_type": "stream",
          "name": "stdout",
          "text": [
            "Added sample: image_id=2009.07453v2, question=Which method performs better in terms of BLEU scor...\n",
            "Matched via: image_id\n"
          ]
        },
        {
          "output_type": "stream",
          "name": "stderr",
          "text": [
            "\rProcessing images:   2%|▏         | 415/24398 [05:11<4:45:04,  1.40it/s]"
          ]
        },
        {
          "output_type": "stream",
          "name": "stdout",
          "text": [
            "Added sample: image_id=2009.07453v2, question=Which translation direction has the most training ...\n",
            "Matched via: image_id\n"
          ]
        },
        {
          "output_type": "stream",
          "name": "stderr",
          "text": [
            "\rProcessing images:   2%|▏         | 416/24398 [05:12<4:57:49,  1.34it/s]"
          ]
        },
        {
          "output_type": "stream",
          "name": "stdout",
          "text": [
            "Added sample: image_id=2009.07453v2, question=Which block or sub-layer type has the largest aver...\n",
            "Matched via: image_id\n"
          ]
        },
        {
          "output_type": "stream",
          "name": "stderr",
          "text": [
            "\rProcessing images:   2%|▏         | 417/24398 [05:12<4:53:48,  1.36it/s]"
          ]
        },
        {
          "output_type": "stream",
          "name": "stdout",
          "text": [
            "Added sample: image_id=2009.07111v2, question=Which method performs best with a label rate of 0....\n",
            "Matched via: image_id\n"
          ]
        },
        {
          "output_type": "stream",
          "name": "stderr",
          "text": [
            "\rProcessing images:   2%|▏         | 418/24398 [05:13<4:55:01,  1.35it/s]"
          ]
        },
        {
          "output_type": "stream",
          "name": "stdout",
          "text": [
            "Added sample: image_id=2009.07111v2, question=Which model performs best at the lowest label rate...\n",
            "Matched via: image_id\n"
          ]
        },
        {
          "output_type": "stream",
          "name": "stderr",
          "text": [
            "\rProcessing images:   2%|▏         | 419/24398 [05:14<4:49:04,  1.38it/s]"
          ]
        },
        {
          "output_type": "stream",
          "name": "stdout",
          "text": [
            "Added sample: image_id=2009.07111v2, question=Which of the CG3 models performed the best on the ...\n",
            "Matched via: image_id\n"
          ]
        },
        {
          "output_type": "stream",
          "name": "stderr",
          "text": [
            "\rProcessing images:   2%|▏         | 420/24398 [05:15<4:53:37,  1.36it/s]"
          ]
        },
        {
          "output_type": "stream",
          "name": "stdout",
          "text": [
            "Added sample: image_id=2009.07111v2, question=Which method seems to have achieved the best separ...\n",
            "Matched via: image_id\n"
          ]
        },
        {
          "output_type": "stream",
          "name": "stderr",
          "text": [
            "\rProcessing images:   2%|▏         | 421/24398 [05:15<4:45:58,  1.40it/s]"
          ]
        },
        {
          "output_type": "stream",
          "name": "stdout",
          "text": [
            "Added sample: image_id=2009.07111v2, question=Which dataset has the most classes?...\n",
            "Matched via: image_id\n"
          ]
        },
        {
          "output_type": "stream",
          "name": "stderr",
          "text": [
            "\rProcessing images:   2%|▏         | 422/24398 [05:16<4:43:35,  1.41it/s]"
          ]
        },
        {
          "output_type": "stream",
          "name": "stdout",
          "text": [
            "Added sample: image_id=2009.07111v2, question=What is the difference between supervised and unsu...\n",
            "Matched via: image_id\n"
          ]
        },
        {
          "output_type": "stream",
          "name": "stderr",
          "text": [
            "\rProcessing images:   2%|▏         | 423/24398 [05:17<4:34:33,  1.46it/s]"
          ]
        },
        {
          "output_type": "stream",
          "name": "stdout",
          "text": [
            "Added sample: image_id=2009.07111v2, question=Which model performs the best at each label rate?...\n",
            "Matched via: image_id\n"
          ]
        },
        {
          "output_type": "stream",
          "name": "stderr",
          "text": [
            "\rProcessing images:   2%|▏         | 424/24398 [05:17<4:39:20,  1.43it/s]"
          ]
        },
        {
          "output_type": "stream",
          "name": "stdout",
          "text": [
            "Added sample: image_id=2009.07111v2, question=Which method achieved the highest classification a...\n",
            "Matched via: image_id\n"
          ]
        },
        {
          "output_type": "stream",
          "name": "stderr",
          "text": [
            "\rProcessing images:   2%|▏         | 425/24398 [05:18<4:38:45,  1.43it/s]"
          ]
        },
        {
          "output_type": "stream",
          "name": "stdout",
          "text": [
            "Added sample: image_id=2009.07111v2, question=What are the two types of graph convolutional netw...\n",
            "Matched via: image_id\n"
          ]
        },
        {
          "output_type": "stream",
          "name": "stderr",
          "text": [
            "\rProcessing images:   2%|▏         | 426/24398 [05:19<4:35:55,  1.45it/s]"
          ]
        },
        {
          "output_type": "stream",
          "name": "stdout",
          "text": [
            "Added sample: image_id=2009.08052v1, question=Which route has the most traffic during the 8-9 a....\n",
            "Matched via: image_id\n"
          ]
        },
        {
          "output_type": "stream",
          "name": "stderr",
          "text": [
            "\rProcessing images:   2%|▏         | 427/24398 [05:19<4:33:24,  1.46it/s]"
          ]
        },
        {
          "output_type": "stream",
          "name": "stdout",
          "text": [
            "Added sample: image_id=2009.08052v1, question=What is the purpose of the clustering step in the ...\n",
            "Matched via: image_id\n"
          ]
        },
        {
          "output_type": "stream",
          "name": "stderr",
          "text": [
            "\rProcessing images:   2%|▏         | 428/24398 [05:20<4:36:33,  1.44it/s]"
          ]
        },
        {
          "output_type": "stream",
          "name": "stdout",
          "text": [
            "Added sample: image_id=2009.08052v1, question=Which route has the most consistent traffic flow t...\n",
            "Matched via: image_id\n"
          ]
        },
        {
          "output_type": "stream",
          "name": "stderr",
          "text": [
            "\rProcessing images:   2%|▏         | 429/24398 [05:21<4:35:24,  1.45it/s]"
          ]
        },
        {
          "output_type": "stream",
          "name": "stdout",
          "text": [
            "Added sample: image_id=2009.08052v1, question=What is the effect of increasing the W-dis paramet...\n",
            "Matched via: image_id\n"
          ]
        },
        {
          "output_type": "stream",
          "name": "stderr",
          "text": [
            "\rProcessing images:   2%|▏         | 430/24398 [05:22<5:03:07,  1.32it/s]"
          ]
        },
        {
          "output_type": "stream",
          "name": "stdout",
          "text": [
            "Added sample: image_id=2009.08052v1, question=Which cluster is most likely to be predicted at ti...\n",
            "Matched via: image_id\n"
          ]
        },
        {
          "output_type": "stream",
          "name": "stderr",
          "text": [
            "\rProcessing images:   2%|▏         | 431/24398 [05:23<5:16:44,  1.26it/s]"
          ]
        },
        {
          "output_type": "stream",
          "name": "stdout",
          "text": [
            "Added sample: image_id=2009.08052v1, question= How does the real-time vehicle count in the whole...\n",
            "Matched via: image_id\n"
          ]
        },
        {
          "output_type": "stream",
          "name": "stderr",
          "text": [
            "\rProcessing images:   2%|▏         | 432/24398 [05:23<5:03:37,  1.32it/s]"
          ]
        },
        {
          "output_type": "stream",
          "name": "stdout",
          "text": [
            "Added sample: image_id=2009.08052v1, question=Which algorithm has the lowest average travel time...\n",
            "Matched via: image_id\n"
          ]
        },
        {
          "output_type": "stream",
          "name": "stderr",
          "text": [
            "\rProcessing images:   2%|▏         | 433/24398 [05:24<5:02:30,  1.32it/s]"
          ]
        },
        {
          "output_type": "stream",
          "name": "stdout",
          "text": [
            "Added sample: image_id=2009.08052v1, question=Which algorithm performs the best in terms of maxi...\n",
            "Matched via: image_id\n"
          ]
        },
        {
          "output_type": "stream",
          "name": "stderr",
          "text": [
            "\rProcessing images:   2%|▏         | 434/24398 [05:25<4:52:00,  1.37it/s]"
          ]
        },
        {
          "output_type": "stream",
          "name": "stdout",
          "text": [
            "Added sample: image_id=2009.08052v1, question=How does the WGAN based traffic flow generator wor...\n",
            "Matched via: image_id\n"
          ]
        },
        {
          "output_type": "stream",
          "name": "stderr",
          "text": [
            "\rProcessing images:   2%|▏         | 435/24398 [05:25<4:48:05,  1.39it/s]"
          ]
        },
        {
          "output_type": "stream",
          "name": "stdout",
          "text": [
            "Added sample: image_id=2009.00142v4, question=What is the relationship between the number of lay...\n",
            "Matched via: image_id\n"
          ]
        },
        {
          "output_type": "stream",
          "name": "stderr",
          "text": [
            "\rProcessing images:   2%|▏         | 436/24398 [05:26<4:53:20,  1.36it/s]"
          ]
        },
        {
          "output_type": "stream",
          "name": "stdout",
          "text": [
            "Added sample: image_id=2009.00142v4, question=What is the difference between the representation ...\n",
            "Matched via: image_id\n"
          ]
        },
        {
          "output_type": "stream",
          "name": "stderr",
          "text": [
            "\rProcessing images:   2%|▏         | 437/24398 [05:27<4:50:53,  1.37it/s]"
          ]
        },
        {
          "output_type": "stream",
          "name": "stdout",
          "text": [
            "Added sample: image_id=2009.00142v4, question=What is the range of values for the `conv. hidden ...\n",
            "Matched via: image_id\n"
          ]
        },
        {
          "output_type": "stream",
          "name": "stderr",
          "text": [
            "\rProcessing images:   2%|▏         | 438/24398 [05:28<4:50:52,  1.37it/s]"
          ]
        },
        {
          "output_type": "stream",
          "name": "stdout",
          "text": [
            "Added sample: image_id=2009.00142v4, question=What is the relationship between the color of a no...\n",
            "Matched via: image_id\n"
          ]
        },
        {
          "output_type": "stream",
          "name": "stderr",
          "text": [
            "\rProcessing images:   2%|▏         | 439/24398 [05:28<4:43:27,  1.41it/s]"
          ]
        },
        {
          "output_type": "stream",
          "name": "stdout",
          "text": [
            "Added sample: image_id=2009.00142v4, question=What is the minimum number of layers required by D...\n",
            "Matched via: image_id\n"
          ]
        },
        {
          "output_type": "stream",
          "name": "stderr",
          "text": [
            "\rProcessing images:   2%|▏         | 440/24398 [05:29<4:40:53,  1.42it/s]"
          ]
        },
        {
          "output_type": "stream",
          "name": "stdout",
          "text": [
            "Added sample: image_id=2009.00142v4, question=Which model performs best on the C.elegans dataset...\n",
            "Matched via: image_id\n"
          ]
        },
        {
          "output_type": "stream",
          "name": "stderr",
          "text": [
            "\rProcessing images:   2%|▏         | 441/24398 [05:30<4:49:42,  1.38it/s]"
          ]
        },
        {
          "output_type": "stream",
          "name": "stdout",
          "text": [
            "Added sample: image_id=2009.00142v4, question=Which method performed best on Task 2 for the C. e...\n",
            "Matched via: image_id\n"
          ]
        },
        {
          "output_type": "stream",
          "name": "stderr",
          "text": [
            "\rProcessing images:   2%|▏         | 442/24398 [05:30<4:38:23,  1.43it/s]"
          ]
        },
        {
          "output_type": "stream",
          "name": "stdout",
          "text": [
            "Added sample: image_id=2009.00142v4, question=Which model performed the best on Task 1 for the U...\n",
            "Matched via: image_id\n"
          ]
        },
        {
          "output_type": "stream",
          "name": "stderr",
          "text": [
            "\rProcessing images:   2%|▏         | 443/24398 [05:31<4:55:09,  1.35it/s]"
          ]
        },
        {
          "output_type": "stream",
          "name": "stdout",
          "text": [
            "Added sample: image_id=2009.00142v4, question=What is the difference between the two subtrees ro...\n",
            "Matched via: image_id\n"
          ]
        },
        {
          "output_type": "stream",
          "name": "stderr",
          "text": [
            "\rProcessing images:   2%|▏         | 444/24398 [05:32<4:59:33,  1.33it/s]"
          ]
        },
        {
          "output_type": "stream",
          "name": "stdout",
          "text": [
            "Added sample: image_id=2009.00142v4, question=Which model performs the best on the Bra.-Airports...\n",
            "Matched via: image_id\n"
          ]
        },
        {
          "output_type": "stream",
          "name": "stderr",
          "text": [
            "\rProcessing images:   2%|▏         | 445/24398 [05:33<5:07:36,  1.30it/s]"
          ]
        },
        {
          "output_type": "stream",
          "name": "stdout",
          "text": [
            "Added sample: image_id=2008.12953v2, question=Which method is the fastest and which is the slowe...\n",
            "Matched via: image_id\n"
          ]
        },
        {
          "output_type": "stream",
          "name": "stderr",
          "text": [
            "\rProcessing images:   2%|▏         | 446/24398 [05:34<5:03:26,  1.32it/s]"
          ]
        },
        {
          "output_type": "stream",
          "name": "stdout",
          "text": [
            "Added sample: image_id=2008.12953v2, question=Which of the three methods (pDCA, pDCAe, SCA) conv...\n",
            "Matched via: image_id\n"
          ]
        },
        {
          "output_type": "stream",
          "name": "stderr",
          "text": [
            "\rProcessing images:   2%|▏         | 447/24398 [05:34<4:50:08,  1.38it/s]"
          ]
        },
        {
          "output_type": "stream",
          "name": "stdout",
          "text": [
            "Added sample: image_id=2008.12953v2, question=Which of the algorithms converges to the smallest ...\n",
            "Matched via: image_id\n",
            "Warning: No QA pairs for paper 2008.13719v2, skipping image 2008.13719v2-Figure3-1.png\n",
            "Warning: No QA pairs for paper 2008.13719v2, skipping image 2008.13719v2-Table7-1.png\n",
            "Warning: No QA pairs for paper 2008.13719v2, skipping image 2008.13719v2-Table8-1.png\n",
            "Warning: No QA pairs for paper 2008.13719v2, skipping image 2008.13719v2-Table5-1.png\n",
            "Warning: No QA pairs for paper 2008.13719v2, skipping image 2008.13719v2-Table4-1.png\n",
            "Warning: No QA pairs for paper 2008.13719v2, skipping image 2008.13719v2-Table6-1.png\n",
            "Warning: No QA pairs for paper 2008.13719v2, skipping image 2008.13719v2-Table2-1.png\n",
            "Warning: No QA pairs for paper 2008.13719v2, skipping image 2008.13719v2-Figure2-1.png\n",
            "Warning: No QA pairs for paper 2008.13719v2, skipping image 2008.13719v2-Figure5-1.png\n",
            "Warning: No QA pairs for paper 2008.13719v2, skipping image 2008.13719v2-Figure4-1.png\n",
            "Warning: No QA pairs for paper 2008.13719v2, skipping image 2008.13719v2-Figure1-1.png\n",
            "Warning: No QA pairs for paper 2008.13719v2, skipping image 2008.13719v2-Table3-1.png\n",
            "Warning: No QA pairs for paper 2008.13719v2, skipping image 2008.13719v2-Table1-1.png\n"
          ]
        },
        {
          "output_type": "stream",
          "name": "stderr",
          "text": [
            "\rProcessing images:   2%|▏         | 461/24398 [05:35<1:02:09,  6.42it/s]"
          ]
        },
        {
          "output_type": "stream",
          "name": "stdout",
          "text": [
            "Added sample: image_id=2008.12905v1, question=What is the average cost of the cluster formed in ...\n",
            "Matched via: image_id\n"
          ]
        },
        {
          "output_type": "stream",
          "name": "stderr",
          "text": [
            "\rProcessing images:   2%|▏         | 462/24398 [05:36<1:18:51,  5.06it/s]"
          ]
        },
        {
          "output_type": "stream",
          "name": "stdout",
          "text": [
            "Added sample: image_id=2008.12905v1, question=Which city has the highest XDT when η is 150 secon...\n",
            "Matched via: image_id\n"
          ]
        },
        {
          "output_type": "stream",
          "name": "stderr",
          "text": [
            "\rProcessing images:   2%|▏         | 463/24398 [05:36<1:36:31,  4.13it/s]"
          ]
        },
        {
          "output_type": "stream",
          "name": "stdout",
          "text": [
            "Added sample: image_id=2008.12905v1, question=How many orders are there in the food delivery pro...\n",
            "Matched via: image_id\n"
          ]
        },
        {
          "output_type": "stream",
          "name": "stderr",
          "text": [
            "\rProcessing images:   2%|▏         | 464/24398 [05:37<1:56:54,  3.41it/s]"
          ]
        },
        {
          "output_type": "stream",
          "name": "stdout",
          "text": [
            "Added sample: image_id=2008.12905v1, question=What does the notation O(l) and V(l) represent?...\n",
            "Matched via: image_id\n"
          ]
        },
        {
          "output_type": "stream",
          "name": "stderr",
          "text": [
            "\rProcessing images:   2%|▏         | 465/24398 [05:38<2:19:51,  2.85it/s]"
          ]
        },
        {
          "output_type": "stream",
          "name": "stdout",
          "text": [
            "Added sample: image_id=2008.12905v1, question=What does the plot in Figure (a) tell us about the...\n",
            "Matched via: image_id\n",
            "Warning: Could not parse figure or table ID from 2008.12905v1-TableI-1.png, skipping\n"
          ]
        },
        {
          "output_type": "stream",
          "name": "stderr",
          "text": [
            "\rProcessing images:   2%|▏         | 467/24398 [05:39<2:29:08,  2.67it/s]"
          ]
        },
        {
          "output_type": "stream",
          "name": "stdout",
          "text": [
            "Added sample: image_id=2008.12905v1, question=How does the number of vehicles affect the percent...\n",
            "Matched via: image_id\n"
          ]
        },
        {
          "output_type": "stream",
          "name": "stderr",
          "text": [
            "\rProcessing images:   2%|▏         | 468/24398 [05:39<2:56:59,  2.25it/s]"
          ]
        },
        {
          "output_type": "stream",
          "name": "stdout",
          "text": [
            "Added sample: image_id=2008.12905v1, question=What happens to unallocated orders at the beginnin...\n",
            "Matched via: image_id\n"
          ]
        },
        {
          "output_type": "stream",
          "name": "stderr",
          "text": [
            "\rProcessing images:   2%|▏         | 469/24398 [05:40<3:19:07,  2.00it/s]"
          ]
        },
        {
          "output_type": "stream",
          "name": "stdout",
          "text": [
            "Added sample: image_id=2008.12905v1, question=Which city has the highest average number of order...\n",
            "Matched via: image_id\n",
            "Warning: Could not parse figure or table ID from 2008.12905v1-TableII-1.png, skipping\n"
          ]
        },
        {
          "output_type": "stream",
          "name": "stderr",
          "text": [
            "\rProcessing images:   2%|▏         | 471/24398 [05:41<3:10:45,  2.09it/s]"
          ]
        },
        {
          "output_type": "stream",
          "name": "stdout",
          "text": [
            "Added sample: image_id=2008.12905v1, question=How does the extra delivery time (XDT) change as t...\n",
            "Matched via: image_id\n"
          ]
        },
        {
          "output_type": "stream",
          "name": "stderr",
          "text": [
            "\rProcessing images:   2%|▏         | 472/24398 [05:42<3:35:01,  1.85it/s]"
          ]
        },
        {
          "output_type": "stream",
          "name": "stdout",
          "text": [
            "Added sample: image_id=2009.05766v2, question=What is the main difference between the communicat...\n",
            "Matched via: image_id\n",
            "Warning: Could not parse figure or table ID from 2009.05766v2-TableIV-1.png, skipping\n",
            "Warning: Could not parse figure or table ID from 2009.05766v2-TableV-1.png, skipping\n"
          ]
        },
        {
          "output_type": "stream",
          "name": "stderr",
          "text": [
            "\rProcessing images:   2%|▏         | 475/24398 [05:43<2:45:20,  2.41it/s]"
          ]
        },
        {
          "output_type": "stream",
          "name": "stdout",
          "text": [
            "Added sample: image_id=2009.05766v2, question=Which algorithm has the lowest training loss after...\n",
            "Matched via: image_id\n"
          ]
        },
        {
          "output_type": "stream",
          "name": "stderr",
          "text": [
            "\rProcessing images:   2%|▏         | 476/24398 [05:44<3:55:16,  1.69it/s]"
          ]
        },
        {
          "output_type": "stream",
          "name": "stdout",
          "text": [
            "Added sample: image_id=2009.05766v2, question=Which method achieves the lowest training loss in ...\n",
            "Matched via: image_id\n",
            "Warning: Could not parse figure or table ID from 2009.05766v2-TableI-1.png, skipping\n"
          ]
        },
        {
          "output_type": "stream",
          "name": "stderr",
          "text": [
            "\rProcessing images:   2%|▏         | 478/24398 [05:45<3:23:16,  1.96it/s]"
          ]
        },
        {
          "output_type": "stream",
          "name": "stdout",
          "text": [
            "Added sample: image_id=2009.05766v2, question=Which model has the faster average iteration time ...\n",
            "Matched via: image_id\n"
          ]
        },
        {
          "output_type": "stream",
          "name": "stderr",
          "text": [
            "\rProcessing images:   2%|▏         | 479/24398 [05:45<3:43:42,  1.78it/s]"
          ]
        },
        {
          "output_type": "stream",
          "name": "stdout",
          "text": [
            "Added sample: image_id=2009.05766v2, question=Which network has the highest communication cost f...\n",
            "Matched via: image_id\n",
            "Warning: Could not parse figure or table ID from 2009.05766v2-TableIII-1.png, skipping\n",
            "Warning: No QA pair matched for 2009.05766v2-Figure5-1.png in paper 2009.05766v2, skipping\n",
            "Warning: Could not parse figure or table ID from 2009.05766v2-TableVII-1.png, skipping\n",
            "Warning: Could not parse figure or table ID from 2009.05766v2-TableII-1.png, skipping\n",
            "Warning: No QA pair matched for 2009.05766v2-Figure17-1.png in paper 2009.05766v2, skipping\n",
            "Warning: No QA pair matched for 2009.05766v2-Figure6-1.png in paper 2009.05766v2, skipping\n",
            "Warning: No QA pair matched for 2009.05766v2-Figure1-1.png in paper 2009.05766v2, skipping\n",
            "Warning: No QA pair matched for 2009.05766v2-Figure3-1.png in paper 2009.05766v2, skipping\n",
            "Warning: No QA pair matched for 2009.05766v2-Figure16-1.png in paper 2009.05766v2, skipping\n",
            "Warning: No QA pair matched for 2009.05766v2-Figure13-1.png in paper 2009.05766v2, skipping\n",
            "Warning: No QA pair matched for 2009.05766v2-Figure7-1.png in paper 2009.05766v2, skipping\n",
            "Warning: No QA pair matched for 2009.05766v2-Figure18-1.png in paper 2009.05766v2, skipping\n",
            "Warning: No QA pair matched for 2009.05766v2-Figure12-1.png in paper 2009.05766v2, skipping\n",
            "Warning: Could not parse figure or table ID from 2009.05766v2-TableVI-1.png, skipping\n",
            "Warning: No QA pair matched for 2009.05766v2-Figure10-1.png in paper 2009.05766v2, skipping\n",
            "Warning: No QA pair matched for 2009.05766v2-Figure2-1.png in paper 2009.05766v2, skipping\n"
          ]
        },
        {
          "output_type": "stream",
          "name": "stderr",
          "text": [
            "\rProcessing images:   2%|▏         | 496/24398 [05:46<59:32,  6.69it/s]  "
          ]
        },
        {
          "output_type": "stream",
          "name": "stdout",
          "text": [
            "Added sample: image_id=2009.04724v3, question=What is the effect of the attention alignment mech...\n",
            "Matched via: image_id\n"
          ]
        },
        {
          "output_type": "stream",
          "name": "stderr",
          "text": [
            "\rProcessing images:   2%|▏         | 497/24398 [05:47<1:12:23,  5.50it/s]"
          ]
        },
        {
          "output_type": "stream",
          "name": "stdout",
          "text": [
            "Added sample: image_id=2009.04724v3, question=How does the addition of AGAM affect the clusterin...\n",
            "Matched via: image_id\n"
          ]
        },
        {
          "output_type": "stream",
          "name": "stderr",
          "text": [
            "\rProcessing images:   2%|▏         | 498/24398 [05:48<1:30:46,  4.39it/s]"
          ]
        },
        {
          "output_type": "stream",
          "name": "stdout",
          "text": [
            "Added sample: image_id=2009.04724v3, question=How does the addition of AGAM affect the accuracy ...\n",
            "Matched via: image_id\n"
          ]
        },
        {
          "output_type": "stream",
          "name": "stderr",
          "text": [
            "\rProcessing images:   2%|▏         | 499/24398 [05:48<1:50:28,  3.61it/s]"
          ]
        },
        {
          "output_type": "stream",
          "name": "stdout",
          "text": [
            "Added sample: image_id=2009.04724v3, question=Which method has the highest 5-way 5-shot test acc...\n",
            "Matched via: image_id\n"
          ]
        },
        {
          "output_type": "stream",
          "name": "stderr",
          "text": [
            "\rProcessing images:   2%|▏         | 500/24398 [05:49<2:15:49,  2.93it/s]"
          ]
        },
        {
          "output_type": "stream",
          "name": "stdout",
          "text": [
            "Added sample: image_id=2009.04724v3, question=Which of the following columns shows the results o...\n",
            "Matched via: image_id\n"
          ]
        },
        {
          "output_type": "stream",
          "name": "stderr",
          "text": [
            "\rProcessing images:   2%|▏         | 501/24398 [05:50<3:02:58,  2.18it/s]"
          ]
        },
        {
          "output_type": "stream",
          "name": "stdout",
          "text": [
            "Added sample: image_id=2009.04724v3, question=Which method achieved the highest accuracy in the ...\n",
            "Matched via: image_id\n"
          ]
        },
        {
          "output_type": "stream",
          "name": "stderr",
          "text": [
            "\rProcessing images:   2%|▏         | 502/24398 [05:51<3:18:14,  2.01it/s]"
          ]
        },
        {
          "output_type": "stream",
          "name": "stdout",
          "text": [
            "Added sample: image_id=2009.04724v3, question=Which method has the highest test accuracy for 5-w...\n",
            "Matched via: image_id\n"
          ]
        },
        {
          "output_type": "stream",
          "name": "stderr",
          "text": [
            "\rProcessing images:   2%|▏         | 503/24398 [05:52<3:36:09,  1.84it/s]"
          ]
        },
        {
          "output_type": "stream",
          "name": "stdout",
          "text": [
            "Added sample: image_id=2009.04724v3, question=Which method has the highest test accuracy for 5-w...\n",
            "Matched via: image_id\n"
          ]
        },
        {
          "output_type": "stream",
          "name": "stderr",
          "text": [
            "\rProcessing images:   2%|▏         | 504/24398 [05:52<3:43:33,  1.78it/s]"
          ]
        },
        {
          "output_type": "stream",
          "name": "stdout",
          "text": [
            "Added sample: image_id=2009.04724v3, question=How does the AGAM framework utilize attributes to ...\n",
            "Matched via: image_id\n"
          ]
        },
        {
          "output_type": "stream",
          "name": "stderr",
          "text": [
            "\rProcessing images:   2%|▏         | 505/24398 [05:53<3:56:25,  1.68it/s]"
          ]
        },
        {
          "output_type": "stream",
          "name": "stdout",
          "text": [
            "Added sample: image_id=2009.04724v3, question=How does the average attention difference between ...\n",
            "Matched via: image_id\n"
          ]
        },
        {
          "output_type": "stream",
          "name": "stderr",
          "text": [
            "\rProcessing images:   2%|▏         | 506/24398 [05:54<4:08:38,  1.60it/s]"
          ]
        },
        {
          "output_type": "stream",
          "name": "stdout",
          "text": [
            "Added sample: image_id=2009.04724v3, question=Which loss function performs the best on the CUB d...\n",
            "Matched via: image_id\n"
          ]
        },
        {
          "output_type": "stream",
          "name": "stderr",
          "text": [
            "\rProcessing images:   2%|▏         | 507/24398 [05:54<4:20:13,  1.53it/s]"
          ]
        },
        {
          "output_type": "stream",
          "name": "stdout",
          "text": [
            "Added sample: image_id=2008.13335v1, question=Which of the two categories, video games or toys a...\n",
            "Matched via: image_id\n"
          ]
        },
        {
          "output_type": "stream",
          "name": "stderr",
          "text": [
            "\rProcessing images:   2%|▏         | 508/24398 [05:55<4:30:57,  1.47it/s]"
          ]
        },
        {
          "output_type": "stream",
          "name": "stdout",
          "text": [
            "Added sample: image_id=2008.13335v1, question=Which dataset has the highest number of users?...\n",
            "Matched via: image_id\n"
          ]
        },
        {
          "output_type": "stream",
          "name": "stderr",
          "text": [
            "\rProcessing images:   2%|▏         | 509/24398 [05:56<4:35:30,  1.45it/s]"
          ]
        },
        {
          "output_type": "stream",
          "name": "stdout",
          "text": [
            "Added sample: image_id=2008.13335v1, question=Which model performs the best on the Video Games d...\n",
            "Matched via: image_id\n"
          ]
        },
        {
          "output_type": "stream",
          "name": "stderr",
          "text": [
            "\rProcessing images:   2%|▏         | 510/24398 [05:57<4:37:48,  1.43it/s]"
          ]
        },
        {
          "output_type": "stream",
          "name": "stdout",
          "text": [
            "Added sample: image_id=2008.13335v1, question=How does the proposed architecture capture the lon...\n",
            "Matched via: image_id\n"
          ]
        },
        {
          "output_type": "stream",
          "name": "stderr",
          "text": [
            "\rProcessing images:   2%|▏         | 511/24398 [05:57<4:36:15,  1.44it/s]"
          ]
        },
        {
          "output_type": "stream",
          "name": "stdout",
          "text": [
            "Added sample: image_id=2008.13335v1, question=How does the density distribution of item-item sim...\n",
            "Matched via: image_id\n"
          ]
        },
        {
          "output_type": "stream",
          "name": "stderr",
          "text": [
            "\rProcessing images:   2%|▏         | 512/24398 [05:58<4:36:38,  1.44it/s]"
          ]
        },
        {
          "output_type": "stream",
          "name": "stdout",
          "text": [
            "Added sample: image_id=2008.13335v1, question=Based on the scatter plots, which model is more ef...\n",
            "Matched via: image_id\n"
          ]
        },
        {
          "output_type": "stream",
          "name": "stderr",
          "text": [
            "\rProcessing images:   2%|▏         | 513/24398 [05:59<4:55:17,  1.35it/s]"
          ]
        },
        {
          "output_type": "stream",
          "name": "stdout",
          "text": [
            "Added sample: image_id=2009.05241v2, question=What is the effect of different defense methods on...\n",
            "Matched via: image_id\n"
          ]
        },
        {
          "output_type": "stream",
          "name": "stderr",
          "text": [
            "\rProcessing images:   2%|▏         | 514/24398 [06:00<4:46:21,  1.39it/s]"
          ]
        },
        {
          "output_type": "stream",
          "name": "stdout",
          "text": [
            "Added sample: image_id=2009.05241v2, question=How does the attack accuracy change as the model a...\n",
            "Matched via: image_id\n"
          ]
        },
        {
          "output_type": "stream",
          "name": "stderr",
          "text": [
            "\rProcessing images:   2%|▏         | 515/24398 [06:00<4:43:47,  1.40it/s]"
          ]
        },
        {
          "output_type": "stream",
          "name": "stdout",
          "text": [
            "Added sample: image_id=2009.05241v2, question=What is the relationship between attack accuracy a...\n",
            "Matched via: image_id\n"
          ]
        },
        {
          "output_type": "stream",
          "name": "stderr",
          "text": [
            "\rProcessing images:   2%|▏         | 516/24398 [06:01<4:37:42,  1.43it/s]"
          ]
        },
        {
          "output_type": "stream",
          "name": "stdout",
          "text": [
            "Added sample: image_id=2009.05241v2, question=Which attack method was used with the FiveThirtyEi...\n",
            "Matched via: image_id\n"
          ]
        },
        {
          "output_type": "stream",
          "name": "stderr",
          "text": [
            "\rProcessing images:   2%|▏         | 517/24398 [06:02<4:39:29,  1.42it/s]"
          ]
        },
        {
          "output_type": "stream",
          "name": "stdout",
          "text": [
            "Added sample: image_id=2009.05241v2, question=What is the relationship between the confidence va...\n",
            "Matched via: image_id\n"
          ]
        },
        {
          "output_type": "stream",
          "name": "stderr",
          "text": [
            "\rProcessing images:   2%|▏         | 518/24398 [06:02<4:38:26,  1.43it/s]"
          ]
        },
        {
          "output_type": "stream",
          "name": "stdout",
          "text": [
            "Added sample: image_id=2009.05241v2, question=Which defense method performs the best against MI ...\n",
            "Matched via: image_id\n"
          ]
        },
        {
          "output_type": "stream",
          "name": "stderr",
          "text": [
            "\rProcessing images:   2%|▏         | 519/24398 [06:03<4:34:47,  1.45it/s]"
          ]
        },
        {
          "output_type": "stream",
          "name": "stdout",
          "text": [
            "Added sample: image_id=2008.11567v1, question=What is the category of the Pokémon GO app?...\n",
            "Matched via: image_id\n"
          ]
        },
        {
          "output_type": "stream",
          "name": "stderr",
          "text": [
            "\rProcessing images:   2%|▏         | 520/24398 [06:04<4:28:04,  1.48it/s]"
          ]
        },
        {
          "output_type": "stream",
          "name": "stdout",
          "text": [
            "Added sample: image_id=2008.11567v1, question=Which dataset has the larger average number of que...\n",
            "Matched via: image_id\n"
          ]
        },
        {
          "output_type": "stream",
          "name": "stderr",
          "text": [
            "\rProcessing images:   2%|▏         | 521/24398 [06:04<4:37:29,  1.43it/s]"
          ]
        },
        {
          "output_type": "stream",
          "name": "stdout",
          "text": [
            "Added sample: image_id=2008.11567v1, question=Which model performs best on the KDD Cup-2012 data...\n",
            "Matched via: image_id\n"
          ]
        },
        {
          "output_type": "stream",
          "name": "stderr",
          "text": [
            "\rProcessing images:   2%|▏         | 522/24398 [06:05<4:29:17,  1.48it/s]"
          ]
        },
        {
          "output_type": "stream",
          "name": "stdout",
          "text": [
            "Added sample: image_id=2008.11567v1, question=Which dataset shows a larger difference in precisi...\n",
            "Matched via: image_id\n"
          ]
        },
        {
          "output_type": "stream",
          "name": "stderr",
          "text": [
            "\rProcessing images:   2%|▏         | 523/24398 [06:06<4:45:53,  1.39it/s]"
          ]
        },
        {
          "output_type": "stream",
          "name": "stdout",
          "text": [
            "Added sample: image_id=2008.11567v1, question=What is the effect of using L2 regularization on t...\n",
            "Matched via: image_id\n"
          ]
        },
        {
          "output_type": "stream",
          "name": "stderr",
          "text": [
            "\rProcessing images:   2%|▏         | 524/24398 [06:06<4:39:43,  1.42it/s]"
          ]
        },
        {
          "output_type": "stream",
          "name": "stdout",
          "text": [
            "Added sample: image_id=2008.11567v1, question= What is the difference between TagGNN-QI and TagG...\n",
            "Matched via: image_id\n"
          ]
        },
        {
          "output_type": "stream",
          "name": "stderr",
          "text": [
            "\rProcessing images:   2%|▏         | 525/24398 [06:07<4:36:08,  1.44it/s]"
          ]
        },
        {
          "output_type": "stream",
          "name": "stdout",
          "text": [
            "Added sample: image_id=2008.11783v1, question=Which model has the highest Top-1 error?...\n",
            "Matched via: image_id\n"
          ]
        },
        {
          "output_type": "stream",
          "name": "stderr",
          "text": [
            "\rProcessing images:   2%|▏         | 526/24398 [06:08<4:35:24,  1.44it/s]"
          ]
        },
        {
          "output_type": "stream",
          "name": "stdout",
          "text": [
            "Added sample: image_id=2008.11783v1, question= What is the purpose of using grouped convolutions...\n",
            "Matched via: image_id\n"
          ]
        },
        {
          "output_type": "stream",
          "name": "stderr",
          "text": [
            "\rProcessing images:   2%|▏         | 527/24398 [06:09<4:41:17,  1.41it/s]"
          ]
        },
        {
          "output_type": "stream",
          "name": "stdout",
          "text": [
            "Added sample: image_id=2008.11783v1, question=Which model has the best performance in terms of A...\n",
            "Matched via: image_id\n"
          ]
        },
        {
          "output_type": "stream",
          "name": "stderr",
          "text": [
            "\rProcessing images:   2%|▏         | 528/24398 [06:09<4:41:41,  1.41it/s]"
          ]
        },
        {
          "output_type": "stream",
          "name": "stdout",
          "text": [
            "Added sample: image_id=2008.11783v1, question=What is the role of the concept reasoner (CR) in t...\n",
            "Matched via: image_id\n"
          ]
        },
        {
          "output_type": "stream",
          "name": "stderr",
          "text": [
            "\rProcessing images:   2%|▏         | 529/24398 [06:10<4:52:48,  1.36it/s]"
          ]
        },
        {
          "output_type": "stream",
          "name": "stdout",
          "text": [
            "Added sample: image_id=2008.11783v1, question=Which network seems to be focusing on the most rel...\n",
            "Matched via: image_id\n"
          ]
        },
        {
          "output_type": "stream",
          "name": "stderr",
          "text": [
            "\rProcessing images:   2%|▏         | 530/24398 [06:11<5:58:08,  1.11it/s]"
          ]
        },
        {
          "output_type": "stream",
          "name": "stdout",
          "text": [
            "Added sample: image_id=2008.11783v1, question=Which model has the lowest Top-1 error rate?...\n",
            "Matched via: image_id\n"
          ]
        },
        {
          "output_type": "stream",
          "name": "stderr",
          "text": [
            "\rProcessing images:   2%|▏         | 531/24398 [06:12<5:35:44,  1.18it/s]"
          ]
        },
        {
          "output_type": "stream",
          "name": "stdout",
          "text": [
            "Added sample: image_id=2008.11783v1, question=Which of the attention maps is most likely to be g...\n",
            "Matched via: image_id\n"
          ]
        },
        {
          "output_type": "stream",
          "name": "stderr",
          "text": [
            "\rProcessing images:   2%|▏         | 532/24398 [06:13<5:14:59,  1.26it/s]"
          ]
        },
        {
          "output_type": "stream",
          "name": "stdout",
          "text": [
            "Added sample: image_id=2008.11783v1, question=How does the attention-based concept sampler with ...\n",
            "Matched via: image_id\n"
          ]
        },
        {
          "output_type": "stream",
          "name": "stderr",
          "text": [
            "\rProcessing images:   2%|▏         | 533/24398 [06:14<5:12:27,  1.27it/s]"
          ]
        },
        {
          "output_type": "stream",
          "name": "stdout",
          "text": [
            "Added sample: image_id=2008.11783v1, question=Does using BN (Batch Normalization) improve the pe...\n",
            "Matched via: image_id\n"
          ]
        },
        {
          "output_type": "stream",
          "name": "stderr",
          "text": [
            "\rProcessing images:   2%|▏         | 534/24398 [06:15<6:06:45,  1.08it/s]"
          ]
        },
        {
          "output_type": "stream",
          "name": "stdout",
          "text": [
            "Added sample: image_id=2008.11783v1, question=What is the effect of removing BN (batch normaliza...\n",
            "Matched via: image_id\n"
          ]
        },
        {
          "output_type": "stream",
          "name": "stderr",
          "text": [
            "\rProcessing images:   2%|▏         | 535/24398 [06:16<5:44:42,  1.15it/s]"
          ]
        },
        {
          "output_type": "stream",
          "name": "stdout",
          "text": [
            "Added sample: image_id=2008.11783v1, question=What is the role of the concept modulator in the f...\n",
            "Matched via: image_id\n"
          ]
        },
        {
          "output_type": "stream",
          "name": "stderr",
          "text": [
            "\rProcessing images:   2%|▏         | 536/24398 [06:16<5:22:54,  1.23it/s]"
          ]
        },
        {
          "output_type": "stream",
          "name": "stdout",
          "text": [
            "Added sample: image_id=2008.09514v1, question=Which model performed the best in terms of accurac...\n",
            "Matched via: image_id\n"
          ]
        },
        {
          "output_type": "stream",
          "name": "stderr",
          "text": [
            "\rProcessing images:   2%|▏         | 537/24398 [06:17<5:07:26,  1.29it/s]"
          ]
        },
        {
          "output_type": "stream",
          "name": "stdout",
          "text": [
            "Added sample: image_id=2008.09514v1, question=Which dataset has the highest ratio of positive to...\n",
            "Matched via: image_id\n"
          ]
        },
        {
          "output_type": "stream",
          "name": "stderr",
          "text": [
            "\rProcessing images:   2%|▏         | 538/24398 [06:18<4:53:42,  1.35it/s]"
          ]
        },
        {
          "output_type": "stream",
          "name": "stdout",
          "text": [
            "Added sample: image_id=2008.09514v1, question= Which of the following logic expressions is repre...\n",
            "Matched via: image_id\n"
          ]
        },
        {
          "output_type": "stream",
          "name": "stderr",
          "text": [
            "\rProcessing images:   2%|▏         | 539/24398 [06:18<4:52:16,  1.36it/s]"
          ]
        },
        {
          "output_type": "stream",
          "name": "stdout",
          "text": [
            "Added sample: image_id=2008.09514v1, question=How does the performance of the logic regularizer ...\n",
            "Matched via: image_id\n"
          ]
        },
        {
          "output_type": "stream",
          "name": "stderr",
          "text": [
            "\rProcessing images:   2%|▏         | 540/24398 [06:19<4:42:30,  1.41it/s]"
          ]
        },
        {
          "output_type": "stream",
          "name": "stdout",
          "text": [
            "Added sample: image_id=2008.09514v1, question=Which method performs best on the ML-100k dataset ...\n",
            "Matched via: image_id\n"
          ]
        },
        {
          "output_type": "stream",
          "name": "stderr",
          "text": [
            "\rProcessing images:   2%|▏         | 541/24398 [06:20<4:38:51,  1.43it/s]"
          ]
        },
        {
          "output_type": "stream",
          "name": "stdout",
          "text": [
            "Added sample: image_id=2008.09514v1, question=What is the logical rule for the Annihilator of OR...\n",
            "Matched via: image_id\n"
          ]
        },
        {
          "output_type": "stream",
          "name": "stderr",
          "text": [
            "\rProcessing images:   2%|▏         | 542/24398 [06:20<4:36:32,  1.44it/s]"
          ]
        },
        {
          "output_type": "stream",
          "name": "stdout",
          "text": [
            "Added sample: image_id=2008.09514v1, question=Which movie is most similar to movie 602?...\n",
            "Matched via: image_id\n"
          ]
        },
        {
          "output_type": "stream",
          "name": "stderr",
          "text": [
            "\rProcessing images:   2%|▏         | 543/24398 [06:21<5:13:21,  1.27it/s]"
          ]
        },
        {
          "output_type": "stream",
          "name": "stdout",
          "text": [
            "Added sample: image_id=2008.09514v1, question=Which model performs the best on the Amazon Electr...\n",
            "Matched via: image_id\n"
          ]
        },
        {
          "output_type": "stream",
          "name": "stderr",
          "text": [
            "\rProcessing images:   2%|▏         | 544/24398 [06:22<5:03:08,  1.31it/s]"
          ]
        },
        {
          "output_type": "stream",
          "name": "stdout",
          "text": [
            "Added sample: image_id=2008.09514v1, question=What is the effect of increasing the weight of log...\n",
            "Matched via: image_id\n"
          ]
        },
        {
          "output_type": "stream",
          "name": "stderr",
          "text": [
            "\rProcessing images:   2%|▏         | 545/24398 [06:23<5:02:16,  1.32it/s]"
          ]
        },
        {
          "output_type": "stream",
          "name": "stdout",
          "text": [
            "Added sample: image_id=2008.11087v2, question=Which algorithm performs the best in the energy-fi...\n",
            "Matched via: image_id\n"
          ]
        },
        {
          "output_type": "stream",
          "name": "stderr",
          "text": [
            "\rProcessing images:   2%|▏         | 546/24398 [06:23<4:53:21,  1.36it/s]"
          ]
        },
        {
          "output_type": "stream",
          "name": "stdout",
          "text": [
            "Added sample: image_id=2008.11087v2, question=Which algorithm performs the best in the profit-fi...\n",
            "Matched via: image_id\n"
          ]
        },
        {
          "output_type": "stream",
          "name": "stderr",
          "text": [
            "\rProcessing images:   2%|▏         | 547/24398 [06:24<4:46:18,  1.39it/s]"
          ]
        },
        {
          "output_type": "stream",
          "name": "stdout",
          "text": [
            "Added sample: image_id=2008.11087v2, question=Which algorithm performs the best in the fairness-...\n",
            "Matched via: image_id\n"
          ]
        },
        {
          "output_type": "stream",
          "name": "stderr",
          "text": [
            "\rProcessing images:   2%|▏         | 548/24398 [06:25<4:47:38,  1.38it/s]"
          ]
        },
        {
          "output_type": "stream",
          "name": "stdout",
          "text": [
            "Added sample: image_id=2008.11087v2, question=What information is missing from the table in pane...\n",
            "Matched via: image_id\n"
          ]
        },
        {
          "output_type": "stream",
          "name": "stderr",
          "text": [
            "\rProcessing images:   2%|▏         | 549/24398 [06:25<4:39:50,  1.42it/s]"
          ]
        },
        {
          "output_type": "stream",
          "name": "stdout",
          "text": [
            "Added sample: image_id=2008.11087v2, question=Which reward setting resulted in the highest media...\n",
            "Matched via: image_id\n"
          ]
        },
        {
          "output_type": "stream",
          "name": "stderr",
          "text": [
            "\rProcessing images:   2%|▏         | 550/24398 [06:26<4:36:11,  1.44it/s]"
          ]
        },
        {
          "output_type": "stream",
          "name": "stdout",
          "text": [
            "Added sample: image_id=2008.11087v2, question=What is the role of the Data Manager in the simula...\n",
            "Matched via: image_id\n"
          ]
        },
        {
          "output_type": "stream",
          "name": "stderr",
          "text": [
            "\rProcessing images:   2%|▏         | 551/24398 [06:27<4:52:32,  1.36it/s]"
          ]
        },
        {
          "output_type": "stream",
          "name": "stdout",
          "text": [
            "Added sample: image_id=2008.11087v2, question=How does the performance of ADRL compare to the ot...\n",
            "Matched via: image_id\n"
          ]
        },
        {
          "output_type": "stream",
          "name": "stderr",
          "text": [
            "\rProcessing images:   2%|▏         | 552/24398 [06:28<4:52:38,  1.36it/s]"
          ]
        },
        {
          "output_type": "stream",
          "name": "stdout",
          "text": [
            "Added sample: image_id=2008.11087v2, question=What are the three main modules in the architectur...\n",
            "Matched via: image_id\n"
          ]
        },
        {
          "output_type": "stream",
          "name": "stderr",
          "text": [
            "\rProcessing images:   2%|▏         | 553/24398 [06:28<4:45:43,  1.39it/s]"
          ]
        },
        {
          "output_type": "stream",
          "name": "stdout",
          "text": [
            "Added sample: image_id=2008.11087v2, question= What is the difference between the reinforcement ...\n",
            "Matched via: image_id\n"
          ]
        },
        {
          "output_type": "stream",
          "name": "stderr",
          "text": [
            "Processing images:   2%|▏         | 554/24398 [06:29<4:39:28,  1.42it/s]"
          ]
        },
        {
          "output_type": "stream",
          "name": "stdout",
          "text": [
            "Added sample: image_id=2008.11087v2, question=How many participants were there in the study?...\n",
            "Matched via: image_id\n",
            "Reached maximum of 500 samples, stopping\n",
            "Extracted 500 samples from train\n",
            "Unmatched images (sample): ['/content/drive/MyDrive/SPIQA_train_val_Images/2009.05766v2/2009.05766v2-Figure12-1.png', '/content/drive/MyDrive/SPIQA_train_val_Images/2009.05766v2/2009.05766v2-Figure6-1.png', '/content/drive/MyDrive/SPIQA_train_val_Images/2009.05766v2/2009.05766v2-Figure7-1.png', '/content/drive/MyDrive/SPIQA_train_val_Images/2008.13719v2/2008.13719v2-Table3-1.png', '/content/drive/MyDrive/SPIQA_train_val_Images/2009.05766v2/2009.05766v2-Figure13-1.png', '/content/drive/MyDrive/SPIQA_train_val_Images/2009.05766v2/2009.05766v2-Figure18-1.png', '/content/drive/MyDrive/SPIQA_train_val_Images/2009.12677v2/2009.12677v2-Figure2-1.png', '/content/drive/MyDrive/SPIQA_train_val_Images/2009.05766v2/2009.05766v2-Figure5-1.png', '/content/drive/MyDrive/SPIQA_train_val_Images/2009.12677v2/2009.12677v2-Table3-1.png', '/content/drive/MyDrive/SPIQA_train_val_Images/2008.12905v1/2008.12905v1-TableI-1.png']\n"
          ]
        },
        {
          "output_type": "stream",
          "name": "stderr",
          "text": [
            "\n"
          ]
        },
        {
          "output_type": "stream",
          "name": "stdout",
          "text": [
            "Created dataset with 500 samples\n"
          ]
        },
        {
          "output_type": "stream",
          "name": "stderr",
          "text": [
            "Saving preprocessed data:   1%|▏         | 7/500 [00:00<00:07, 68.32it/s]"
          ]
        },
        {
          "output_type": "stream",
          "name": "stdout",
          "text": [
            "Copied image to /content/images/2010.02498v1-Table8-1.png\n",
            "Copied image to /content/images/2010.02498v1-Figure1-1.png\n",
            "Copied image to /content/images/2010.02498v1-Table12-1.png\n",
            "Copied image to /content/images/2010.02498v1-Table1-1.png\n",
            "Copied image to /content/images/2010.02498v1-Table2-1.png\n",
            "Copied image to /content/images/2010.02498v1-Table4-1.png\n",
            "Copied image to /content/images/2010.02498v1-Table5-1.png\n",
            "Copied image to /content/images/2010.02498v1-Table7-1.png\n",
            "Copied image to /content/images/2010.02498v1-Table9-1.png\n",
            "Copied image to /content/images/2010.02498v1-Table11-1.png\n"
          ]
        },
        {
          "output_type": "stream",
          "name": "stderr",
          "text": [
            "\rSaving preprocessed data:   3%|▎         | 14/500 [00:00<00:12, 39.53it/s]"
          ]
        },
        {
          "output_type": "stream",
          "name": "stdout",
          "text": [
            "Copied image to /content/images/2010.02498v1-Table6-1.png\n",
            "Copied image to /content/images/2010.02498v1-Figure3-1.png\n",
            "Copied image to /content/images/2010.02498v1-Table14-1.png\n",
            "Copied image to /content/images/2010.02498v1-Figure2-1.png\n",
            "Copied image to /content/images/2010.02498v1-Table13-1.png\n",
            "Copied image to /content/images/2010.02498v1-Table3-1.png\n",
            "Copied image to /content/images/2010.02498v1-Table10-1.png\n"
          ]
        },
        {
          "output_type": "stream",
          "name": "stderr",
          "text": [
            "\rSaving preprocessed data:   4%|▍         | 19/500 [00:00<00:12, 38.49it/s]"
          ]
        },
        {
          "output_type": "stream",
          "name": "stdout",
          "text": [
            "Copied image to /content/images/2010.02498v1-Table15-1.png\n",
            "Copied image to /content/images/2010.02784v1-Figure1-1.png\n"
          ]
        },
        {
          "output_type": "stream",
          "name": "stderr",
          "text": [
            "\rSaving preprocessed data:   5%|▌         | 25/500 [00:00<00:11, 41.91it/s]"
          ]
        },
        {
          "output_type": "stream",
          "name": "stdout",
          "text": [
            "Copied image to /content/images/2010.02784v1-Table4-1.png\n",
            "Copied image to /content/images/2010.02784v1-Table2-1.png\n",
            "Copied image to /content/images/2010.02784v1-Table5-1.png\n",
            "Copied image to /content/images/2010.02784v1-Table6-1.png\n",
            "Copied image to /content/images/2010.02784v1-Table7-1.png\n",
            "Copied image to /content/images/2010.02784v1-Table3-1.png\n",
            "Copied image to /content/images/2010.02784v1-Table1-1.png\n",
            "Copied image to /content/images/2010.02217v1-Figure1-1.png\n",
            "Copied image to /content/images/2010.02217v1-Table2-1.png\n",
            "Copied image to /content/images/2010.02217v1-Table3-1.png\n"
          ]
        },
        {
          "output_type": "stream",
          "name": "stderr",
          "text": [
            "Saving preprocessed data:   7%|▋         | 36/500 [00:00<00:10, 45.87it/s]"
          ]
        },
        {
          "output_type": "stream",
          "name": "stdout",
          "text": [
            "Copied image to /content/images/2010.02217v1-Figure3-1.png\n",
            "Copied image to /content/images/2010.02217v1-Figure2-1.png\n",
            "Copied image to /content/images/2010.02217v1-Table1-1.png\n",
            "Copied image to /content/images/2010.02983v2-Table6-1.png\n",
            "Copied image to /content/images/2010.02983v2-Figure1-1.png\n",
            "Copied image to /content/images/2010.02983v2-Figure9-1.png\n",
            "Copied image to /content/images/2010.02983v2-Figure7-1.png\n",
            "Copied image to /content/images/2010.02983v2-Figure6-1.png\n",
            "Copied image to /content/images/2010.02983v2-Figure8-1.png\n",
            "Copied image to /content/images/2010.02983v2-Figure5-1.png\n",
            "Copied image to /content/images/2010.02983v2-Table3-1.png\n",
            "Copied image to /content/images/2010.02983v2-Table5-1.png\n"
          ]
        },
        {
          "output_type": "stream",
          "name": "stderr",
          "text": [
            "Saving preprocessed data:  10%|█         | 52/500 [00:01<00:07, 62.14it/s]"
          ]
        },
        {
          "output_type": "stream",
          "name": "stdout",
          "text": [
            "Copied image to /content/images/2010.02983v2-Table7-1.png\n",
            "Copied image to /content/images/2010.02983v2-Figure4-1.png\n",
            "Copied image to /content/images/2010.02983v2-Table1-1.png\n",
            "Copied image to /content/images/2010.02983v2-Table4-1.png\n",
            "Copied image to /content/images/2010.02983v2-Table2-1.png\n",
            "Copied image to /content/images/2010.02983v2-Figure2-1.png\n",
            "Copied image to /content/images/2010.02983v2-Figure3-1.png\n",
            "Copied image to /content/images/2010.02123v1-Table4-1.png\n",
            "Copied image to /content/images/2010.02311v2-Table8-1.png\n",
            "Copied image to /content/images/2010.02311v2-Table1-1.png\n",
            "Copied image to /content/images/2010.02311v2-Table6-1.png\n",
            "Copied image to /content/images/2010.02311v2-Table7-1.png\n",
            "Copied image to /content/images/2010.02311v2-Figure1-1.png\n",
            "Copied image to /content/images/2010.02311v2-Table5-1.png\n",
            "Copied image to /content/images/2010.02656v1-Table2-1.png\n",
            "Copied image to /content/images/2010.02656v1-Table4-1.png\n",
            "Copied image to /content/images/2010.02656v1-Table5-1.png\n"
          ]
        },
        {
          "output_type": "stream",
          "name": "stderr",
          "text": [
            "\rSaving preprocessed data:  12%|█▏        | 59/500 [00:01<00:07, 62.78it/s]"
          ]
        },
        {
          "output_type": "stream",
          "name": "stdout",
          "text": [
            "Copied image to /content/images/2010.02656v1-Figure3-1.png\n",
            "Copied image to /content/images/2010.02656v1-Table1-1.png\n",
            "Copied image to /content/images/2010.02656v1-Figure1-1.png\n",
            "Copied image to /content/images/2010.02656v1-Figure2-1.png\n",
            "Copied image to /content/images/2010.02656v1-Table3-1.png\n",
            "Copied image to /content/images/2010.02656v1-Figure4-1.png\n",
            "Copied image to /content/images/2010.02473v1-Table4-1.png\n"
          ]
        },
        {
          "output_type": "stream",
          "name": "stderr",
          "text": [
            "\rSaving preprocessed data:  13%|█▎        | 66/500 [00:01<00:07, 57.05it/s]"
          ]
        },
        {
          "output_type": "stream",
          "name": "stdout",
          "text": [
            "Copied image to /content/images/2010.02473v1-Table3-1.png\n",
            "Copied image to /content/images/2010.02473v1-Table7-1.png\n",
            "Copied image to /content/images/2010.02473v1-Table6-1.png\n",
            "Copied image to /content/images/2010.02473v1-Figure4-1.png\n"
          ]
        },
        {
          "output_type": "stream",
          "name": "stderr",
          "text": [
            "\rSaving preprocessed data:  15%|█▍        | 73/500 [00:01<00:07, 60.03it/s]"
          ]
        },
        {
          "output_type": "stream",
          "name": "stdout",
          "text": [
            "Copied image to /content/images/2010.02473v1-Figure1-1.png\n",
            "Copied image to /content/images/2010.02473v1-Table5-1.png\n",
            "Copied image to /content/images/2010.02473v1-Figure2-1.png\n",
            "Copied image to /content/images/2010.02473v1-Figure3-1.png\n",
            "Copied image to /content/images/2010.02473v1-Table2-1.png\n",
            "Copied image to /content/images/2010.02473v1-Table1-1.png\n",
            "Copied image to /content/images/2010.02804v1-Table5-1.png\n",
            "Copied image to /content/images/2010.02804v1-Table2-1.png\n",
            "Copied image to /content/images/2010.02804v1-Table8-1.png\n",
            "Copied image to /content/images/2010.02804v1-Table9-1.png\n"
          ]
        },
        {
          "output_type": "stream",
          "name": "stderr",
          "text": [
            "\rSaving preprocessed data:  16%|█▌        | 80/500 [00:01<00:06, 61.13it/s]"
          ]
        },
        {
          "output_type": "stream",
          "name": "stdout",
          "text": [
            "Copied image to /content/images/2010.02804v1-Table3-1.png\n",
            "Copied image to /content/images/2010.02804v1-Table7-1.png\n"
          ]
        },
        {
          "output_type": "stream",
          "name": "stderr",
          "text": [
            "\rSaving preprocessed data:  17%|█▋        | 87/500 [00:01<00:07, 56.25it/s]"
          ]
        },
        {
          "output_type": "stream",
          "name": "stdout",
          "text": [
            "Copied image to /content/images/2010.02804v1-Figure2-1.png\n",
            "Copied image to /content/images/2010.02804v1-Table6-1.png\n",
            "Copied image to /content/images/2010.02804v1-Table1-1.png\n",
            "Copied image to /content/images/2010.02804v1-Figure1-1.png\n",
            "Copied image to /content/images/2010.02804v1-Table4-1.png\n",
            "Copied image to /content/images/2010.02693v2-Table2-1.png\n",
            "Copied image to /content/images/2010.02693v2-Figure1-1.png\n"
          ]
        },
        {
          "output_type": "stream",
          "name": "stderr",
          "text": [
            "\rSaving preprocessed data:  19%|█▊        | 93/500 [00:01<00:07, 55.30it/s]"
          ]
        },
        {
          "output_type": "stream",
          "name": "stdout",
          "text": [
            "Copied image to /content/images/2010.02693v2-Table3-1.png\n",
            "Copied image to /content/images/2010.02693v2-Figure2-1.png\n",
            "Copied image to /content/images/2010.02693v2-Table1-1.png\n",
            "Copied image to /content/images/2010.02693v2-Figure3-1.png\n",
            "Copied image to /content/images/2010.00840v1-Table16-1.png\n"
          ]
        },
        {
          "output_type": "stream",
          "name": "stderr",
          "text": [
            "\rSaving preprocessed data:  20%|█▉        | 99/500 [00:01<00:07, 54.48it/s]"
          ]
        },
        {
          "output_type": "stream",
          "name": "stdout",
          "text": [
            "Copied image to /content/images/2010.00840v1-Table9-1.png\n",
            "Copied image to /content/images/2010.00840v1-Table3-1.png\n",
            "Copied image to /content/images/2010.00840v1-Table10-1.png\n",
            "Copied image to /content/images/2010.00840v1-Figure1-1.png\n",
            "Copied image to /content/images/2010.00840v1-Table7-1.png\n",
            "Copied image to /content/images/2010.00840v1-Table4-1.png\n",
            "Copied image to /content/images/2010.00840v1-Table12-1.png\n"
          ]
        },
        {
          "output_type": "stream",
          "name": "stderr",
          "text": [
            "\rSaving preprocessed data:  21%|██        | 106/500 [00:01<00:06, 56.78it/s]"
          ]
        },
        {
          "output_type": "stream",
          "name": "stdout",
          "text": [
            "Copied image to /content/images/2010.00840v1-Table15-1.png\n",
            "Copied image to /content/images/2010.00840v1-Table8-1.png\n",
            "Copied image to /content/images/2010.00840v1-Table2-1.png\n",
            "Copied image to /content/images/2010.00840v1-Table11-1.png\n",
            "Copied image to /content/images/2010.00840v1-Table5-1.png\n",
            "Copied image to /content/images/2010.00840v1-Table14-1.png\n"
          ]
        },
        {
          "output_type": "stream",
          "name": "stderr",
          "text": [
            "\rSaving preprocessed data:  22%|██▏       | 112/500 [00:02<00:06, 56.57it/s]"
          ]
        },
        {
          "output_type": "stream",
          "name": "stdout",
          "text": [
            "Copied image to /content/images/2010.00840v1-Table13-1.png\n",
            "Copied image to /content/images/2010.00840v1-Table1-1.png\n",
            "Copied image to /content/images/2010.00840v1-Table6-1.png\n",
            "Copied image to /content/images/2010.00827v2-Figure3-1.png\n",
            "Copied image to /content/images/2010.00827v2-Figure4-1.png\n",
            "Copied image to /content/images/2010.00827v2-Figure1-1.png\n",
            "Copied image to /content/images/2010.00827v2-Table1-1.png\n",
            "Copied image to /content/images/2010.00827v2-Figure5-1.png\n",
            "Copied image to /content/images/2010.00827v2-Figure2-1.png\n",
            "Copied image to /content/images/2010.00827v2-Table2-1.png\n",
            "Copied image to /content/images/2010.01512v2-Figure2-1.png\n"
          ]
        },
        {
          "output_type": "stream",
          "name": "stderr",
          "text": [
            "Saving preprocessed data:  25%|██▍       | 124/500 [00:02<00:07, 53.25it/s]"
          ]
        },
        {
          "output_type": "stream",
          "name": "stdout",
          "text": [
            "Copied image to /content/images/2010.01512v2-Table3-1.png\n",
            "Copied image to /content/images/2010.01512v2-Table2-1.png\n",
            "Copied image to /content/images/2010.01512v2-Figure1-1.png\n",
            "Copied image to /content/images/2010.01512v2-Table1-1.png\n",
            "Copied image to /content/images/2010.01512v2-Figure3-1.png\n",
            "Copied image to /content/images/2010.01512v2-Figure4-1.png\n",
            "Copied image to /content/images/2010.01412v3-Figure6-1.png\n",
            "Copied image to /content/images/2010.01412v3-Table11-1.png\n",
            "Copied image to /content/images/2010.01412v3-Figure1-1.png\n",
            "Copied image to /content/images/2010.01412v3-Table8-1.png\n",
            "Copied image to /content/images/2010.01412v3-Table1-1.png\n",
            "Copied image to /content/images/2010.01412v3-Table10-1.png\n"
          ]
        },
        {
          "output_type": "stream",
          "name": "stderr",
          "text": [
            "\rSaving preprocessed data:  26%|██▌       | 130/500 [00:02<00:07, 52.12it/s]"
          ]
        },
        {
          "output_type": "stream",
          "name": "stdout",
          "text": [
            "Copied image to /content/images/2010.01412v3-Table3-1.png\n",
            "Copied image to /content/images/2010.01412v3-Figure3-1.png\n",
            "Copied image to /content/images/2010.01412v3-Table4-1.png\n",
            "Copied image to /content/images/2010.01412v3-Table7-1.png\n",
            "Copied image to /content/images/2010.01412v3-Figure4-1.png\n",
            "Copied image to /content/images/2010.01412v3-Table6-1.png\n",
            "Copied image to /content/images/2010.01412v3-Figure7-1.png\n"
          ]
        },
        {
          "output_type": "stream",
          "name": "stderr",
          "text": [
            "\rSaving preprocessed data:  27%|██▋       | 137/500 [00:02<00:06, 53.98it/s]"
          ]
        },
        {
          "output_type": "stream",
          "name": "stdout",
          "text": [
            "Copied image to /content/images/2010.01412v3-Figure2-1.png\n",
            "Copied image to /content/images/2010.01412v3-Table5-1.png\n",
            "Copied image to /content/images/2010.01412v3-Table9-1.png\n",
            "Copied image to /content/images/2010.01412v3-Table2-1.png\n"
          ]
        },
        {
          "output_type": "stream",
          "name": "stderr",
          "text": [
            "\rSaving preprocessed data:  29%|██▊       | 143/500 [00:02<00:06, 54.79it/s]"
          ]
        },
        {
          "output_type": "stream",
          "name": "stdout",
          "text": [
            "Copied image to /content/images/2010.00190v1-Table3-1.png\n",
            "Copied image to /content/images/2010.00190v1-Table2-1.png\n",
            "Copied image to /content/images/2010.00190v1-Figure3-1.png\n",
            "Copied image to /content/images/2010.00190v1-Table6-1.png\n",
            "Copied image to /content/images/2010.00190v1-Figure2-1.png\n",
            "Copied image to /content/images/2010.00190v1-Figure1-1.png\n"
          ]
        },
        {
          "output_type": "stream",
          "name": "stderr",
          "text": [
            "\rSaving preprocessed data:  30%|██▉       | 149/500 [00:02<00:06, 51.27it/s]"
          ]
        },
        {
          "output_type": "stream",
          "name": "stdout",
          "text": [
            "Copied image to /content/images/2010.00190v1-Table1-1.png\n",
            "Copied image to /content/images/2010.00190v1-Table4-1.png\n",
            "Copied image to /content/images/2010.00190v1-Table5-1.png\n",
            "Copied image to /content/images/2010.00979v1-Figure5-1.png\n",
            "Copied image to /content/images/2010.00979v1-Figure14-1.png\n",
            "Copied image to /content/images/2010.00979v1-Figure2-1.png\n",
            "Copied image to /content/images/2010.00979v1-Figure17-1.png\n"
          ]
        },
        {
          "output_type": "stream",
          "name": "stderr",
          "text": [
            "\rSaving preprocessed data:  31%|███       | 155/500 [00:03<00:08, 40.91it/s]"
          ]
        },
        {
          "output_type": "stream",
          "name": "stdout",
          "text": [
            "Copied image to /content/images/2010.00979v1-Table2-1.png\n",
            "Copied image to /content/images/2010.00979v1-Figure8-1.png\n",
            "Copied image to /content/images/2010.00979v1-Figure3-1.png\n",
            "Copied image to /content/images/2010.00979v1-Figure15-1.png\n"
          ]
        },
        {
          "output_type": "stream",
          "name": "stderr",
          "text": [
            "\rSaving preprocessed data:  32%|███▏      | 160/500 [00:03<00:08, 41.83it/s]"
          ]
        },
        {
          "output_type": "stream",
          "name": "stdout",
          "text": [
            "Copied image to /content/images/2010.00979v1-Figure11-1.png\n",
            "Copied image to /content/images/2010.00979v1-Figure16-1.png\n",
            "Copied image to /content/images/2010.00979v1-Figure6-1.png\n",
            "Copied image to /content/images/2010.00979v1-Figure1-1.png\n",
            "Copied image to /content/images/2010.00979v1-Figure18-1.png\n",
            "Copied image to /content/images/2010.00979v1-Figure7-1.png\n"
          ]
        },
        {
          "output_type": "stream",
          "name": "stderr",
          "text": [
            "Saving preprocessed data:  34%|███▍      | 171/500 [00:03<00:08, 39.82it/s]"
          ]
        },
        {
          "output_type": "stream",
          "name": "stdout",
          "text": [
            "Copied image to /content/images/2010.00979v1-Figure13-1.png\n",
            "Copied image to /content/images/2010.00979v1-Table1-1.png\n",
            "Copied image to /content/images/2010.00979v1-Figure4-1.png\n",
            "Copied image to /content/images/2010.00979v1-Figure9-1.png\n",
            "Copied image to /content/images/2010.00979v1-Figure12-1.png\n",
            "Copied image to /content/images/2010.00979v1-Figure10-1.png\n",
            "Copied image to /content/images/2010.01057v1-Table11-1.png\n",
            "Copied image to /content/images/2010.01057v1-Table2-1.png\n",
            "Copied image to /content/images/2010.01057v1-Table4-1.png\n",
            "Copied image to /content/images/2010.01057v1-Table10-1.png\n",
            "Copied image to /content/images/2010.01057v1-Table8-1.png\n",
            "Copied image to /content/images/2010.01057v1-Table1-1.png\n",
            "Copied image to /content/images/2010.01057v1-Table7-1.png\n"
          ]
        },
        {
          "output_type": "stream",
          "name": "stderr",
          "text": [
            "\rSaving preprocessed data:  36%|███▌      | 178/500 [00:03<00:06, 46.49it/s]"
          ]
        },
        {
          "output_type": "stream",
          "name": "stdout",
          "text": [
            "Copied image to /content/images/2010.01057v1-Figure1-1.png\n",
            "Copied image to /content/images/2010.01057v1-Table12-1.png\n",
            "Copied image to /content/images/2010.01057v1-Table5-1.png\n",
            "Copied image to /content/images/2010.01057v1-Table6-1.png\n",
            "Copied image to /content/images/2010.01057v1-Table9-1.png\n",
            "Copied image to /content/images/2010.01057v1-Table3-1.png\n",
            "Copied image to /content/images/2009.14660v2-Figure3-1.png\n",
            "Copied image to /content/images/2009.14660v2-Figure2-1.png\n"
          ]
        },
        {
          "output_type": "stream",
          "name": "stderr",
          "text": [
            "Saving preprocessed data:  38%|███▊      | 189/500 [00:03<00:08, 36.55it/s]"
          ]
        },
        {
          "output_type": "stream",
          "name": "stdout",
          "text": [
            "Copied image to /content/images/2009.14660v2-Figure4-1.png\n",
            "Copied image to /content/images/2009.14660v2-Table5-1.png\n",
            "Copied image to /content/images/2009.14660v2-Figure5-1.png\n",
            "Copied image to /content/images/2009.14660v2-Table4-1.png\n",
            "Copied image to /content/images/2009.14660v2-Table2-1.png\n",
            "Copied image to /content/images/2009.14660v2-Table6-1.png\n",
            "Copied image to /content/images/2009.14660v2-Figure1-1.png\n"
          ]
        },
        {
          "output_type": "stream",
          "name": "stderr",
          "text": [
            "\rSaving preprocessed data:  39%|███▉      | 194/500 [00:04<00:08, 36.34it/s]"
          ]
        },
        {
          "output_type": "stream",
          "name": "stdout",
          "text": [
            "Copied image to /content/images/2009.14660v2-Table3-1.png\n",
            "Copied image to /content/images/2009.14660v2-Table1-1.png\n",
            "Copied image to /content/images/2009.14660v2-Figure6-1.png\n",
            "Copied image to /content/images/2010.01475v1-Table6-1.png\n",
            "Copied image to /content/images/2010.01475v1-Table2-1.png\n",
            "Copied image to /content/images/2010.01475v1-Figure3-1.png\n"
          ]
        },
        {
          "output_type": "stream",
          "name": "stderr",
          "text": [
            "Saving preprocessed data:  40%|████      | 202/500 [00:04<00:09, 31.60it/s]"
          ]
        },
        {
          "output_type": "stream",
          "name": "stdout",
          "text": [
            "Copied image to /content/images/2010.01475v1-Figure4-1.png\n",
            "Copied image to /content/images/2010.01475v1-Table5-1.png\n",
            "Copied image to /content/images/2010.01475v1-Figure1-1.png\n",
            "Copied image to /content/images/2010.01475v1-Table4-1.png\n",
            "Copied image to /content/images/2010.01475v1-Table1-1.png\n",
            "Copied image to /content/images/2010.01475v1-Figure2-1.png\n",
            "Copied image to /content/images/2010.01475v1-Table3-1.png\n",
            "Copied image to /content/images/2009.14530v1-Figure2-1.png\n"
          ]
        },
        {
          "output_type": "stream",
          "name": "stderr",
          "text": [
            "\rSaving preprocessed data:  41%|████      | 206/500 [00:04<00:08, 32.80it/s]"
          ]
        },
        {
          "output_type": "stream",
          "name": "stdout",
          "text": [
            "Copied image to /content/images/2009.14530v1-Table3-1.png\n",
            "Copied image to /content/images/2009.14530v1-Figure8-1.png\n",
            "Copied image to /content/images/2009.14530v1-Figure6-1.png\n",
            "Copied image to /content/images/2009.14530v1-Figure4-1.png\n"
          ]
        },
        {
          "output_type": "stream",
          "name": "stderr",
          "text": [
            "Saving preprocessed data:  43%|████▎     | 213/500 [00:04<00:11, 24.45it/s]"
          ]
        },
        {
          "output_type": "stream",
          "name": "stdout",
          "text": [
            "Copied image to /content/images/2009.14530v1-Figure1-1.png\n",
            "Copied image to /content/images/2009.14530v1-Figure3-1.png\n",
            "Copied image to /content/images/2009.14530v1-Figure5-1.png\n",
            "Copied image to /content/images/2009.14530v1-Table1-1.png\n",
            "Copied image to /content/images/2009.14530v1-Figure9-1.png\n",
            "Copied image to /content/images/2009.10557v2-Figure1-1.png\n",
            "Copied image to /content/images/2009.10557v2-Table3-1.png\n",
            "Copied image to /content/images/2009.10557v2-Figure2-1.png\n"
          ]
        },
        {
          "output_type": "stream",
          "name": "stderr",
          "text": [
            "Saving preprocessed data:  45%|████▍     | 223/500 [00:05<00:08, 30.82it/s]"
          ]
        },
        {
          "output_type": "stream",
          "name": "stdout",
          "text": [
            "Copied image to /content/images/2009.10557v2-Figure3-1.png\n",
            "Copied image to /content/images/2009.10557v2-Table1-1.png\n",
            "Copied image to /content/images/2009.10557v2-Table5-1.png\n",
            "Copied image to /content/images/2009.10557v2-Table4-1.png\n",
            "Copied image to /content/images/2009.10557v2-Table2-1.png\n",
            "Copied image to /content/images/2009.11146v2-Figure3-1.png\n"
          ]
        },
        {
          "output_type": "stream",
          "name": "stderr",
          "text": [
            "\rSaving preprocessed data:  45%|████▌     | 227/500 [00:05<00:09, 28.78it/s]"
          ]
        },
        {
          "output_type": "stream",
          "name": "stdout",
          "text": [
            "Copied image to /content/images/2009.11146v2-Figure6-1.png\n",
            "Copied image to /content/images/2009.11146v2-Figure7-1.png\n",
            "Copied image to /content/images/2009.11146v2-Figure4-1.png\n",
            "Copied image to /content/images/2009.11146v2-Figure8-1.png\n",
            "Copied image to /content/images/2009.11146v2-Figure2-1.png\n",
            "Copied image to /content/images/2009.11146v2-Figure1-1.png\n"
          ]
        },
        {
          "output_type": "stream",
          "name": "stderr",
          "text": [
            "Saving preprocessed data:  47%|████▋     | 237/500 [00:05<00:07, 32.89it/s]"
          ]
        },
        {
          "output_type": "stream",
          "name": "stdout",
          "text": [
            "Copied image to /content/images/2009.11146v2-Figure5-1.png\n",
            "Copied image to /content/images/2009.13888v4-Figure1-1.png\n",
            "Copied image to /content/images/2009.12677v2-Figure6-1.png\n",
            "Copied image to /content/images/2009.12677v2-Figure4-1.png\n",
            "Copied image to /content/images/2009.12677v2-Figure1-1.png\n",
            "Copied image to /content/images/2009.12677v2-Table4-1.png\n",
            "Copied image to /content/images/2009.12677v2-Figure7-1.png\n",
            "Copied image to /content/images/2009.09805v2-Figure2-1.png\n",
            "Copied image to /content/images/2009.09805v2-Figure4-1.png\n",
            "Copied image to /content/images/2009.09805v2-Table2-1.png\n"
          ]
        },
        {
          "output_type": "stream",
          "name": "stderr",
          "text": [
            "\rSaving preprocessed data:  48%|████▊     | 241/500 [00:05<00:08, 31.65it/s]"
          ]
        },
        {
          "output_type": "stream",
          "name": "stdout",
          "text": [
            "Copied image to /content/images/2009.09805v2-Table4-1.png\n",
            "Copied image to /content/images/2009.09805v2-Figure3-1.png\n",
            "Copied image to /content/images/2009.09805v2-Table5-1.png\n",
            "Copied image to /content/images/2009.09805v2-Figure1-1.png\n",
            "Copied image to /content/images/2009.09805v2-Figure6-1.png\n"
          ]
        },
        {
          "output_type": "stream",
          "name": "stderr",
          "text": [
            "Saving preprocessed data:  50%|████▉     | 249/500 [00:06<00:10, 24.56it/s]"
          ]
        },
        {
          "output_type": "stream",
          "name": "stdout",
          "text": [
            "Copied image to /content/images/2009.09805v2-Figure5-1.png\n",
            "Copied image to /content/images/2009.09805v2-Table6-1.png\n",
            "Copied image to /content/images/2009.09805v2-Table3-1.png\n",
            "Copied image to /content/images/2009.09805v2-Table1-1.png\n",
            "Copied image to /content/images/2009.09680v5-Figure2-1.png\n",
            "Copied image to /content/images/2009.09680v5-Figure1-1.png\n"
          ]
        },
        {
          "output_type": "stream",
          "name": "stderr",
          "text": [
            "Saving preprocessed data:  51%|█████▏    | 257/500 [00:06<00:09, 26.68it/s]"
          ]
        },
        {
          "output_type": "stream",
          "name": "stdout",
          "text": [
            "Copied image to /content/images/2009.09680v5-Table3-1.png\n",
            "Copied image to /content/images/2009.09680v5-Figure3-1.png\n",
            "Copied image to /content/images/2009.09680v5-Table2-1.png\n",
            "Copied image to /content/images/2009.09680v5-Table1-1.png\n",
            "Copied image to /content/images/2009.09680v5-Table4-1.png\n",
            "Copied image to /content/images/2009.09680v5-Table5-1.png\n",
            "Copied image to /content/images/2009.13436v2-Table4-1.png\n"
          ]
        },
        {
          "output_type": "stream",
          "name": "stderr",
          "text": [
            "\rSaving preprocessed data:  52%|█████▏    | 261/500 [00:06<00:09, 25.68it/s]"
          ]
        },
        {
          "output_type": "stream",
          "name": "stdout",
          "text": [
            "Copied image to /content/images/2009.13436v2-Figure2-1.png\n",
            "Copied image to /content/images/2009.13436v2-Figure3-1.png\n",
            "Copied image to /content/images/2009.13436v2-Table1-1.png\n",
            "Copied image to /content/images/2009.13436v2-Figure1-1.png\n",
            "Copied image to /content/images/2009.13436v2-Table5-1.png\n"
          ]
        },
        {
          "output_type": "stream",
          "name": "stderr",
          "text": [
            "\rSaving preprocessed data:  53%|█████▎    | 264/500 [00:06<00:11, 21.33it/s]"
          ]
        },
        {
          "output_type": "stream",
          "name": "stdout",
          "text": [
            "Copied image to /content/images/2009.13436v2-Figure4-1.png\n",
            "Copied image to /content/images/2009.13436v2-Figure9-1.png\n",
            "Copied image to /content/images/2009.13436v2-Table3-1.png\n",
            "Copied image to /content/images/2009.13436v2-Figure5-1.png\n",
            "Copied image to /content/images/2009.13436v2-Figure7-1.png\n"
          ]
        },
        {
          "output_type": "stream",
          "name": "stderr",
          "text": [
            "\rSaving preprocessed data:  54%|█████▎    | 268/500 [00:07<00:10, 21.76it/s]"
          ]
        },
        {
          "output_type": "stream",
          "name": "stdout",
          "text": [
            "Copied image to /content/images/2009.13436v2-Figure6-1.png\n",
            "Copied image to /content/images/2009.13436v2-Table2-1.png\n"
          ]
        },
        {
          "output_type": "stream",
          "name": "stderr",
          "text": [
            "Saving preprocessed data:  55%|█████▌    | 277/500 [00:07<00:08, 26.25it/s]"
          ]
        },
        {
          "output_type": "stream",
          "name": "stdout",
          "text": [
            "Copied image to /content/images/2009.13436v2-Figure8-1.png\n",
            "Copied image to /content/images/2009.12991v4-Figure3-1.png\n",
            "Copied image to /content/images/2009.12991v4-Figure7-1.png\n",
            "Copied image to /content/images/2009.12991v4-Table8-1.png\n",
            "Copied image to /content/images/2009.12991v4-Table9-1.png\n",
            "Copied image to /content/images/2009.12991v4-Table2-1.png\n",
            "Copied image to /content/images/2009.12991v4-Table5-1.png\n",
            "Copied image to /content/images/2009.12991v4-Table1-1.png\n",
            "Copied image to /content/images/2009.12991v4-Table6-1.png\n",
            "Copied image to /content/images/2009.12991v4-Figure6-1.png\n",
            "Copied image to /content/images/2009.12991v4-Figure2-1.png\n",
            "Copied image to /content/images/2009.12991v4-Table7-1.png\n",
            "Copied image to /content/images/2009.12991v4-Table3-1.png\n",
            "Copied image to /content/images/2009.12991v4-Figure4-1.png\n"
          ]
        },
        {
          "output_type": "stream",
          "name": "stderr",
          "text": [
            "Saving preprocessed data:  58%|█████▊    | 289/500 [00:07<00:06, 33.91it/s]"
          ]
        },
        {
          "output_type": "stream",
          "name": "stdout",
          "text": [
            "Copied image to /content/images/2009.12991v4-Figure1-1.png\n",
            "Copied image to /content/images/2009.12991v4-Table10-1.png\n",
            "Copied image to /content/images/2009.12991v4-Figure5-1.png\n",
            "Copied image to /content/images/2009.12991v4-Table4-1.png\n",
            "Copied image to /content/images/2009.09801v1-Figure10-1.png\n",
            "Copied image to /content/images/2009.09801v1-Figure6-1.png\n",
            "Copied image to /content/images/2009.09801v1-Figure13-1.png\n",
            "Copied image to /content/images/2009.09801v1-Figure2-1.png\n"
          ]
        },
        {
          "output_type": "stream",
          "name": "stderr",
          "text": [
            "Saving preprocessed data:  60%|██████    | 300/500 [00:07<00:04, 40.29it/s]"
          ]
        },
        {
          "output_type": "stream",
          "name": "stdout",
          "text": [
            "Copied image to /content/images/2009.09801v1-Figure7-1.png\n",
            "Copied image to /content/images/2009.09801v1-Table1-1.png\n",
            "Copied image to /content/images/2009.09801v1-Table2-1.png\n",
            "Copied image to /content/images/2009.09801v1-Figure9-1.png\n",
            "Copied image to /content/images/2009.09801v1-Figure15-1.png\n",
            "Copied image to /content/images/2009.09801v1-Figure4-1.png\n",
            "Copied image to /content/images/2009.09801v1-Figure8-1.png\n",
            "Copied image to /content/images/2009.09801v1-Figure14-1.png\n",
            "Copied image to /content/images/2009.09801v1-Figure11-1.png\n",
            "Copied image to /content/images/2009.09801v1-Figure3-1.png\n"
          ]
        },
        {
          "output_type": "stream",
          "name": "stderr",
          "text": [
            "\rSaving preprocessed data:  61%|██████    | 305/500 [00:08<00:05, 37.16it/s]"
          ]
        },
        {
          "output_type": "stream",
          "name": "stdout",
          "text": [
            "Copied image to /content/images/2009.09801v1-Figure1-1.png\n",
            "Copied image to /content/images/2009.09801v1-Figure12-1.png\n",
            "Copied image to /content/images/2009.09801v1-Figure5-1.png\n",
            "Copied image to /content/images/2009.13299v1-Table3-1.png\n",
            "Copied image to /content/images/2009.13299v1-Figure5-1.png\n",
            "Copied image to /content/images/2009.13299v1-Figure1-1.png\n",
            "Copied image to /content/images/2009.13299v1-Table2-1.png\n",
            "Copied image to /content/images/2009.13299v1-Table1-1.png\n"
          ]
        },
        {
          "output_type": "stream",
          "name": "stderr",
          "text": [
            "Saving preprocessed data:  63%|██████▎   | 314/500 [00:08<00:05, 34.07it/s]"
          ]
        },
        {
          "output_type": "stream",
          "name": "stdout",
          "text": [
            "Copied image to /content/images/2009.13299v1-Figure2-1.png\n",
            "Copied image to /content/images/2009.08965v3-Table5-1.png\n",
            "Copied image to /content/images/2009.08965v3-Table8-1.png\n",
            "Copied image to /content/images/2009.08965v3-Figure3-1.png\n",
            "Copied image to /content/images/2009.08965v3-Table6-1.png\n"
          ]
        },
        {
          "output_type": "stream",
          "name": "stderr",
          "text": [
            "\rSaving preprocessed data:  64%|██████▎   | 318/500 [00:08<00:06, 29.83it/s]"
          ]
        },
        {
          "output_type": "stream",
          "name": "stdout",
          "text": [
            "Copied image to /content/images/2009.08965v3-Figure7-1.png\n",
            "Copied image to /content/images/2009.08965v3-Figure5-1.png\n",
            "Copied image to /content/images/2009.08965v3-Figure6-1.png\n",
            "Copied image to /content/images/2009.08965v3-Table7-1.png\n",
            "Copied image to /content/images/2009.08965v3-Figure2-1.png\n",
            "Copied image to /content/images/2009.08965v3-Table9-1.png\n"
          ]
        },
        {
          "output_type": "stream",
          "name": "stderr",
          "text": [
            "Saving preprocessed data:  66%|██████▌   | 330/500 [00:08<00:04, 39.63it/s]"
          ]
        },
        {
          "output_type": "stream",
          "name": "stdout",
          "text": [
            "Copied image to /content/images/2009.08965v3-Table3-1.png\n",
            "Copied image to /content/images/2009.08965v3-Figure4-1.png\n",
            "Copied image to /content/images/2009.08965v3-Table2-1.png\n",
            "Copied image to /content/images/2009.08965v3-Table4-1.png\n",
            "Copied image to /content/images/2009.08965v3-Table1-1.png\n",
            "Copied image to /content/images/2009.08229v2-Figure2-1.png\n",
            "Copied image to /content/images/2009.08229v2-Table2-1.png\n",
            "Copied image to /content/images/2009.08229v2-Table1-1.png\n",
            "Copied image to /content/images/2009.08229v2-Figure1-1.png\n",
            "Copied image to /content/images/2009.08229v2-Table4-1.png\n",
            "Copied image to /content/images/2009.08229v2-Table5-1.png\n",
            "Copied image to /content/images/2009.08229v2-Table3-1.png\n",
            "Copied image to /content/images/2009.08697v2-Figure1-1.png\n"
          ]
        },
        {
          "output_type": "stream",
          "name": "stderr",
          "text": [
            "Saving preprocessed data:  69%|██████▉   | 344/500 [00:08<00:03, 49.54it/s]"
          ]
        },
        {
          "output_type": "stream",
          "name": "stdout",
          "text": [
            "Copied image to /content/images/2009.08697v2-Table1-1.png\n",
            "Copied image to /content/images/2009.08697v2-Table2-1.png\n",
            "Copied image to /content/images/2009.08697v2-Figure3-1.png\n",
            "Copied image to /content/images/2009.08697v2-Figure2-1.png\n",
            "Copied image to /content/images/2009.08697v2-Figure4-1.png\n",
            "Copied image to /content/images/2009.09318v2-Table5-1.png\n",
            "Copied image to /content/images/2009.09318v2-Table2-1.png\n",
            "Copied image to /content/images/2009.09318v2-Table4-1.png\n",
            "Copied image to /content/images/2009.09318v2-Figure2-1.png\n",
            "Copied image to /content/images/2009.09318v2-Figure1-1.png\n",
            "Copied image to /content/images/2009.09318v2-Figure3-1.png\n",
            "Copied image to /content/images/2009.09318v2-Table1-1.png\n",
            "Copied image to /content/images/2009.09318v2-Table3-1.png\n"
          ]
        },
        {
          "output_type": "stream",
          "name": "stderr",
          "text": [
            "\rSaving preprocessed data:  70%|███████   | 350/500 [00:09<00:04, 34.86it/s]"
          ]
        },
        {
          "output_type": "stream",
          "name": "stdout",
          "text": [
            "Copied image to /content/images/2009.09318v2-Figure4-1.png\n",
            "Copied image to /content/images/2009.08454v3-Figure2-1.png\n",
            "Copied image to /content/images/2009.08454v3-Table2-1.png\n",
            "Copied image to /content/images/2009.08454v3-Table5-1.png\n",
            "Copied image to /content/images/2009.08454v3-Table7-1.png\n",
            "Copied image to /content/images/2009.08454v3-Table8-1.png\n",
            "Copied image to /content/images/2009.08454v3-Table4-1.png\n",
            "Copied image to /content/images/2009.08454v3-Table6-1.png\n"
          ]
        },
        {
          "output_type": "stream",
          "name": "stderr",
          "text": [
            "\rSaving preprocessed data:  71%|███████   | 356/500 [00:09<00:04, 30.48it/s]"
          ]
        },
        {
          "output_type": "stream",
          "name": "stdout",
          "text": [
            "Copied image to /content/images/2009.08454v3-Figure1-1.png\n",
            "Copied image to /content/images/2009.08454v3-Figure3-1.png\n",
            "Copied image to /content/images/2009.08454v3-Table3-1.png\n",
            "Copied image to /content/images/2009.08454v3-Table1-1.png\n",
            "Copied image to /content/images/2009.07602v1-Table8-1.png\n"
          ]
        },
        {
          "output_type": "stream",
          "name": "stderr",
          "text": [
            "Saving preprocessed data:  73%|███████▎  | 364/500 [00:09<00:04, 32.45it/s]"
          ]
        },
        {
          "output_type": "stream",
          "name": "stdout",
          "text": [
            "Copied image to /content/images/2009.07602v1-Table9-1.png\n",
            "Copied image to /content/images/2009.07602v1-Table6-1.png\n",
            "Copied image to /content/images/2009.07602v1-Figure2-1.png\n",
            "Copied image to /content/images/2009.07602v1-Table11-1.png\n",
            "Copied image to /content/images/2009.07602v1-Figure1-1.png\n",
            "Copied image to /content/images/2009.07602v1-Table10-1.png\n"
          ]
        },
        {
          "output_type": "stream",
          "name": "stderr",
          "text": [
            "\rSaving preprocessed data:  74%|███████▎  | 368/500 [00:09<00:04, 28.12it/s]"
          ]
        },
        {
          "output_type": "stream",
          "name": "stdout",
          "text": [
            "Copied image to /content/images/2009.07602v1-Table4-1.png\n",
            "Copied image to /content/images/2009.07602v1-Table5-1.png\n",
            "Copied image to /content/images/2009.07602v1-Figure4-1.png\n",
            "Copied image to /content/images/2009.07602v1-Figure3-1.png\n",
            "Copied image to /content/images/2009.07602v1-Table1-1.png\n",
            "Copied image to /content/images/2009.07602v1-Table7-1.png\n",
            "Copied image to /content/images/2009.07602v1-Table2-1.png\n",
            "Copied image to /content/images/2009.07602v1-Table3-1.png\n",
            "Copied image to /content/images/2009.07526v2-Figure5-1.png\n"
          ]
        },
        {
          "output_type": "stream",
          "name": "stderr",
          "text": [
            "Saving preprocessed data:  76%|███████▋  | 382/500 [00:10<00:03, 37.13it/s]"
          ]
        },
        {
          "output_type": "stream",
          "name": "stdout",
          "text": [
            "Copied image to /content/images/2009.07526v2-Figure6-1.png\n",
            "Copied image to /content/images/2009.07526v2-Table1-1.png\n",
            "Copied image to /content/images/2009.07526v2-Table2-1.png\n",
            "Copied image to /content/images/2009.07526v2-Figure4-1.png\n",
            "Copied image to /content/images/2009.07526v2-Figure3-1.png\n",
            "Copied image to /content/images/2009.07526v2-Table3-1.png\n",
            "Copied image to /content/images/2009.07526v2-Table4-1.png\n",
            "Copied image to /content/images/2009.07526v2-Figure1-1.png\n",
            "Copied image to /content/images/2009.07526v2-Figure2-1.png\n",
            "Copied image to /content/images/2009.07453v2-Table7-1.png\n"
          ]
        },
        {
          "output_type": "stream",
          "name": "stderr",
          "text": [
            "Saving preprocessed data:  79%|███████▉  | 395/500 [00:10<00:02, 40.50it/s]"
          ]
        },
        {
          "output_type": "stream",
          "name": "stdout",
          "text": [
            "Copied image to /content/images/2009.07453v2-Table10-1.png\n",
            "Copied image to /content/images/2009.07453v2-Figure3-1.png\n",
            "Copied image to /content/images/2009.07453v2-Table3-1.png\n",
            "Copied image to /content/images/2009.07453v2-Table4-1.png\n",
            "Copied image to /content/images/2009.07453v2-Table9-1.png\n",
            "Copied image to /content/images/2009.07453v2-Table8-1.png\n",
            "Copied image to /content/images/2009.07453v2-Figure2-1.png\n",
            "Copied image to /content/images/2009.07453v2-Table6-1.png\n",
            "Copied image to /content/images/2009.07453v2-Figure1-1.png\n",
            "Copied image to /content/images/2009.07453v2-Table1-1.png\n",
            "Copied image to /content/images/2009.07453v2-Table5-1.png\n",
            "Copied image to /content/images/2009.07453v2-Table2-1.png\n"
          ]
        },
        {
          "output_type": "stream",
          "name": "stderr",
          "text": [
            "Saving preprocessed data:  81%|████████  | 406/500 [00:10<00:02, 44.73it/s]"
          ]
        },
        {
          "output_type": "stream",
          "name": "stdout",
          "text": [
            "Copied image to /content/images/2009.07111v2-Figure2-1.png\n",
            "Copied image to /content/images/2009.07111v2-Table3-1.png\n",
            "Copied image to /content/images/2009.07111v2-Figure1-1.png\n",
            "Copied image to /content/images/2009.07111v2-Table1-1.png\n",
            "Copied image to /content/images/2009.07111v2-Table4-1.png\n",
            "Copied image to /content/images/2009.07111v2-Figure3-1.png\n",
            "Copied image to /content/images/2009.07111v2-Table5-1.png\n",
            "Copied image to /content/images/2009.07111v2-Table6-1.png\n",
            "Copied image to /content/images/2009.07111v2-Table2-1.png\n",
            "Copied image to /content/images/2009.08052v1-Table1-1.png\n",
            "Copied image to /content/images/2009.08052v1-Figure2-1.png\n",
            "Copied image to /content/images/2009.08052v1-Figure3-1.png\n"
          ]
        },
        {
          "output_type": "stream",
          "name": "stderr",
          "text": [
            "Saving preprocessed data:  84%|████████▍ | 419/500 [00:10<00:01, 50.36it/s]"
          ]
        },
        {
          "output_type": "stream",
          "name": "stdout",
          "text": [
            "Copied image to /content/images/2009.08052v1-Figure1-1.png\n",
            "Copied image to /content/images/2009.08052v1-Figure8-1.png\n",
            "Copied image to /content/images/2009.08052v1-Table2-1.png\n",
            "Copied image to /content/images/2009.08052v1-Figure4-1.png\n",
            "Copied image to /content/images/2009.08052v1-Figure5-1.png\n",
            "Copied image to /content/images/2009.08052v1-Figure7-1.png\n",
            "Copied image to /content/images/2009.00142v4-Figure4-1.png\n",
            "Copied image to /content/images/2009.00142v4-Figure1-1.png\n",
            "Copied image to /content/images/2009.00142v4-Figure3-1.png\n",
            "Copied image to /content/images/2009.00142v4-Figure2-1.png\n",
            "Copied image to /content/images/2009.00142v4-Table4-1.png\n"
          ]
        },
        {
          "output_type": "stream",
          "name": "stderr",
          "text": [
            "Saving preprocessed data:  86%|████████▌ | 431/500 [00:11<00:01, 52.26it/s]"
          ]
        },
        {
          "output_type": "stream",
          "name": "stdout",
          "text": [
            "Copied image to /content/images/2009.00142v4-Table1-1.png\n",
            "Copied image to /content/images/2009.00142v4-Table5-1.png\n",
            "Copied image to /content/images/2009.00142v4-Table3-1.png\n",
            "Copied image to /content/images/2009.00142v4-Table2-1.png\n",
            "Copied image to /content/images/2009.00142v4-Figure5-1.png\n",
            "Copied image to /content/images/2008.12953v2-Figure2-1.png\n",
            "Copied image to /content/images/2008.12953v2-Table1-1.png\n",
            "Copied image to /content/images/2008.12953v2-Figure1-1.png\n",
            "Copied image to /content/images/2008.12905v1-Figure1-1.png\n",
            "Copied image to /content/images/2008.12905v1-Figure5-1.png\n",
            "Copied image to /content/images/2008.12905v1-Figure8-1.png\n",
            "Copied image to /content/images/2008.12905v1-Figure2-1.png\n"
          ]
        },
        {
          "output_type": "stream",
          "name": "stderr",
          "text": [
            "\rSaving preprocessed data:  87%|████████▋ | 437/500 [00:11<00:01, 50.63it/s]"
          ]
        },
        {
          "output_type": "stream",
          "name": "stdout",
          "text": [
            "Copied image to /content/images/2008.12905v1-Figure3-1.png\n",
            "Copied image to /content/images/2008.12905v1-Figure6-1.png\n",
            "Copied image to /content/images/2008.12905v1-Figure4-1.png\n",
            "Copied image to /content/images/2008.12905v1-Figure9-1.png\n",
            "Copied image to /content/images/2008.12905v1-Figure7-1.png\n",
            "Copied image to /content/images/2009.05766v2-Figure9-1.png\n",
            "Copied image to /content/images/2009.05766v2-Figure19-1.png\n",
            "Copied image to /content/images/2009.05766v2-Figure8-1.png\n",
            "Copied image to /content/images/2009.05766v2-Figure4-1.png\n",
            "Copied image to /content/images/2009.05766v2-Figure11-1.png\n",
            "Copied image to /content/images/2009.04724v3-Table3-1.png\n"
          ]
        },
        {
          "output_type": "stream",
          "name": "stderr",
          "text": [
            "Saving preprocessed data:  90%|████████▉ | 449/500 [00:11<00:01, 45.86it/s]"
          ]
        },
        {
          "output_type": "stream",
          "name": "stdout",
          "text": [
            "Copied image to /content/images/2009.04724v3-Figure5-1.png\n",
            "Copied image to /content/images/2009.04724v3-Figure1-1.png\n",
            "Copied image to /content/images/2009.04724v3-Table1-1.png\n",
            "Copied image to /content/images/2009.04724v3-Table5-1.png\n",
            "Copied image to /content/images/2009.04724v3-Table2-1.png\n",
            "Copied image to /content/images/2009.04724v3-Table6-1.png\n",
            "Copied image to /content/images/2009.04724v3-Table4-1.png\n",
            "Copied image to /content/images/2009.04724v3-Figure4-1.png\n"
          ]
        },
        {
          "output_type": "stream",
          "name": "stderr",
          "text": [
            "Saving preprocessed data:  92%|█████████▏| 460/500 [00:11<00:00, 45.09it/s]"
          ]
        },
        {
          "output_type": "stream",
          "name": "stdout",
          "text": [
            "Copied image to /content/images/2009.04724v3-Figure2-1.png\n",
            "Copied image to /content/images/2009.04724v3-Figure3-1.png\n",
            "Copied image to /content/images/2008.13335v1-Table1-1.png\n",
            "Copied image to /content/images/2008.13335v1-Figure4-1.png\n",
            "Copied image to /content/images/2008.13335v1-Figure5-1.png\n",
            "Copied image to /content/images/2008.13335v1-Figure1-1.png\n",
            "Copied image to /content/images/2008.13335v1-Figure3-1.png\n",
            "Copied image to /content/images/2008.13335v1-Figure6-1.png\n",
            "Copied image to /content/images/2009.05241v2-Figure5-1.png\n",
            "Copied image to /content/images/2009.05241v2-Figure4-1.png\n",
            "Copied image to /content/images/2009.05241v2-Table1-1.png\n"
          ]
        },
        {
          "output_type": "stream",
          "name": "stderr",
          "text": [
            "\rSaving preprocessed data:  93%|█████████▎| 466/500 [00:11<00:00, 47.51it/s]"
          ]
        },
        {
          "output_type": "stream",
          "name": "stdout",
          "text": [
            "Copied image to /content/images/2009.05241v2-Figure1-1.png\n",
            "Copied image to /content/images/2009.05241v2-Figure3-1.png\n",
            "Copied image to /content/images/2009.05241v2-Figure2-1.png\n",
            "Copied image to /content/images/2008.11567v1-Table1-1.png\n",
            "Copied image to /content/images/2008.11567v1-Figure3-1.png\n",
            "Copied image to /content/images/2008.11567v1-Table2-1.png\n",
            "Copied image to /content/images/2008.11567v1-Figure1-1.png\n"
          ]
        },
        {
          "output_type": "stream",
          "name": "stderr",
          "text": [
            "\rSaving preprocessed data:  94%|█████████▍| 471/500 [00:12<00:00, 37.39it/s]"
          ]
        },
        {
          "output_type": "stream",
          "name": "stdout",
          "text": [
            "Copied image to /content/images/2008.11567v1-Figure2-1.png\n",
            "Copied image to /content/images/2008.11567v1-Table3-1.png\n",
            "Copied image to /content/images/2008.11783v1-Table2-1.png\n",
            "Copied image to /content/images/2008.11783v1-Figure3-1.png\n",
            "Copied image to /content/images/2008.11783v1-Figure5-1.png\n",
            "Copied image to /content/images/2008.11783v1-Table6-1.png\n"
          ]
        },
        {
          "output_type": "stream",
          "name": "stderr",
          "text": [
            "Saving preprocessed data:  97%|█████████▋| 483/500 [00:12<00:00, 38.91it/s]"
          ]
        },
        {
          "output_type": "stream",
          "name": "stdout",
          "text": [
            "Copied image to /content/images/2008.11783v1-Figure7-1.png\n",
            "Copied image to /content/images/2008.11783v1-Figure6-1.png\n",
            "Copied image to /content/images/2008.11783v1-Figure2-1.png\n",
            "Copied image to /content/images/2008.11783v1-Table7-1.png\n",
            "Copied image to /content/images/2008.11783v1-Figure1-1.png\n",
            "Copied image to /content/images/2008.11783v1-Table5-1.png\n",
            "Copied image to /content/images/2008.11783v1-Table1-1.png\n",
            "Copied image to /content/images/2008.09514v1-Figure2-1.png\n",
            "Copied image to /content/images/2008.09514v1-Table5-1.png\n",
            "Copied image to /content/images/2008.09514v1-Table2-1.png\n",
            "Copied image to /content/images/2008.09514v1-Figure4-1.png\n"
          ]
        },
        {
          "output_type": "stream",
          "name": "stderr",
          "text": [
            "Saving preprocessed data:  99%|█████████▉| 494/500 [00:12<00:00, 45.46it/s]"
          ]
        },
        {
          "output_type": "stream",
          "name": "stdout",
          "text": [
            "Copied image to /content/images/2008.09514v1-Table4-1.png\n",
            "Copied image to /content/images/2008.09514v1-Figure1-1.png\n",
            "Copied image to /content/images/2008.09514v1-Table1-1.png\n",
            "Copied image to /content/images/2008.09514v1-Table3-1.png\n",
            "Copied image to /content/images/2008.09514v1-Figure5-1.png\n",
            "Copied image to /content/images/2008.11087v2-Table3-1.png\n",
            "Copied image to /content/images/2008.11087v2-Figure3-1.png\n",
            "Copied image to /content/images/2008.11087v2-Figure1-1.png\n",
            "Copied image to /content/images/2008.11087v2-Figure5-1.png\n",
            "Copied image to /content/images/2008.11087v2-Table5-1.png\n",
            "Copied image to /content/images/2008.11087v2-Figure4-1.png\n"
          ]
        },
        {
          "output_type": "stream",
          "name": "stderr",
          "text": [
            "Saving preprocessed data: 100%|██████████| 500/500 [00:12<00:00, 38.68it/s]"
          ]
        },
        {
          "output_type": "stream",
          "name": "stdout",
          "text": [
            "Copied image to /content/images/2008.11087v2-Figure6-1.png\n",
            "Copied image to /content/images/2008.11087v2-Table2-1.png\n",
            "Copied image to /content/images/2008.11087v2-Figure2-1.png\n",
            "Copied image to /content/images/2008.11087v2-Table4-1.png\n",
            "Saved 500 valid samples to /content/data/spiqa_train_subset.jsonl\n"
          ]
        },
        {
          "output_type": "stream",
          "name": "stderr",
          "text": [
            "\n"
          ]
        }
      ],
      "source": [
        "def extract_reasoning_samples(local_dir=\"/content/spiqa_data\", image_dir=\"/content/drive/MyDrive/SPIQA_train_val_Images\", max_samples=500):\n",
        "    # Path to metadata\n",
        "    metadata_path = os.path.join(local_dir, \"train_val\", \"SPIQA_train.json\")\n",
        "\n",
        "    # Download metadata if not present\n",
        "    if not os.path.exists(metadata_path):\n",
        "        os.makedirs(os.path.dirname(metadata_path), exist_ok=True)\n",
        "        try:\n",
        "            hf_hub_download(repo_id=\"google/spiqa\", filename=\"train_val/SPIQA_train.json\", repo_type=\"dataset\", local_dir=local_dir)\n",
        "            print(f\"Downloaded SPIQA_train.json to {metadata_path}\")\n",
        "        except Exception as e:\n",
        "            print(f\"Error downloading train metadata: {e}\")\n",
        "            return None\n",
        "\n",
        "    with open(metadata_path, 'r') as f:\n",
        "        metadata = json.load(f)\n",
        "\n",
        "    print(f\"Loaded metadata for train with {len(metadata)} papers\")\n",
        "    if len(metadata) > 0:\n",
        "        sample_paper = list(metadata.items())[0]\n",
        "        print(f\"Sample paper structure: {sample_paper[0]} -> {sample_paper[1].keys()}\")\n",
        "        if 'qa' in sample_paper[1]:\n",
        "            print(f\"Sample QA pair: {sample_paper[1]['qa'][0] if sample_paper[1]['qa'] else 'No QA pairs'}\")\n",
        "\n",
        "    # Collect all images from Drive\n",
        "    image_paths = glob.glob(os.path.join(image_dir, \"*\", \"*.png\"))\n",
        "    print(f\"Found {len(image_paths)} images in {image_dir}\")\n",
        "\n",
        "    samples = []\n",
        "    unmatched_images = set()\n",
        "    used_images = set()  # Track used images to avoid duplicates\n",
        "    used_qa_indices = {}  # Track used QA pairs per paper to avoid duplicates\n",
        "\n",
        "    for image_path in tqdm(image_paths, desc=\"Processing images\"):\n",
        "        if len(samples) >= max_samples:\n",
        "            print(f\"Reached maximum of {max_samples} samples, stopping\")\n",
        "            break\n",
        "\n",
        "        # Extract paper_id and figure_id from image path\n",
        "        paper_id = os.path.basename(os.path.dirname(image_path))\n",
        "        image_name = os.path.basename(image_path)\n",
        "        # Match figure or table identifier (e.g., Figure1-1, Table1-1)\n",
        "        figure_match = re.search(r'(?:Figure|Fig|Table|table)(\\d+)(?:-1)?', image_name, re.IGNORECASE)\n",
        "        if not figure_match:\n",
        "            print(f\"Warning: Could not parse figure or table ID from {image_name}, skipping\")\n",
        "            unmatched_images.add(image_path)\n",
        "            continue\n",
        "        figure_id = f\"{figure_match.group(1).title()}{figure_match.group(1)}\"  # Normalize to FigureX or TableX\n",
        "\n",
        "        # Find matching QA pair in metadata\n",
        "        qa_list = metadata.get(paper_id, {}).get('qa', [])\n",
        "        if not qa_list:\n",
        "            print(f\"Warning: No QA pairs for paper {paper_id}, skipping image {image_name}\")\n",
        "            unmatched_images.add(image_path)\n",
        "            continue\n",
        "\n",
        "        matched_qa = None\n",
        "        qa_index = None\n",
        "        # Try matching with image_id first\n",
        "        for i, qa in enumerate(qa_list):\n",
        "            image_id = qa.get('image_id', paper_id)\n",
        "            if image_id in image_name or f\"{image_id}-1\" in image_name:\n",
        "                if paper_id not in used_qa_indices or i not in used_qa_indices.get(paper_id, set()):\n",
        "                    matched_qa = qa\n",
        "                    qa_index = i\n",
        "                    break\n",
        "\n",
        "        # Fallback to description matching\n",
        "        if matched_qa is None:\n",
        "            for i, qa in enumerate(qa_list):\n",
        "                description = qa.get('description', '')\n",
        "                if figure_id.lower() in description.lower() or f\"{figure_id}-1\".lower() in description.lower():\n",
        "                    if paper_id not in used_qa_indices or i not in used_qa_indices.get(paper_id, set()):\n",
        "                        matched_qa = qa\n",
        "                        qa_index = i\n",
        "                        break\n",
        "\n",
        "        # Fallback to index-based matching (first unmatched image to first unmatched QA pair)\n",
        "        if matched_qa is None:\n",
        "            for i, qa in enumerate(qa_list):\n",
        "                if paper_id not in used_qa_indices or i not in used_qa_indices.get(paper_id, set()):\n",
        "                    matched_qa = qa\n",
        "                    qa_index = i\n",
        "                    break\n",
        "\n",
        "        if matched_qa is None:\n",
        "            print(f\"Warning: No QA pair matched for {image_name} in paper {paper_id}, skipping\")\n",
        "            unmatched_images.add(image_path)\n",
        "            continue\n",
        "\n",
        "        # Load image and create sample\n",
        "        try:\n",
        "            image_data = Image.open(image_path).convert(\"RGB\")\n",
        "        except Exception as e:\n",
        "            print(f\"Error opening image {image_path}: {e}\")\n",
        "            unmatched_images.add(image_path)\n",
        "            continue\n",
        "\n",
        "        question = matched_qa.get('question', '')\n",
        "        answer = matched_qa.get('answer', '')\n",
        "        image_id = matched_qa.get('image_id', paper_id)\n",
        "        if question and answer and image_path not in used_images:\n",
        "            samples.append({\n",
        "                \"image\": image_data,\n",
        "                \"image_id\": image_id,\n",
        "                \"image_path\": image_path,\n",
        "                \"question\": question,\n",
        "                \"answer\": answer,\n",
        "                \"split\": \"train\"\n",
        "            })\n",
        "            used_images.add(image_path)\n",
        "            used_qa_indices.setdefault(paper_id, set()).add(qa_index)\n",
        "            print(f\"Added sample: image_id={image_id}, question={question[:50]}...\")\n",
        "            print(f\"Matched via: {'image_id' if image_id in image_name or f'{image_id}-1' in image_name else 'description' if figure_id.lower() in matched_qa.get('description', '').lower() else 'index-based'}\")\n",
        "\n",
        "    print(f\"Extracted {len(samples)} samples from train\")\n",
        "    if unmatched_images:\n",
        "        print(f\"Unmatched images (sample): {list(unmatched_images)[:10]}\")\n",
        "    if not samples:\n",
        "        print(\"Warning: No samples extracted. Check image availability or metadata matching.\")\n",
        "        return None\n",
        "\n",
        "    dataset = HFDataset.from_dict({\n",
        "        \"image\": [s[\"image\"] for s in samples],\n",
        "        \"image_id\": [s[\"image_id\"] for s in samples],\n",
        "        \"image_path\": [s[\"image_path\"] for s in samples],\n",
        "        \"question\": [s[\"question\"] for s in samples],\n",
        "        \"answer\": [s[\"answer\"] for s in samples],\n",
        "        \"split\": [s[\"split\"] for s in samples]\n",
        "    }, features=Features({\n",
        "        \"image\": HFImage(),\n",
        "        \"image_id\": Value(\"string\"),\n",
        "        \"image_path\": Value(\"string\"),\n",
        "        \"question\": Value(\"string\"),\n",
        "        \"answer\": Value(\"string\"),\n",
        "        \"split\": Value(\"string\")\n",
        "    }))\n",
        "\n",
        "    print(f\"Created dataset with {len(dataset)} samples\")\n",
        "    return dataset\n",
        "\n",
        "def save_preprocessed_data(output_file=\"/content/data/spiqa_train_subset.jsonl\"):\n",
        "    \"\"\"\n",
        "    Save preprocessed train samples to local Colab storage, copying images to /content/images/.\n",
        "\n",
        "    Args:\n",
        "        output_file (str): Output file for dataset.\n",
        "    \"\"\"\n",
        "    os.makedirs(os.path.dirname(output_file), exist_ok=True)\n",
        "    os.makedirs(\"/content/images\", exist_ok=True)\n",
        "\n",
        "    dataset = extract_reasoning_samples()\n",
        "    if dataset is None:\n",
        "        raise ValueError(\"No samples extracted. Check dataset structure or image availability.\")\n",
        "\n",
        "    valid_samples = 0\n",
        "    with open(output_file, \"w\") as f:\n",
        "        for s in tqdm(dataset, desc=\"Saving preprocessed data\"):\n",
        "            try:\n",
        "                # Copy image to /content/images/ for training efficiency\n",
        "                new_image_path = f\"/content/images/{os.path.basename(s['image_path'])}\"\n",
        "                if s[\"image\"] is not None:\n",
        "                    s[\"image\"].save(new_image_path)\n",
        "                    print(f\"Copied image to {new_image_path}\")\n",
        "                    record = {\n",
        "                        \"image_path\": new_image_path,\n",
        "                        \"question\": s[\"question\"],\n",
        "                        \"answer\": s[\"answer\"],\n",
        "                        \"split\": s[\"split\"]\n",
        "                    }\n",
        "                    f.write(json.dumps(record) + \"\\n\")\n",
        "                    valid_samples += 1\n",
        "                else:\n",
        "                    print(f\"Skipping sample {s['image_id']} (no image data)\")\n",
        "            except Exception as e:\n",
        "                print(f\"Error saving sample {s['image_id']}: {e}\")\n",
        "    print(f\"Saved {valid_samples} valid samples to {output_file}\")\n",
        "# Mount Google Drive (for image access only)\n",
        "from google.colab import drive\n",
        "drive.mount('/content/drive')\n",
        "\n",
        "# Check disk space\n",
        "!df -h\n",
        "\n",
        "# Preprocess train samples (up to 5,000)\n",
        "save_preprocessed_data(output_file=\"/content/data/spiqa_train_subset.jsonl\")"
      ]
    },
    {
      "cell_type": "code",
      "execution_count": null,
      "metadata": {
        "id": "isn4lmkfhsR0"
      },
      "outputs": [],
      "source": [
        "# Custom Dataset for SPIQA with LLaVA processor\n",
        "class SpiqaReasoningDataset(Dataset):\n",
        "    def __init__(self, data_path, processor):\n",
        "        self.processor = processor\n",
        "        with open(data_path) as f:\n",
        "            self.samples = [json.loads(line) for line in f]\n",
        "\n",
        "    def __len__(self):\n",
        "        return len(self.samples)\n",
        "\n",
        "    def __getitem__(self, idx):\n",
        "        sample = self.samples[idx]\n",
        "        try:\n",
        "            image = Image.open(sample[\"image_path\"]).convert(\"RGB\")\n",
        "        except FileNotFoundError:\n",
        "            print(f\"Image not found: {sample['image_path']}, using blank image\")\n",
        "            image = Image.new(\"RGB\", (224, 224), (255, 255, 255))  # Blank white image\n",
        "        prompt = f\"USER: <image>\\n{sample['question']}\\nASSISTANT: {sample['answer']}\"\n",
        "        return image, prompt\n",
        "\n",
        "# Collate function for batching\n",
        "def collate_fn(batch):\n",
        "    images, prompts = zip(*batch)\n",
        "    inputs = processor(\n",
        "        text=list(prompts),\n",
        "        images=list(images),\n",
        "        return_tensors=\"pt\",\n",
        "        padding=True,\n",
        "    )\n",
        "    inputs[\"labels\"] = inputs[\"input_ids\"].clone()\n",
        "    return inputs"
      ]
    },
    {
      "cell_type": "code",
      "execution_count": null,
      "metadata": {
        "colab": {
          "base_uri": "https://localhost:8080/",
          "height": 598,
          "referenced_widgets": [
            "daff3378c2754a3eb93a535e74928ac6",
            "4fcf72c3a9a5451e93dbebd4be698a20",
            "daa1382f677b4561bc3093e3a600d8bb",
            "031b0565861f42fc8ce0a9c6f0269f83",
            "18b3742745614e27b5cba88d05a791bf",
            "17d981b1b62b4e8fab163aa085dcc5d8",
            "7795cea43eab43a1bdcb0a84b0d07dd7",
            "46d6d668723e44f2add408d175cff637",
            "bd5ff87e40024c12a54170e199681bda",
            "9a9907c8c1b744ce81884b2c27a655e1",
            "ec5c28c6dcaa4ff38420bb4656c1bfdc",
            "418c8b1b06a740ecb132f171836af12d",
            "b80cd52062ee496d991e26e84a44830f",
            "7f5190e629484eac96b59cfcbe6d73d5",
            "17c9029854264f7ea21fe7efae7a6bb4",
            "ab059412abcd4c4485796bc3ca4cd2e1",
            "9970a1d722e34d118d78624b7aa1dee2",
            "fe7afe47ae4247b49690124dfbd7b621",
            "f58519b87a744bdf98a3be6403be51b7",
            "a91254d64d2340508b7dacc11ecd2e71",
            "d31729ae6a2440aab088d16c01a5fc33",
            "1f9b7eb1162840da90f899d66f59e543",
            "911fd30153504d9c898a63e78abd32e8",
            "8242d0f778f048a5bc601ac51452336e",
            "2bb829123bc8419094d40ce05da7f3ca",
            "d6d73311194d44da86ec2dffe29b1fd6",
            "56c0207e1f0542138f813f794bcba77e",
            "7afc578e1b3b46ad8a5812657b24e0d5",
            "d9b47b237b734910b3e15ff2e57aa7be",
            "3537a137501a4b4d97192ccdcd61c951",
            "b23ddbc540014477ba38d6c8f6d65f27",
            "e1097e0fa642492e9f62b0768b7d3a57",
            "0470d08e55c64268a53214019deab1ec",
            "e22fee3cd9444c04b26cda3515d6c6a4",
            "fc1497998de0441d9465ef58e026ba51",
            "1517ff94600547dcb2352e3b326f959a",
            "b4e946d1c6cc46c58662649d6d3255f8",
            "235c820f3ee145ae845cf8b5d72b68b6",
            "92e74817e02845eea06cd8f7803471e3",
            "3f3b4dee324e43a1b8f9438a1ba6fb93",
            "7b35d09103904840b26a0e28df95203f",
            "f736bfea642b4a51946ba0dbf242643c",
            "df4a21c42d4a4488a95fbd3e8f4d2fad",
            "3ff63a3f3b8b471bae8997191ba4a4f7",
            "c328ed031d2349f5be37ad6752f71599",
            "50f8bec6a21d4d52a439d99eda67c7bd",
            "d4210d89624c4d1595ccb38fc21cbe24",
            "8e04d7c37fbb467c8b5b1de88743c443",
            "8715e670c0414d7d92e27cc2e0642c64",
            "43b483becf2643558f08ef3468812723",
            "a8f83a25fce34961a803edf567e860b4",
            "0393cdb3e85041969aced210eaefcfec",
            "4ac173a50f28437ea53591364b6c16b1",
            "751a41a0682c41ba9b29d72c1ec9c440",
            "fad2d835e5284f6696b58df9ca2de7a4",
            "ecbfc2c0f4934fe98b03d7ccfc808a74",
            "df712378a8bd4ca39ee016158c013dd6",
            "d6775e5f36234be4a47cee6704675f95",
            "70c55d16363847e9a27a1809ea2460fd",
            "c223343167f34ba28410e56fdcce39de",
            "1f97a6400b1d4c138a878b59b52521db",
            "ff024e20fee24d0f9391ce7545dce586",
            "0eb86b94d65a485b9b3bcdcee974d940",
            "f969adf7bdf146fb9f35ba864987a4f5",
            "27e6e67e19594adcb1cc88757384977a",
            "271bd433535647af87c8df6fad91309a",
            "0b05e8a15a9443b6986e3a525cbcf959",
            "2598b27967a144ab8ba5b87eb79ab7bd",
            "d908419cb90b44e799523577277c51ff",
            "14685ff10e004647a9a9a47b91b84606",
            "10152866b1c84f44a02e8a0eea5c7cc0",
            "7323f1d094604c27a1bb6388d34627f5",
            "f78c7eea370c408f8421ba99a6310bbe",
            "05079796d4894b689cbafee32f755297",
            "7f8691071b974fe9a217f5e2a83cf3f2",
            "3ebedd86908940509a8d66134977e3ae",
            "edeff6d6a6a14a4a82cc48f9c9dc5c51",
            "939d9e1041dc4817a8a3991c44531d11",
            "92dd2b6088004314ac0f4c3938f0759c",
            "30d5b38f4175414485be355e36c48cdc",
            "63ef5e4cea084970a1d11c38e813d564",
            "23ade9ea12eb49beac0e764a34374b2d",
            "28cddff1ab8d4b67becf8297cd39ac55",
            "863e8fbe04e3459d82eb685a73ec196f",
            "a5c76f1c96c24f2ea3d9468e5d3d8e17",
            "3dc9f8d3227e4571b8cb9ec7089a093a",
            "d988bcf77b614f6daeb2fada4d7d8e04",
            "ad832d27ecb140c29702314642bc02b0",
            "2c5b8e82a96b4af2ab0e6331e27b90cb",
            "e71529c2f53143238db27cebb579747f",
            "4e249431bb104209988e8f8c2045f957",
            "b7d8222faf1148db86fe4232d05b601e",
            "7097ac38160443cfbd67f6d0b5e86fc5",
            "a935bcb50f604899bfee47b008c20486",
            "8de2589728874b859d67ecb10083638b",
            "0a994bb024b14e0299e23fda13cafe15",
            "6700715a51c64ff794ec4e4792e2e58f",
            "9bd0a5a090ee4c0c96aab72b8b34a3ff",
            "def561a08687494aada4c19f4f31141e",
            "ddb3264d6f0e4cfe94b0c80d79faec1d",
            "526b9b10edea4dde83ba295a23aefce0",
            "37e0bcf560de4786be5668a7c9d3e4bb",
            "2e2a8a3de32b4a82b2551464240e01f3",
            "f0f04c2b642445f88a68fec8a66ffc49",
            "e40c6be63ab9439aa967252118d5d4b3",
            "76f555162c01451e965d0f8531a3dcd9",
            "4b1d8348e6814ebea72dedee60a401ac",
            "9cc151b0657d4afa9b9feef90d0f3382",
            "efb452258f6d462a8417a85fe8330bdf",
            "bfdd50fda62b4921890d7c782ea36333",
            "3097fd0e12244e88bba415a94b858451",
            "31bca782c35f43df94613c0ac3956f93",
            "4eb878deca82452d96d3130289441b6d",
            "902200ad6745463081cf5e13f2dfd1d8",
            "f4d2c4dc3f224c11a09eb40ba4e3c9f4",
            "9d6a094eb2e547b68d448d9d369cebee",
            "3e970aa0292c413e95cab06475258aa7",
            "a62857a8c4b74803b08fe23e2bbbc30b",
            "c58695ed07944e73b960d884bf075916",
            "170d4759f26a4288a26e645c6105b671",
            "d59e39904e1547ef87cb9905953d3e18",
            "cfa01d067fff406f9ce8c227522e8191",
            "2e6ba6e494544698bb8c0878c9aa6edc",
            "de4ba33bae44456d90260ef250bb0d26",
            "b9cd335206f84e9ba88a590677d0392f",
            "bce17f64ce564b00b52bc6e0c3a086d5",
            "9bd3ba0883654dd3b1eff2c0da0010ba",
            "9bdd63ca7fac41b0bc06c03347f0e96f",
            "445055955ca443bc8cbfac64c043e62a",
            "704bfecf7b4c43219e434af661dddc0f",
            "1f6ddc3cf8674eb98091e32534ed299d",
            "63784f2d1be144c4a3e25969be906f38",
            "7da9197201cc465bbaa761819f6b2506",
            "da1b7cf3710d4761acf0a3f029da5ae6",
            "34128b137f9043f78dea7f1cb4ba4d18",
            "18a7a2f1606f43d782931afdb6e61310",
            "00d6ec130d4c4c1ba50e925642fac14a",
            "6752d413fa58483ea6ed8e58de7f5fe8",
            "df6b3e3667074d1b8c2e5f9608e48e3f",
            "dccd58f9622a449bb390f8d74a5dd3f6",
            "98b81bfa5ee14d8f9f517049dbcc9f23",
            "e8fe86fe687048bc81b777c7713a19ca",
            "f776e63c6c9942aeb4ba5f4e4f9f64e9",
            "8b61f9db622644218eb5ce2607f3eb95",
            "99bda5f2f6bc4ab29633b2d1e6be637e",
            "bbcf0605e6d5410ab7f2bfee52e92214",
            "7ffe6df40872485ea4bd2857634db44c",
            "0c82f61d669043b3a138a00e1dc957d9",
            "3ebd9d5be27842cfb3ead0ddcfce072f",
            "139aa4469c8e4b8fa5b6e61d498c45be",
            "569d50932e2a4a04a18982f4adc27635",
            "d8fd14a78c514ce29347223b4108a51f",
            "b2288265517d4719885a0440a781603f",
            "bf88d6958733482eb17423065aee1e2d",
            "93a4d5bbbcd940768f4860e009ca6e29",
            "7a34eb98f8e04bf8a0026dffa1f4de25",
            "b6909e76aa07457dadc8fd0a9081fbc1",
            "bc15c736b5d3441f8c33ef7229e1af8f",
            "4d41df6636f546329ce4042b60a69d7d",
            "79807a62cf684c8d91a3bef679a89398",
            "537c39e0eb7e4f7db321120e4967c8d6",
            "dba90f39705646af9d44e338b8e143b1",
            "1956ac4370624c6dbf2ef8f7140c839e",
            "c6652e2a37b140f6aa08acaf0b82c4f7",
            "3f2666b898a4471880c16908e462ca52",
            "dfbb56a1b8204766b676f34e219d6f6d",
            "de149b550c6a43989196209b0a68ca5c",
            "864bcf6c02f4468a9ae0c1c988111774",
            "a0fd81fa588946129f8cbe352f28d49a",
            "4af2c6f0722c4deda1779c0346520556",
            "f1fbb92c19ab4477818118405f15f3ba",
            "b8d5e29575154d16beaeeee34bfc12d6",
            "bbfde126a51848d6b4437ccd142ace46",
            "f8c90830fda549a5a87306336e7204bf",
            "066385981b60416a9768965c39a48552",
            "66c584ce2dce457e9390275eaa5b1bb5",
            "7a71ccc912ca4ab1ba988abfd627e5ef",
            "d13beae84c0045a6a4efca4bd00027b9",
            "5e0a687079b6480f9313cf3352503d60",
            "9d1a5e5bb0bf4079b5f65909f18a9230",
            "9c8e31b3ed264409ab9fde20dc10f2ac",
            "58f70820c2614984b3dfb3e045142a6d",
            "9e0468df946043f5b1bf935891a58968",
            "048b8a6eb47f41d28773032597fa9b34",
            "07c56de91cde4629921c9197c80630ad",
            "39ec7e17da234d02a65912ab6251147f",
            "59d7ef500bee4daba3c733f1cec95902"
          ]
        },
        "id": "NUwTSawOljuT",
        "outputId": "dd8b79c6-81b8-4fce-9c14-92d7c29b7646"
      },
      "outputs": [
        {
          "output_type": "display_data",
          "data": {
            "text/plain": [
              "preprocessor_config.json:   0%|          | 0.00/505 [00:00<?, ?B/s]"
            ],
            "application/vnd.jupyter.widget-view+json": {
              "version_major": 2,
              "version_minor": 0,
              "model_id": "daff3378c2754a3eb93a535e74928ac6"
            }
          },
          "metadata": {}
        },
        {
          "output_type": "stream",
          "name": "stderr",
          "text": [
            "Using a slow image processor as `use_fast` is unset and a slow processor was saved with this model. `use_fast=True` will be the default behavior in v4.52, even if the model was saved with a slow processor. This will result in minor differences in outputs. You'll still be able to use a slow processor with `use_fast=False`.\n"
          ]
        },
        {
          "output_type": "display_data",
          "data": {
            "text/plain": [
              "tokenizer_config.json: 0.00B [00:00, ?B/s]"
            ],
            "application/vnd.jupyter.widget-view+json": {
              "version_major": 2,
              "version_minor": 0,
              "model_id": "418c8b1b06a740ecb132f171836af12d"
            }
          },
          "metadata": {}
        },
        {
          "output_type": "display_data",
          "data": {
            "text/plain": [
              "tokenizer.model:   0%|          | 0.00/500k [00:00<?, ?B/s]"
            ],
            "application/vnd.jupyter.widget-view+json": {
              "version_major": 2,
              "version_minor": 0,
              "model_id": "911fd30153504d9c898a63e78abd32e8"
            }
          },
          "metadata": {}
        },
        {
          "output_type": "display_data",
          "data": {
            "text/plain": [
              "tokenizer.json: 0.00B [00:00, ?B/s]"
            ],
            "application/vnd.jupyter.widget-view+json": {
              "version_major": 2,
              "version_minor": 0,
              "model_id": "e22fee3cd9444c04b26cda3515d6c6a4"
            }
          },
          "metadata": {}
        },
        {
          "output_type": "display_data",
          "data": {
            "text/plain": [
              "added_tokens.json:   0%|          | 0.00/41.0 [00:00<?, ?B/s]"
            ],
            "application/vnd.jupyter.widget-view+json": {
              "version_major": 2,
              "version_minor": 0,
              "model_id": "c328ed031d2349f5be37ad6752f71599"
            }
          },
          "metadata": {}
        },
        {
          "output_type": "display_data",
          "data": {
            "text/plain": [
              "special_tokens_map.json:   0%|          | 0.00/552 [00:00<?, ?B/s]"
            ],
            "application/vnd.jupyter.widget-view+json": {
              "version_major": 2,
              "version_minor": 0,
              "model_id": "ecbfc2c0f4934fe98b03d7ccfc808a74"
            }
          },
          "metadata": {}
        },
        {
          "output_type": "display_data",
          "data": {
            "text/plain": [
              "chat_template.jinja:   0%|          | 0.00/674 [00:00<?, ?B/s]"
            ],
            "application/vnd.jupyter.widget-view+json": {
              "version_major": 2,
              "version_minor": 0,
              "model_id": "0b05e8a15a9443b6986e3a525cbcf959"
            }
          },
          "metadata": {}
        },
        {
          "output_type": "display_data",
          "data": {
            "text/plain": [
              "processor_config.json:   0%|          | 0.00/173 [00:00<?, ?B/s]"
            ],
            "application/vnd.jupyter.widget-view+json": {
              "version_major": 2,
              "version_minor": 0,
              "model_id": "939d9e1041dc4817a8a3991c44531d11"
            }
          },
          "metadata": {}
        },
        {
          "output_type": "display_data",
          "data": {
            "text/plain": [
              "chat_template.json:   0%|          | 0.00/701 [00:00<?, ?B/s]"
            ],
            "application/vnd.jupyter.widget-view+json": {
              "version_major": 2,
              "version_minor": 0,
              "model_id": "2c5b8e82a96b4af2ab0e6331e27b90cb"
            }
          },
          "metadata": {}
        },
        {
          "output_type": "display_data",
          "data": {
            "text/plain": [
              "config.json:   0%|          | 0.00/950 [00:00<?, ?B/s]"
            ],
            "application/vnd.jupyter.widget-view+json": {
              "version_major": 2,
              "version_minor": 0,
              "model_id": "ddb3264d6f0e4cfe94b0c80d79faec1d"
            }
          },
          "metadata": {}
        },
        {
          "output_type": "display_data",
          "data": {
            "text/plain": [
              "model.safetensors.index.json: 0.00B [00:00, ?B/s]"
            ],
            "application/vnd.jupyter.widget-view+json": {
              "version_major": 2,
              "version_minor": 0,
              "model_id": "3097fd0e12244e88bba415a94b858451"
            }
          },
          "metadata": {}
        },
        {
          "output_type": "display_data",
          "data": {
            "text/plain": [
              "Fetching 3 files:   0%|          | 0/3 [00:00<?, ?it/s]"
            ],
            "application/vnd.jupyter.widget-view+json": {
              "version_major": 2,
              "version_minor": 0,
              "model_id": "cfa01d067fff406f9ce8c227522e8191"
            }
          },
          "metadata": {}
        },
        {
          "output_type": "display_data",
          "data": {
            "text/plain": [
              "model-00002-of-00003.safetensors:   0%|          | 0.00/4.96G [00:00<?, ?B/s]"
            ],
            "application/vnd.jupyter.widget-view+json": {
              "version_major": 2,
              "version_minor": 0,
              "model_id": "7da9197201cc465bbaa761819f6b2506"
            }
          },
          "metadata": {}
        },
        {
          "output_type": "display_data",
          "data": {
            "text/plain": [
              "model-00003-of-00003.safetensors:   0%|          | 0.00/4.18G [00:00<?, ?B/s]"
            ],
            "application/vnd.jupyter.widget-view+json": {
              "version_major": 2,
              "version_minor": 0,
              "model_id": "8b61f9db622644218eb5ce2607f3eb95"
            }
          },
          "metadata": {}
        },
        {
          "output_type": "display_data",
          "data": {
            "text/plain": [
              "model-00001-of-00003.safetensors:   0%|          | 0.00/4.99G [00:00<?, ?B/s]"
            ],
            "application/vnd.jupyter.widget-view+json": {
              "version_major": 2,
              "version_minor": 0,
              "model_id": "93a4d5bbbcd940768f4860e009ca6e29"
            }
          },
          "metadata": {}
        },
        {
          "output_type": "display_data",
          "data": {
            "text/plain": [
              "Loading checkpoint shards:   0%|          | 0/3 [00:00<?, ?it/s]"
            ],
            "application/vnd.jupyter.widget-view+json": {
              "version_major": 2,
              "version_minor": 0,
              "model_id": "dfbb56a1b8204766b676f34e219d6f6d"
            }
          },
          "metadata": {}
        },
        {
          "output_type": "display_data",
          "data": {
            "text/plain": [
              "generation_config.json:   0%|          | 0.00/141 [00:00<?, ?B/s]"
            ],
            "application/vnd.jupyter.widget-view+json": {
              "version_major": 2,
              "version_minor": 0,
              "model_id": "7a71ccc912ca4ab1ba988abfd627e5ef"
            }
          },
          "metadata": {}
        }
      ],
      "source": [
        "torch.cuda.empty_cache()\n",
        "torch.cuda.ipc_collect()\n",
        "\n",
        "model_id = \"llava-hf/llava-1.5-7b-hf\"\n",
        "processor = LlavaProcessor.from_pretrained(model_id)\n",
        "\n",
        "# Updated quantization config with CPU offload enabled\n",
        "quant_config = BitsAndBytesConfig(\n",
        "    load_in_4bit=True,\n",
        "    llm_int8_threshold=6.0,\n",
        "    llm_int8_has_fp16_weight=True,\n",
        "    bnb_4bit_compute_dtype=torch.float16,\n",
        "    bnb_4bit_use_double_quant=True,\n",
        "    bnb_4bit_quant_type=\"nf4\",\n",
        "    llm_int8_enable_fp32_cpu_offload=True  # This is the key addition\n",
        ")\n",
        "\n",
        "model = LlavaForConditionalGeneration.from_pretrained(\n",
        "    model_id,\n",
        "    device_map=\"auto\",\n",
        "    torch_dtype=torch.float16,\n",
        "    quantization_config=quant_config,\n",
        ")\n",
        "\n",
        "model = prepare_model_for_kbit_training(model)\n",
        "\n",
        "lora_config = LoraConfig(\n",
        "    r=8,\n",
        "    lora_alpha=16,\n",
        "    target_modules=[\"q_proj\", \"v_proj\"],\n",
        "    lora_dropout=0.1,\n",
        "    bias=\"none\",\n",
        "    task_type=\"CAUSAL_LM\",\n",
        ")"
      ]
    },
    {
      "cell_type": "code",
      "execution_count": null,
      "metadata": {
        "id": "wyQ5Nfu7lk22",
        "colab": {
          "base_uri": "https://localhost:8080/"
        },
        "outputId": "97888ce7-0415-4d36-a81c-5f2bd341dc1f"
      },
      "outputs": [
        {
          "output_type": "execute_result",
          "data": {
            "text/plain": [
              "PeftModelForCausalLM(\n",
              "  (base_model): LoraModel(\n",
              "    (model): LlavaForConditionalGeneration(\n",
              "      (model): LlavaModel(\n",
              "        (vision_tower): CLIPVisionModel(\n",
              "          (vision_model): CLIPVisionTransformer(\n",
              "            (embeddings): CLIPVisionEmbeddings(\n",
              "              (patch_embedding): Conv2d(3, 1024, kernel_size=(14, 14), stride=(14, 14), bias=False)\n",
              "              (position_embedding): Embedding(577, 1024)\n",
              "            )\n",
              "            (pre_layrnorm): LayerNorm((1024,), eps=1e-05, elementwise_affine=True)\n",
              "            (encoder): CLIPEncoder(\n",
              "              (layers): ModuleList(\n",
              "                (0-23): 24 x CLIPEncoderLayer(\n",
              "                  (self_attn): CLIPAttention(\n",
              "                    (k_proj): Linear4bit(in_features=1024, out_features=1024, bias=True)\n",
              "                    (v_proj): lora.Linear4bit(\n",
              "                      (base_layer): Linear4bit(in_features=1024, out_features=1024, bias=True)\n",
              "                      (lora_dropout): ModuleDict(\n",
              "                        (default): Dropout(p=0.1, inplace=False)\n",
              "                      )\n",
              "                      (lora_A): ModuleDict(\n",
              "                        (default): Linear(in_features=1024, out_features=8, bias=False)\n",
              "                      )\n",
              "                      (lora_B): ModuleDict(\n",
              "                        (default): Linear(in_features=8, out_features=1024, bias=False)\n",
              "                      )\n",
              "                      (lora_embedding_A): ParameterDict()\n",
              "                      (lora_embedding_B): ParameterDict()\n",
              "                      (lora_magnitude_vector): ModuleDict()\n",
              "                    )\n",
              "                    (q_proj): lora.Linear4bit(\n",
              "                      (base_layer): Linear4bit(in_features=1024, out_features=1024, bias=True)\n",
              "                      (lora_dropout): ModuleDict(\n",
              "                        (default): Dropout(p=0.1, inplace=False)\n",
              "                      )\n",
              "                      (lora_A): ModuleDict(\n",
              "                        (default): Linear(in_features=1024, out_features=8, bias=False)\n",
              "                      )\n",
              "                      (lora_B): ModuleDict(\n",
              "                        (default): Linear(in_features=8, out_features=1024, bias=False)\n",
              "                      )\n",
              "                      (lora_embedding_A): ParameterDict()\n",
              "                      (lora_embedding_B): ParameterDict()\n",
              "                      (lora_magnitude_vector): ModuleDict()\n",
              "                    )\n",
              "                    (out_proj): Linear4bit(in_features=1024, out_features=1024, bias=True)\n",
              "                  )\n",
              "                  (layer_norm1): LayerNorm((1024,), eps=1e-05, elementwise_affine=True)\n",
              "                  (mlp): CLIPMLP(\n",
              "                    (activation_fn): QuickGELUActivation()\n",
              "                    (fc1): Linear4bit(in_features=1024, out_features=4096, bias=True)\n",
              "                    (fc2): Linear4bit(in_features=4096, out_features=1024, bias=True)\n",
              "                  )\n",
              "                  (layer_norm2): LayerNorm((1024,), eps=1e-05, elementwise_affine=True)\n",
              "                )\n",
              "              )\n",
              "            )\n",
              "            (post_layernorm): LayerNorm((1024,), eps=1e-05, elementwise_affine=True)\n",
              "          )\n",
              "        )\n",
              "        (multi_modal_projector): LlavaMultiModalProjector(\n",
              "          (linear_1): Linear4bit(in_features=1024, out_features=4096, bias=True)\n",
              "          (act): GELUActivation()\n",
              "          (linear_2): Linear4bit(in_features=4096, out_features=4096, bias=True)\n",
              "        )\n",
              "        (language_model): LlamaModel(\n",
              "          (embed_tokens): Embedding(32064, 4096)\n",
              "          (layers): ModuleList(\n",
              "            (0-31): 32 x LlamaDecoderLayer(\n",
              "              (self_attn): LlamaAttention(\n",
              "                (q_proj): lora.Linear4bit(\n",
              "                  (base_layer): Linear4bit(in_features=4096, out_features=4096, bias=False)\n",
              "                  (lora_dropout): ModuleDict(\n",
              "                    (default): Dropout(p=0.1, inplace=False)\n",
              "                  )\n",
              "                  (lora_A): ModuleDict(\n",
              "                    (default): Linear(in_features=4096, out_features=8, bias=False)\n",
              "                  )\n",
              "                  (lora_B): ModuleDict(\n",
              "                    (default): Linear(in_features=8, out_features=4096, bias=False)\n",
              "                  )\n",
              "                  (lora_embedding_A): ParameterDict()\n",
              "                  (lora_embedding_B): ParameterDict()\n",
              "                  (lora_magnitude_vector): ModuleDict()\n",
              "                )\n",
              "                (k_proj): Linear4bit(in_features=4096, out_features=4096, bias=False)\n",
              "                (v_proj): lora.Linear4bit(\n",
              "                  (base_layer): Linear4bit(in_features=4096, out_features=4096, bias=False)\n",
              "                  (lora_dropout): ModuleDict(\n",
              "                    (default): Dropout(p=0.1, inplace=False)\n",
              "                  )\n",
              "                  (lora_A): ModuleDict(\n",
              "                    (default): Linear(in_features=4096, out_features=8, bias=False)\n",
              "                  )\n",
              "                  (lora_B): ModuleDict(\n",
              "                    (default): Linear(in_features=8, out_features=4096, bias=False)\n",
              "                  )\n",
              "                  (lora_embedding_A): ParameterDict()\n",
              "                  (lora_embedding_B): ParameterDict()\n",
              "                  (lora_magnitude_vector): ModuleDict()\n",
              "                )\n",
              "                (o_proj): Linear4bit(in_features=4096, out_features=4096, bias=False)\n",
              "              )\n",
              "              (mlp): LlamaMLP(\n",
              "                (gate_proj): Linear4bit(in_features=4096, out_features=11008, bias=False)\n",
              "                (up_proj): Linear4bit(in_features=4096, out_features=11008, bias=False)\n",
              "                (down_proj): Linear4bit(in_features=11008, out_features=4096, bias=False)\n",
              "                (act_fn): SiLU()\n",
              "              )\n",
              "              (input_layernorm): LlamaRMSNorm((4096,), eps=1e-05)\n",
              "              (post_attention_layernorm): LlamaRMSNorm((4096,), eps=1e-05)\n",
              "            )\n",
              "          )\n",
              "          (norm): LlamaRMSNorm((4096,), eps=1e-05)\n",
              "          (rotary_emb): LlamaRotaryEmbedding()\n",
              "        )\n",
              "      )\n",
              "      (lm_head): Linear(in_features=4096, out_features=32064, bias=False)\n",
              "    )\n",
              "  )\n",
              ")"
            ]
          },
          "metadata": {},
          "execution_count": 8
        }
      ],
      "source": [
        "model = get_peft_model(model, lora_config)\n",
        "model.to(device)\n",
        "model.train()"
      ]
    },
    {
      "cell_type": "code",
      "execution_count": null,
      "metadata": {
        "id": "t9U7j9Uwlm3W",
        "colab": {
          "base_uri": "https://localhost:8080/"
        },
        "outputId": "7cc5b08e-ba09-432a-bed8-392ca991c927"
      },
      "outputs": [
        {
          "output_type": "stream",
          "name": "stdout",
          "text": [
            "Epoch 1/1\n"
          ]
        },
        {
          "output_type": "stream",
          "name": "stderr",
          "text": [
            "\r  0%|          | 0/63 [00:00<?, ?it/s]/usr/local/lib/python3.11/dist-packages/torch/_dynamo/eval_frame.py:745: UserWarning: torch.utils.checkpoint: the use_reentrant parameter should be passed explicitly. In version 2.5 we will raise an exception if use_reentrant is not passed. use_reentrant=False is recommended, but if you need to preserve the current default behavior, you can pass use_reentrant=True. Refer to docs for more details on the differences between the two variants.\n",
            "  return fn(*args, **kwargs)\n",
            "/usr/local/lib/python3.11/dist-packages/torch/utils/checkpoint.py:87: UserWarning: None of the inputs have requires_grad=True. Gradients will be None\n",
            "  warnings.warn(\n",
            "`use_cache=True` is incompatible with gradient checkpointing. Setting `use_cache=False`.\n",
            "`loss_type=None` was set in the config but it is unrecognised.Using the default loss: `ForCausalLMLoss`.\n",
            " 16%|█▌        | 10/63 [10:10<55:13, 62.52s/it]"
          ]
        },
        {
          "output_type": "stream",
          "name": "stdout",
          "text": [
            "Step 10, Loss: 11.1357\n"
          ]
        },
        {
          "output_type": "stream",
          "name": "stderr",
          "text": [
            " 32%|███▏      | 20/63 [20:57<47:51, 66.79s/it]"
          ]
        },
        {
          "output_type": "stream",
          "name": "stdout",
          "text": [
            "Step 20, Loss: 8.6655\n"
          ]
        },
        {
          "output_type": "stream",
          "name": "stderr",
          "text": [
            " 48%|████▊     | 30/63 [31:18<35:57, 65.37s/it]"
          ]
        },
        {
          "output_type": "stream",
          "name": "stdout",
          "text": [
            "Step 30, Loss: 6.2728\n"
          ]
        },
        {
          "output_type": "stream",
          "name": "stderr",
          "text": [
            " 63%|██████▎   | 40/63 [41:47<24:48, 64.71s/it]"
          ]
        },
        {
          "output_type": "stream",
          "name": "stdout",
          "text": [
            "Step 40, Loss: 5.3103\n"
          ]
        },
        {
          "output_type": "stream",
          "name": "stderr",
          "text": [
            " 79%|███████▉  | 50/63 [52:11<14:16, 65.89s/it]"
          ]
        },
        {
          "output_type": "stream",
          "name": "stdout",
          "text": [
            "Step 50, Loss: 5.0120\n"
          ]
        },
        {
          "output_type": "stream",
          "name": "stderr",
          "text": [
            " 95%|█████████▌| 60/63 [1:02:45<03:13, 64.45s/it]"
          ]
        },
        {
          "output_type": "stream",
          "name": "stdout",
          "text": [
            "Step 60, Loss: 4.7438\n"
          ]
        },
        {
          "output_type": "stream",
          "name": "stderr",
          "text": [
            "100%|██████████| 63/63 [1:05:19<00:00, 62.21s/it]\n"
          ]
        },
        {
          "output_type": "stream",
          "name": "stdout",
          "text": [
            "Saved LoRA adapter to model/llava-lora-reasoning\n"
          ]
        }
      ],
      "source": [
        "optimizer = AdamW(model.parameters(), lr=5e-5)\n",
        "\n",
        "# %%\n",
        "# 7. Create DataLoader with batching\n",
        "dataset = SpiqaReasoningDataset(\"data/spiqa_train_subset.jsonl\", processor)\n",
        "dataloader = DataLoader(dataset, batch_size=8, shuffle=True, collate_fn=collate_fn)\n",
        "\n",
        "# %%\n",
        "# 8. Training loop with batching\n",
        "epochs = 1\n",
        "for epoch in range(epochs):\n",
        "    print(f\"Epoch {epoch + 1}/{epochs}\")\n",
        "    for step, batch in enumerate(tqdm(dataloader)):\n",
        "        batch = {k: v.to(device) for k, v in batch.items()}\n",
        "        outputs = model(**batch)\n",
        "        loss = outputs.loss\n",
        "        loss.backward()\n",
        "        optimizer.step()\n",
        "        optimizer.zero_grad()\n",
        "\n",
        "        if (step + 1) % 10 == 0:\n",
        "            print(f\"Step {step+1}, Loss: {loss.item():.4f}\")\n",
        "\n",
        "# %%\n",
        "# 9. Save the fine-tuned LoRA adapter\n",
        "model.save_pretrained(\"/content/drive/MyDrive/model/llava-lora-reasoning\")\n",
        "print(\"Saved LoRA adapter to model/llava-lora-reasoning\")"
      ]
    },
    {
      "cell_type": "code",
      "execution_count": 6,
      "metadata": {
        "id": "2fvMXbDKlsDQ"
      },
      "outputs": [],
      "source": [
        "def answer_question(image, question, processor, model, device, max_tokens=100):\n",
        "    \"\"\"\n",
        "    Generate an answer for a given image and question using the fine-tuned LLaVA model.\n",
        "\n",
        "    Args:\n",
        "        image (PIL.Image.Image): Input image as a PIL Image object.\n",
        "        question (str): Question to answer based on the image.\n",
        "        processor: LLaVA processor for tokenizing inputs.\n",
        "        model: Fine-tuned LLaVA model.\n",
        "        device: Device to run the model on (e.g., 'cuda' or 'cpu').\n",
        "        max_tokens (int): Maximum number of tokens to generate.\n",
        "\n",
        "    Returns:\n",
        "        str: Generated answer text.\n",
        "    \"\"\"\n",
        "    try:\n",
        "        # Ensure image is in RGB format\n",
        "        image = image.convert(\"RGB\")\n",
        "        prompt = f\"USER: <image>\\n{question}\\nASSISTANT:\"\n",
        "        inputs = processor(text=prompt, images=image, return_tensors=\"pt\").to(device)\n",
        "        output_ids = model.generate(**inputs, max_new_tokens=max_tokens)\n",
        "        output_text = processor.batch_decode(output_ids, skip_special_tokens=True)[0]\n",
        "        # Extract the answer part after \"ASSISTANT:\"\n",
        "        answer = output_text.split(\"ASSISTANT:\")[-1].strip()\n",
        "        return answer\n",
        "    except Exception as e:\n",
        "        print(f\"Error generating answer: {e}\")\n",
        "        return \"Error: Could not generate an answer.\"\n"
      ]
    },
    {
      "cell_type": "code",
      "execution_count": null,
      "metadata": {
        "id": "Lj5izbsGqbem"
      },
      "outputs": [],
      "source": [
        "import ipywidgets as widgets\n",
        "from IPython.display import display, clear_output\n",
        "from PIL import Image\n",
        "from io import BytesIO\n",
        "from peft import PeftModel, PeftConfig\n",
        "\n",
        "\n",
        "device = torch.device(\"cuda\" if torch.cuda.is_available() else \"cpu\")\n",
        "processor = LlavaProcessor.from_pretrained(\"llava-hf/llava-1.5-7b-hf\")\n",
        "quant_config = BitsAndBytesConfig(\n",
        "    load_in_4bit=True,\n",
        "    bnb_4bit_quant_type=\"nf4\",\n",
        "    bnb_4bit_compute_dtype=torch.float16,\n",
        "    bnb_4bit_use_double_quant=True\n",
        ")\n",
        "base_model = LlavaForConditionalGeneration.from_pretrained(\n",
        "    \"llava-hf/llava-1.5-7b-hf\",\n",
        "    device_map=\"auto\",\n",
        "    torch_dtype=torch.float16,\n",
        "    quantization_config=quant_config,\n",
        ")\n",
        "# Load the LoRA adapter\n",
        "model = PeftModel.from_pretrained(\n",
        "    base_model,\n",
        "    \"/content/drive/MyDrive/llava-lora-reasoning\",  # Updated path\n",
        "    torch_dtype=torch.float16,\n",
        ")\n",
        "\n",
        "model.eval()\n",
        "print(\"Model and processor loaded successfully\")\n",
        "\n",
        "# Create interactive widgets\n",
        "question_input = widgets.Text(\n",
        "    value=\"\",\n",
        "    placeholder=\"Enter your question (e.g., What is the main algorithm described in the figure?)\",\n",
        "    description=\"Question:\",\n",
        "    layout={'width': '80%'}\n",
        ")\n",
        "image_upload = widgets.FileUpload(\n",
        "    accept=\".png,.jpg,.jpeg\",\n",
        "    multiple=False,\n",
        "    description=\"Upload Image\"\n",
        ")\n",
        "output = widgets.Output()\n",
        "button = widgets.Button(description=\"Get Answer\")\n",
        "\n",
        "model.eval()\n",
        "\n",
        "# Create interactive widgets\n",
        "question_input = widgets.Text(\n",
        "    value=\"\",\n",
        "    placeholder=\"Enter your question (e.g., What is the main algorithm described in the figure?)\",\n",
        "    description=\"Question:\",\n",
        "    layout={'width': '80%'}\n",
        ")\n",
        "image_upload = widgets.FileUpload(\n",
        "    accept=\".png,.jpg,.jpeg\",\n",
        "    multiple=False,\n",
        "    description=\"Upload Image\"\n",
        ")\n",
        "output = widgets.Output()\n",
        "button = widgets.Button(description=\"Get Answer\")\n",
        "\n",
        "def on_button_clicked(b):\n",
        "    with output:\n",
        "        clear_output()\n",
        "        question = question_input.value.strip()\n",
        "        if not question:\n",
        "            print(\"Please enter a question.\")\n",
        "            return\n",
        "\n",
        "        # Get image from upload\n",
        "        if image_upload.value:\n",
        "            uploaded_file = list(image_upload.value.values())[0]\n",
        "            image_data = uploaded_file[\"content\"]\n",
        "            try:\n",
        "                image = Image.open(BytesIO(image_data)).convert(\"RGB\")\n",
        "            except Exception as e:\n",
        "                print(f\"Error loading image: {e}, using blank image\")\n",
        "                image = Image.new(\"RGB\", (224, 224), (255, 255, 255))\n",
        "        else:\n",
        "            print(\"No image uploaded, using blank image\")\n",
        "            image = Image.new(\"RGB\", (224, 224), (255, 255, 255))\n",
        "\n",
        "        # Generate answer\n",
        "        answer = answer_question(image, question, processor, model, device, max_tokens=100)\n",
        "        print(f\"Question: {question}\\nAnswer: {answer}\")\n",
        "\n",
        "button.on_click(on_button_clicked)\n",
        "\n",
        "# Display widgets\n",
        "display(question_input, image_upload, button, output)"
      ]
    }
  ],
  "metadata": {
    "colab": {
      "provenance": [],
      "gpuType": "T4"
    },
    "kernelspec": {
      "display_name": "Python 3",
      "name": "python3"
    },
    "language_info": {
      "name": "python"
    },
    "widgets": {
      "application/vnd.jupyter.widget-state+json": {
        "503ddd221b704ab295acb997d8f6ed65": {
          "model_module": "@jupyter-widgets/controls",
          "model_name": "HBoxModel",
          "model_module_version": "1.5.0",
          "state": {
            "_dom_classes": [],
            "_model_module": "@jupyter-widgets/controls",
            "_model_module_version": "1.5.0",
            "_model_name": "HBoxModel",
            "_view_count": null,
            "_view_module": "@jupyter-widgets/controls",
            "_view_module_version": "1.5.0",
            "_view_name": "HBoxView",
            "box_style": "",
            "children": [
              "IPY_MODEL_3eeb06e856c8461d8759b7b62f66b2e8",
              "IPY_MODEL_40fb4bde8a114730b3c21ce85c03406d",
              "IPY_MODEL_3e6aee4889b541f38474d93594b4ccdb"
            ],
            "layout": "IPY_MODEL_9e4aa2d751c2464ab1109a4f756e1dca"
          }
        },
        "3eeb06e856c8461d8759b7b62f66b2e8": {
          "model_module": "@jupyter-widgets/controls",
          "model_name": "HTMLModel",
          "model_module_version": "1.5.0",
          "state": {
            "_dom_classes": [],
            "_model_module": "@jupyter-widgets/controls",
            "_model_module_version": "1.5.0",
            "_model_name": "HTMLModel",
            "_view_count": null,
            "_view_module": "@jupyter-widgets/controls",
            "_view_module_version": "1.5.0",
            "_view_name": "HTMLView",
            "description": "",
            "description_tooltip": null,
            "layout": "IPY_MODEL_c88bc3cb99144ed79bd289f19867b2e9",
            "placeholder": "​",
            "style": "IPY_MODEL_f67f43598c8c4c90990379b48afac416",
            "value": "train_val/SPIQA_train.json: 100%"
          }
        },
        "40fb4bde8a114730b3c21ce85c03406d": {
          "model_module": "@jupyter-widgets/controls",
          "model_name": "FloatProgressModel",
          "model_module_version": "1.5.0",
          "state": {
            "_dom_classes": [],
            "_model_module": "@jupyter-widgets/controls",
            "_model_module_version": "1.5.0",
            "_model_name": "FloatProgressModel",
            "_view_count": null,
            "_view_module": "@jupyter-widgets/controls",
            "_view_module_version": "1.5.0",
            "_view_name": "ProgressView",
            "bar_style": "success",
            "description": "",
            "description_tooltip": null,
            "layout": "IPY_MODEL_c6db3cd40241476da9bdeb510aad9432",
            "max": 208891821,
            "min": 0,
            "orientation": "horizontal",
            "style": "IPY_MODEL_65ebcaa5818c4814a51941f806025a50",
            "value": 208891821
          }
        },
        "3e6aee4889b541f38474d93594b4ccdb": {
          "model_module": "@jupyter-widgets/controls",
          "model_name": "HTMLModel",
          "model_module_version": "1.5.0",
          "state": {
            "_dom_classes": [],
            "_model_module": "@jupyter-widgets/controls",
            "_model_module_version": "1.5.0",
            "_model_name": "HTMLModel",
            "_view_count": null,
            "_view_module": "@jupyter-widgets/controls",
            "_view_module_version": "1.5.0",
            "_view_name": "HTMLView",
            "description": "",
            "description_tooltip": null,
            "layout": "IPY_MODEL_9a81dab2dc604d9283e01df6b736c3f4",
            "placeholder": "​",
            "style": "IPY_MODEL_a1ecd215b32a41659028c787078801a9",
            "value": " 209M/209M [00:03&lt;00:00, 95.9MB/s]"
          }
        },
        "9e4aa2d751c2464ab1109a4f756e1dca": {
          "model_module": "@jupyter-widgets/base",
          "model_name": "LayoutModel",
          "model_module_version": "1.2.0",
          "state": {
            "_model_module": "@jupyter-widgets/base",
            "_model_module_version": "1.2.0",
            "_model_name": "LayoutModel",
            "_view_count": null,
            "_view_module": "@jupyter-widgets/base",
            "_view_module_version": "1.2.0",
            "_view_name": "LayoutView",
            "align_content": null,
            "align_items": null,
            "align_self": null,
            "border": null,
            "bottom": null,
            "display": null,
            "flex": null,
            "flex_flow": null,
            "grid_area": null,
            "grid_auto_columns": null,
            "grid_auto_flow": null,
            "grid_auto_rows": null,
            "grid_column": null,
            "grid_gap": null,
            "grid_row": null,
            "grid_template_areas": null,
            "grid_template_columns": null,
            "grid_template_rows": null,
            "height": null,
            "justify_content": null,
            "justify_items": null,
            "left": null,
            "margin": null,
            "max_height": null,
            "max_width": null,
            "min_height": null,
            "min_width": null,
            "object_fit": null,
            "object_position": null,
            "order": null,
            "overflow": null,
            "overflow_x": null,
            "overflow_y": null,
            "padding": null,
            "right": null,
            "top": null,
            "visibility": null,
            "width": null
          }
        },
        "c88bc3cb99144ed79bd289f19867b2e9": {
          "model_module": "@jupyter-widgets/base",
          "model_name": "LayoutModel",
          "model_module_version": "1.2.0",
          "state": {
            "_model_module": "@jupyter-widgets/base",
            "_model_module_version": "1.2.0",
            "_model_name": "LayoutModel",
            "_view_count": null,
            "_view_module": "@jupyter-widgets/base",
            "_view_module_version": "1.2.0",
            "_view_name": "LayoutView",
            "align_content": null,
            "align_items": null,
            "align_self": null,
            "border": null,
            "bottom": null,
            "display": null,
            "flex": null,
            "flex_flow": null,
            "grid_area": null,
            "grid_auto_columns": null,
            "grid_auto_flow": null,
            "grid_auto_rows": null,
            "grid_column": null,
            "grid_gap": null,
            "grid_row": null,
            "grid_template_areas": null,
            "grid_template_columns": null,
            "grid_template_rows": null,
            "height": null,
            "justify_content": null,
            "justify_items": null,
            "left": null,
            "margin": null,
            "max_height": null,
            "max_width": null,
            "min_height": null,
            "min_width": null,
            "object_fit": null,
            "object_position": null,
            "order": null,
            "overflow": null,
            "overflow_x": null,
            "overflow_y": null,
            "padding": null,
            "right": null,
            "top": null,
            "visibility": null,
            "width": null
          }
        },
        "f67f43598c8c4c90990379b48afac416": {
          "model_module": "@jupyter-widgets/controls",
          "model_name": "DescriptionStyleModel",
          "model_module_version": "1.5.0",
          "state": {
            "_model_module": "@jupyter-widgets/controls",
            "_model_module_version": "1.5.0",
            "_model_name": "DescriptionStyleModel",
            "_view_count": null,
            "_view_module": "@jupyter-widgets/base",
            "_view_module_version": "1.2.0",
            "_view_name": "StyleView",
            "description_width": ""
          }
        },
        "c6db3cd40241476da9bdeb510aad9432": {
          "model_module": "@jupyter-widgets/base",
          "model_name": "LayoutModel",
          "model_module_version": "1.2.0",
          "state": {
            "_model_module": "@jupyter-widgets/base",
            "_model_module_version": "1.2.0",
            "_model_name": "LayoutModel",
            "_view_count": null,
            "_view_module": "@jupyter-widgets/base",
            "_view_module_version": "1.2.0",
            "_view_name": "LayoutView",
            "align_content": null,
            "align_items": null,
            "align_self": null,
            "border": null,
            "bottom": null,
            "display": null,
            "flex": null,
            "flex_flow": null,
            "grid_area": null,
            "grid_auto_columns": null,
            "grid_auto_flow": null,
            "grid_auto_rows": null,
            "grid_column": null,
            "grid_gap": null,
            "grid_row": null,
            "grid_template_areas": null,
            "grid_template_columns": null,
            "grid_template_rows": null,
            "height": null,
            "justify_content": null,
            "justify_items": null,
            "left": null,
            "margin": null,
            "max_height": null,
            "max_width": null,
            "min_height": null,
            "min_width": null,
            "object_fit": null,
            "object_position": null,
            "order": null,
            "overflow": null,
            "overflow_x": null,
            "overflow_y": null,
            "padding": null,
            "right": null,
            "top": null,
            "visibility": null,
            "width": null
          }
        },
        "65ebcaa5818c4814a51941f806025a50": {
          "model_module": "@jupyter-widgets/controls",
          "model_name": "ProgressStyleModel",
          "model_module_version": "1.5.0",
          "state": {
            "_model_module": "@jupyter-widgets/controls",
            "_model_module_version": "1.5.0",
            "_model_name": "ProgressStyleModel",
            "_view_count": null,
            "_view_module": "@jupyter-widgets/base",
            "_view_module_version": "1.2.0",
            "_view_name": "StyleView",
            "bar_color": null,
            "description_width": ""
          }
        },
        "9a81dab2dc604d9283e01df6b736c3f4": {
          "model_module": "@jupyter-widgets/base",
          "model_name": "LayoutModel",
          "model_module_version": "1.2.0",
          "state": {
            "_model_module": "@jupyter-widgets/base",
            "_model_module_version": "1.2.0",
            "_model_name": "LayoutModel",
            "_view_count": null,
            "_view_module": "@jupyter-widgets/base",
            "_view_module_version": "1.2.0",
            "_view_name": "LayoutView",
            "align_content": null,
            "align_items": null,
            "align_self": null,
            "border": null,
            "bottom": null,
            "display": null,
            "flex": null,
            "flex_flow": null,
            "grid_area": null,
            "grid_auto_columns": null,
            "grid_auto_flow": null,
            "grid_auto_rows": null,
            "grid_column": null,
            "grid_gap": null,
            "grid_row": null,
            "grid_template_areas": null,
            "grid_template_columns": null,
            "grid_template_rows": null,
            "height": null,
            "justify_content": null,
            "justify_items": null,
            "left": null,
            "margin": null,
            "max_height": null,
            "max_width": null,
            "min_height": null,
            "min_width": null,
            "object_fit": null,
            "object_position": null,
            "order": null,
            "overflow": null,
            "overflow_x": null,
            "overflow_y": null,
            "padding": null,
            "right": null,
            "top": null,
            "visibility": null,
            "width": null
          }
        },
        "a1ecd215b32a41659028c787078801a9": {
          "model_module": "@jupyter-widgets/controls",
          "model_name": "DescriptionStyleModel",
          "model_module_version": "1.5.0",
          "state": {
            "_model_module": "@jupyter-widgets/controls",
            "_model_module_version": "1.5.0",
            "_model_name": "DescriptionStyleModel",
            "_view_count": null,
            "_view_module": "@jupyter-widgets/base",
            "_view_module_version": "1.2.0",
            "_view_name": "StyleView",
            "description_width": ""
          }
        },
        "003099177114457da039b690a52d6810": {
          "model_module": "@jupyter-widgets/controls",
          "model_name": "HBoxModel",
          "model_module_version": "1.5.0",
          "state": {
            "_dom_classes": [],
            "_model_module": "@jupyter-widgets/controls",
            "_model_module_version": "1.5.0",
            "_model_name": "HBoxModel",
            "_view_count": null,
            "_view_module": "@jupyter-widgets/controls",
            "_view_module_version": "1.5.0",
            "_view_name": "HBoxView",
            "box_style": "",
            "children": [
              "IPY_MODEL_307c95f929b347929066dbb110f4586b",
              "IPY_MODEL_03355fd851fc4ce7b85f9c08d0e02fba",
              "IPY_MODEL_e276d269cc924227ba58587468ab538c"
            ],
            "layout": "IPY_MODEL_efe413904d794433971f57974f89683b"
          }
        },
        "307c95f929b347929066dbb110f4586b": {
          "model_module": "@jupyter-widgets/controls",
          "model_name": "HTMLModel",
          "model_module_version": "1.5.0",
          "state": {
            "_dom_classes": [],
            "_model_module": "@jupyter-widgets/controls",
            "_model_module_version": "1.5.0",
            "_model_name": "HTMLModel",
            "_view_count": null,
            "_view_module": "@jupyter-widgets/controls",
            "_view_module_version": "1.5.0",
            "_view_name": "HTMLView",
            "description": "",
            "description_tooltip": null,
            "layout": "IPY_MODEL_bff2c840223447b69d4a0052d8f2ee06",
            "placeholder": "​",
            "style": "IPY_MODEL_7de2fb05625a4b588d4ef3ceeb825753",
            "value": "SPIQA_val.json: "
          }
        },
        "03355fd851fc4ce7b85f9c08d0e02fba": {
          "model_module": "@jupyter-widgets/controls",
          "model_name": "FloatProgressModel",
          "model_module_version": "1.5.0",
          "state": {
            "_dom_classes": [],
            "_model_module": "@jupyter-widgets/controls",
            "_model_module_version": "1.5.0",
            "_model_name": "FloatProgressModel",
            "_view_count": null,
            "_view_module": "@jupyter-widgets/controls",
            "_view_module_version": "1.5.0",
            "_view_name": "ProgressView",
            "bar_style": "success",
            "description": "",
            "description_tooltip": null,
            "layout": "IPY_MODEL_7bbbfeebd06e41e99092ea70df072411",
            "max": 1,
            "min": 0,
            "orientation": "horizontal",
            "style": "IPY_MODEL_b2718cfda91f4cd9bfe2cd8f1056c700",
            "value": 1
          }
        },
        "e276d269cc924227ba58587468ab538c": {
          "model_module": "@jupyter-widgets/controls",
          "model_name": "HTMLModel",
          "model_module_version": "1.5.0",
          "state": {
            "_dom_classes": [],
            "_model_module": "@jupyter-widgets/controls",
            "_model_module_version": "1.5.0",
            "_model_name": "HTMLModel",
            "_view_count": null,
            "_view_module": "@jupyter-widgets/controls",
            "_view_module_version": "1.5.0",
            "_view_name": "HTMLView",
            "description": "",
            "description_tooltip": null,
            "layout": "IPY_MODEL_9cff540c06bb4469b6c9f02fb0a71ca2",
            "placeholder": "​",
            "style": "IPY_MODEL_75dc4c233b234c4e90529232dfd1d38b",
            "value": " 1.68M/? [00:00&lt;00:00, 21.1MB/s]"
          }
        },
        "efe413904d794433971f57974f89683b": {
          "model_module": "@jupyter-widgets/base",
          "model_name": "LayoutModel",
          "model_module_version": "1.2.0",
          "state": {
            "_model_module": "@jupyter-widgets/base",
            "_model_module_version": "1.2.0",
            "_model_name": "LayoutModel",
            "_view_count": null,
            "_view_module": "@jupyter-widgets/base",
            "_view_module_version": "1.2.0",
            "_view_name": "LayoutView",
            "align_content": null,
            "align_items": null,
            "align_self": null,
            "border": null,
            "bottom": null,
            "display": null,
            "flex": null,
            "flex_flow": null,
            "grid_area": null,
            "grid_auto_columns": null,
            "grid_auto_flow": null,
            "grid_auto_rows": null,
            "grid_column": null,
            "grid_gap": null,
            "grid_row": null,
            "grid_template_areas": null,
            "grid_template_columns": null,
            "grid_template_rows": null,
            "height": null,
            "justify_content": null,
            "justify_items": null,
            "left": null,
            "margin": null,
            "max_height": null,
            "max_width": null,
            "min_height": null,
            "min_width": null,
            "object_fit": null,
            "object_position": null,
            "order": null,
            "overflow": null,
            "overflow_x": null,
            "overflow_y": null,
            "padding": null,
            "right": null,
            "top": null,
            "visibility": null,
            "width": null
          }
        },
        "bff2c840223447b69d4a0052d8f2ee06": {
          "model_module": "@jupyter-widgets/base",
          "model_name": "LayoutModel",
          "model_module_version": "1.2.0",
          "state": {
            "_model_module": "@jupyter-widgets/base",
            "_model_module_version": "1.2.0",
            "_model_name": "LayoutModel",
            "_view_count": null,
            "_view_module": "@jupyter-widgets/base",
            "_view_module_version": "1.2.0",
            "_view_name": "LayoutView",
            "align_content": null,
            "align_items": null,
            "align_self": null,
            "border": null,
            "bottom": null,
            "display": null,
            "flex": null,
            "flex_flow": null,
            "grid_area": null,
            "grid_auto_columns": null,
            "grid_auto_flow": null,
            "grid_auto_rows": null,
            "grid_column": null,
            "grid_gap": null,
            "grid_row": null,
            "grid_template_areas": null,
            "grid_template_columns": null,
            "grid_template_rows": null,
            "height": null,
            "justify_content": null,
            "justify_items": null,
            "left": null,
            "margin": null,
            "max_height": null,
            "max_width": null,
            "min_height": null,
            "min_width": null,
            "object_fit": null,
            "object_position": null,
            "order": null,
            "overflow": null,
            "overflow_x": null,
            "overflow_y": null,
            "padding": null,
            "right": null,
            "top": null,
            "visibility": null,
            "width": null
          }
        },
        "7de2fb05625a4b588d4ef3ceeb825753": {
          "model_module": "@jupyter-widgets/controls",
          "model_name": "DescriptionStyleModel",
          "model_module_version": "1.5.0",
          "state": {
            "_model_module": "@jupyter-widgets/controls",
            "_model_module_version": "1.5.0",
            "_model_name": "DescriptionStyleModel",
            "_view_count": null,
            "_view_module": "@jupyter-widgets/base",
            "_view_module_version": "1.2.0",
            "_view_name": "StyleView",
            "description_width": ""
          }
        },
        "7bbbfeebd06e41e99092ea70df072411": {
          "model_module": "@jupyter-widgets/base",
          "model_name": "LayoutModel",
          "model_module_version": "1.2.0",
          "state": {
            "_model_module": "@jupyter-widgets/base",
            "_model_module_version": "1.2.0",
            "_model_name": "LayoutModel",
            "_view_count": null,
            "_view_module": "@jupyter-widgets/base",
            "_view_module_version": "1.2.0",
            "_view_name": "LayoutView",
            "align_content": null,
            "align_items": null,
            "align_self": null,
            "border": null,
            "bottom": null,
            "display": null,
            "flex": null,
            "flex_flow": null,
            "grid_area": null,
            "grid_auto_columns": null,
            "grid_auto_flow": null,
            "grid_auto_rows": null,
            "grid_column": null,
            "grid_gap": null,
            "grid_row": null,
            "grid_template_areas": null,
            "grid_template_columns": null,
            "grid_template_rows": null,
            "height": null,
            "justify_content": null,
            "justify_items": null,
            "left": null,
            "margin": null,
            "max_height": null,
            "max_width": null,
            "min_height": null,
            "min_width": null,
            "object_fit": null,
            "object_position": null,
            "order": null,
            "overflow": null,
            "overflow_x": null,
            "overflow_y": null,
            "padding": null,
            "right": null,
            "top": null,
            "visibility": null,
            "width": "20px"
          }
        },
        "b2718cfda91f4cd9bfe2cd8f1056c700": {
          "model_module": "@jupyter-widgets/controls",
          "model_name": "ProgressStyleModel",
          "model_module_version": "1.5.0",
          "state": {
            "_model_module": "@jupyter-widgets/controls",
            "_model_module_version": "1.5.0",
            "_model_name": "ProgressStyleModel",
            "_view_count": null,
            "_view_module": "@jupyter-widgets/base",
            "_view_module_version": "1.2.0",
            "_view_name": "StyleView",
            "bar_color": null,
            "description_width": ""
          }
        },
        "9cff540c06bb4469b6c9f02fb0a71ca2": {
          "model_module": "@jupyter-widgets/base",
          "model_name": "LayoutModel",
          "model_module_version": "1.2.0",
          "state": {
            "_model_module": "@jupyter-widgets/base",
            "_model_module_version": "1.2.0",
            "_model_name": "LayoutModel",
            "_view_count": null,
            "_view_module": "@jupyter-widgets/base",
            "_view_module_version": "1.2.0",
            "_view_name": "LayoutView",
            "align_content": null,
            "align_items": null,
            "align_self": null,
            "border": null,
            "bottom": null,
            "display": null,
            "flex": null,
            "flex_flow": null,
            "grid_area": null,
            "grid_auto_columns": null,
            "grid_auto_flow": null,
            "grid_auto_rows": null,
            "grid_column": null,
            "grid_gap": null,
            "grid_row": null,
            "grid_template_areas": null,
            "grid_template_columns": null,
            "grid_template_rows": null,
            "height": null,
            "justify_content": null,
            "justify_items": null,
            "left": null,
            "margin": null,
            "max_height": null,
            "max_width": null,
            "min_height": null,
            "min_width": null,
            "object_fit": null,
            "object_position": null,
            "order": null,
            "overflow": null,
            "overflow_x": null,
            "overflow_y": null,
            "padding": null,
            "right": null,
            "top": null,
            "visibility": null,
            "width": null
          }
        },
        "75dc4c233b234c4e90529232dfd1d38b": {
          "model_module": "@jupyter-widgets/controls",
          "model_name": "DescriptionStyleModel",
          "model_module_version": "1.5.0",
          "state": {
            "_model_module": "@jupyter-widgets/controls",
            "_model_module_version": "1.5.0",
            "_model_name": "DescriptionStyleModel",
            "_view_count": null,
            "_view_module": "@jupyter-widgets/base",
            "_view_module_version": "1.2.0",
            "_view_name": "StyleView",
            "description_width": ""
          }
        },
        "daff3378c2754a3eb93a535e74928ac6": {
          "model_module": "@jupyter-widgets/controls",
          "model_name": "HBoxModel",
          "model_module_version": "1.5.0",
          "state": {
            "_dom_classes": [],
            "_model_module": "@jupyter-widgets/controls",
            "_model_module_version": "1.5.0",
            "_model_name": "HBoxModel",
            "_view_count": null,
            "_view_module": "@jupyter-widgets/controls",
            "_view_module_version": "1.5.0",
            "_view_name": "HBoxView",
            "box_style": "",
            "children": [
              "IPY_MODEL_4fcf72c3a9a5451e93dbebd4be698a20",
              "IPY_MODEL_daa1382f677b4561bc3093e3a600d8bb",
              "IPY_MODEL_031b0565861f42fc8ce0a9c6f0269f83"
            ],
            "layout": "IPY_MODEL_18b3742745614e27b5cba88d05a791bf"
          }
        },
        "4fcf72c3a9a5451e93dbebd4be698a20": {
          "model_module": "@jupyter-widgets/controls",
          "model_name": "HTMLModel",
          "model_module_version": "1.5.0",
          "state": {
            "_dom_classes": [],
            "_model_module": "@jupyter-widgets/controls",
            "_model_module_version": "1.5.0",
            "_model_name": "HTMLModel",
            "_view_count": null,
            "_view_module": "@jupyter-widgets/controls",
            "_view_module_version": "1.5.0",
            "_view_name": "HTMLView",
            "description": "",
            "description_tooltip": null,
            "layout": "IPY_MODEL_17d981b1b62b4e8fab163aa085dcc5d8",
            "placeholder": "​",
            "style": "IPY_MODEL_7795cea43eab43a1bdcb0a84b0d07dd7",
            "value": "preprocessor_config.json: 100%"
          }
        },
        "daa1382f677b4561bc3093e3a600d8bb": {
          "model_module": "@jupyter-widgets/controls",
          "model_name": "FloatProgressModel",
          "model_module_version": "1.5.0",
          "state": {
            "_dom_classes": [],
            "_model_module": "@jupyter-widgets/controls",
            "_model_module_version": "1.5.0",
            "_model_name": "FloatProgressModel",
            "_view_count": null,
            "_view_module": "@jupyter-widgets/controls",
            "_view_module_version": "1.5.0",
            "_view_name": "ProgressView",
            "bar_style": "success",
            "description": "",
            "description_tooltip": null,
            "layout": "IPY_MODEL_46d6d668723e44f2add408d175cff637",
            "max": 505,
            "min": 0,
            "orientation": "horizontal",
            "style": "IPY_MODEL_bd5ff87e40024c12a54170e199681bda",
            "value": 505
          }
        },
        "031b0565861f42fc8ce0a9c6f0269f83": {
          "model_module": "@jupyter-widgets/controls",
          "model_name": "HTMLModel",
          "model_module_version": "1.5.0",
          "state": {
            "_dom_classes": [],
            "_model_module": "@jupyter-widgets/controls",
            "_model_module_version": "1.5.0",
            "_model_name": "HTMLModel",
            "_view_count": null,
            "_view_module": "@jupyter-widgets/controls",
            "_view_module_version": "1.5.0",
            "_view_name": "HTMLView",
            "description": "",
            "description_tooltip": null,
            "layout": "IPY_MODEL_9a9907c8c1b744ce81884b2c27a655e1",
            "placeholder": "​",
            "style": "IPY_MODEL_ec5c28c6dcaa4ff38420bb4656c1bfdc",
            "value": " 505/505 [00:00&lt;00:00, 48.8kB/s]"
          }
        },
        "18b3742745614e27b5cba88d05a791bf": {
          "model_module": "@jupyter-widgets/base",
          "model_name": "LayoutModel",
          "model_module_version": "1.2.0",
          "state": {
            "_model_module": "@jupyter-widgets/base",
            "_model_module_version": "1.2.0",
            "_model_name": "LayoutModel",
            "_view_count": null,
            "_view_module": "@jupyter-widgets/base",
            "_view_module_version": "1.2.0",
            "_view_name": "LayoutView",
            "align_content": null,
            "align_items": null,
            "align_self": null,
            "border": null,
            "bottom": null,
            "display": null,
            "flex": null,
            "flex_flow": null,
            "grid_area": null,
            "grid_auto_columns": null,
            "grid_auto_flow": null,
            "grid_auto_rows": null,
            "grid_column": null,
            "grid_gap": null,
            "grid_row": null,
            "grid_template_areas": null,
            "grid_template_columns": null,
            "grid_template_rows": null,
            "height": null,
            "justify_content": null,
            "justify_items": null,
            "left": null,
            "margin": null,
            "max_height": null,
            "max_width": null,
            "min_height": null,
            "min_width": null,
            "object_fit": null,
            "object_position": null,
            "order": null,
            "overflow": null,
            "overflow_x": null,
            "overflow_y": null,
            "padding": null,
            "right": null,
            "top": null,
            "visibility": null,
            "width": null
          }
        },
        "17d981b1b62b4e8fab163aa085dcc5d8": {
          "model_module": "@jupyter-widgets/base",
          "model_name": "LayoutModel",
          "model_module_version": "1.2.0",
          "state": {
            "_model_module": "@jupyter-widgets/base",
            "_model_module_version": "1.2.0",
            "_model_name": "LayoutModel",
            "_view_count": null,
            "_view_module": "@jupyter-widgets/base",
            "_view_module_version": "1.2.0",
            "_view_name": "LayoutView",
            "align_content": null,
            "align_items": null,
            "align_self": null,
            "border": null,
            "bottom": null,
            "display": null,
            "flex": null,
            "flex_flow": null,
            "grid_area": null,
            "grid_auto_columns": null,
            "grid_auto_flow": null,
            "grid_auto_rows": null,
            "grid_column": null,
            "grid_gap": null,
            "grid_row": null,
            "grid_template_areas": null,
            "grid_template_columns": null,
            "grid_template_rows": null,
            "height": null,
            "justify_content": null,
            "justify_items": null,
            "left": null,
            "margin": null,
            "max_height": null,
            "max_width": null,
            "min_height": null,
            "min_width": null,
            "object_fit": null,
            "object_position": null,
            "order": null,
            "overflow": null,
            "overflow_x": null,
            "overflow_y": null,
            "padding": null,
            "right": null,
            "top": null,
            "visibility": null,
            "width": null
          }
        },
        "7795cea43eab43a1bdcb0a84b0d07dd7": {
          "model_module": "@jupyter-widgets/controls",
          "model_name": "DescriptionStyleModel",
          "model_module_version": "1.5.0",
          "state": {
            "_model_module": "@jupyter-widgets/controls",
            "_model_module_version": "1.5.0",
            "_model_name": "DescriptionStyleModel",
            "_view_count": null,
            "_view_module": "@jupyter-widgets/base",
            "_view_module_version": "1.2.0",
            "_view_name": "StyleView",
            "description_width": ""
          }
        },
        "46d6d668723e44f2add408d175cff637": {
          "model_module": "@jupyter-widgets/base",
          "model_name": "LayoutModel",
          "model_module_version": "1.2.0",
          "state": {
            "_model_module": "@jupyter-widgets/base",
            "_model_module_version": "1.2.0",
            "_model_name": "LayoutModel",
            "_view_count": null,
            "_view_module": "@jupyter-widgets/base",
            "_view_module_version": "1.2.0",
            "_view_name": "LayoutView",
            "align_content": null,
            "align_items": null,
            "align_self": null,
            "border": null,
            "bottom": null,
            "display": null,
            "flex": null,
            "flex_flow": null,
            "grid_area": null,
            "grid_auto_columns": null,
            "grid_auto_flow": null,
            "grid_auto_rows": null,
            "grid_column": null,
            "grid_gap": null,
            "grid_row": null,
            "grid_template_areas": null,
            "grid_template_columns": null,
            "grid_template_rows": null,
            "height": null,
            "justify_content": null,
            "justify_items": null,
            "left": null,
            "margin": null,
            "max_height": null,
            "max_width": null,
            "min_height": null,
            "min_width": null,
            "object_fit": null,
            "object_position": null,
            "order": null,
            "overflow": null,
            "overflow_x": null,
            "overflow_y": null,
            "padding": null,
            "right": null,
            "top": null,
            "visibility": null,
            "width": null
          }
        },
        "bd5ff87e40024c12a54170e199681bda": {
          "model_module": "@jupyter-widgets/controls",
          "model_name": "ProgressStyleModel",
          "model_module_version": "1.5.0",
          "state": {
            "_model_module": "@jupyter-widgets/controls",
            "_model_module_version": "1.5.0",
            "_model_name": "ProgressStyleModel",
            "_view_count": null,
            "_view_module": "@jupyter-widgets/base",
            "_view_module_version": "1.2.0",
            "_view_name": "StyleView",
            "bar_color": null,
            "description_width": ""
          }
        },
        "9a9907c8c1b744ce81884b2c27a655e1": {
          "model_module": "@jupyter-widgets/base",
          "model_name": "LayoutModel",
          "model_module_version": "1.2.0",
          "state": {
            "_model_module": "@jupyter-widgets/base",
            "_model_module_version": "1.2.0",
            "_model_name": "LayoutModel",
            "_view_count": null,
            "_view_module": "@jupyter-widgets/base",
            "_view_module_version": "1.2.0",
            "_view_name": "LayoutView",
            "align_content": null,
            "align_items": null,
            "align_self": null,
            "border": null,
            "bottom": null,
            "display": null,
            "flex": null,
            "flex_flow": null,
            "grid_area": null,
            "grid_auto_columns": null,
            "grid_auto_flow": null,
            "grid_auto_rows": null,
            "grid_column": null,
            "grid_gap": null,
            "grid_row": null,
            "grid_template_areas": null,
            "grid_template_columns": null,
            "grid_template_rows": null,
            "height": null,
            "justify_content": null,
            "justify_items": null,
            "left": null,
            "margin": null,
            "max_height": null,
            "max_width": null,
            "min_height": null,
            "min_width": null,
            "object_fit": null,
            "object_position": null,
            "order": null,
            "overflow": null,
            "overflow_x": null,
            "overflow_y": null,
            "padding": null,
            "right": null,
            "top": null,
            "visibility": null,
            "width": null
          }
        },
        "ec5c28c6dcaa4ff38420bb4656c1bfdc": {
          "model_module": "@jupyter-widgets/controls",
          "model_name": "DescriptionStyleModel",
          "model_module_version": "1.5.0",
          "state": {
            "_model_module": "@jupyter-widgets/controls",
            "_model_module_version": "1.5.0",
            "_model_name": "DescriptionStyleModel",
            "_view_count": null,
            "_view_module": "@jupyter-widgets/base",
            "_view_module_version": "1.2.0",
            "_view_name": "StyleView",
            "description_width": ""
          }
        },
        "418c8b1b06a740ecb132f171836af12d": {
          "model_module": "@jupyter-widgets/controls",
          "model_name": "HBoxModel",
          "model_module_version": "1.5.0",
          "state": {
            "_dom_classes": [],
            "_model_module": "@jupyter-widgets/controls",
            "_model_module_version": "1.5.0",
            "_model_name": "HBoxModel",
            "_view_count": null,
            "_view_module": "@jupyter-widgets/controls",
            "_view_module_version": "1.5.0",
            "_view_name": "HBoxView",
            "box_style": "",
            "children": [
              "IPY_MODEL_b80cd52062ee496d991e26e84a44830f",
              "IPY_MODEL_7f5190e629484eac96b59cfcbe6d73d5",
              "IPY_MODEL_17c9029854264f7ea21fe7efae7a6bb4"
            ],
            "layout": "IPY_MODEL_ab059412abcd4c4485796bc3ca4cd2e1"
          }
        },
        "b80cd52062ee496d991e26e84a44830f": {
          "model_module": "@jupyter-widgets/controls",
          "model_name": "HTMLModel",
          "model_module_version": "1.5.0",
          "state": {
            "_dom_classes": [],
            "_model_module": "@jupyter-widgets/controls",
            "_model_module_version": "1.5.0",
            "_model_name": "HTMLModel",
            "_view_count": null,
            "_view_module": "@jupyter-widgets/controls",
            "_view_module_version": "1.5.0",
            "_view_name": "HTMLView",
            "description": "",
            "description_tooltip": null,
            "layout": "IPY_MODEL_9970a1d722e34d118d78624b7aa1dee2",
            "placeholder": "​",
            "style": "IPY_MODEL_fe7afe47ae4247b49690124dfbd7b621",
            "value": "tokenizer_config.json: "
          }
        },
        "7f5190e629484eac96b59cfcbe6d73d5": {
          "model_module": "@jupyter-widgets/controls",
          "model_name": "FloatProgressModel",
          "model_module_version": "1.5.0",
          "state": {
            "_dom_classes": [],
            "_model_module": "@jupyter-widgets/controls",
            "_model_module_version": "1.5.0",
            "_model_name": "FloatProgressModel",
            "_view_count": null,
            "_view_module": "@jupyter-widgets/controls",
            "_view_module_version": "1.5.0",
            "_view_name": "ProgressView",
            "bar_style": "success",
            "description": "",
            "description_tooltip": null,
            "layout": "IPY_MODEL_f58519b87a744bdf98a3be6403be51b7",
            "max": 1,
            "min": 0,
            "orientation": "horizontal",
            "style": "IPY_MODEL_a91254d64d2340508b7dacc11ecd2e71",
            "value": 1
          }
        },
        "17c9029854264f7ea21fe7efae7a6bb4": {
          "model_module": "@jupyter-widgets/controls",
          "model_name": "HTMLModel",
          "model_module_version": "1.5.0",
          "state": {
            "_dom_classes": [],
            "_model_module": "@jupyter-widgets/controls",
            "_model_module_version": "1.5.0",
            "_model_name": "HTMLModel",
            "_view_count": null,
            "_view_module": "@jupyter-widgets/controls",
            "_view_module_version": "1.5.0",
            "_view_name": "HTMLView",
            "description": "",
            "description_tooltip": null,
            "layout": "IPY_MODEL_d31729ae6a2440aab088d16c01a5fc33",
            "placeholder": "​",
            "style": "IPY_MODEL_1f9b7eb1162840da90f899d66f59e543",
            "value": " 1.45k/? [00:00&lt;00:00, 102kB/s]"
          }
        },
        "ab059412abcd4c4485796bc3ca4cd2e1": {
          "model_module": "@jupyter-widgets/base",
          "model_name": "LayoutModel",
          "model_module_version": "1.2.0",
          "state": {
            "_model_module": "@jupyter-widgets/base",
            "_model_module_version": "1.2.0",
            "_model_name": "LayoutModel",
            "_view_count": null,
            "_view_module": "@jupyter-widgets/base",
            "_view_module_version": "1.2.0",
            "_view_name": "LayoutView",
            "align_content": null,
            "align_items": null,
            "align_self": null,
            "border": null,
            "bottom": null,
            "display": null,
            "flex": null,
            "flex_flow": null,
            "grid_area": null,
            "grid_auto_columns": null,
            "grid_auto_flow": null,
            "grid_auto_rows": null,
            "grid_column": null,
            "grid_gap": null,
            "grid_row": null,
            "grid_template_areas": null,
            "grid_template_columns": null,
            "grid_template_rows": null,
            "height": null,
            "justify_content": null,
            "justify_items": null,
            "left": null,
            "margin": null,
            "max_height": null,
            "max_width": null,
            "min_height": null,
            "min_width": null,
            "object_fit": null,
            "object_position": null,
            "order": null,
            "overflow": null,
            "overflow_x": null,
            "overflow_y": null,
            "padding": null,
            "right": null,
            "top": null,
            "visibility": null,
            "width": null
          }
        },
        "9970a1d722e34d118d78624b7aa1dee2": {
          "model_module": "@jupyter-widgets/base",
          "model_name": "LayoutModel",
          "model_module_version": "1.2.0",
          "state": {
            "_model_module": "@jupyter-widgets/base",
            "_model_module_version": "1.2.0",
            "_model_name": "LayoutModel",
            "_view_count": null,
            "_view_module": "@jupyter-widgets/base",
            "_view_module_version": "1.2.0",
            "_view_name": "LayoutView",
            "align_content": null,
            "align_items": null,
            "align_self": null,
            "border": null,
            "bottom": null,
            "display": null,
            "flex": null,
            "flex_flow": null,
            "grid_area": null,
            "grid_auto_columns": null,
            "grid_auto_flow": null,
            "grid_auto_rows": null,
            "grid_column": null,
            "grid_gap": null,
            "grid_row": null,
            "grid_template_areas": null,
            "grid_template_columns": null,
            "grid_template_rows": null,
            "height": null,
            "justify_content": null,
            "justify_items": null,
            "left": null,
            "margin": null,
            "max_height": null,
            "max_width": null,
            "min_height": null,
            "min_width": null,
            "object_fit": null,
            "object_position": null,
            "order": null,
            "overflow": null,
            "overflow_x": null,
            "overflow_y": null,
            "padding": null,
            "right": null,
            "top": null,
            "visibility": null,
            "width": null
          }
        },
        "fe7afe47ae4247b49690124dfbd7b621": {
          "model_module": "@jupyter-widgets/controls",
          "model_name": "DescriptionStyleModel",
          "model_module_version": "1.5.0",
          "state": {
            "_model_module": "@jupyter-widgets/controls",
            "_model_module_version": "1.5.0",
            "_model_name": "DescriptionStyleModel",
            "_view_count": null,
            "_view_module": "@jupyter-widgets/base",
            "_view_module_version": "1.2.0",
            "_view_name": "StyleView",
            "description_width": ""
          }
        },
        "f58519b87a744bdf98a3be6403be51b7": {
          "model_module": "@jupyter-widgets/base",
          "model_name": "LayoutModel",
          "model_module_version": "1.2.0",
          "state": {
            "_model_module": "@jupyter-widgets/base",
            "_model_module_version": "1.2.0",
            "_model_name": "LayoutModel",
            "_view_count": null,
            "_view_module": "@jupyter-widgets/base",
            "_view_module_version": "1.2.0",
            "_view_name": "LayoutView",
            "align_content": null,
            "align_items": null,
            "align_self": null,
            "border": null,
            "bottom": null,
            "display": null,
            "flex": null,
            "flex_flow": null,
            "grid_area": null,
            "grid_auto_columns": null,
            "grid_auto_flow": null,
            "grid_auto_rows": null,
            "grid_column": null,
            "grid_gap": null,
            "grid_row": null,
            "grid_template_areas": null,
            "grid_template_columns": null,
            "grid_template_rows": null,
            "height": null,
            "justify_content": null,
            "justify_items": null,
            "left": null,
            "margin": null,
            "max_height": null,
            "max_width": null,
            "min_height": null,
            "min_width": null,
            "object_fit": null,
            "object_position": null,
            "order": null,
            "overflow": null,
            "overflow_x": null,
            "overflow_y": null,
            "padding": null,
            "right": null,
            "top": null,
            "visibility": null,
            "width": "20px"
          }
        },
        "a91254d64d2340508b7dacc11ecd2e71": {
          "model_module": "@jupyter-widgets/controls",
          "model_name": "ProgressStyleModel",
          "model_module_version": "1.5.0",
          "state": {
            "_model_module": "@jupyter-widgets/controls",
            "_model_module_version": "1.5.0",
            "_model_name": "ProgressStyleModel",
            "_view_count": null,
            "_view_module": "@jupyter-widgets/base",
            "_view_module_version": "1.2.0",
            "_view_name": "StyleView",
            "bar_color": null,
            "description_width": ""
          }
        },
        "d31729ae6a2440aab088d16c01a5fc33": {
          "model_module": "@jupyter-widgets/base",
          "model_name": "LayoutModel",
          "model_module_version": "1.2.0",
          "state": {
            "_model_module": "@jupyter-widgets/base",
            "_model_module_version": "1.2.0",
            "_model_name": "LayoutModel",
            "_view_count": null,
            "_view_module": "@jupyter-widgets/base",
            "_view_module_version": "1.2.0",
            "_view_name": "LayoutView",
            "align_content": null,
            "align_items": null,
            "align_self": null,
            "border": null,
            "bottom": null,
            "display": null,
            "flex": null,
            "flex_flow": null,
            "grid_area": null,
            "grid_auto_columns": null,
            "grid_auto_flow": null,
            "grid_auto_rows": null,
            "grid_column": null,
            "grid_gap": null,
            "grid_row": null,
            "grid_template_areas": null,
            "grid_template_columns": null,
            "grid_template_rows": null,
            "height": null,
            "justify_content": null,
            "justify_items": null,
            "left": null,
            "margin": null,
            "max_height": null,
            "max_width": null,
            "min_height": null,
            "min_width": null,
            "object_fit": null,
            "object_position": null,
            "order": null,
            "overflow": null,
            "overflow_x": null,
            "overflow_y": null,
            "padding": null,
            "right": null,
            "top": null,
            "visibility": null,
            "width": null
          }
        },
        "1f9b7eb1162840da90f899d66f59e543": {
          "model_module": "@jupyter-widgets/controls",
          "model_name": "DescriptionStyleModel",
          "model_module_version": "1.5.0",
          "state": {
            "_model_module": "@jupyter-widgets/controls",
            "_model_module_version": "1.5.0",
            "_model_name": "DescriptionStyleModel",
            "_view_count": null,
            "_view_module": "@jupyter-widgets/base",
            "_view_module_version": "1.2.0",
            "_view_name": "StyleView",
            "description_width": ""
          }
        },
        "911fd30153504d9c898a63e78abd32e8": {
          "model_module": "@jupyter-widgets/controls",
          "model_name": "HBoxModel",
          "model_module_version": "1.5.0",
          "state": {
            "_dom_classes": [],
            "_model_module": "@jupyter-widgets/controls",
            "_model_module_version": "1.5.0",
            "_model_name": "HBoxModel",
            "_view_count": null,
            "_view_module": "@jupyter-widgets/controls",
            "_view_module_version": "1.5.0",
            "_view_name": "HBoxView",
            "box_style": "",
            "children": [
              "IPY_MODEL_8242d0f778f048a5bc601ac51452336e",
              "IPY_MODEL_2bb829123bc8419094d40ce05da7f3ca",
              "IPY_MODEL_d6d73311194d44da86ec2dffe29b1fd6"
            ],
            "layout": "IPY_MODEL_56c0207e1f0542138f813f794bcba77e"
          }
        },
        "8242d0f778f048a5bc601ac51452336e": {
          "model_module": "@jupyter-widgets/controls",
          "model_name": "HTMLModel",
          "model_module_version": "1.5.0",
          "state": {
            "_dom_classes": [],
            "_model_module": "@jupyter-widgets/controls",
            "_model_module_version": "1.5.0",
            "_model_name": "HTMLModel",
            "_view_count": null,
            "_view_module": "@jupyter-widgets/controls",
            "_view_module_version": "1.5.0",
            "_view_name": "HTMLView",
            "description": "",
            "description_tooltip": null,
            "layout": "IPY_MODEL_7afc578e1b3b46ad8a5812657b24e0d5",
            "placeholder": "​",
            "style": "IPY_MODEL_d9b47b237b734910b3e15ff2e57aa7be",
            "value": "tokenizer.model: 100%"
          }
        },
        "2bb829123bc8419094d40ce05da7f3ca": {
          "model_module": "@jupyter-widgets/controls",
          "model_name": "FloatProgressModel",
          "model_module_version": "1.5.0",
          "state": {
            "_dom_classes": [],
            "_model_module": "@jupyter-widgets/controls",
            "_model_module_version": "1.5.0",
            "_model_name": "FloatProgressModel",
            "_view_count": null,
            "_view_module": "@jupyter-widgets/controls",
            "_view_module_version": "1.5.0",
            "_view_name": "ProgressView",
            "bar_style": "success",
            "description": "",
            "description_tooltip": null,
            "layout": "IPY_MODEL_3537a137501a4b4d97192ccdcd61c951",
            "max": 499723,
            "min": 0,
            "orientation": "horizontal",
            "style": "IPY_MODEL_b23ddbc540014477ba38d6c8f6d65f27",
            "value": 499723
          }
        },
        "d6d73311194d44da86ec2dffe29b1fd6": {
          "model_module": "@jupyter-widgets/controls",
          "model_name": "HTMLModel",
          "model_module_version": "1.5.0",
          "state": {
            "_dom_classes": [],
            "_model_module": "@jupyter-widgets/controls",
            "_model_module_version": "1.5.0",
            "_model_name": "HTMLModel",
            "_view_count": null,
            "_view_module": "@jupyter-widgets/controls",
            "_view_module_version": "1.5.0",
            "_view_name": "HTMLView",
            "description": "",
            "description_tooltip": null,
            "layout": "IPY_MODEL_e1097e0fa642492e9f62b0768b7d3a57",
            "placeholder": "​",
            "style": "IPY_MODEL_0470d08e55c64268a53214019deab1ec",
            "value": " 500k/500k [00:00&lt;00:00, 11.5MB/s]"
          }
        },
        "56c0207e1f0542138f813f794bcba77e": {
          "model_module": "@jupyter-widgets/base",
          "model_name": "LayoutModel",
          "model_module_version": "1.2.0",
          "state": {
            "_model_module": "@jupyter-widgets/base",
            "_model_module_version": "1.2.0",
            "_model_name": "LayoutModel",
            "_view_count": null,
            "_view_module": "@jupyter-widgets/base",
            "_view_module_version": "1.2.0",
            "_view_name": "LayoutView",
            "align_content": null,
            "align_items": null,
            "align_self": null,
            "border": null,
            "bottom": null,
            "display": null,
            "flex": null,
            "flex_flow": null,
            "grid_area": null,
            "grid_auto_columns": null,
            "grid_auto_flow": null,
            "grid_auto_rows": null,
            "grid_column": null,
            "grid_gap": null,
            "grid_row": null,
            "grid_template_areas": null,
            "grid_template_columns": null,
            "grid_template_rows": null,
            "height": null,
            "justify_content": null,
            "justify_items": null,
            "left": null,
            "margin": null,
            "max_height": null,
            "max_width": null,
            "min_height": null,
            "min_width": null,
            "object_fit": null,
            "object_position": null,
            "order": null,
            "overflow": null,
            "overflow_x": null,
            "overflow_y": null,
            "padding": null,
            "right": null,
            "top": null,
            "visibility": null,
            "width": null
          }
        },
        "7afc578e1b3b46ad8a5812657b24e0d5": {
          "model_module": "@jupyter-widgets/base",
          "model_name": "LayoutModel",
          "model_module_version": "1.2.0",
          "state": {
            "_model_module": "@jupyter-widgets/base",
            "_model_module_version": "1.2.0",
            "_model_name": "LayoutModel",
            "_view_count": null,
            "_view_module": "@jupyter-widgets/base",
            "_view_module_version": "1.2.0",
            "_view_name": "LayoutView",
            "align_content": null,
            "align_items": null,
            "align_self": null,
            "border": null,
            "bottom": null,
            "display": null,
            "flex": null,
            "flex_flow": null,
            "grid_area": null,
            "grid_auto_columns": null,
            "grid_auto_flow": null,
            "grid_auto_rows": null,
            "grid_column": null,
            "grid_gap": null,
            "grid_row": null,
            "grid_template_areas": null,
            "grid_template_columns": null,
            "grid_template_rows": null,
            "height": null,
            "justify_content": null,
            "justify_items": null,
            "left": null,
            "margin": null,
            "max_height": null,
            "max_width": null,
            "min_height": null,
            "min_width": null,
            "object_fit": null,
            "object_position": null,
            "order": null,
            "overflow": null,
            "overflow_x": null,
            "overflow_y": null,
            "padding": null,
            "right": null,
            "top": null,
            "visibility": null,
            "width": null
          }
        },
        "d9b47b237b734910b3e15ff2e57aa7be": {
          "model_module": "@jupyter-widgets/controls",
          "model_name": "DescriptionStyleModel",
          "model_module_version": "1.5.0",
          "state": {
            "_model_module": "@jupyter-widgets/controls",
            "_model_module_version": "1.5.0",
            "_model_name": "DescriptionStyleModel",
            "_view_count": null,
            "_view_module": "@jupyter-widgets/base",
            "_view_module_version": "1.2.0",
            "_view_name": "StyleView",
            "description_width": ""
          }
        },
        "3537a137501a4b4d97192ccdcd61c951": {
          "model_module": "@jupyter-widgets/base",
          "model_name": "LayoutModel",
          "model_module_version": "1.2.0",
          "state": {
            "_model_module": "@jupyter-widgets/base",
            "_model_module_version": "1.2.0",
            "_model_name": "LayoutModel",
            "_view_count": null,
            "_view_module": "@jupyter-widgets/base",
            "_view_module_version": "1.2.0",
            "_view_name": "LayoutView",
            "align_content": null,
            "align_items": null,
            "align_self": null,
            "border": null,
            "bottom": null,
            "display": null,
            "flex": null,
            "flex_flow": null,
            "grid_area": null,
            "grid_auto_columns": null,
            "grid_auto_flow": null,
            "grid_auto_rows": null,
            "grid_column": null,
            "grid_gap": null,
            "grid_row": null,
            "grid_template_areas": null,
            "grid_template_columns": null,
            "grid_template_rows": null,
            "height": null,
            "justify_content": null,
            "justify_items": null,
            "left": null,
            "margin": null,
            "max_height": null,
            "max_width": null,
            "min_height": null,
            "min_width": null,
            "object_fit": null,
            "object_position": null,
            "order": null,
            "overflow": null,
            "overflow_x": null,
            "overflow_y": null,
            "padding": null,
            "right": null,
            "top": null,
            "visibility": null,
            "width": null
          }
        },
        "b23ddbc540014477ba38d6c8f6d65f27": {
          "model_module": "@jupyter-widgets/controls",
          "model_name": "ProgressStyleModel",
          "model_module_version": "1.5.0",
          "state": {
            "_model_module": "@jupyter-widgets/controls",
            "_model_module_version": "1.5.0",
            "_model_name": "ProgressStyleModel",
            "_view_count": null,
            "_view_module": "@jupyter-widgets/base",
            "_view_module_version": "1.2.0",
            "_view_name": "StyleView",
            "bar_color": null,
            "description_width": ""
          }
        },
        "e1097e0fa642492e9f62b0768b7d3a57": {
          "model_module": "@jupyter-widgets/base",
          "model_name": "LayoutModel",
          "model_module_version": "1.2.0",
          "state": {
            "_model_module": "@jupyter-widgets/base",
            "_model_module_version": "1.2.0",
            "_model_name": "LayoutModel",
            "_view_count": null,
            "_view_module": "@jupyter-widgets/base",
            "_view_module_version": "1.2.0",
            "_view_name": "LayoutView",
            "align_content": null,
            "align_items": null,
            "align_self": null,
            "border": null,
            "bottom": null,
            "display": null,
            "flex": null,
            "flex_flow": null,
            "grid_area": null,
            "grid_auto_columns": null,
            "grid_auto_flow": null,
            "grid_auto_rows": null,
            "grid_column": null,
            "grid_gap": null,
            "grid_row": null,
            "grid_template_areas": null,
            "grid_template_columns": null,
            "grid_template_rows": null,
            "height": null,
            "justify_content": null,
            "justify_items": null,
            "left": null,
            "margin": null,
            "max_height": null,
            "max_width": null,
            "min_height": null,
            "min_width": null,
            "object_fit": null,
            "object_position": null,
            "order": null,
            "overflow": null,
            "overflow_x": null,
            "overflow_y": null,
            "padding": null,
            "right": null,
            "top": null,
            "visibility": null,
            "width": null
          }
        },
        "0470d08e55c64268a53214019deab1ec": {
          "model_module": "@jupyter-widgets/controls",
          "model_name": "DescriptionStyleModel",
          "model_module_version": "1.5.0",
          "state": {
            "_model_module": "@jupyter-widgets/controls",
            "_model_module_version": "1.5.0",
            "_model_name": "DescriptionStyleModel",
            "_view_count": null,
            "_view_module": "@jupyter-widgets/base",
            "_view_module_version": "1.2.0",
            "_view_name": "StyleView",
            "description_width": ""
          }
        },
        "e22fee3cd9444c04b26cda3515d6c6a4": {
          "model_module": "@jupyter-widgets/controls",
          "model_name": "HBoxModel",
          "model_module_version": "1.5.0",
          "state": {
            "_dom_classes": [],
            "_model_module": "@jupyter-widgets/controls",
            "_model_module_version": "1.5.0",
            "_model_name": "HBoxModel",
            "_view_count": null,
            "_view_module": "@jupyter-widgets/controls",
            "_view_module_version": "1.5.0",
            "_view_name": "HBoxView",
            "box_style": "",
            "children": [
              "IPY_MODEL_fc1497998de0441d9465ef58e026ba51",
              "IPY_MODEL_1517ff94600547dcb2352e3b326f959a",
              "IPY_MODEL_b4e946d1c6cc46c58662649d6d3255f8"
            ],
            "layout": "IPY_MODEL_235c820f3ee145ae845cf8b5d72b68b6"
          }
        },
        "fc1497998de0441d9465ef58e026ba51": {
          "model_module": "@jupyter-widgets/controls",
          "model_name": "HTMLModel",
          "model_module_version": "1.5.0",
          "state": {
            "_dom_classes": [],
            "_model_module": "@jupyter-widgets/controls",
            "_model_module_version": "1.5.0",
            "_model_name": "HTMLModel",
            "_view_count": null,
            "_view_module": "@jupyter-widgets/controls",
            "_view_module_version": "1.5.0",
            "_view_name": "HTMLView",
            "description": "",
            "description_tooltip": null,
            "layout": "IPY_MODEL_92e74817e02845eea06cd8f7803471e3",
            "placeholder": "​",
            "style": "IPY_MODEL_3f3b4dee324e43a1b8f9438a1ba6fb93",
            "value": "tokenizer.json: "
          }
        },
        "1517ff94600547dcb2352e3b326f959a": {
          "model_module": "@jupyter-widgets/controls",
          "model_name": "FloatProgressModel",
          "model_module_version": "1.5.0",
          "state": {
            "_dom_classes": [],
            "_model_module": "@jupyter-widgets/controls",
            "_model_module_version": "1.5.0",
            "_model_name": "FloatProgressModel",
            "_view_count": null,
            "_view_module": "@jupyter-widgets/controls",
            "_view_module_version": "1.5.0",
            "_view_name": "ProgressView",
            "bar_style": "success",
            "description": "",
            "description_tooltip": null,
            "layout": "IPY_MODEL_7b35d09103904840b26a0e28df95203f",
            "max": 1,
            "min": 0,
            "orientation": "horizontal",
            "style": "IPY_MODEL_f736bfea642b4a51946ba0dbf242643c",
            "value": 1
          }
        },
        "b4e946d1c6cc46c58662649d6d3255f8": {
          "model_module": "@jupyter-widgets/controls",
          "model_name": "HTMLModel",
          "model_module_version": "1.5.0",
          "state": {
            "_dom_classes": [],
            "_model_module": "@jupyter-widgets/controls",
            "_model_module_version": "1.5.0",
            "_model_name": "HTMLModel",
            "_view_count": null,
            "_view_module": "@jupyter-widgets/controls",
            "_view_module_version": "1.5.0",
            "_view_name": "HTMLView",
            "description": "",
            "description_tooltip": null,
            "layout": "IPY_MODEL_df4a21c42d4a4488a95fbd3e8f4d2fad",
            "placeholder": "​",
            "style": "IPY_MODEL_3ff63a3f3b8b471bae8997191ba4a4f7",
            "value": " 3.62M/? [00:00&lt;00:00, 50.0MB/s]"
          }
        },
        "235c820f3ee145ae845cf8b5d72b68b6": {
          "model_module": "@jupyter-widgets/base",
          "model_name": "LayoutModel",
          "model_module_version": "1.2.0",
          "state": {
            "_model_module": "@jupyter-widgets/base",
            "_model_module_version": "1.2.0",
            "_model_name": "LayoutModel",
            "_view_count": null,
            "_view_module": "@jupyter-widgets/base",
            "_view_module_version": "1.2.0",
            "_view_name": "LayoutView",
            "align_content": null,
            "align_items": null,
            "align_self": null,
            "border": null,
            "bottom": null,
            "display": null,
            "flex": null,
            "flex_flow": null,
            "grid_area": null,
            "grid_auto_columns": null,
            "grid_auto_flow": null,
            "grid_auto_rows": null,
            "grid_column": null,
            "grid_gap": null,
            "grid_row": null,
            "grid_template_areas": null,
            "grid_template_columns": null,
            "grid_template_rows": null,
            "height": null,
            "justify_content": null,
            "justify_items": null,
            "left": null,
            "margin": null,
            "max_height": null,
            "max_width": null,
            "min_height": null,
            "min_width": null,
            "object_fit": null,
            "object_position": null,
            "order": null,
            "overflow": null,
            "overflow_x": null,
            "overflow_y": null,
            "padding": null,
            "right": null,
            "top": null,
            "visibility": null,
            "width": null
          }
        },
        "92e74817e02845eea06cd8f7803471e3": {
          "model_module": "@jupyter-widgets/base",
          "model_name": "LayoutModel",
          "model_module_version": "1.2.0",
          "state": {
            "_model_module": "@jupyter-widgets/base",
            "_model_module_version": "1.2.0",
            "_model_name": "LayoutModel",
            "_view_count": null,
            "_view_module": "@jupyter-widgets/base",
            "_view_module_version": "1.2.0",
            "_view_name": "LayoutView",
            "align_content": null,
            "align_items": null,
            "align_self": null,
            "border": null,
            "bottom": null,
            "display": null,
            "flex": null,
            "flex_flow": null,
            "grid_area": null,
            "grid_auto_columns": null,
            "grid_auto_flow": null,
            "grid_auto_rows": null,
            "grid_column": null,
            "grid_gap": null,
            "grid_row": null,
            "grid_template_areas": null,
            "grid_template_columns": null,
            "grid_template_rows": null,
            "height": null,
            "justify_content": null,
            "justify_items": null,
            "left": null,
            "margin": null,
            "max_height": null,
            "max_width": null,
            "min_height": null,
            "min_width": null,
            "object_fit": null,
            "object_position": null,
            "order": null,
            "overflow": null,
            "overflow_x": null,
            "overflow_y": null,
            "padding": null,
            "right": null,
            "top": null,
            "visibility": null,
            "width": null
          }
        },
        "3f3b4dee324e43a1b8f9438a1ba6fb93": {
          "model_module": "@jupyter-widgets/controls",
          "model_name": "DescriptionStyleModel",
          "model_module_version": "1.5.0",
          "state": {
            "_model_module": "@jupyter-widgets/controls",
            "_model_module_version": "1.5.0",
            "_model_name": "DescriptionStyleModel",
            "_view_count": null,
            "_view_module": "@jupyter-widgets/base",
            "_view_module_version": "1.2.0",
            "_view_name": "StyleView",
            "description_width": ""
          }
        },
        "7b35d09103904840b26a0e28df95203f": {
          "model_module": "@jupyter-widgets/base",
          "model_name": "LayoutModel",
          "model_module_version": "1.2.0",
          "state": {
            "_model_module": "@jupyter-widgets/base",
            "_model_module_version": "1.2.0",
            "_model_name": "LayoutModel",
            "_view_count": null,
            "_view_module": "@jupyter-widgets/base",
            "_view_module_version": "1.2.0",
            "_view_name": "LayoutView",
            "align_content": null,
            "align_items": null,
            "align_self": null,
            "border": null,
            "bottom": null,
            "display": null,
            "flex": null,
            "flex_flow": null,
            "grid_area": null,
            "grid_auto_columns": null,
            "grid_auto_flow": null,
            "grid_auto_rows": null,
            "grid_column": null,
            "grid_gap": null,
            "grid_row": null,
            "grid_template_areas": null,
            "grid_template_columns": null,
            "grid_template_rows": null,
            "height": null,
            "justify_content": null,
            "justify_items": null,
            "left": null,
            "margin": null,
            "max_height": null,
            "max_width": null,
            "min_height": null,
            "min_width": null,
            "object_fit": null,
            "object_position": null,
            "order": null,
            "overflow": null,
            "overflow_x": null,
            "overflow_y": null,
            "padding": null,
            "right": null,
            "top": null,
            "visibility": null,
            "width": "20px"
          }
        },
        "f736bfea642b4a51946ba0dbf242643c": {
          "model_module": "@jupyter-widgets/controls",
          "model_name": "ProgressStyleModel",
          "model_module_version": "1.5.0",
          "state": {
            "_model_module": "@jupyter-widgets/controls",
            "_model_module_version": "1.5.0",
            "_model_name": "ProgressStyleModel",
            "_view_count": null,
            "_view_module": "@jupyter-widgets/base",
            "_view_module_version": "1.2.0",
            "_view_name": "StyleView",
            "bar_color": null,
            "description_width": ""
          }
        },
        "df4a21c42d4a4488a95fbd3e8f4d2fad": {
          "model_module": "@jupyter-widgets/base",
          "model_name": "LayoutModel",
          "model_module_version": "1.2.0",
          "state": {
            "_model_module": "@jupyter-widgets/base",
            "_model_module_version": "1.2.0",
            "_model_name": "LayoutModel",
            "_view_count": null,
            "_view_module": "@jupyter-widgets/base",
            "_view_module_version": "1.2.0",
            "_view_name": "LayoutView",
            "align_content": null,
            "align_items": null,
            "align_self": null,
            "border": null,
            "bottom": null,
            "display": null,
            "flex": null,
            "flex_flow": null,
            "grid_area": null,
            "grid_auto_columns": null,
            "grid_auto_flow": null,
            "grid_auto_rows": null,
            "grid_column": null,
            "grid_gap": null,
            "grid_row": null,
            "grid_template_areas": null,
            "grid_template_columns": null,
            "grid_template_rows": null,
            "height": null,
            "justify_content": null,
            "justify_items": null,
            "left": null,
            "margin": null,
            "max_height": null,
            "max_width": null,
            "min_height": null,
            "min_width": null,
            "object_fit": null,
            "object_position": null,
            "order": null,
            "overflow": null,
            "overflow_x": null,
            "overflow_y": null,
            "padding": null,
            "right": null,
            "top": null,
            "visibility": null,
            "width": null
          }
        },
        "3ff63a3f3b8b471bae8997191ba4a4f7": {
          "model_module": "@jupyter-widgets/controls",
          "model_name": "DescriptionStyleModel",
          "model_module_version": "1.5.0",
          "state": {
            "_model_module": "@jupyter-widgets/controls",
            "_model_module_version": "1.5.0",
            "_model_name": "DescriptionStyleModel",
            "_view_count": null,
            "_view_module": "@jupyter-widgets/base",
            "_view_module_version": "1.2.0",
            "_view_name": "StyleView",
            "description_width": ""
          }
        },
        "c328ed031d2349f5be37ad6752f71599": {
          "model_module": "@jupyter-widgets/controls",
          "model_name": "HBoxModel",
          "model_module_version": "1.5.0",
          "state": {
            "_dom_classes": [],
            "_model_module": "@jupyter-widgets/controls",
            "_model_module_version": "1.5.0",
            "_model_name": "HBoxModel",
            "_view_count": null,
            "_view_module": "@jupyter-widgets/controls",
            "_view_module_version": "1.5.0",
            "_view_name": "HBoxView",
            "box_style": "",
            "children": [
              "IPY_MODEL_50f8bec6a21d4d52a439d99eda67c7bd",
              "IPY_MODEL_d4210d89624c4d1595ccb38fc21cbe24",
              "IPY_MODEL_8e04d7c37fbb467c8b5b1de88743c443"
            ],
            "layout": "IPY_MODEL_8715e670c0414d7d92e27cc2e0642c64"
          }
        },
        "50f8bec6a21d4d52a439d99eda67c7bd": {
          "model_module": "@jupyter-widgets/controls",
          "model_name": "HTMLModel",
          "model_module_version": "1.5.0",
          "state": {
            "_dom_classes": [],
            "_model_module": "@jupyter-widgets/controls",
            "_model_module_version": "1.5.0",
            "_model_name": "HTMLModel",
            "_view_count": null,
            "_view_module": "@jupyter-widgets/controls",
            "_view_module_version": "1.5.0",
            "_view_name": "HTMLView",
            "description": "",
            "description_tooltip": null,
            "layout": "IPY_MODEL_43b483becf2643558f08ef3468812723",
            "placeholder": "​",
            "style": "IPY_MODEL_a8f83a25fce34961a803edf567e860b4",
            "value": "added_tokens.json: 100%"
          }
        },
        "d4210d89624c4d1595ccb38fc21cbe24": {
          "model_module": "@jupyter-widgets/controls",
          "model_name": "FloatProgressModel",
          "model_module_version": "1.5.0",
          "state": {
            "_dom_classes": [],
            "_model_module": "@jupyter-widgets/controls",
            "_model_module_version": "1.5.0",
            "_model_name": "FloatProgressModel",
            "_view_count": null,
            "_view_module": "@jupyter-widgets/controls",
            "_view_module_version": "1.5.0",
            "_view_name": "ProgressView",
            "bar_style": "success",
            "description": "",
            "description_tooltip": null,
            "layout": "IPY_MODEL_0393cdb3e85041969aced210eaefcfec",
            "max": 41,
            "min": 0,
            "orientation": "horizontal",
            "style": "IPY_MODEL_4ac173a50f28437ea53591364b6c16b1",
            "value": 41
          }
        },
        "8e04d7c37fbb467c8b5b1de88743c443": {
          "model_module": "@jupyter-widgets/controls",
          "model_name": "HTMLModel",
          "model_module_version": "1.5.0",
          "state": {
            "_dom_classes": [],
            "_model_module": "@jupyter-widgets/controls",
            "_model_module_version": "1.5.0",
            "_model_name": "HTMLModel",
            "_view_count": null,
            "_view_module": "@jupyter-widgets/controls",
            "_view_module_version": "1.5.0",
            "_view_name": "HTMLView",
            "description": "",
            "description_tooltip": null,
            "layout": "IPY_MODEL_751a41a0682c41ba9b29d72c1ec9c440",
            "placeholder": "​",
            "style": "IPY_MODEL_fad2d835e5284f6696b58df9ca2de7a4",
            "value": " 41.0/41.0 [00:00&lt;00:00, 3.58kB/s]"
          }
        },
        "8715e670c0414d7d92e27cc2e0642c64": {
          "model_module": "@jupyter-widgets/base",
          "model_name": "LayoutModel",
          "model_module_version": "1.2.0",
          "state": {
            "_model_module": "@jupyter-widgets/base",
            "_model_module_version": "1.2.0",
            "_model_name": "LayoutModel",
            "_view_count": null,
            "_view_module": "@jupyter-widgets/base",
            "_view_module_version": "1.2.0",
            "_view_name": "LayoutView",
            "align_content": null,
            "align_items": null,
            "align_self": null,
            "border": null,
            "bottom": null,
            "display": null,
            "flex": null,
            "flex_flow": null,
            "grid_area": null,
            "grid_auto_columns": null,
            "grid_auto_flow": null,
            "grid_auto_rows": null,
            "grid_column": null,
            "grid_gap": null,
            "grid_row": null,
            "grid_template_areas": null,
            "grid_template_columns": null,
            "grid_template_rows": null,
            "height": null,
            "justify_content": null,
            "justify_items": null,
            "left": null,
            "margin": null,
            "max_height": null,
            "max_width": null,
            "min_height": null,
            "min_width": null,
            "object_fit": null,
            "object_position": null,
            "order": null,
            "overflow": null,
            "overflow_x": null,
            "overflow_y": null,
            "padding": null,
            "right": null,
            "top": null,
            "visibility": null,
            "width": null
          }
        },
        "43b483becf2643558f08ef3468812723": {
          "model_module": "@jupyter-widgets/base",
          "model_name": "LayoutModel",
          "model_module_version": "1.2.0",
          "state": {
            "_model_module": "@jupyter-widgets/base",
            "_model_module_version": "1.2.0",
            "_model_name": "LayoutModel",
            "_view_count": null,
            "_view_module": "@jupyter-widgets/base",
            "_view_module_version": "1.2.0",
            "_view_name": "LayoutView",
            "align_content": null,
            "align_items": null,
            "align_self": null,
            "border": null,
            "bottom": null,
            "display": null,
            "flex": null,
            "flex_flow": null,
            "grid_area": null,
            "grid_auto_columns": null,
            "grid_auto_flow": null,
            "grid_auto_rows": null,
            "grid_column": null,
            "grid_gap": null,
            "grid_row": null,
            "grid_template_areas": null,
            "grid_template_columns": null,
            "grid_template_rows": null,
            "height": null,
            "justify_content": null,
            "justify_items": null,
            "left": null,
            "margin": null,
            "max_height": null,
            "max_width": null,
            "min_height": null,
            "min_width": null,
            "object_fit": null,
            "object_position": null,
            "order": null,
            "overflow": null,
            "overflow_x": null,
            "overflow_y": null,
            "padding": null,
            "right": null,
            "top": null,
            "visibility": null,
            "width": null
          }
        },
        "a8f83a25fce34961a803edf567e860b4": {
          "model_module": "@jupyter-widgets/controls",
          "model_name": "DescriptionStyleModel",
          "model_module_version": "1.5.0",
          "state": {
            "_model_module": "@jupyter-widgets/controls",
            "_model_module_version": "1.5.0",
            "_model_name": "DescriptionStyleModel",
            "_view_count": null,
            "_view_module": "@jupyter-widgets/base",
            "_view_module_version": "1.2.0",
            "_view_name": "StyleView",
            "description_width": ""
          }
        },
        "0393cdb3e85041969aced210eaefcfec": {
          "model_module": "@jupyter-widgets/base",
          "model_name": "LayoutModel",
          "model_module_version": "1.2.0",
          "state": {
            "_model_module": "@jupyter-widgets/base",
            "_model_module_version": "1.2.0",
            "_model_name": "LayoutModel",
            "_view_count": null,
            "_view_module": "@jupyter-widgets/base",
            "_view_module_version": "1.2.0",
            "_view_name": "LayoutView",
            "align_content": null,
            "align_items": null,
            "align_self": null,
            "border": null,
            "bottom": null,
            "display": null,
            "flex": null,
            "flex_flow": null,
            "grid_area": null,
            "grid_auto_columns": null,
            "grid_auto_flow": null,
            "grid_auto_rows": null,
            "grid_column": null,
            "grid_gap": null,
            "grid_row": null,
            "grid_template_areas": null,
            "grid_template_columns": null,
            "grid_template_rows": null,
            "height": null,
            "justify_content": null,
            "justify_items": null,
            "left": null,
            "margin": null,
            "max_height": null,
            "max_width": null,
            "min_height": null,
            "min_width": null,
            "object_fit": null,
            "object_position": null,
            "order": null,
            "overflow": null,
            "overflow_x": null,
            "overflow_y": null,
            "padding": null,
            "right": null,
            "top": null,
            "visibility": null,
            "width": null
          }
        },
        "4ac173a50f28437ea53591364b6c16b1": {
          "model_module": "@jupyter-widgets/controls",
          "model_name": "ProgressStyleModel",
          "model_module_version": "1.5.0",
          "state": {
            "_model_module": "@jupyter-widgets/controls",
            "_model_module_version": "1.5.0",
            "_model_name": "ProgressStyleModel",
            "_view_count": null,
            "_view_module": "@jupyter-widgets/base",
            "_view_module_version": "1.2.0",
            "_view_name": "StyleView",
            "bar_color": null,
            "description_width": ""
          }
        },
        "751a41a0682c41ba9b29d72c1ec9c440": {
          "model_module": "@jupyter-widgets/base",
          "model_name": "LayoutModel",
          "model_module_version": "1.2.0",
          "state": {
            "_model_module": "@jupyter-widgets/base",
            "_model_module_version": "1.2.0",
            "_model_name": "LayoutModel",
            "_view_count": null,
            "_view_module": "@jupyter-widgets/base",
            "_view_module_version": "1.2.0",
            "_view_name": "LayoutView",
            "align_content": null,
            "align_items": null,
            "align_self": null,
            "border": null,
            "bottom": null,
            "display": null,
            "flex": null,
            "flex_flow": null,
            "grid_area": null,
            "grid_auto_columns": null,
            "grid_auto_flow": null,
            "grid_auto_rows": null,
            "grid_column": null,
            "grid_gap": null,
            "grid_row": null,
            "grid_template_areas": null,
            "grid_template_columns": null,
            "grid_template_rows": null,
            "height": null,
            "justify_content": null,
            "justify_items": null,
            "left": null,
            "margin": null,
            "max_height": null,
            "max_width": null,
            "min_height": null,
            "min_width": null,
            "object_fit": null,
            "object_position": null,
            "order": null,
            "overflow": null,
            "overflow_x": null,
            "overflow_y": null,
            "padding": null,
            "right": null,
            "top": null,
            "visibility": null,
            "width": null
          }
        },
        "fad2d835e5284f6696b58df9ca2de7a4": {
          "model_module": "@jupyter-widgets/controls",
          "model_name": "DescriptionStyleModel",
          "model_module_version": "1.5.0",
          "state": {
            "_model_module": "@jupyter-widgets/controls",
            "_model_module_version": "1.5.0",
            "_model_name": "DescriptionStyleModel",
            "_view_count": null,
            "_view_module": "@jupyter-widgets/base",
            "_view_module_version": "1.2.0",
            "_view_name": "StyleView",
            "description_width": ""
          }
        },
        "ecbfc2c0f4934fe98b03d7ccfc808a74": {
          "model_module": "@jupyter-widgets/controls",
          "model_name": "HBoxModel",
          "model_module_version": "1.5.0",
          "state": {
            "_dom_classes": [],
            "_model_module": "@jupyter-widgets/controls",
            "_model_module_version": "1.5.0",
            "_model_name": "HBoxModel",
            "_view_count": null,
            "_view_module": "@jupyter-widgets/controls",
            "_view_module_version": "1.5.0",
            "_view_name": "HBoxView",
            "box_style": "",
            "children": [
              "IPY_MODEL_df712378a8bd4ca39ee016158c013dd6",
              "IPY_MODEL_d6775e5f36234be4a47cee6704675f95",
              "IPY_MODEL_70c55d16363847e9a27a1809ea2460fd"
            ],
            "layout": "IPY_MODEL_c223343167f34ba28410e56fdcce39de"
          }
        },
        "df712378a8bd4ca39ee016158c013dd6": {
          "model_module": "@jupyter-widgets/controls",
          "model_name": "HTMLModel",
          "model_module_version": "1.5.0",
          "state": {
            "_dom_classes": [],
            "_model_module": "@jupyter-widgets/controls",
            "_model_module_version": "1.5.0",
            "_model_name": "HTMLModel",
            "_view_count": null,
            "_view_module": "@jupyter-widgets/controls",
            "_view_module_version": "1.5.0",
            "_view_name": "HTMLView",
            "description": "",
            "description_tooltip": null,
            "layout": "IPY_MODEL_1f97a6400b1d4c138a878b59b52521db",
            "placeholder": "​",
            "style": "IPY_MODEL_ff024e20fee24d0f9391ce7545dce586",
            "value": "special_tokens_map.json: 100%"
          }
        },
        "d6775e5f36234be4a47cee6704675f95": {
          "model_module": "@jupyter-widgets/controls",
          "model_name": "FloatProgressModel",
          "model_module_version": "1.5.0",
          "state": {
            "_dom_classes": [],
            "_model_module": "@jupyter-widgets/controls",
            "_model_module_version": "1.5.0",
            "_model_name": "FloatProgressModel",
            "_view_count": null,
            "_view_module": "@jupyter-widgets/controls",
            "_view_module_version": "1.5.0",
            "_view_name": "ProgressView",
            "bar_style": "success",
            "description": "",
            "description_tooltip": null,
            "layout": "IPY_MODEL_0eb86b94d65a485b9b3bcdcee974d940",
            "max": 552,
            "min": 0,
            "orientation": "horizontal",
            "style": "IPY_MODEL_f969adf7bdf146fb9f35ba864987a4f5",
            "value": 552
          }
        },
        "70c55d16363847e9a27a1809ea2460fd": {
          "model_module": "@jupyter-widgets/controls",
          "model_name": "HTMLModel",
          "model_module_version": "1.5.0",
          "state": {
            "_dom_classes": [],
            "_model_module": "@jupyter-widgets/controls",
            "_model_module_version": "1.5.0",
            "_model_name": "HTMLModel",
            "_view_count": null,
            "_view_module": "@jupyter-widgets/controls",
            "_view_module_version": "1.5.0",
            "_view_name": "HTMLView",
            "description": "",
            "description_tooltip": null,
            "layout": "IPY_MODEL_27e6e67e19594adcb1cc88757384977a",
            "placeholder": "​",
            "style": "IPY_MODEL_271bd433535647af87c8df6fad91309a",
            "value": " 552/552 [00:00&lt;00:00, 55.6kB/s]"
          }
        },
        "c223343167f34ba28410e56fdcce39de": {
          "model_module": "@jupyter-widgets/base",
          "model_name": "LayoutModel",
          "model_module_version": "1.2.0",
          "state": {
            "_model_module": "@jupyter-widgets/base",
            "_model_module_version": "1.2.0",
            "_model_name": "LayoutModel",
            "_view_count": null,
            "_view_module": "@jupyter-widgets/base",
            "_view_module_version": "1.2.0",
            "_view_name": "LayoutView",
            "align_content": null,
            "align_items": null,
            "align_self": null,
            "border": null,
            "bottom": null,
            "display": null,
            "flex": null,
            "flex_flow": null,
            "grid_area": null,
            "grid_auto_columns": null,
            "grid_auto_flow": null,
            "grid_auto_rows": null,
            "grid_column": null,
            "grid_gap": null,
            "grid_row": null,
            "grid_template_areas": null,
            "grid_template_columns": null,
            "grid_template_rows": null,
            "height": null,
            "justify_content": null,
            "justify_items": null,
            "left": null,
            "margin": null,
            "max_height": null,
            "max_width": null,
            "min_height": null,
            "min_width": null,
            "object_fit": null,
            "object_position": null,
            "order": null,
            "overflow": null,
            "overflow_x": null,
            "overflow_y": null,
            "padding": null,
            "right": null,
            "top": null,
            "visibility": null,
            "width": null
          }
        },
        "1f97a6400b1d4c138a878b59b52521db": {
          "model_module": "@jupyter-widgets/base",
          "model_name": "LayoutModel",
          "model_module_version": "1.2.0",
          "state": {
            "_model_module": "@jupyter-widgets/base",
            "_model_module_version": "1.2.0",
            "_model_name": "LayoutModel",
            "_view_count": null,
            "_view_module": "@jupyter-widgets/base",
            "_view_module_version": "1.2.0",
            "_view_name": "LayoutView",
            "align_content": null,
            "align_items": null,
            "align_self": null,
            "border": null,
            "bottom": null,
            "display": null,
            "flex": null,
            "flex_flow": null,
            "grid_area": null,
            "grid_auto_columns": null,
            "grid_auto_flow": null,
            "grid_auto_rows": null,
            "grid_column": null,
            "grid_gap": null,
            "grid_row": null,
            "grid_template_areas": null,
            "grid_template_columns": null,
            "grid_template_rows": null,
            "height": null,
            "justify_content": null,
            "justify_items": null,
            "left": null,
            "margin": null,
            "max_height": null,
            "max_width": null,
            "min_height": null,
            "min_width": null,
            "object_fit": null,
            "object_position": null,
            "order": null,
            "overflow": null,
            "overflow_x": null,
            "overflow_y": null,
            "padding": null,
            "right": null,
            "top": null,
            "visibility": null,
            "width": null
          }
        },
        "ff024e20fee24d0f9391ce7545dce586": {
          "model_module": "@jupyter-widgets/controls",
          "model_name": "DescriptionStyleModel",
          "model_module_version": "1.5.0",
          "state": {
            "_model_module": "@jupyter-widgets/controls",
            "_model_module_version": "1.5.0",
            "_model_name": "DescriptionStyleModel",
            "_view_count": null,
            "_view_module": "@jupyter-widgets/base",
            "_view_module_version": "1.2.0",
            "_view_name": "StyleView",
            "description_width": ""
          }
        },
        "0eb86b94d65a485b9b3bcdcee974d940": {
          "model_module": "@jupyter-widgets/base",
          "model_name": "LayoutModel",
          "model_module_version": "1.2.0",
          "state": {
            "_model_module": "@jupyter-widgets/base",
            "_model_module_version": "1.2.0",
            "_model_name": "LayoutModel",
            "_view_count": null,
            "_view_module": "@jupyter-widgets/base",
            "_view_module_version": "1.2.0",
            "_view_name": "LayoutView",
            "align_content": null,
            "align_items": null,
            "align_self": null,
            "border": null,
            "bottom": null,
            "display": null,
            "flex": null,
            "flex_flow": null,
            "grid_area": null,
            "grid_auto_columns": null,
            "grid_auto_flow": null,
            "grid_auto_rows": null,
            "grid_column": null,
            "grid_gap": null,
            "grid_row": null,
            "grid_template_areas": null,
            "grid_template_columns": null,
            "grid_template_rows": null,
            "height": null,
            "justify_content": null,
            "justify_items": null,
            "left": null,
            "margin": null,
            "max_height": null,
            "max_width": null,
            "min_height": null,
            "min_width": null,
            "object_fit": null,
            "object_position": null,
            "order": null,
            "overflow": null,
            "overflow_x": null,
            "overflow_y": null,
            "padding": null,
            "right": null,
            "top": null,
            "visibility": null,
            "width": null
          }
        },
        "f969adf7bdf146fb9f35ba864987a4f5": {
          "model_module": "@jupyter-widgets/controls",
          "model_name": "ProgressStyleModel",
          "model_module_version": "1.5.0",
          "state": {
            "_model_module": "@jupyter-widgets/controls",
            "_model_module_version": "1.5.0",
            "_model_name": "ProgressStyleModel",
            "_view_count": null,
            "_view_module": "@jupyter-widgets/base",
            "_view_module_version": "1.2.0",
            "_view_name": "StyleView",
            "bar_color": null,
            "description_width": ""
          }
        },
        "27e6e67e19594adcb1cc88757384977a": {
          "model_module": "@jupyter-widgets/base",
          "model_name": "LayoutModel",
          "model_module_version": "1.2.0",
          "state": {
            "_model_module": "@jupyter-widgets/base",
            "_model_module_version": "1.2.0",
            "_model_name": "LayoutModel",
            "_view_count": null,
            "_view_module": "@jupyter-widgets/base",
            "_view_module_version": "1.2.0",
            "_view_name": "LayoutView",
            "align_content": null,
            "align_items": null,
            "align_self": null,
            "border": null,
            "bottom": null,
            "display": null,
            "flex": null,
            "flex_flow": null,
            "grid_area": null,
            "grid_auto_columns": null,
            "grid_auto_flow": null,
            "grid_auto_rows": null,
            "grid_column": null,
            "grid_gap": null,
            "grid_row": null,
            "grid_template_areas": null,
            "grid_template_columns": null,
            "grid_template_rows": null,
            "height": null,
            "justify_content": null,
            "justify_items": null,
            "left": null,
            "margin": null,
            "max_height": null,
            "max_width": null,
            "min_height": null,
            "min_width": null,
            "object_fit": null,
            "object_position": null,
            "order": null,
            "overflow": null,
            "overflow_x": null,
            "overflow_y": null,
            "padding": null,
            "right": null,
            "top": null,
            "visibility": null,
            "width": null
          }
        },
        "271bd433535647af87c8df6fad91309a": {
          "model_module": "@jupyter-widgets/controls",
          "model_name": "DescriptionStyleModel",
          "model_module_version": "1.5.0",
          "state": {
            "_model_module": "@jupyter-widgets/controls",
            "_model_module_version": "1.5.0",
            "_model_name": "DescriptionStyleModel",
            "_view_count": null,
            "_view_module": "@jupyter-widgets/base",
            "_view_module_version": "1.2.0",
            "_view_name": "StyleView",
            "description_width": ""
          }
        },
        "0b05e8a15a9443b6986e3a525cbcf959": {
          "model_module": "@jupyter-widgets/controls",
          "model_name": "HBoxModel",
          "model_module_version": "1.5.0",
          "state": {
            "_dom_classes": [],
            "_model_module": "@jupyter-widgets/controls",
            "_model_module_version": "1.5.0",
            "_model_name": "HBoxModel",
            "_view_count": null,
            "_view_module": "@jupyter-widgets/controls",
            "_view_module_version": "1.5.0",
            "_view_name": "HBoxView",
            "box_style": "",
            "children": [
              "IPY_MODEL_2598b27967a144ab8ba5b87eb79ab7bd",
              "IPY_MODEL_d908419cb90b44e799523577277c51ff",
              "IPY_MODEL_14685ff10e004647a9a9a47b91b84606"
            ],
            "layout": "IPY_MODEL_10152866b1c84f44a02e8a0eea5c7cc0"
          }
        },
        "2598b27967a144ab8ba5b87eb79ab7bd": {
          "model_module": "@jupyter-widgets/controls",
          "model_name": "HTMLModel",
          "model_module_version": "1.5.0",
          "state": {
            "_dom_classes": [],
            "_model_module": "@jupyter-widgets/controls",
            "_model_module_version": "1.5.0",
            "_model_name": "HTMLModel",
            "_view_count": null,
            "_view_module": "@jupyter-widgets/controls",
            "_view_module_version": "1.5.0",
            "_view_name": "HTMLView",
            "description": "",
            "description_tooltip": null,
            "layout": "IPY_MODEL_7323f1d094604c27a1bb6388d34627f5",
            "placeholder": "​",
            "style": "IPY_MODEL_f78c7eea370c408f8421ba99a6310bbe",
            "value": "chat_template.jinja: 100%"
          }
        },
        "d908419cb90b44e799523577277c51ff": {
          "model_module": "@jupyter-widgets/controls",
          "model_name": "FloatProgressModel",
          "model_module_version": "1.5.0",
          "state": {
            "_dom_classes": [],
            "_model_module": "@jupyter-widgets/controls",
            "_model_module_version": "1.5.0",
            "_model_name": "FloatProgressModel",
            "_view_count": null,
            "_view_module": "@jupyter-widgets/controls",
            "_view_module_version": "1.5.0",
            "_view_name": "ProgressView",
            "bar_style": "success",
            "description": "",
            "description_tooltip": null,
            "layout": "IPY_MODEL_05079796d4894b689cbafee32f755297",
            "max": 674,
            "min": 0,
            "orientation": "horizontal",
            "style": "IPY_MODEL_7f8691071b974fe9a217f5e2a83cf3f2",
            "value": 674
          }
        },
        "14685ff10e004647a9a9a47b91b84606": {
          "model_module": "@jupyter-widgets/controls",
          "model_name": "HTMLModel",
          "model_module_version": "1.5.0",
          "state": {
            "_dom_classes": [],
            "_model_module": "@jupyter-widgets/controls",
            "_model_module_version": "1.5.0",
            "_model_name": "HTMLModel",
            "_view_count": null,
            "_view_module": "@jupyter-widgets/controls",
            "_view_module_version": "1.5.0",
            "_view_name": "HTMLView",
            "description": "",
            "description_tooltip": null,
            "layout": "IPY_MODEL_3ebedd86908940509a8d66134977e3ae",
            "placeholder": "​",
            "style": "IPY_MODEL_edeff6d6a6a14a4a82cc48f9c9dc5c51",
            "value": " 674/674 [00:00&lt;00:00, 65.8kB/s]"
          }
        },
        "10152866b1c84f44a02e8a0eea5c7cc0": {
          "model_module": "@jupyter-widgets/base",
          "model_name": "LayoutModel",
          "model_module_version": "1.2.0",
          "state": {
            "_model_module": "@jupyter-widgets/base",
            "_model_module_version": "1.2.0",
            "_model_name": "LayoutModel",
            "_view_count": null,
            "_view_module": "@jupyter-widgets/base",
            "_view_module_version": "1.2.0",
            "_view_name": "LayoutView",
            "align_content": null,
            "align_items": null,
            "align_self": null,
            "border": null,
            "bottom": null,
            "display": null,
            "flex": null,
            "flex_flow": null,
            "grid_area": null,
            "grid_auto_columns": null,
            "grid_auto_flow": null,
            "grid_auto_rows": null,
            "grid_column": null,
            "grid_gap": null,
            "grid_row": null,
            "grid_template_areas": null,
            "grid_template_columns": null,
            "grid_template_rows": null,
            "height": null,
            "justify_content": null,
            "justify_items": null,
            "left": null,
            "margin": null,
            "max_height": null,
            "max_width": null,
            "min_height": null,
            "min_width": null,
            "object_fit": null,
            "object_position": null,
            "order": null,
            "overflow": null,
            "overflow_x": null,
            "overflow_y": null,
            "padding": null,
            "right": null,
            "top": null,
            "visibility": null,
            "width": null
          }
        },
        "7323f1d094604c27a1bb6388d34627f5": {
          "model_module": "@jupyter-widgets/base",
          "model_name": "LayoutModel",
          "model_module_version": "1.2.0",
          "state": {
            "_model_module": "@jupyter-widgets/base",
            "_model_module_version": "1.2.0",
            "_model_name": "LayoutModel",
            "_view_count": null,
            "_view_module": "@jupyter-widgets/base",
            "_view_module_version": "1.2.0",
            "_view_name": "LayoutView",
            "align_content": null,
            "align_items": null,
            "align_self": null,
            "border": null,
            "bottom": null,
            "display": null,
            "flex": null,
            "flex_flow": null,
            "grid_area": null,
            "grid_auto_columns": null,
            "grid_auto_flow": null,
            "grid_auto_rows": null,
            "grid_column": null,
            "grid_gap": null,
            "grid_row": null,
            "grid_template_areas": null,
            "grid_template_columns": null,
            "grid_template_rows": null,
            "height": null,
            "justify_content": null,
            "justify_items": null,
            "left": null,
            "margin": null,
            "max_height": null,
            "max_width": null,
            "min_height": null,
            "min_width": null,
            "object_fit": null,
            "object_position": null,
            "order": null,
            "overflow": null,
            "overflow_x": null,
            "overflow_y": null,
            "padding": null,
            "right": null,
            "top": null,
            "visibility": null,
            "width": null
          }
        },
        "f78c7eea370c408f8421ba99a6310bbe": {
          "model_module": "@jupyter-widgets/controls",
          "model_name": "DescriptionStyleModel",
          "model_module_version": "1.5.0",
          "state": {
            "_model_module": "@jupyter-widgets/controls",
            "_model_module_version": "1.5.0",
            "_model_name": "DescriptionStyleModel",
            "_view_count": null,
            "_view_module": "@jupyter-widgets/base",
            "_view_module_version": "1.2.0",
            "_view_name": "StyleView",
            "description_width": ""
          }
        },
        "05079796d4894b689cbafee32f755297": {
          "model_module": "@jupyter-widgets/base",
          "model_name": "LayoutModel",
          "model_module_version": "1.2.0",
          "state": {
            "_model_module": "@jupyter-widgets/base",
            "_model_module_version": "1.2.0",
            "_model_name": "LayoutModel",
            "_view_count": null,
            "_view_module": "@jupyter-widgets/base",
            "_view_module_version": "1.2.0",
            "_view_name": "LayoutView",
            "align_content": null,
            "align_items": null,
            "align_self": null,
            "border": null,
            "bottom": null,
            "display": null,
            "flex": null,
            "flex_flow": null,
            "grid_area": null,
            "grid_auto_columns": null,
            "grid_auto_flow": null,
            "grid_auto_rows": null,
            "grid_column": null,
            "grid_gap": null,
            "grid_row": null,
            "grid_template_areas": null,
            "grid_template_columns": null,
            "grid_template_rows": null,
            "height": null,
            "justify_content": null,
            "justify_items": null,
            "left": null,
            "margin": null,
            "max_height": null,
            "max_width": null,
            "min_height": null,
            "min_width": null,
            "object_fit": null,
            "object_position": null,
            "order": null,
            "overflow": null,
            "overflow_x": null,
            "overflow_y": null,
            "padding": null,
            "right": null,
            "top": null,
            "visibility": null,
            "width": null
          }
        },
        "7f8691071b974fe9a217f5e2a83cf3f2": {
          "model_module": "@jupyter-widgets/controls",
          "model_name": "ProgressStyleModel",
          "model_module_version": "1.5.0",
          "state": {
            "_model_module": "@jupyter-widgets/controls",
            "_model_module_version": "1.5.0",
            "_model_name": "ProgressStyleModel",
            "_view_count": null,
            "_view_module": "@jupyter-widgets/base",
            "_view_module_version": "1.2.0",
            "_view_name": "StyleView",
            "bar_color": null,
            "description_width": ""
          }
        },
        "3ebedd86908940509a8d66134977e3ae": {
          "model_module": "@jupyter-widgets/base",
          "model_name": "LayoutModel",
          "model_module_version": "1.2.0",
          "state": {
            "_model_module": "@jupyter-widgets/base",
            "_model_module_version": "1.2.0",
            "_model_name": "LayoutModel",
            "_view_count": null,
            "_view_module": "@jupyter-widgets/base",
            "_view_module_version": "1.2.0",
            "_view_name": "LayoutView",
            "align_content": null,
            "align_items": null,
            "align_self": null,
            "border": null,
            "bottom": null,
            "display": null,
            "flex": null,
            "flex_flow": null,
            "grid_area": null,
            "grid_auto_columns": null,
            "grid_auto_flow": null,
            "grid_auto_rows": null,
            "grid_column": null,
            "grid_gap": null,
            "grid_row": null,
            "grid_template_areas": null,
            "grid_template_columns": null,
            "grid_template_rows": null,
            "height": null,
            "justify_content": null,
            "justify_items": null,
            "left": null,
            "margin": null,
            "max_height": null,
            "max_width": null,
            "min_height": null,
            "min_width": null,
            "object_fit": null,
            "object_position": null,
            "order": null,
            "overflow": null,
            "overflow_x": null,
            "overflow_y": null,
            "padding": null,
            "right": null,
            "top": null,
            "visibility": null,
            "width": null
          }
        },
        "edeff6d6a6a14a4a82cc48f9c9dc5c51": {
          "model_module": "@jupyter-widgets/controls",
          "model_name": "DescriptionStyleModel",
          "model_module_version": "1.5.0",
          "state": {
            "_model_module": "@jupyter-widgets/controls",
            "_model_module_version": "1.5.0",
            "_model_name": "DescriptionStyleModel",
            "_view_count": null,
            "_view_module": "@jupyter-widgets/base",
            "_view_module_version": "1.2.0",
            "_view_name": "StyleView",
            "description_width": ""
          }
        },
        "939d9e1041dc4817a8a3991c44531d11": {
          "model_module": "@jupyter-widgets/controls",
          "model_name": "HBoxModel",
          "model_module_version": "1.5.0",
          "state": {
            "_dom_classes": [],
            "_model_module": "@jupyter-widgets/controls",
            "_model_module_version": "1.5.0",
            "_model_name": "HBoxModel",
            "_view_count": null,
            "_view_module": "@jupyter-widgets/controls",
            "_view_module_version": "1.5.0",
            "_view_name": "HBoxView",
            "box_style": "",
            "children": [
              "IPY_MODEL_92dd2b6088004314ac0f4c3938f0759c",
              "IPY_MODEL_30d5b38f4175414485be355e36c48cdc",
              "IPY_MODEL_63ef5e4cea084970a1d11c38e813d564"
            ],
            "layout": "IPY_MODEL_23ade9ea12eb49beac0e764a34374b2d"
          }
        },
        "92dd2b6088004314ac0f4c3938f0759c": {
          "model_module": "@jupyter-widgets/controls",
          "model_name": "HTMLModel",
          "model_module_version": "1.5.0",
          "state": {
            "_dom_classes": [],
            "_model_module": "@jupyter-widgets/controls",
            "_model_module_version": "1.5.0",
            "_model_name": "HTMLModel",
            "_view_count": null,
            "_view_module": "@jupyter-widgets/controls",
            "_view_module_version": "1.5.0",
            "_view_name": "HTMLView",
            "description": "",
            "description_tooltip": null,
            "layout": "IPY_MODEL_28cddff1ab8d4b67becf8297cd39ac55",
            "placeholder": "​",
            "style": "IPY_MODEL_863e8fbe04e3459d82eb685a73ec196f",
            "value": "processor_config.json: 100%"
          }
        },
        "30d5b38f4175414485be355e36c48cdc": {
          "model_module": "@jupyter-widgets/controls",
          "model_name": "FloatProgressModel",
          "model_module_version": "1.5.0",
          "state": {
            "_dom_classes": [],
            "_model_module": "@jupyter-widgets/controls",
            "_model_module_version": "1.5.0",
            "_model_name": "FloatProgressModel",
            "_view_count": null,
            "_view_module": "@jupyter-widgets/controls",
            "_view_module_version": "1.5.0",
            "_view_name": "ProgressView",
            "bar_style": "success",
            "description": "",
            "description_tooltip": null,
            "layout": "IPY_MODEL_a5c76f1c96c24f2ea3d9468e5d3d8e17",
            "max": 173,
            "min": 0,
            "orientation": "horizontal",
            "style": "IPY_MODEL_3dc9f8d3227e4571b8cb9ec7089a093a",
            "value": 173
          }
        },
        "63ef5e4cea084970a1d11c38e813d564": {
          "model_module": "@jupyter-widgets/controls",
          "model_name": "HTMLModel",
          "model_module_version": "1.5.0",
          "state": {
            "_dom_classes": [],
            "_model_module": "@jupyter-widgets/controls",
            "_model_module_version": "1.5.0",
            "_model_name": "HTMLModel",
            "_view_count": null,
            "_view_module": "@jupyter-widgets/controls",
            "_view_module_version": "1.5.0",
            "_view_name": "HTMLView",
            "description": "",
            "description_tooltip": null,
            "layout": "IPY_MODEL_d988bcf77b614f6daeb2fada4d7d8e04",
            "placeholder": "​",
            "style": "IPY_MODEL_ad832d27ecb140c29702314642bc02b0",
            "value": " 173/173 [00:00&lt;00:00, 11.5kB/s]"
          }
        },
        "23ade9ea12eb49beac0e764a34374b2d": {
          "model_module": "@jupyter-widgets/base",
          "model_name": "LayoutModel",
          "model_module_version": "1.2.0",
          "state": {
            "_model_module": "@jupyter-widgets/base",
            "_model_module_version": "1.2.0",
            "_model_name": "LayoutModel",
            "_view_count": null,
            "_view_module": "@jupyter-widgets/base",
            "_view_module_version": "1.2.0",
            "_view_name": "LayoutView",
            "align_content": null,
            "align_items": null,
            "align_self": null,
            "border": null,
            "bottom": null,
            "display": null,
            "flex": null,
            "flex_flow": null,
            "grid_area": null,
            "grid_auto_columns": null,
            "grid_auto_flow": null,
            "grid_auto_rows": null,
            "grid_column": null,
            "grid_gap": null,
            "grid_row": null,
            "grid_template_areas": null,
            "grid_template_columns": null,
            "grid_template_rows": null,
            "height": null,
            "justify_content": null,
            "justify_items": null,
            "left": null,
            "margin": null,
            "max_height": null,
            "max_width": null,
            "min_height": null,
            "min_width": null,
            "object_fit": null,
            "object_position": null,
            "order": null,
            "overflow": null,
            "overflow_x": null,
            "overflow_y": null,
            "padding": null,
            "right": null,
            "top": null,
            "visibility": null,
            "width": null
          }
        },
        "28cddff1ab8d4b67becf8297cd39ac55": {
          "model_module": "@jupyter-widgets/base",
          "model_name": "LayoutModel",
          "model_module_version": "1.2.0",
          "state": {
            "_model_module": "@jupyter-widgets/base",
            "_model_module_version": "1.2.0",
            "_model_name": "LayoutModel",
            "_view_count": null,
            "_view_module": "@jupyter-widgets/base",
            "_view_module_version": "1.2.0",
            "_view_name": "LayoutView",
            "align_content": null,
            "align_items": null,
            "align_self": null,
            "border": null,
            "bottom": null,
            "display": null,
            "flex": null,
            "flex_flow": null,
            "grid_area": null,
            "grid_auto_columns": null,
            "grid_auto_flow": null,
            "grid_auto_rows": null,
            "grid_column": null,
            "grid_gap": null,
            "grid_row": null,
            "grid_template_areas": null,
            "grid_template_columns": null,
            "grid_template_rows": null,
            "height": null,
            "justify_content": null,
            "justify_items": null,
            "left": null,
            "margin": null,
            "max_height": null,
            "max_width": null,
            "min_height": null,
            "min_width": null,
            "object_fit": null,
            "object_position": null,
            "order": null,
            "overflow": null,
            "overflow_x": null,
            "overflow_y": null,
            "padding": null,
            "right": null,
            "top": null,
            "visibility": null,
            "width": null
          }
        },
        "863e8fbe04e3459d82eb685a73ec196f": {
          "model_module": "@jupyter-widgets/controls",
          "model_name": "DescriptionStyleModel",
          "model_module_version": "1.5.0",
          "state": {
            "_model_module": "@jupyter-widgets/controls",
            "_model_module_version": "1.5.0",
            "_model_name": "DescriptionStyleModel",
            "_view_count": null,
            "_view_module": "@jupyter-widgets/base",
            "_view_module_version": "1.2.0",
            "_view_name": "StyleView",
            "description_width": ""
          }
        },
        "a5c76f1c96c24f2ea3d9468e5d3d8e17": {
          "model_module": "@jupyter-widgets/base",
          "model_name": "LayoutModel",
          "model_module_version": "1.2.0",
          "state": {
            "_model_module": "@jupyter-widgets/base",
            "_model_module_version": "1.2.0",
            "_model_name": "LayoutModel",
            "_view_count": null,
            "_view_module": "@jupyter-widgets/base",
            "_view_module_version": "1.2.0",
            "_view_name": "LayoutView",
            "align_content": null,
            "align_items": null,
            "align_self": null,
            "border": null,
            "bottom": null,
            "display": null,
            "flex": null,
            "flex_flow": null,
            "grid_area": null,
            "grid_auto_columns": null,
            "grid_auto_flow": null,
            "grid_auto_rows": null,
            "grid_column": null,
            "grid_gap": null,
            "grid_row": null,
            "grid_template_areas": null,
            "grid_template_columns": null,
            "grid_template_rows": null,
            "height": null,
            "justify_content": null,
            "justify_items": null,
            "left": null,
            "margin": null,
            "max_height": null,
            "max_width": null,
            "min_height": null,
            "min_width": null,
            "object_fit": null,
            "object_position": null,
            "order": null,
            "overflow": null,
            "overflow_x": null,
            "overflow_y": null,
            "padding": null,
            "right": null,
            "top": null,
            "visibility": null,
            "width": null
          }
        },
        "3dc9f8d3227e4571b8cb9ec7089a093a": {
          "model_module": "@jupyter-widgets/controls",
          "model_name": "ProgressStyleModel",
          "model_module_version": "1.5.0",
          "state": {
            "_model_module": "@jupyter-widgets/controls",
            "_model_module_version": "1.5.0",
            "_model_name": "ProgressStyleModel",
            "_view_count": null,
            "_view_module": "@jupyter-widgets/base",
            "_view_module_version": "1.2.0",
            "_view_name": "StyleView",
            "bar_color": null,
            "description_width": ""
          }
        },
        "d988bcf77b614f6daeb2fada4d7d8e04": {
          "model_module": "@jupyter-widgets/base",
          "model_name": "LayoutModel",
          "model_module_version": "1.2.0",
          "state": {
            "_model_module": "@jupyter-widgets/base",
            "_model_module_version": "1.2.0",
            "_model_name": "LayoutModel",
            "_view_count": null,
            "_view_module": "@jupyter-widgets/base",
            "_view_module_version": "1.2.0",
            "_view_name": "LayoutView",
            "align_content": null,
            "align_items": null,
            "align_self": null,
            "border": null,
            "bottom": null,
            "display": null,
            "flex": null,
            "flex_flow": null,
            "grid_area": null,
            "grid_auto_columns": null,
            "grid_auto_flow": null,
            "grid_auto_rows": null,
            "grid_column": null,
            "grid_gap": null,
            "grid_row": null,
            "grid_template_areas": null,
            "grid_template_columns": null,
            "grid_template_rows": null,
            "height": null,
            "justify_content": null,
            "justify_items": null,
            "left": null,
            "margin": null,
            "max_height": null,
            "max_width": null,
            "min_height": null,
            "min_width": null,
            "object_fit": null,
            "object_position": null,
            "order": null,
            "overflow": null,
            "overflow_x": null,
            "overflow_y": null,
            "padding": null,
            "right": null,
            "top": null,
            "visibility": null,
            "width": null
          }
        },
        "ad832d27ecb140c29702314642bc02b0": {
          "model_module": "@jupyter-widgets/controls",
          "model_name": "DescriptionStyleModel",
          "model_module_version": "1.5.0",
          "state": {
            "_model_module": "@jupyter-widgets/controls",
            "_model_module_version": "1.5.0",
            "_model_name": "DescriptionStyleModel",
            "_view_count": null,
            "_view_module": "@jupyter-widgets/base",
            "_view_module_version": "1.2.0",
            "_view_name": "StyleView",
            "description_width": ""
          }
        },
        "2c5b8e82a96b4af2ab0e6331e27b90cb": {
          "model_module": "@jupyter-widgets/controls",
          "model_name": "HBoxModel",
          "model_module_version": "1.5.0",
          "state": {
            "_dom_classes": [],
            "_model_module": "@jupyter-widgets/controls",
            "_model_module_version": "1.5.0",
            "_model_name": "HBoxModel",
            "_view_count": null,
            "_view_module": "@jupyter-widgets/controls",
            "_view_module_version": "1.5.0",
            "_view_name": "HBoxView",
            "box_style": "",
            "children": [
              "IPY_MODEL_e71529c2f53143238db27cebb579747f",
              "IPY_MODEL_4e249431bb104209988e8f8c2045f957",
              "IPY_MODEL_b7d8222faf1148db86fe4232d05b601e"
            ],
            "layout": "IPY_MODEL_7097ac38160443cfbd67f6d0b5e86fc5"
          }
        },
        "e71529c2f53143238db27cebb579747f": {
          "model_module": "@jupyter-widgets/controls",
          "model_name": "HTMLModel",
          "model_module_version": "1.5.0",
          "state": {
            "_dom_classes": [],
            "_model_module": "@jupyter-widgets/controls",
            "_model_module_version": "1.5.0",
            "_model_name": "HTMLModel",
            "_view_count": null,
            "_view_module": "@jupyter-widgets/controls",
            "_view_module_version": "1.5.0",
            "_view_name": "HTMLView",
            "description": "",
            "description_tooltip": null,
            "layout": "IPY_MODEL_a935bcb50f604899bfee47b008c20486",
            "placeholder": "​",
            "style": "IPY_MODEL_8de2589728874b859d67ecb10083638b",
            "value": "chat_template.json: 100%"
          }
        },
        "4e249431bb104209988e8f8c2045f957": {
          "model_module": "@jupyter-widgets/controls",
          "model_name": "FloatProgressModel",
          "model_module_version": "1.5.0",
          "state": {
            "_dom_classes": [],
            "_model_module": "@jupyter-widgets/controls",
            "_model_module_version": "1.5.0",
            "_model_name": "FloatProgressModel",
            "_view_count": null,
            "_view_module": "@jupyter-widgets/controls",
            "_view_module_version": "1.5.0",
            "_view_name": "ProgressView",
            "bar_style": "success",
            "description": "",
            "description_tooltip": null,
            "layout": "IPY_MODEL_0a994bb024b14e0299e23fda13cafe15",
            "max": 701,
            "min": 0,
            "orientation": "horizontal",
            "style": "IPY_MODEL_6700715a51c64ff794ec4e4792e2e58f",
            "value": 701
          }
        },
        "b7d8222faf1148db86fe4232d05b601e": {
          "model_module": "@jupyter-widgets/controls",
          "model_name": "HTMLModel",
          "model_module_version": "1.5.0",
          "state": {
            "_dom_classes": [],
            "_model_module": "@jupyter-widgets/controls",
            "_model_module_version": "1.5.0",
            "_model_name": "HTMLModel",
            "_view_count": null,
            "_view_module": "@jupyter-widgets/controls",
            "_view_module_version": "1.5.0",
            "_view_name": "HTMLView",
            "description": "",
            "description_tooltip": null,
            "layout": "IPY_MODEL_9bd0a5a090ee4c0c96aab72b8b34a3ff",
            "placeholder": "​",
            "style": "IPY_MODEL_def561a08687494aada4c19f4f31141e",
            "value": " 701/701 [00:00&lt;00:00, 42.1kB/s]"
          }
        },
        "7097ac38160443cfbd67f6d0b5e86fc5": {
          "model_module": "@jupyter-widgets/base",
          "model_name": "LayoutModel",
          "model_module_version": "1.2.0",
          "state": {
            "_model_module": "@jupyter-widgets/base",
            "_model_module_version": "1.2.0",
            "_model_name": "LayoutModel",
            "_view_count": null,
            "_view_module": "@jupyter-widgets/base",
            "_view_module_version": "1.2.0",
            "_view_name": "LayoutView",
            "align_content": null,
            "align_items": null,
            "align_self": null,
            "border": null,
            "bottom": null,
            "display": null,
            "flex": null,
            "flex_flow": null,
            "grid_area": null,
            "grid_auto_columns": null,
            "grid_auto_flow": null,
            "grid_auto_rows": null,
            "grid_column": null,
            "grid_gap": null,
            "grid_row": null,
            "grid_template_areas": null,
            "grid_template_columns": null,
            "grid_template_rows": null,
            "height": null,
            "justify_content": null,
            "justify_items": null,
            "left": null,
            "margin": null,
            "max_height": null,
            "max_width": null,
            "min_height": null,
            "min_width": null,
            "object_fit": null,
            "object_position": null,
            "order": null,
            "overflow": null,
            "overflow_x": null,
            "overflow_y": null,
            "padding": null,
            "right": null,
            "top": null,
            "visibility": null,
            "width": null
          }
        },
        "a935bcb50f604899bfee47b008c20486": {
          "model_module": "@jupyter-widgets/base",
          "model_name": "LayoutModel",
          "model_module_version": "1.2.0",
          "state": {
            "_model_module": "@jupyter-widgets/base",
            "_model_module_version": "1.2.0",
            "_model_name": "LayoutModel",
            "_view_count": null,
            "_view_module": "@jupyter-widgets/base",
            "_view_module_version": "1.2.0",
            "_view_name": "LayoutView",
            "align_content": null,
            "align_items": null,
            "align_self": null,
            "border": null,
            "bottom": null,
            "display": null,
            "flex": null,
            "flex_flow": null,
            "grid_area": null,
            "grid_auto_columns": null,
            "grid_auto_flow": null,
            "grid_auto_rows": null,
            "grid_column": null,
            "grid_gap": null,
            "grid_row": null,
            "grid_template_areas": null,
            "grid_template_columns": null,
            "grid_template_rows": null,
            "height": null,
            "justify_content": null,
            "justify_items": null,
            "left": null,
            "margin": null,
            "max_height": null,
            "max_width": null,
            "min_height": null,
            "min_width": null,
            "object_fit": null,
            "object_position": null,
            "order": null,
            "overflow": null,
            "overflow_x": null,
            "overflow_y": null,
            "padding": null,
            "right": null,
            "top": null,
            "visibility": null,
            "width": null
          }
        },
        "8de2589728874b859d67ecb10083638b": {
          "model_module": "@jupyter-widgets/controls",
          "model_name": "DescriptionStyleModel",
          "model_module_version": "1.5.0",
          "state": {
            "_model_module": "@jupyter-widgets/controls",
            "_model_module_version": "1.5.0",
            "_model_name": "DescriptionStyleModel",
            "_view_count": null,
            "_view_module": "@jupyter-widgets/base",
            "_view_module_version": "1.2.0",
            "_view_name": "StyleView",
            "description_width": ""
          }
        },
        "0a994bb024b14e0299e23fda13cafe15": {
          "model_module": "@jupyter-widgets/base",
          "model_name": "LayoutModel",
          "model_module_version": "1.2.0",
          "state": {
            "_model_module": "@jupyter-widgets/base",
            "_model_module_version": "1.2.0",
            "_model_name": "LayoutModel",
            "_view_count": null,
            "_view_module": "@jupyter-widgets/base",
            "_view_module_version": "1.2.0",
            "_view_name": "LayoutView",
            "align_content": null,
            "align_items": null,
            "align_self": null,
            "border": null,
            "bottom": null,
            "display": null,
            "flex": null,
            "flex_flow": null,
            "grid_area": null,
            "grid_auto_columns": null,
            "grid_auto_flow": null,
            "grid_auto_rows": null,
            "grid_column": null,
            "grid_gap": null,
            "grid_row": null,
            "grid_template_areas": null,
            "grid_template_columns": null,
            "grid_template_rows": null,
            "height": null,
            "justify_content": null,
            "justify_items": null,
            "left": null,
            "margin": null,
            "max_height": null,
            "max_width": null,
            "min_height": null,
            "min_width": null,
            "object_fit": null,
            "object_position": null,
            "order": null,
            "overflow": null,
            "overflow_x": null,
            "overflow_y": null,
            "padding": null,
            "right": null,
            "top": null,
            "visibility": null,
            "width": null
          }
        },
        "6700715a51c64ff794ec4e4792e2e58f": {
          "model_module": "@jupyter-widgets/controls",
          "model_name": "ProgressStyleModel",
          "model_module_version": "1.5.0",
          "state": {
            "_model_module": "@jupyter-widgets/controls",
            "_model_module_version": "1.5.0",
            "_model_name": "ProgressStyleModel",
            "_view_count": null,
            "_view_module": "@jupyter-widgets/base",
            "_view_module_version": "1.2.0",
            "_view_name": "StyleView",
            "bar_color": null,
            "description_width": ""
          }
        },
        "9bd0a5a090ee4c0c96aab72b8b34a3ff": {
          "model_module": "@jupyter-widgets/base",
          "model_name": "LayoutModel",
          "model_module_version": "1.2.0",
          "state": {
            "_model_module": "@jupyter-widgets/base",
            "_model_module_version": "1.2.0",
            "_model_name": "LayoutModel",
            "_view_count": null,
            "_view_module": "@jupyter-widgets/base",
            "_view_module_version": "1.2.0",
            "_view_name": "LayoutView",
            "align_content": null,
            "align_items": null,
            "align_self": null,
            "border": null,
            "bottom": null,
            "display": null,
            "flex": null,
            "flex_flow": null,
            "grid_area": null,
            "grid_auto_columns": null,
            "grid_auto_flow": null,
            "grid_auto_rows": null,
            "grid_column": null,
            "grid_gap": null,
            "grid_row": null,
            "grid_template_areas": null,
            "grid_template_columns": null,
            "grid_template_rows": null,
            "height": null,
            "justify_content": null,
            "justify_items": null,
            "left": null,
            "margin": null,
            "max_height": null,
            "max_width": null,
            "min_height": null,
            "min_width": null,
            "object_fit": null,
            "object_position": null,
            "order": null,
            "overflow": null,
            "overflow_x": null,
            "overflow_y": null,
            "padding": null,
            "right": null,
            "top": null,
            "visibility": null,
            "width": null
          }
        },
        "def561a08687494aada4c19f4f31141e": {
          "model_module": "@jupyter-widgets/controls",
          "model_name": "DescriptionStyleModel",
          "model_module_version": "1.5.0",
          "state": {
            "_model_module": "@jupyter-widgets/controls",
            "_model_module_version": "1.5.0",
            "_model_name": "DescriptionStyleModel",
            "_view_count": null,
            "_view_module": "@jupyter-widgets/base",
            "_view_module_version": "1.2.0",
            "_view_name": "StyleView",
            "description_width": ""
          }
        },
        "ddb3264d6f0e4cfe94b0c80d79faec1d": {
          "model_module": "@jupyter-widgets/controls",
          "model_name": "HBoxModel",
          "model_module_version": "1.5.0",
          "state": {
            "_dom_classes": [],
            "_model_module": "@jupyter-widgets/controls",
            "_model_module_version": "1.5.0",
            "_model_name": "HBoxModel",
            "_view_count": null,
            "_view_module": "@jupyter-widgets/controls",
            "_view_module_version": "1.5.0",
            "_view_name": "HBoxView",
            "box_style": "",
            "children": [
              "IPY_MODEL_526b9b10edea4dde83ba295a23aefce0",
              "IPY_MODEL_37e0bcf560de4786be5668a7c9d3e4bb",
              "IPY_MODEL_2e2a8a3de32b4a82b2551464240e01f3"
            ],
            "layout": "IPY_MODEL_f0f04c2b642445f88a68fec8a66ffc49"
          }
        },
        "526b9b10edea4dde83ba295a23aefce0": {
          "model_module": "@jupyter-widgets/controls",
          "model_name": "HTMLModel",
          "model_module_version": "1.5.0",
          "state": {
            "_dom_classes": [],
            "_model_module": "@jupyter-widgets/controls",
            "_model_module_version": "1.5.0",
            "_model_name": "HTMLModel",
            "_view_count": null,
            "_view_module": "@jupyter-widgets/controls",
            "_view_module_version": "1.5.0",
            "_view_name": "HTMLView",
            "description": "",
            "description_tooltip": null,
            "layout": "IPY_MODEL_e40c6be63ab9439aa967252118d5d4b3",
            "placeholder": "​",
            "style": "IPY_MODEL_76f555162c01451e965d0f8531a3dcd9",
            "value": "config.json: 100%"
          }
        },
        "37e0bcf560de4786be5668a7c9d3e4bb": {
          "model_module": "@jupyter-widgets/controls",
          "model_name": "FloatProgressModel",
          "model_module_version": "1.5.0",
          "state": {
            "_dom_classes": [],
            "_model_module": "@jupyter-widgets/controls",
            "_model_module_version": "1.5.0",
            "_model_name": "FloatProgressModel",
            "_view_count": null,
            "_view_module": "@jupyter-widgets/controls",
            "_view_module_version": "1.5.0",
            "_view_name": "ProgressView",
            "bar_style": "success",
            "description": "",
            "description_tooltip": null,
            "layout": "IPY_MODEL_4b1d8348e6814ebea72dedee60a401ac",
            "max": 950,
            "min": 0,
            "orientation": "horizontal",
            "style": "IPY_MODEL_9cc151b0657d4afa9b9feef90d0f3382",
            "value": 950
          }
        },
        "2e2a8a3de32b4a82b2551464240e01f3": {
          "model_module": "@jupyter-widgets/controls",
          "model_name": "HTMLModel",
          "model_module_version": "1.5.0",
          "state": {
            "_dom_classes": [],
            "_model_module": "@jupyter-widgets/controls",
            "_model_module_version": "1.5.0",
            "_model_name": "HTMLModel",
            "_view_count": null,
            "_view_module": "@jupyter-widgets/controls",
            "_view_module_version": "1.5.0",
            "_view_name": "HTMLView",
            "description": "",
            "description_tooltip": null,
            "layout": "IPY_MODEL_efb452258f6d462a8417a85fe8330bdf",
            "placeholder": "​",
            "style": "IPY_MODEL_bfdd50fda62b4921890d7c782ea36333",
            "value": " 950/950 [00:00&lt;00:00, 90.1kB/s]"
          }
        },
        "f0f04c2b642445f88a68fec8a66ffc49": {
          "model_module": "@jupyter-widgets/base",
          "model_name": "LayoutModel",
          "model_module_version": "1.2.0",
          "state": {
            "_model_module": "@jupyter-widgets/base",
            "_model_module_version": "1.2.0",
            "_model_name": "LayoutModel",
            "_view_count": null,
            "_view_module": "@jupyter-widgets/base",
            "_view_module_version": "1.2.0",
            "_view_name": "LayoutView",
            "align_content": null,
            "align_items": null,
            "align_self": null,
            "border": null,
            "bottom": null,
            "display": null,
            "flex": null,
            "flex_flow": null,
            "grid_area": null,
            "grid_auto_columns": null,
            "grid_auto_flow": null,
            "grid_auto_rows": null,
            "grid_column": null,
            "grid_gap": null,
            "grid_row": null,
            "grid_template_areas": null,
            "grid_template_columns": null,
            "grid_template_rows": null,
            "height": null,
            "justify_content": null,
            "justify_items": null,
            "left": null,
            "margin": null,
            "max_height": null,
            "max_width": null,
            "min_height": null,
            "min_width": null,
            "object_fit": null,
            "object_position": null,
            "order": null,
            "overflow": null,
            "overflow_x": null,
            "overflow_y": null,
            "padding": null,
            "right": null,
            "top": null,
            "visibility": null,
            "width": null
          }
        },
        "e40c6be63ab9439aa967252118d5d4b3": {
          "model_module": "@jupyter-widgets/base",
          "model_name": "LayoutModel",
          "model_module_version": "1.2.0",
          "state": {
            "_model_module": "@jupyter-widgets/base",
            "_model_module_version": "1.2.0",
            "_model_name": "LayoutModel",
            "_view_count": null,
            "_view_module": "@jupyter-widgets/base",
            "_view_module_version": "1.2.0",
            "_view_name": "LayoutView",
            "align_content": null,
            "align_items": null,
            "align_self": null,
            "border": null,
            "bottom": null,
            "display": null,
            "flex": null,
            "flex_flow": null,
            "grid_area": null,
            "grid_auto_columns": null,
            "grid_auto_flow": null,
            "grid_auto_rows": null,
            "grid_column": null,
            "grid_gap": null,
            "grid_row": null,
            "grid_template_areas": null,
            "grid_template_columns": null,
            "grid_template_rows": null,
            "height": null,
            "justify_content": null,
            "justify_items": null,
            "left": null,
            "margin": null,
            "max_height": null,
            "max_width": null,
            "min_height": null,
            "min_width": null,
            "object_fit": null,
            "object_position": null,
            "order": null,
            "overflow": null,
            "overflow_x": null,
            "overflow_y": null,
            "padding": null,
            "right": null,
            "top": null,
            "visibility": null,
            "width": null
          }
        },
        "76f555162c01451e965d0f8531a3dcd9": {
          "model_module": "@jupyter-widgets/controls",
          "model_name": "DescriptionStyleModel",
          "model_module_version": "1.5.0",
          "state": {
            "_model_module": "@jupyter-widgets/controls",
            "_model_module_version": "1.5.0",
            "_model_name": "DescriptionStyleModel",
            "_view_count": null,
            "_view_module": "@jupyter-widgets/base",
            "_view_module_version": "1.2.0",
            "_view_name": "StyleView",
            "description_width": ""
          }
        },
        "4b1d8348e6814ebea72dedee60a401ac": {
          "model_module": "@jupyter-widgets/base",
          "model_name": "LayoutModel",
          "model_module_version": "1.2.0",
          "state": {
            "_model_module": "@jupyter-widgets/base",
            "_model_module_version": "1.2.0",
            "_model_name": "LayoutModel",
            "_view_count": null,
            "_view_module": "@jupyter-widgets/base",
            "_view_module_version": "1.2.0",
            "_view_name": "LayoutView",
            "align_content": null,
            "align_items": null,
            "align_self": null,
            "border": null,
            "bottom": null,
            "display": null,
            "flex": null,
            "flex_flow": null,
            "grid_area": null,
            "grid_auto_columns": null,
            "grid_auto_flow": null,
            "grid_auto_rows": null,
            "grid_column": null,
            "grid_gap": null,
            "grid_row": null,
            "grid_template_areas": null,
            "grid_template_columns": null,
            "grid_template_rows": null,
            "height": null,
            "justify_content": null,
            "justify_items": null,
            "left": null,
            "margin": null,
            "max_height": null,
            "max_width": null,
            "min_height": null,
            "min_width": null,
            "object_fit": null,
            "object_position": null,
            "order": null,
            "overflow": null,
            "overflow_x": null,
            "overflow_y": null,
            "padding": null,
            "right": null,
            "top": null,
            "visibility": null,
            "width": null
          }
        },
        "9cc151b0657d4afa9b9feef90d0f3382": {
          "model_module": "@jupyter-widgets/controls",
          "model_name": "ProgressStyleModel",
          "model_module_version": "1.5.0",
          "state": {
            "_model_module": "@jupyter-widgets/controls",
            "_model_module_version": "1.5.0",
            "_model_name": "ProgressStyleModel",
            "_view_count": null,
            "_view_module": "@jupyter-widgets/base",
            "_view_module_version": "1.2.0",
            "_view_name": "StyleView",
            "bar_color": null,
            "description_width": ""
          }
        },
        "efb452258f6d462a8417a85fe8330bdf": {
          "model_module": "@jupyter-widgets/base",
          "model_name": "LayoutModel",
          "model_module_version": "1.2.0",
          "state": {
            "_model_module": "@jupyter-widgets/base",
            "_model_module_version": "1.2.0",
            "_model_name": "LayoutModel",
            "_view_count": null,
            "_view_module": "@jupyter-widgets/base",
            "_view_module_version": "1.2.0",
            "_view_name": "LayoutView",
            "align_content": null,
            "align_items": null,
            "align_self": null,
            "border": null,
            "bottom": null,
            "display": null,
            "flex": null,
            "flex_flow": null,
            "grid_area": null,
            "grid_auto_columns": null,
            "grid_auto_flow": null,
            "grid_auto_rows": null,
            "grid_column": null,
            "grid_gap": null,
            "grid_row": null,
            "grid_template_areas": null,
            "grid_template_columns": null,
            "grid_template_rows": null,
            "height": null,
            "justify_content": null,
            "justify_items": null,
            "left": null,
            "margin": null,
            "max_height": null,
            "max_width": null,
            "min_height": null,
            "min_width": null,
            "object_fit": null,
            "object_position": null,
            "order": null,
            "overflow": null,
            "overflow_x": null,
            "overflow_y": null,
            "padding": null,
            "right": null,
            "top": null,
            "visibility": null,
            "width": null
          }
        },
        "bfdd50fda62b4921890d7c782ea36333": {
          "model_module": "@jupyter-widgets/controls",
          "model_name": "DescriptionStyleModel",
          "model_module_version": "1.5.0",
          "state": {
            "_model_module": "@jupyter-widgets/controls",
            "_model_module_version": "1.5.0",
            "_model_name": "DescriptionStyleModel",
            "_view_count": null,
            "_view_module": "@jupyter-widgets/base",
            "_view_module_version": "1.2.0",
            "_view_name": "StyleView",
            "description_width": ""
          }
        },
        "3097fd0e12244e88bba415a94b858451": {
          "model_module": "@jupyter-widgets/controls",
          "model_name": "HBoxModel",
          "model_module_version": "1.5.0",
          "state": {
            "_dom_classes": [],
            "_model_module": "@jupyter-widgets/controls",
            "_model_module_version": "1.5.0",
            "_model_name": "HBoxModel",
            "_view_count": null,
            "_view_module": "@jupyter-widgets/controls",
            "_view_module_version": "1.5.0",
            "_view_name": "HBoxView",
            "box_style": "",
            "children": [
              "IPY_MODEL_31bca782c35f43df94613c0ac3956f93",
              "IPY_MODEL_4eb878deca82452d96d3130289441b6d",
              "IPY_MODEL_902200ad6745463081cf5e13f2dfd1d8"
            ],
            "layout": "IPY_MODEL_f4d2c4dc3f224c11a09eb40ba4e3c9f4"
          }
        },
        "31bca782c35f43df94613c0ac3956f93": {
          "model_module": "@jupyter-widgets/controls",
          "model_name": "HTMLModel",
          "model_module_version": "1.5.0",
          "state": {
            "_dom_classes": [],
            "_model_module": "@jupyter-widgets/controls",
            "_model_module_version": "1.5.0",
            "_model_name": "HTMLModel",
            "_view_count": null,
            "_view_module": "@jupyter-widgets/controls",
            "_view_module_version": "1.5.0",
            "_view_name": "HTMLView",
            "description": "",
            "description_tooltip": null,
            "layout": "IPY_MODEL_9d6a094eb2e547b68d448d9d369cebee",
            "placeholder": "​",
            "style": "IPY_MODEL_3e970aa0292c413e95cab06475258aa7",
            "value": "model.safetensors.index.json: "
          }
        },
        "4eb878deca82452d96d3130289441b6d": {
          "model_module": "@jupyter-widgets/controls",
          "model_name": "FloatProgressModel",
          "model_module_version": "1.5.0",
          "state": {
            "_dom_classes": [],
            "_model_module": "@jupyter-widgets/controls",
            "_model_module_version": "1.5.0",
            "_model_name": "FloatProgressModel",
            "_view_count": null,
            "_view_module": "@jupyter-widgets/controls",
            "_view_module_version": "1.5.0",
            "_view_name": "ProgressView",
            "bar_style": "success",
            "description": "",
            "description_tooltip": null,
            "layout": "IPY_MODEL_a62857a8c4b74803b08fe23e2bbbc30b",
            "max": 1,
            "min": 0,
            "orientation": "horizontal",
            "style": "IPY_MODEL_c58695ed07944e73b960d884bf075916",
            "value": 1
          }
        },
        "902200ad6745463081cf5e13f2dfd1d8": {
          "model_module": "@jupyter-widgets/controls",
          "model_name": "HTMLModel",
          "model_module_version": "1.5.0",
          "state": {
            "_dom_classes": [],
            "_model_module": "@jupyter-widgets/controls",
            "_model_module_version": "1.5.0",
            "_model_name": "HTMLModel",
            "_view_count": null,
            "_view_module": "@jupyter-widgets/controls",
            "_view_module_version": "1.5.0",
            "_view_name": "HTMLView",
            "description": "",
            "description_tooltip": null,
            "layout": "IPY_MODEL_170d4759f26a4288a26e645c6105b671",
            "placeholder": "​",
            "style": "IPY_MODEL_d59e39904e1547ef87cb9905953d3e18",
            "value": " 70.1k/? [00:00&lt;00:00, 2.57MB/s]"
          }
        },
        "f4d2c4dc3f224c11a09eb40ba4e3c9f4": {
          "model_module": "@jupyter-widgets/base",
          "model_name": "LayoutModel",
          "model_module_version": "1.2.0",
          "state": {
            "_model_module": "@jupyter-widgets/base",
            "_model_module_version": "1.2.0",
            "_model_name": "LayoutModel",
            "_view_count": null,
            "_view_module": "@jupyter-widgets/base",
            "_view_module_version": "1.2.0",
            "_view_name": "LayoutView",
            "align_content": null,
            "align_items": null,
            "align_self": null,
            "border": null,
            "bottom": null,
            "display": null,
            "flex": null,
            "flex_flow": null,
            "grid_area": null,
            "grid_auto_columns": null,
            "grid_auto_flow": null,
            "grid_auto_rows": null,
            "grid_column": null,
            "grid_gap": null,
            "grid_row": null,
            "grid_template_areas": null,
            "grid_template_columns": null,
            "grid_template_rows": null,
            "height": null,
            "justify_content": null,
            "justify_items": null,
            "left": null,
            "margin": null,
            "max_height": null,
            "max_width": null,
            "min_height": null,
            "min_width": null,
            "object_fit": null,
            "object_position": null,
            "order": null,
            "overflow": null,
            "overflow_x": null,
            "overflow_y": null,
            "padding": null,
            "right": null,
            "top": null,
            "visibility": null,
            "width": null
          }
        },
        "9d6a094eb2e547b68d448d9d369cebee": {
          "model_module": "@jupyter-widgets/base",
          "model_name": "LayoutModel",
          "model_module_version": "1.2.0",
          "state": {
            "_model_module": "@jupyter-widgets/base",
            "_model_module_version": "1.2.0",
            "_model_name": "LayoutModel",
            "_view_count": null,
            "_view_module": "@jupyter-widgets/base",
            "_view_module_version": "1.2.0",
            "_view_name": "LayoutView",
            "align_content": null,
            "align_items": null,
            "align_self": null,
            "border": null,
            "bottom": null,
            "display": null,
            "flex": null,
            "flex_flow": null,
            "grid_area": null,
            "grid_auto_columns": null,
            "grid_auto_flow": null,
            "grid_auto_rows": null,
            "grid_column": null,
            "grid_gap": null,
            "grid_row": null,
            "grid_template_areas": null,
            "grid_template_columns": null,
            "grid_template_rows": null,
            "height": null,
            "justify_content": null,
            "justify_items": null,
            "left": null,
            "margin": null,
            "max_height": null,
            "max_width": null,
            "min_height": null,
            "min_width": null,
            "object_fit": null,
            "object_position": null,
            "order": null,
            "overflow": null,
            "overflow_x": null,
            "overflow_y": null,
            "padding": null,
            "right": null,
            "top": null,
            "visibility": null,
            "width": null
          }
        },
        "3e970aa0292c413e95cab06475258aa7": {
          "model_module": "@jupyter-widgets/controls",
          "model_name": "DescriptionStyleModel",
          "model_module_version": "1.5.0",
          "state": {
            "_model_module": "@jupyter-widgets/controls",
            "_model_module_version": "1.5.0",
            "_model_name": "DescriptionStyleModel",
            "_view_count": null,
            "_view_module": "@jupyter-widgets/base",
            "_view_module_version": "1.2.0",
            "_view_name": "StyleView",
            "description_width": ""
          }
        },
        "a62857a8c4b74803b08fe23e2bbbc30b": {
          "model_module": "@jupyter-widgets/base",
          "model_name": "LayoutModel",
          "model_module_version": "1.2.0",
          "state": {
            "_model_module": "@jupyter-widgets/base",
            "_model_module_version": "1.2.0",
            "_model_name": "LayoutModel",
            "_view_count": null,
            "_view_module": "@jupyter-widgets/base",
            "_view_module_version": "1.2.0",
            "_view_name": "LayoutView",
            "align_content": null,
            "align_items": null,
            "align_self": null,
            "border": null,
            "bottom": null,
            "display": null,
            "flex": null,
            "flex_flow": null,
            "grid_area": null,
            "grid_auto_columns": null,
            "grid_auto_flow": null,
            "grid_auto_rows": null,
            "grid_column": null,
            "grid_gap": null,
            "grid_row": null,
            "grid_template_areas": null,
            "grid_template_columns": null,
            "grid_template_rows": null,
            "height": null,
            "justify_content": null,
            "justify_items": null,
            "left": null,
            "margin": null,
            "max_height": null,
            "max_width": null,
            "min_height": null,
            "min_width": null,
            "object_fit": null,
            "object_position": null,
            "order": null,
            "overflow": null,
            "overflow_x": null,
            "overflow_y": null,
            "padding": null,
            "right": null,
            "top": null,
            "visibility": null,
            "width": "20px"
          }
        },
        "c58695ed07944e73b960d884bf075916": {
          "model_module": "@jupyter-widgets/controls",
          "model_name": "ProgressStyleModel",
          "model_module_version": "1.5.0",
          "state": {
            "_model_module": "@jupyter-widgets/controls",
            "_model_module_version": "1.5.0",
            "_model_name": "ProgressStyleModel",
            "_view_count": null,
            "_view_module": "@jupyter-widgets/base",
            "_view_module_version": "1.2.0",
            "_view_name": "StyleView",
            "bar_color": null,
            "description_width": ""
          }
        },
        "170d4759f26a4288a26e645c6105b671": {
          "model_module": "@jupyter-widgets/base",
          "model_name": "LayoutModel",
          "model_module_version": "1.2.0",
          "state": {
            "_model_module": "@jupyter-widgets/base",
            "_model_module_version": "1.2.0",
            "_model_name": "LayoutModel",
            "_view_count": null,
            "_view_module": "@jupyter-widgets/base",
            "_view_module_version": "1.2.0",
            "_view_name": "LayoutView",
            "align_content": null,
            "align_items": null,
            "align_self": null,
            "border": null,
            "bottom": null,
            "display": null,
            "flex": null,
            "flex_flow": null,
            "grid_area": null,
            "grid_auto_columns": null,
            "grid_auto_flow": null,
            "grid_auto_rows": null,
            "grid_column": null,
            "grid_gap": null,
            "grid_row": null,
            "grid_template_areas": null,
            "grid_template_columns": null,
            "grid_template_rows": null,
            "height": null,
            "justify_content": null,
            "justify_items": null,
            "left": null,
            "margin": null,
            "max_height": null,
            "max_width": null,
            "min_height": null,
            "min_width": null,
            "object_fit": null,
            "object_position": null,
            "order": null,
            "overflow": null,
            "overflow_x": null,
            "overflow_y": null,
            "padding": null,
            "right": null,
            "top": null,
            "visibility": null,
            "width": null
          }
        },
        "d59e39904e1547ef87cb9905953d3e18": {
          "model_module": "@jupyter-widgets/controls",
          "model_name": "DescriptionStyleModel",
          "model_module_version": "1.5.0",
          "state": {
            "_model_module": "@jupyter-widgets/controls",
            "_model_module_version": "1.5.0",
            "_model_name": "DescriptionStyleModel",
            "_view_count": null,
            "_view_module": "@jupyter-widgets/base",
            "_view_module_version": "1.2.0",
            "_view_name": "StyleView",
            "description_width": ""
          }
        },
        "cfa01d067fff406f9ce8c227522e8191": {
          "model_module": "@jupyter-widgets/controls",
          "model_name": "HBoxModel",
          "model_module_version": "1.5.0",
          "state": {
            "_dom_classes": [],
            "_model_module": "@jupyter-widgets/controls",
            "_model_module_version": "1.5.0",
            "_model_name": "HBoxModel",
            "_view_count": null,
            "_view_module": "@jupyter-widgets/controls",
            "_view_module_version": "1.5.0",
            "_view_name": "HBoxView",
            "box_style": "",
            "children": [
              "IPY_MODEL_2e6ba6e494544698bb8c0878c9aa6edc",
              "IPY_MODEL_de4ba33bae44456d90260ef250bb0d26",
              "IPY_MODEL_b9cd335206f84e9ba88a590677d0392f"
            ],
            "layout": "IPY_MODEL_bce17f64ce564b00b52bc6e0c3a086d5"
          }
        },
        "2e6ba6e494544698bb8c0878c9aa6edc": {
          "model_module": "@jupyter-widgets/controls",
          "model_name": "HTMLModel",
          "model_module_version": "1.5.0",
          "state": {
            "_dom_classes": [],
            "_model_module": "@jupyter-widgets/controls",
            "_model_module_version": "1.5.0",
            "_model_name": "HTMLModel",
            "_view_count": null,
            "_view_module": "@jupyter-widgets/controls",
            "_view_module_version": "1.5.0",
            "_view_name": "HTMLView",
            "description": "",
            "description_tooltip": null,
            "layout": "IPY_MODEL_9bd3ba0883654dd3b1eff2c0da0010ba",
            "placeholder": "​",
            "style": "IPY_MODEL_9bdd63ca7fac41b0bc06c03347f0e96f",
            "value": "Fetching 3 files: 100%"
          }
        },
        "de4ba33bae44456d90260ef250bb0d26": {
          "model_module": "@jupyter-widgets/controls",
          "model_name": "FloatProgressModel",
          "model_module_version": "1.5.0",
          "state": {
            "_dom_classes": [],
            "_model_module": "@jupyter-widgets/controls",
            "_model_module_version": "1.5.0",
            "_model_name": "FloatProgressModel",
            "_view_count": null,
            "_view_module": "@jupyter-widgets/controls",
            "_view_module_version": "1.5.0",
            "_view_name": "ProgressView",
            "bar_style": "success",
            "description": "",
            "description_tooltip": null,
            "layout": "IPY_MODEL_445055955ca443bc8cbfac64c043e62a",
            "max": 3,
            "min": 0,
            "orientation": "horizontal",
            "style": "IPY_MODEL_704bfecf7b4c43219e434af661dddc0f",
            "value": 3
          }
        },
        "b9cd335206f84e9ba88a590677d0392f": {
          "model_module": "@jupyter-widgets/controls",
          "model_name": "HTMLModel",
          "model_module_version": "1.5.0",
          "state": {
            "_dom_classes": [],
            "_model_module": "@jupyter-widgets/controls",
            "_model_module_version": "1.5.0",
            "_model_name": "HTMLModel",
            "_view_count": null,
            "_view_module": "@jupyter-widgets/controls",
            "_view_module_version": "1.5.0",
            "_view_name": "HTMLView",
            "description": "",
            "description_tooltip": null,
            "layout": "IPY_MODEL_1f6ddc3cf8674eb98091e32534ed299d",
            "placeholder": "​",
            "style": "IPY_MODEL_63784f2d1be144c4a3e25969be906f38",
            "value": " 3/3 [02:00&lt;00:00, 120.44s/it]"
          }
        },
        "bce17f64ce564b00b52bc6e0c3a086d5": {
          "model_module": "@jupyter-widgets/base",
          "model_name": "LayoutModel",
          "model_module_version": "1.2.0",
          "state": {
            "_model_module": "@jupyter-widgets/base",
            "_model_module_version": "1.2.0",
            "_model_name": "LayoutModel",
            "_view_count": null,
            "_view_module": "@jupyter-widgets/base",
            "_view_module_version": "1.2.0",
            "_view_name": "LayoutView",
            "align_content": null,
            "align_items": null,
            "align_self": null,
            "border": null,
            "bottom": null,
            "display": null,
            "flex": null,
            "flex_flow": null,
            "grid_area": null,
            "grid_auto_columns": null,
            "grid_auto_flow": null,
            "grid_auto_rows": null,
            "grid_column": null,
            "grid_gap": null,
            "grid_row": null,
            "grid_template_areas": null,
            "grid_template_columns": null,
            "grid_template_rows": null,
            "height": null,
            "justify_content": null,
            "justify_items": null,
            "left": null,
            "margin": null,
            "max_height": null,
            "max_width": null,
            "min_height": null,
            "min_width": null,
            "object_fit": null,
            "object_position": null,
            "order": null,
            "overflow": null,
            "overflow_x": null,
            "overflow_y": null,
            "padding": null,
            "right": null,
            "top": null,
            "visibility": null,
            "width": null
          }
        },
        "9bd3ba0883654dd3b1eff2c0da0010ba": {
          "model_module": "@jupyter-widgets/base",
          "model_name": "LayoutModel",
          "model_module_version": "1.2.0",
          "state": {
            "_model_module": "@jupyter-widgets/base",
            "_model_module_version": "1.2.0",
            "_model_name": "LayoutModel",
            "_view_count": null,
            "_view_module": "@jupyter-widgets/base",
            "_view_module_version": "1.2.0",
            "_view_name": "LayoutView",
            "align_content": null,
            "align_items": null,
            "align_self": null,
            "border": null,
            "bottom": null,
            "display": null,
            "flex": null,
            "flex_flow": null,
            "grid_area": null,
            "grid_auto_columns": null,
            "grid_auto_flow": null,
            "grid_auto_rows": null,
            "grid_column": null,
            "grid_gap": null,
            "grid_row": null,
            "grid_template_areas": null,
            "grid_template_columns": null,
            "grid_template_rows": null,
            "height": null,
            "justify_content": null,
            "justify_items": null,
            "left": null,
            "margin": null,
            "max_height": null,
            "max_width": null,
            "min_height": null,
            "min_width": null,
            "object_fit": null,
            "object_position": null,
            "order": null,
            "overflow": null,
            "overflow_x": null,
            "overflow_y": null,
            "padding": null,
            "right": null,
            "top": null,
            "visibility": null,
            "width": null
          }
        },
        "9bdd63ca7fac41b0bc06c03347f0e96f": {
          "model_module": "@jupyter-widgets/controls",
          "model_name": "DescriptionStyleModel",
          "model_module_version": "1.5.0",
          "state": {
            "_model_module": "@jupyter-widgets/controls",
            "_model_module_version": "1.5.0",
            "_model_name": "DescriptionStyleModel",
            "_view_count": null,
            "_view_module": "@jupyter-widgets/base",
            "_view_module_version": "1.2.0",
            "_view_name": "StyleView",
            "description_width": ""
          }
        },
        "445055955ca443bc8cbfac64c043e62a": {
          "model_module": "@jupyter-widgets/base",
          "model_name": "LayoutModel",
          "model_module_version": "1.2.0",
          "state": {
            "_model_module": "@jupyter-widgets/base",
            "_model_module_version": "1.2.0",
            "_model_name": "LayoutModel",
            "_view_count": null,
            "_view_module": "@jupyter-widgets/base",
            "_view_module_version": "1.2.0",
            "_view_name": "LayoutView",
            "align_content": null,
            "align_items": null,
            "align_self": null,
            "border": null,
            "bottom": null,
            "display": null,
            "flex": null,
            "flex_flow": null,
            "grid_area": null,
            "grid_auto_columns": null,
            "grid_auto_flow": null,
            "grid_auto_rows": null,
            "grid_column": null,
            "grid_gap": null,
            "grid_row": null,
            "grid_template_areas": null,
            "grid_template_columns": null,
            "grid_template_rows": null,
            "height": null,
            "justify_content": null,
            "justify_items": null,
            "left": null,
            "margin": null,
            "max_height": null,
            "max_width": null,
            "min_height": null,
            "min_width": null,
            "object_fit": null,
            "object_position": null,
            "order": null,
            "overflow": null,
            "overflow_x": null,
            "overflow_y": null,
            "padding": null,
            "right": null,
            "top": null,
            "visibility": null,
            "width": null
          }
        },
        "704bfecf7b4c43219e434af661dddc0f": {
          "model_module": "@jupyter-widgets/controls",
          "model_name": "ProgressStyleModel",
          "model_module_version": "1.5.0",
          "state": {
            "_model_module": "@jupyter-widgets/controls",
            "_model_module_version": "1.5.0",
            "_model_name": "ProgressStyleModel",
            "_view_count": null,
            "_view_module": "@jupyter-widgets/base",
            "_view_module_version": "1.2.0",
            "_view_name": "StyleView",
            "bar_color": null,
            "description_width": ""
          }
        },
        "1f6ddc3cf8674eb98091e32534ed299d": {
          "model_module": "@jupyter-widgets/base",
          "model_name": "LayoutModel",
          "model_module_version": "1.2.0",
          "state": {
            "_model_module": "@jupyter-widgets/base",
            "_model_module_version": "1.2.0",
            "_model_name": "LayoutModel",
            "_view_count": null,
            "_view_module": "@jupyter-widgets/base",
            "_view_module_version": "1.2.0",
            "_view_name": "LayoutView",
            "align_content": null,
            "align_items": null,
            "align_self": null,
            "border": null,
            "bottom": null,
            "display": null,
            "flex": null,
            "flex_flow": null,
            "grid_area": null,
            "grid_auto_columns": null,
            "grid_auto_flow": null,
            "grid_auto_rows": null,
            "grid_column": null,
            "grid_gap": null,
            "grid_row": null,
            "grid_template_areas": null,
            "grid_template_columns": null,
            "grid_template_rows": null,
            "height": null,
            "justify_content": null,
            "justify_items": null,
            "left": null,
            "margin": null,
            "max_height": null,
            "max_width": null,
            "min_height": null,
            "min_width": null,
            "object_fit": null,
            "object_position": null,
            "order": null,
            "overflow": null,
            "overflow_x": null,
            "overflow_y": null,
            "padding": null,
            "right": null,
            "top": null,
            "visibility": null,
            "width": null
          }
        },
        "63784f2d1be144c4a3e25969be906f38": {
          "model_module": "@jupyter-widgets/controls",
          "model_name": "DescriptionStyleModel",
          "model_module_version": "1.5.0",
          "state": {
            "_model_module": "@jupyter-widgets/controls",
            "_model_module_version": "1.5.0",
            "_model_name": "DescriptionStyleModel",
            "_view_count": null,
            "_view_module": "@jupyter-widgets/base",
            "_view_module_version": "1.2.0",
            "_view_name": "StyleView",
            "description_width": ""
          }
        },
        "7da9197201cc465bbaa761819f6b2506": {
          "model_module": "@jupyter-widgets/controls",
          "model_name": "HBoxModel",
          "model_module_version": "1.5.0",
          "state": {
            "_dom_classes": [],
            "_model_module": "@jupyter-widgets/controls",
            "_model_module_version": "1.5.0",
            "_model_name": "HBoxModel",
            "_view_count": null,
            "_view_module": "@jupyter-widgets/controls",
            "_view_module_version": "1.5.0",
            "_view_name": "HBoxView",
            "box_style": "",
            "children": [
              "IPY_MODEL_da1b7cf3710d4761acf0a3f029da5ae6",
              "IPY_MODEL_34128b137f9043f78dea7f1cb4ba4d18",
              "IPY_MODEL_18a7a2f1606f43d782931afdb6e61310"
            ],
            "layout": "IPY_MODEL_00d6ec130d4c4c1ba50e925642fac14a"
          }
        },
        "da1b7cf3710d4761acf0a3f029da5ae6": {
          "model_module": "@jupyter-widgets/controls",
          "model_name": "HTMLModel",
          "model_module_version": "1.5.0",
          "state": {
            "_dom_classes": [],
            "_model_module": "@jupyter-widgets/controls",
            "_model_module_version": "1.5.0",
            "_model_name": "HTMLModel",
            "_view_count": null,
            "_view_module": "@jupyter-widgets/controls",
            "_view_module_version": "1.5.0",
            "_view_name": "HTMLView",
            "description": "",
            "description_tooltip": null,
            "layout": "IPY_MODEL_6752d413fa58483ea6ed8e58de7f5fe8",
            "placeholder": "​",
            "style": "IPY_MODEL_df6b3e3667074d1b8c2e5f9608e48e3f",
            "value": "model-00002-of-00003.safetensors: 100%"
          }
        },
        "34128b137f9043f78dea7f1cb4ba4d18": {
          "model_module": "@jupyter-widgets/controls",
          "model_name": "FloatProgressModel",
          "model_module_version": "1.5.0",
          "state": {
            "_dom_classes": [],
            "_model_module": "@jupyter-widgets/controls",
            "_model_module_version": "1.5.0",
            "_model_name": "FloatProgressModel",
            "_view_count": null,
            "_view_module": "@jupyter-widgets/controls",
            "_view_module_version": "1.5.0",
            "_view_name": "ProgressView",
            "bar_style": "success",
            "description": "",
            "description_tooltip": null,
            "layout": "IPY_MODEL_dccd58f9622a449bb390f8d74a5dd3f6",
            "max": 4957878440,
            "min": 0,
            "orientation": "horizontal",
            "style": "IPY_MODEL_98b81bfa5ee14d8f9f517049dbcc9f23",
            "value": 4957878440
          }
        },
        "18a7a2f1606f43d782931afdb6e61310": {
          "model_module": "@jupyter-widgets/controls",
          "model_name": "HTMLModel",
          "model_module_version": "1.5.0",
          "state": {
            "_dom_classes": [],
            "_model_module": "@jupyter-widgets/controls",
            "_model_module_version": "1.5.0",
            "_model_name": "HTMLModel",
            "_view_count": null,
            "_view_module": "@jupyter-widgets/controls",
            "_view_module_version": "1.5.0",
            "_view_name": "HTMLView",
            "description": "",
            "description_tooltip": null,
            "layout": "IPY_MODEL_e8fe86fe687048bc81b777c7713a19ca",
            "placeholder": "​",
            "style": "IPY_MODEL_f776e63c6c9942aeb4ba5f4e4f9f64e9",
            "value": " 4.96G/4.96G [01:58&lt;00:00, 82.9MB/s]"
          }
        },
        "00d6ec130d4c4c1ba50e925642fac14a": {
          "model_module": "@jupyter-widgets/base",
          "model_name": "LayoutModel",
          "model_module_version": "1.2.0",
          "state": {
            "_model_module": "@jupyter-widgets/base",
            "_model_module_version": "1.2.0",
            "_model_name": "LayoutModel",
            "_view_count": null,
            "_view_module": "@jupyter-widgets/base",
            "_view_module_version": "1.2.0",
            "_view_name": "LayoutView",
            "align_content": null,
            "align_items": null,
            "align_self": null,
            "border": null,
            "bottom": null,
            "display": null,
            "flex": null,
            "flex_flow": null,
            "grid_area": null,
            "grid_auto_columns": null,
            "grid_auto_flow": null,
            "grid_auto_rows": null,
            "grid_column": null,
            "grid_gap": null,
            "grid_row": null,
            "grid_template_areas": null,
            "grid_template_columns": null,
            "grid_template_rows": null,
            "height": null,
            "justify_content": null,
            "justify_items": null,
            "left": null,
            "margin": null,
            "max_height": null,
            "max_width": null,
            "min_height": null,
            "min_width": null,
            "object_fit": null,
            "object_position": null,
            "order": null,
            "overflow": null,
            "overflow_x": null,
            "overflow_y": null,
            "padding": null,
            "right": null,
            "top": null,
            "visibility": null,
            "width": null
          }
        },
        "6752d413fa58483ea6ed8e58de7f5fe8": {
          "model_module": "@jupyter-widgets/base",
          "model_name": "LayoutModel",
          "model_module_version": "1.2.0",
          "state": {
            "_model_module": "@jupyter-widgets/base",
            "_model_module_version": "1.2.0",
            "_model_name": "LayoutModel",
            "_view_count": null,
            "_view_module": "@jupyter-widgets/base",
            "_view_module_version": "1.2.0",
            "_view_name": "LayoutView",
            "align_content": null,
            "align_items": null,
            "align_self": null,
            "border": null,
            "bottom": null,
            "display": null,
            "flex": null,
            "flex_flow": null,
            "grid_area": null,
            "grid_auto_columns": null,
            "grid_auto_flow": null,
            "grid_auto_rows": null,
            "grid_column": null,
            "grid_gap": null,
            "grid_row": null,
            "grid_template_areas": null,
            "grid_template_columns": null,
            "grid_template_rows": null,
            "height": null,
            "justify_content": null,
            "justify_items": null,
            "left": null,
            "margin": null,
            "max_height": null,
            "max_width": null,
            "min_height": null,
            "min_width": null,
            "object_fit": null,
            "object_position": null,
            "order": null,
            "overflow": null,
            "overflow_x": null,
            "overflow_y": null,
            "padding": null,
            "right": null,
            "top": null,
            "visibility": null,
            "width": null
          }
        },
        "df6b3e3667074d1b8c2e5f9608e48e3f": {
          "model_module": "@jupyter-widgets/controls",
          "model_name": "DescriptionStyleModel",
          "model_module_version": "1.5.0",
          "state": {
            "_model_module": "@jupyter-widgets/controls",
            "_model_module_version": "1.5.0",
            "_model_name": "DescriptionStyleModel",
            "_view_count": null,
            "_view_module": "@jupyter-widgets/base",
            "_view_module_version": "1.2.0",
            "_view_name": "StyleView",
            "description_width": ""
          }
        },
        "dccd58f9622a449bb390f8d74a5dd3f6": {
          "model_module": "@jupyter-widgets/base",
          "model_name": "LayoutModel",
          "model_module_version": "1.2.0",
          "state": {
            "_model_module": "@jupyter-widgets/base",
            "_model_module_version": "1.2.0",
            "_model_name": "LayoutModel",
            "_view_count": null,
            "_view_module": "@jupyter-widgets/base",
            "_view_module_version": "1.2.0",
            "_view_name": "LayoutView",
            "align_content": null,
            "align_items": null,
            "align_self": null,
            "border": null,
            "bottom": null,
            "display": null,
            "flex": null,
            "flex_flow": null,
            "grid_area": null,
            "grid_auto_columns": null,
            "grid_auto_flow": null,
            "grid_auto_rows": null,
            "grid_column": null,
            "grid_gap": null,
            "grid_row": null,
            "grid_template_areas": null,
            "grid_template_columns": null,
            "grid_template_rows": null,
            "height": null,
            "justify_content": null,
            "justify_items": null,
            "left": null,
            "margin": null,
            "max_height": null,
            "max_width": null,
            "min_height": null,
            "min_width": null,
            "object_fit": null,
            "object_position": null,
            "order": null,
            "overflow": null,
            "overflow_x": null,
            "overflow_y": null,
            "padding": null,
            "right": null,
            "top": null,
            "visibility": null,
            "width": null
          }
        },
        "98b81bfa5ee14d8f9f517049dbcc9f23": {
          "model_module": "@jupyter-widgets/controls",
          "model_name": "ProgressStyleModel",
          "model_module_version": "1.5.0",
          "state": {
            "_model_module": "@jupyter-widgets/controls",
            "_model_module_version": "1.5.0",
            "_model_name": "ProgressStyleModel",
            "_view_count": null,
            "_view_module": "@jupyter-widgets/base",
            "_view_module_version": "1.2.0",
            "_view_name": "StyleView",
            "bar_color": null,
            "description_width": ""
          }
        },
        "e8fe86fe687048bc81b777c7713a19ca": {
          "model_module": "@jupyter-widgets/base",
          "model_name": "LayoutModel",
          "model_module_version": "1.2.0",
          "state": {
            "_model_module": "@jupyter-widgets/base",
            "_model_module_version": "1.2.0",
            "_model_name": "LayoutModel",
            "_view_count": null,
            "_view_module": "@jupyter-widgets/base",
            "_view_module_version": "1.2.0",
            "_view_name": "LayoutView",
            "align_content": null,
            "align_items": null,
            "align_self": null,
            "border": null,
            "bottom": null,
            "display": null,
            "flex": null,
            "flex_flow": null,
            "grid_area": null,
            "grid_auto_columns": null,
            "grid_auto_flow": null,
            "grid_auto_rows": null,
            "grid_column": null,
            "grid_gap": null,
            "grid_row": null,
            "grid_template_areas": null,
            "grid_template_columns": null,
            "grid_template_rows": null,
            "height": null,
            "justify_content": null,
            "justify_items": null,
            "left": null,
            "margin": null,
            "max_height": null,
            "max_width": null,
            "min_height": null,
            "min_width": null,
            "object_fit": null,
            "object_position": null,
            "order": null,
            "overflow": null,
            "overflow_x": null,
            "overflow_y": null,
            "padding": null,
            "right": null,
            "top": null,
            "visibility": null,
            "width": null
          }
        },
        "f776e63c6c9942aeb4ba5f4e4f9f64e9": {
          "model_module": "@jupyter-widgets/controls",
          "model_name": "DescriptionStyleModel",
          "model_module_version": "1.5.0",
          "state": {
            "_model_module": "@jupyter-widgets/controls",
            "_model_module_version": "1.5.0",
            "_model_name": "DescriptionStyleModel",
            "_view_count": null,
            "_view_module": "@jupyter-widgets/base",
            "_view_module_version": "1.2.0",
            "_view_name": "StyleView",
            "description_width": ""
          }
        },
        "8b61f9db622644218eb5ce2607f3eb95": {
          "model_module": "@jupyter-widgets/controls",
          "model_name": "HBoxModel",
          "model_module_version": "1.5.0",
          "state": {
            "_dom_classes": [],
            "_model_module": "@jupyter-widgets/controls",
            "_model_module_version": "1.5.0",
            "_model_name": "HBoxModel",
            "_view_count": null,
            "_view_module": "@jupyter-widgets/controls",
            "_view_module_version": "1.5.0",
            "_view_name": "HBoxView",
            "box_style": "",
            "children": [
              "IPY_MODEL_99bda5f2f6bc4ab29633b2d1e6be637e",
              "IPY_MODEL_bbcf0605e6d5410ab7f2bfee52e92214",
              "IPY_MODEL_7ffe6df40872485ea4bd2857634db44c"
            ],
            "layout": "IPY_MODEL_0c82f61d669043b3a138a00e1dc957d9"
          }
        },
        "99bda5f2f6bc4ab29633b2d1e6be637e": {
          "model_module": "@jupyter-widgets/controls",
          "model_name": "HTMLModel",
          "model_module_version": "1.5.0",
          "state": {
            "_dom_classes": [],
            "_model_module": "@jupyter-widgets/controls",
            "_model_module_version": "1.5.0",
            "_model_name": "HTMLModel",
            "_view_count": null,
            "_view_module": "@jupyter-widgets/controls",
            "_view_module_version": "1.5.0",
            "_view_name": "HTMLView",
            "description": "",
            "description_tooltip": null,
            "layout": "IPY_MODEL_3ebd9d5be27842cfb3ead0ddcfce072f",
            "placeholder": "​",
            "style": "IPY_MODEL_139aa4469c8e4b8fa5b6e61d498c45be",
            "value": "model-00003-of-00003.safetensors: 100%"
          }
        },
        "bbcf0605e6d5410ab7f2bfee52e92214": {
          "model_module": "@jupyter-widgets/controls",
          "model_name": "FloatProgressModel",
          "model_module_version": "1.5.0",
          "state": {
            "_dom_classes": [],
            "_model_module": "@jupyter-widgets/controls",
            "_model_module_version": "1.5.0",
            "_model_name": "FloatProgressModel",
            "_view_count": null,
            "_view_module": "@jupyter-widgets/controls",
            "_view_module_version": "1.5.0",
            "_view_name": "ProgressView",
            "bar_style": "success",
            "description": "",
            "description_tooltip": null,
            "layout": "IPY_MODEL_569d50932e2a4a04a18982f4adc27635",
            "max": 4176137408,
            "min": 0,
            "orientation": "horizontal",
            "style": "IPY_MODEL_d8fd14a78c514ce29347223b4108a51f",
            "value": 4176137408
          }
        },
        "7ffe6df40872485ea4bd2857634db44c": {
          "model_module": "@jupyter-widgets/controls",
          "model_name": "HTMLModel",
          "model_module_version": "1.5.0",
          "state": {
            "_dom_classes": [],
            "_model_module": "@jupyter-widgets/controls",
            "_model_module_version": "1.5.0",
            "_model_name": "HTMLModel",
            "_view_count": null,
            "_view_module": "@jupyter-widgets/controls",
            "_view_module_version": "1.5.0",
            "_view_name": "HTMLView",
            "description": "",
            "description_tooltip": null,
            "layout": "IPY_MODEL_b2288265517d4719885a0440a781603f",
            "placeholder": "​",
            "style": "IPY_MODEL_bf88d6958733482eb17423065aee1e2d",
            "value": " 4.18G/4.18G [01:40&lt;00:00, 30.6MB/s]"
          }
        },
        "0c82f61d669043b3a138a00e1dc957d9": {
          "model_module": "@jupyter-widgets/base",
          "model_name": "LayoutModel",
          "model_module_version": "1.2.0",
          "state": {
            "_model_module": "@jupyter-widgets/base",
            "_model_module_version": "1.2.0",
            "_model_name": "LayoutModel",
            "_view_count": null,
            "_view_module": "@jupyter-widgets/base",
            "_view_module_version": "1.2.0",
            "_view_name": "LayoutView",
            "align_content": null,
            "align_items": null,
            "align_self": null,
            "border": null,
            "bottom": null,
            "display": null,
            "flex": null,
            "flex_flow": null,
            "grid_area": null,
            "grid_auto_columns": null,
            "grid_auto_flow": null,
            "grid_auto_rows": null,
            "grid_column": null,
            "grid_gap": null,
            "grid_row": null,
            "grid_template_areas": null,
            "grid_template_columns": null,
            "grid_template_rows": null,
            "height": null,
            "justify_content": null,
            "justify_items": null,
            "left": null,
            "margin": null,
            "max_height": null,
            "max_width": null,
            "min_height": null,
            "min_width": null,
            "object_fit": null,
            "object_position": null,
            "order": null,
            "overflow": null,
            "overflow_x": null,
            "overflow_y": null,
            "padding": null,
            "right": null,
            "top": null,
            "visibility": null,
            "width": null
          }
        },
        "3ebd9d5be27842cfb3ead0ddcfce072f": {
          "model_module": "@jupyter-widgets/base",
          "model_name": "LayoutModel",
          "model_module_version": "1.2.0",
          "state": {
            "_model_module": "@jupyter-widgets/base",
            "_model_module_version": "1.2.0",
            "_model_name": "LayoutModel",
            "_view_count": null,
            "_view_module": "@jupyter-widgets/base",
            "_view_module_version": "1.2.0",
            "_view_name": "LayoutView",
            "align_content": null,
            "align_items": null,
            "align_self": null,
            "border": null,
            "bottom": null,
            "display": null,
            "flex": null,
            "flex_flow": null,
            "grid_area": null,
            "grid_auto_columns": null,
            "grid_auto_flow": null,
            "grid_auto_rows": null,
            "grid_column": null,
            "grid_gap": null,
            "grid_row": null,
            "grid_template_areas": null,
            "grid_template_columns": null,
            "grid_template_rows": null,
            "height": null,
            "justify_content": null,
            "justify_items": null,
            "left": null,
            "margin": null,
            "max_height": null,
            "max_width": null,
            "min_height": null,
            "min_width": null,
            "object_fit": null,
            "object_position": null,
            "order": null,
            "overflow": null,
            "overflow_x": null,
            "overflow_y": null,
            "padding": null,
            "right": null,
            "top": null,
            "visibility": null,
            "width": null
          }
        },
        "139aa4469c8e4b8fa5b6e61d498c45be": {
          "model_module": "@jupyter-widgets/controls",
          "model_name": "DescriptionStyleModel",
          "model_module_version": "1.5.0",
          "state": {
            "_model_module": "@jupyter-widgets/controls",
            "_model_module_version": "1.5.0",
            "_model_name": "DescriptionStyleModel",
            "_view_count": null,
            "_view_module": "@jupyter-widgets/base",
            "_view_module_version": "1.2.0",
            "_view_name": "StyleView",
            "description_width": ""
          }
        },
        "569d50932e2a4a04a18982f4adc27635": {
          "model_module": "@jupyter-widgets/base",
          "model_name": "LayoutModel",
          "model_module_version": "1.2.0",
          "state": {
            "_model_module": "@jupyter-widgets/base",
            "_model_module_version": "1.2.0",
            "_model_name": "LayoutModel",
            "_view_count": null,
            "_view_module": "@jupyter-widgets/base",
            "_view_module_version": "1.2.0",
            "_view_name": "LayoutView",
            "align_content": null,
            "align_items": null,
            "align_self": null,
            "border": null,
            "bottom": null,
            "display": null,
            "flex": null,
            "flex_flow": null,
            "grid_area": null,
            "grid_auto_columns": null,
            "grid_auto_flow": null,
            "grid_auto_rows": null,
            "grid_column": null,
            "grid_gap": null,
            "grid_row": null,
            "grid_template_areas": null,
            "grid_template_columns": null,
            "grid_template_rows": null,
            "height": null,
            "justify_content": null,
            "justify_items": null,
            "left": null,
            "margin": null,
            "max_height": null,
            "max_width": null,
            "min_height": null,
            "min_width": null,
            "object_fit": null,
            "object_position": null,
            "order": null,
            "overflow": null,
            "overflow_x": null,
            "overflow_y": null,
            "padding": null,
            "right": null,
            "top": null,
            "visibility": null,
            "width": null
          }
        },
        "d8fd14a78c514ce29347223b4108a51f": {
          "model_module": "@jupyter-widgets/controls",
          "model_name": "ProgressStyleModel",
          "model_module_version": "1.5.0",
          "state": {
            "_model_module": "@jupyter-widgets/controls",
            "_model_module_version": "1.5.0",
            "_model_name": "ProgressStyleModel",
            "_view_count": null,
            "_view_module": "@jupyter-widgets/base",
            "_view_module_version": "1.2.0",
            "_view_name": "StyleView",
            "bar_color": null,
            "description_width": ""
          }
        },
        "b2288265517d4719885a0440a781603f": {
          "model_module": "@jupyter-widgets/base",
          "model_name": "LayoutModel",
          "model_module_version": "1.2.0",
          "state": {
            "_model_module": "@jupyter-widgets/base",
            "_model_module_version": "1.2.0",
            "_model_name": "LayoutModel",
            "_view_count": null,
            "_view_module": "@jupyter-widgets/base",
            "_view_module_version": "1.2.0",
            "_view_name": "LayoutView",
            "align_content": null,
            "align_items": null,
            "align_self": null,
            "border": null,
            "bottom": null,
            "display": null,
            "flex": null,
            "flex_flow": null,
            "grid_area": null,
            "grid_auto_columns": null,
            "grid_auto_flow": null,
            "grid_auto_rows": null,
            "grid_column": null,
            "grid_gap": null,
            "grid_row": null,
            "grid_template_areas": null,
            "grid_template_columns": null,
            "grid_template_rows": null,
            "height": null,
            "justify_content": null,
            "justify_items": null,
            "left": null,
            "margin": null,
            "max_height": null,
            "max_width": null,
            "min_height": null,
            "min_width": null,
            "object_fit": null,
            "object_position": null,
            "order": null,
            "overflow": null,
            "overflow_x": null,
            "overflow_y": null,
            "padding": null,
            "right": null,
            "top": null,
            "visibility": null,
            "width": null
          }
        },
        "bf88d6958733482eb17423065aee1e2d": {
          "model_module": "@jupyter-widgets/controls",
          "model_name": "DescriptionStyleModel",
          "model_module_version": "1.5.0",
          "state": {
            "_model_module": "@jupyter-widgets/controls",
            "_model_module_version": "1.5.0",
            "_model_name": "DescriptionStyleModel",
            "_view_count": null,
            "_view_module": "@jupyter-widgets/base",
            "_view_module_version": "1.2.0",
            "_view_name": "StyleView",
            "description_width": ""
          }
        },
        "93a4d5bbbcd940768f4860e009ca6e29": {
          "model_module": "@jupyter-widgets/controls",
          "model_name": "HBoxModel",
          "model_module_version": "1.5.0",
          "state": {
            "_dom_classes": [],
            "_model_module": "@jupyter-widgets/controls",
            "_model_module_version": "1.5.0",
            "_model_name": "HBoxModel",
            "_view_count": null,
            "_view_module": "@jupyter-widgets/controls",
            "_view_module_version": "1.5.0",
            "_view_name": "HBoxView",
            "box_style": "",
            "children": [
              "IPY_MODEL_7a34eb98f8e04bf8a0026dffa1f4de25",
              "IPY_MODEL_b6909e76aa07457dadc8fd0a9081fbc1",
              "IPY_MODEL_bc15c736b5d3441f8c33ef7229e1af8f"
            ],
            "layout": "IPY_MODEL_4d41df6636f546329ce4042b60a69d7d"
          }
        },
        "7a34eb98f8e04bf8a0026dffa1f4de25": {
          "model_module": "@jupyter-widgets/controls",
          "model_name": "HTMLModel",
          "model_module_version": "1.5.0",
          "state": {
            "_dom_classes": [],
            "_model_module": "@jupyter-widgets/controls",
            "_model_module_version": "1.5.0",
            "_model_name": "HTMLModel",
            "_view_count": null,
            "_view_module": "@jupyter-widgets/controls",
            "_view_module_version": "1.5.0",
            "_view_name": "HTMLView",
            "description": "",
            "description_tooltip": null,
            "layout": "IPY_MODEL_79807a62cf684c8d91a3bef679a89398",
            "placeholder": "​",
            "style": "IPY_MODEL_537c39e0eb7e4f7db321120e4967c8d6",
            "value": "model-00001-of-00003.safetensors: 100%"
          }
        },
        "b6909e76aa07457dadc8fd0a9081fbc1": {
          "model_module": "@jupyter-widgets/controls",
          "model_name": "FloatProgressModel",
          "model_module_version": "1.5.0",
          "state": {
            "_dom_classes": [],
            "_model_module": "@jupyter-widgets/controls",
            "_model_module_version": "1.5.0",
            "_model_name": "FloatProgressModel",
            "_view_count": null,
            "_view_module": "@jupyter-widgets/controls",
            "_view_module_version": "1.5.0",
            "_view_name": "ProgressView",
            "bar_style": "success",
            "description": "",
            "description_tooltip": null,
            "layout": "IPY_MODEL_dba90f39705646af9d44e338b8e143b1",
            "max": 4992930200,
            "min": 0,
            "orientation": "horizontal",
            "style": "IPY_MODEL_1956ac4370624c6dbf2ef8f7140c839e",
            "value": 4992930200
          }
        },
        "bc15c736b5d3441f8c33ef7229e1af8f": {
          "model_module": "@jupyter-widgets/controls",
          "model_name": "HTMLModel",
          "model_module_version": "1.5.0",
          "state": {
            "_dom_classes": [],
            "_model_module": "@jupyter-widgets/controls",
            "_model_module_version": "1.5.0",
            "_model_name": "HTMLModel",
            "_view_count": null,
            "_view_module": "@jupyter-widgets/controls",
            "_view_module_version": "1.5.0",
            "_view_name": "HTMLView",
            "description": "",
            "description_tooltip": null,
            "layout": "IPY_MODEL_c6652e2a37b140f6aa08acaf0b82c4f7",
            "placeholder": "​",
            "style": "IPY_MODEL_3f2666b898a4471880c16908e462ca52",
            "value": " 4.99G/4.99G [02:00&lt;00:00, 214MB/s]"
          }
        },
        "4d41df6636f546329ce4042b60a69d7d": {
          "model_module": "@jupyter-widgets/base",
          "model_name": "LayoutModel",
          "model_module_version": "1.2.0",
          "state": {
            "_model_module": "@jupyter-widgets/base",
            "_model_module_version": "1.2.0",
            "_model_name": "LayoutModel",
            "_view_count": null,
            "_view_module": "@jupyter-widgets/base",
            "_view_module_version": "1.2.0",
            "_view_name": "LayoutView",
            "align_content": null,
            "align_items": null,
            "align_self": null,
            "border": null,
            "bottom": null,
            "display": null,
            "flex": null,
            "flex_flow": null,
            "grid_area": null,
            "grid_auto_columns": null,
            "grid_auto_flow": null,
            "grid_auto_rows": null,
            "grid_column": null,
            "grid_gap": null,
            "grid_row": null,
            "grid_template_areas": null,
            "grid_template_columns": null,
            "grid_template_rows": null,
            "height": null,
            "justify_content": null,
            "justify_items": null,
            "left": null,
            "margin": null,
            "max_height": null,
            "max_width": null,
            "min_height": null,
            "min_width": null,
            "object_fit": null,
            "object_position": null,
            "order": null,
            "overflow": null,
            "overflow_x": null,
            "overflow_y": null,
            "padding": null,
            "right": null,
            "top": null,
            "visibility": null,
            "width": null
          }
        },
        "79807a62cf684c8d91a3bef679a89398": {
          "model_module": "@jupyter-widgets/base",
          "model_name": "LayoutModel",
          "model_module_version": "1.2.0",
          "state": {
            "_model_module": "@jupyter-widgets/base",
            "_model_module_version": "1.2.0",
            "_model_name": "LayoutModel",
            "_view_count": null,
            "_view_module": "@jupyter-widgets/base",
            "_view_module_version": "1.2.0",
            "_view_name": "LayoutView",
            "align_content": null,
            "align_items": null,
            "align_self": null,
            "border": null,
            "bottom": null,
            "display": null,
            "flex": null,
            "flex_flow": null,
            "grid_area": null,
            "grid_auto_columns": null,
            "grid_auto_flow": null,
            "grid_auto_rows": null,
            "grid_column": null,
            "grid_gap": null,
            "grid_row": null,
            "grid_template_areas": null,
            "grid_template_columns": null,
            "grid_template_rows": null,
            "height": null,
            "justify_content": null,
            "justify_items": null,
            "left": null,
            "margin": null,
            "max_height": null,
            "max_width": null,
            "min_height": null,
            "min_width": null,
            "object_fit": null,
            "object_position": null,
            "order": null,
            "overflow": null,
            "overflow_x": null,
            "overflow_y": null,
            "padding": null,
            "right": null,
            "top": null,
            "visibility": null,
            "width": null
          }
        },
        "537c39e0eb7e4f7db321120e4967c8d6": {
          "model_module": "@jupyter-widgets/controls",
          "model_name": "DescriptionStyleModel",
          "model_module_version": "1.5.0",
          "state": {
            "_model_module": "@jupyter-widgets/controls",
            "_model_module_version": "1.5.0",
            "_model_name": "DescriptionStyleModel",
            "_view_count": null,
            "_view_module": "@jupyter-widgets/base",
            "_view_module_version": "1.2.0",
            "_view_name": "StyleView",
            "description_width": ""
          }
        },
        "dba90f39705646af9d44e338b8e143b1": {
          "model_module": "@jupyter-widgets/base",
          "model_name": "LayoutModel",
          "model_module_version": "1.2.0",
          "state": {
            "_model_module": "@jupyter-widgets/base",
            "_model_module_version": "1.2.0",
            "_model_name": "LayoutModel",
            "_view_count": null,
            "_view_module": "@jupyter-widgets/base",
            "_view_module_version": "1.2.0",
            "_view_name": "LayoutView",
            "align_content": null,
            "align_items": null,
            "align_self": null,
            "border": null,
            "bottom": null,
            "display": null,
            "flex": null,
            "flex_flow": null,
            "grid_area": null,
            "grid_auto_columns": null,
            "grid_auto_flow": null,
            "grid_auto_rows": null,
            "grid_column": null,
            "grid_gap": null,
            "grid_row": null,
            "grid_template_areas": null,
            "grid_template_columns": null,
            "grid_template_rows": null,
            "height": null,
            "justify_content": null,
            "justify_items": null,
            "left": null,
            "margin": null,
            "max_height": null,
            "max_width": null,
            "min_height": null,
            "min_width": null,
            "object_fit": null,
            "object_position": null,
            "order": null,
            "overflow": null,
            "overflow_x": null,
            "overflow_y": null,
            "padding": null,
            "right": null,
            "top": null,
            "visibility": null,
            "width": null
          }
        },
        "1956ac4370624c6dbf2ef8f7140c839e": {
          "model_module": "@jupyter-widgets/controls",
          "model_name": "ProgressStyleModel",
          "model_module_version": "1.5.0",
          "state": {
            "_model_module": "@jupyter-widgets/controls",
            "_model_module_version": "1.5.0",
            "_model_name": "ProgressStyleModel",
            "_view_count": null,
            "_view_module": "@jupyter-widgets/base",
            "_view_module_version": "1.2.0",
            "_view_name": "StyleView",
            "bar_color": null,
            "description_width": ""
          }
        },
        "c6652e2a37b140f6aa08acaf0b82c4f7": {
          "model_module": "@jupyter-widgets/base",
          "model_name": "LayoutModel",
          "model_module_version": "1.2.0",
          "state": {
            "_model_module": "@jupyter-widgets/base",
            "_model_module_version": "1.2.0",
            "_model_name": "LayoutModel",
            "_view_count": null,
            "_view_module": "@jupyter-widgets/base",
            "_view_module_version": "1.2.0",
            "_view_name": "LayoutView",
            "align_content": null,
            "align_items": null,
            "align_self": null,
            "border": null,
            "bottom": null,
            "display": null,
            "flex": null,
            "flex_flow": null,
            "grid_area": null,
            "grid_auto_columns": null,
            "grid_auto_flow": null,
            "grid_auto_rows": null,
            "grid_column": null,
            "grid_gap": null,
            "grid_row": null,
            "grid_template_areas": null,
            "grid_template_columns": null,
            "grid_template_rows": null,
            "height": null,
            "justify_content": null,
            "justify_items": null,
            "left": null,
            "margin": null,
            "max_height": null,
            "max_width": null,
            "min_height": null,
            "min_width": null,
            "object_fit": null,
            "object_position": null,
            "order": null,
            "overflow": null,
            "overflow_x": null,
            "overflow_y": null,
            "padding": null,
            "right": null,
            "top": null,
            "visibility": null,
            "width": null
          }
        },
        "3f2666b898a4471880c16908e462ca52": {
          "model_module": "@jupyter-widgets/controls",
          "model_name": "DescriptionStyleModel",
          "model_module_version": "1.5.0",
          "state": {
            "_model_module": "@jupyter-widgets/controls",
            "_model_module_version": "1.5.0",
            "_model_name": "DescriptionStyleModel",
            "_view_count": null,
            "_view_module": "@jupyter-widgets/base",
            "_view_module_version": "1.2.0",
            "_view_name": "StyleView",
            "description_width": ""
          }
        },
        "dfbb56a1b8204766b676f34e219d6f6d": {
          "model_module": "@jupyter-widgets/controls",
          "model_name": "HBoxModel",
          "model_module_version": "1.5.0",
          "state": {
            "_dom_classes": [],
            "_model_module": "@jupyter-widgets/controls",
            "_model_module_version": "1.5.0",
            "_model_name": "HBoxModel",
            "_view_count": null,
            "_view_module": "@jupyter-widgets/controls",
            "_view_module_version": "1.5.0",
            "_view_name": "HBoxView",
            "box_style": "",
            "children": [
              "IPY_MODEL_de149b550c6a43989196209b0a68ca5c",
              "IPY_MODEL_864bcf6c02f4468a9ae0c1c988111774",
              "IPY_MODEL_a0fd81fa588946129f8cbe352f28d49a"
            ],
            "layout": "IPY_MODEL_4af2c6f0722c4deda1779c0346520556"
          }
        },
        "de149b550c6a43989196209b0a68ca5c": {
          "model_module": "@jupyter-widgets/controls",
          "model_name": "HTMLModel",
          "model_module_version": "1.5.0",
          "state": {
            "_dom_classes": [],
            "_model_module": "@jupyter-widgets/controls",
            "_model_module_version": "1.5.0",
            "_model_name": "HTMLModel",
            "_view_count": null,
            "_view_module": "@jupyter-widgets/controls",
            "_view_module_version": "1.5.0",
            "_view_name": "HTMLView",
            "description": "",
            "description_tooltip": null,
            "layout": "IPY_MODEL_f1fbb92c19ab4477818118405f15f3ba",
            "placeholder": "​",
            "style": "IPY_MODEL_b8d5e29575154d16beaeeee34bfc12d6",
            "value": "Loading checkpoint shards: 100%"
          }
        },
        "864bcf6c02f4468a9ae0c1c988111774": {
          "model_module": "@jupyter-widgets/controls",
          "model_name": "FloatProgressModel",
          "model_module_version": "1.5.0",
          "state": {
            "_dom_classes": [],
            "_model_module": "@jupyter-widgets/controls",
            "_model_module_version": "1.5.0",
            "_model_name": "FloatProgressModel",
            "_view_count": null,
            "_view_module": "@jupyter-widgets/controls",
            "_view_module_version": "1.5.0",
            "_view_name": "ProgressView",
            "bar_style": "success",
            "description": "",
            "description_tooltip": null,
            "layout": "IPY_MODEL_bbfde126a51848d6b4437ccd142ace46",
            "max": 3,
            "min": 0,
            "orientation": "horizontal",
            "style": "IPY_MODEL_f8c90830fda549a5a87306336e7204bf",
            "value": 3
          }
        },
        "a0fd81fa588946129f8cbe352f28d49a": {
          "model_module": "@jupyter-widgets/controls",
          "model_name": "HTMLModel",
          "model_module_version": "1.5.0",
          "state": {
            "_dom_classes": [],
            "_model_module": "@jupyter-widgets/controls",
            "_model_module_version": "1.5.0",
            "_model_name": "HTMLModel",
            "_view_count": null,
            "_view_module": "@jupyter-widgets/controls",
            "_view_module_version": "1.5.0",
            "_view_name": "HTMLView",
            "description": "",
            "description_tooltip": null,
            "layout": "IPY_MODEL_066385981b60416a9768965c39a48552",
            "placeholder": "​",
            "style": "IPY_MODEL_66c584ce2dce457e9390275eaa5b1bb5",
            "value": " 3/3 [01:20&lt;00:00, 26.16s/it]"
          }
        },
        "4af2c6f0722c4deda1779c0346520556": {
          "model_module": "@jupyter-widgets/base",
          "model_name": "LayoutModel",
          "model_module_version": "1.2.0",
          "state": {
            "_model_module": "@jupyter-widgets/base",
            "_model_module_version": "1.2.0",
            "_model_name": "LayoutModel",
            "_view_count": null,
            "_view_module": "@jupyter-widgets/base",
            "_view_module_version": "1.2.0",
            "_view_name": "LayoutView",
            "align_content": null,
            "align_items": null,
            "align_self": null,
            "border": null,
            "bottom": null,
            "display": null,
            "flex": null,
            "flex_flow": null,
            "grid_area": null,
            "grid_auto_columns": null,
            "grid_auto_flow": null,
            "grid_auto_rows": null,
            "grid_column": null,
            "grid_gap": null,
            "grid_row": null,
            "grid_template_areas": null,
            "grid_template_columns": null,
            "grid_template_rows": null,
            "height": null,
            "justify_content": null,
            "justify_items": null,
            "left": null,
            "margin": null,
            "max_height": null,
            "max_width": null,
            "min_height": null,
            "min_width": null,
            "object_fit": null,
            "object_position": null,
            "order": null,
            "overflow": null,
            "overflow_x": null,
            "overflow_y": null,
            "padding": null,
            "right": null,
            "top": null,
            "visibility": null,
            "width": null
          }
        },
        "f1fbb92c19ab4477818118405f15f3ba": {
          "model_module": "@jupyter-widgets/base",
          "model_name": "LayoutModel",
          "model_module_version": "1.2.0",
          "state": {
            "_model_module": "@jupyter-widgets/base",
            "_model_module_version": "1.2.0",
            "_model_name": "LayoutModel",
            "_view_count": null,
            "_view_module": "@jupyter-widgets/base",
            "_view_module_version": "1.2.0",
            "_view_name": "LayoutView",
            "align_content": null,
            "align_items": null,
            "align_self": null,
            "border": null,
            "bottom": null,
            "display": null,
            "flex": null,
            "flex_flow": null,
            "grid_area": null,
            "grid_auto_columns": null,
            "grid_auto_flow": null,
            "grid_auto_rows": null,
            "grid_column": null,
            "grid_gap": null,
            "grid_row": null,
            "grid_template_areas": null,
            "grid_template_columns": null,
            "grid_template_rows": null,
            "height": null,
            "justify_content": null,
            "justify_items": null,
            "left": null,
            "margin": null,
            "max_height": null,
            "max_width": null,
            "min_height": null,
            "min_width": null,
            "object_fit": null,
            "object_position": null,
            "order": null,
            "overflow": null,
            "overflow_x": null,
            "overflow_y": null,
            "padding": null,
            "right": null,
            "top": null,
            "visibility": null,
            "width": null
          }
        },
        "b8d5e29575154d16beaeeee34bfc12d6": {
          "model_module": "@jupyter-widgets/controls",
          "model_name": "DescriptionStyleModel",
          "model_module_version": "1.5.0",
          "state": {
            "_model_module": "@jupyter-widgets/controls",
            "_model_module_version": "1.5.0",
            "_model_name": "DescriptionStyleModel",
            "_view_count": null,
            "_view_module": "@jupyter-widgets/base",
            "_view_module_version": "1.2.0",
            "_view_name": "StyleView",
            "description_width": ""
          }
        },
        "bbfde126a51848d6b4437ccd142ace46": {
          "model_module": "@jupyter-widgets/base",
          "model_name": "LayoutModel",
          "model_module_version": "1.2.0",
          "state": {
            "_model_module": "@jupyter-widgets/base",
            "_model_module_version": "1.2.0",
            "_model_name": "LayoutModel",
            "_view_count": null,
            "_view_module": "@jupyter-widgets/base",
            "_view_module_version": "1.2.0",
            "_view_name": "LayoutView",
            "align_content": null,
            "align_items": null,
            "align_self": null,
            "border": null,
            "bottom": null,
            "display": null,
            "flex": null,
            "flex_flow": null,
            "grid_area": null,
            "grid_auto_columns": null,
            "grid_auto_flow": null,
            "grid_auto_rows": null,
            "grid_column": null,
            "grid_gap": null,
            "grid_row": null,
            "grid_template_areas": null,
            "grid_template_columns": null,
            "grid_template_rows": null,
            "height": null,
            "justify_content": null,
            "justify_items": null,
            "left": null,
            "margin": null,
            "max_height": null,
            "max_width": null,
            "min_height": null,
            "min_width": null,
            "object_fit": null,
            "object_position": null,
            "order": null,
            "overflow": null,
            "overflow_x": null,
            "overflow_y": null,
            "padding": null,
            "right": null,
            "top": null,
            "visibility": null,
            "width": null
          }
        },
        "f8c90830fda549a5a87306336e7204bf": {
          "model_module": "@jupyter-widgets/controls",
          "model_name": "ProgressStyleModel",
          "model_module_version": "1.5.0",
          "state": {
            "_model_module": "@jupyter-widgets/controls",
            "_model_module_version": "1.5.0",
            "_model_name": "ProgressStyleModel",
            "_view_count": null,
            "_view_module": "@jupyter-widgets/base",
            "_view_module_version": "1.2.0",
            "_view_name": "StyleView",
            "bar_color": null,
            "description_width": ""
          }
        },
        "066385981b60416a9768965c39a48552": {
          "model_module": "@jupyter-widgets/base",
          "model_name": "LayoutModel",
          "model_module_version": "1.2.0",
          "state": {
            "_model_module": "@jupyter-widgets/base",
            "_model_module_version": "1.2.0",
            "_model_name": "LayoutModel",
            "_view_count": null,
            "_view_module": "@jupyter-widgets/base",
            "_view_module_version": "1.2.0",
            "_view_name": "LayoutView",
            "align_content": null,
            "align_items": null,
            "align_self": null,
            "border": null,
            "bottom": null,
            "display": null,
            "flex": null,
            "flex_flow": null,
            "grid_area": null,
            "grid_auto_columns": null,
            "grid_auto_flow": null,
            "grid_auto_rows": null,
            "grid_column": null,
            "grid_gap": null,
            "grid_row": null,
            "grid_template_areas": null,
            "grid_template_columns": null,
            "grid_template_rows": null,
            "height": null,
            "justify_content": null,
            "justify_items": null,
            "left": null,
            "margin": null,
            "max_height": null,
            "max_width": null,
            "min_height": null,
            "min_width": null,
            "object_fit": null,
            "object_position": null,
            "order": null,
            "overflow": null,
            "overflow_x": null,
            "overflow_y": null,
            "padding": null,
            "right": null,
            "top": null,
            "visibility": null,
            "width": null
          }
        },
        "66c584ce2dce457e9390275eaa5b1bb5": {
          "model_module": "@jupyter-widgets/controls",
          "model_name": "DescriptionStyleModel",
          "model_module_version": "1.5.0",
          "state": {
            "_model_module": "@jupyter-widgets/controls",
            "_model_module_version": "1.5.0",
            "_model_name": "DescriptionStyleModel",
            "_view_count": null,
            "_view_module": "@jupyter-widgets/base",
            "_view_module_version": "1.2.0",
            "_view_name": "StyleView",
            "description_width": ""
          }
        },
        "7a71ccc912ca4ab1ba988abfd627e5ef": {
          "model_module": "@jupyter-widgets/controls",
          "model_name": "HBoxModel",
          "model_module_version": "1.5.0",
          "state": {
            "_dom_classes": [],
            "_model_module": "@jupyter-widgets/controls",
            "_model_module_version": "1.5.0",
            "_model_name": "HBoxModel",
            "_view_count": null,
            "_view_module": "@jupyter-widgets/controls",
            "_view_module_version": "1.5.0",
            "_view_name": "HBoxView",
            "box_style": "",
            "children": [
              "IPY_MODEL_d13beae84c0045a6a4efca4bd00027b9",
              "IPY_MODEL_5e0a687079b6480f9313cf3352503d60",
              "IPY_MODEL_9d1a5e5bb0bf4079b5f65909f18a9230"
            ],
            "layout": "IPY_MODEL_9c8e31b3ed264409ab9fde20dc10f2ac"
          }
        },
        "d13beae84c0045a6a4efca4bd00027b9": {
          "model_module": "@jupyter-widgets/controls",
          "model_name": "HTMLModel",
          "model_module_version": "1.5.0",
          "state": {
            "_dom_classes": [],
            "_model_module": "@jupyter-widgets/controls",
            "_model_module_version": "1.5.0",
            "_model_name": "HTMLModel",
            "_view_count": null,
            "_view_module": "@jupyter-widgets/controls",
            "_view_module_version": "1.5.0",
            "_view_name": "HTMLView",
            "description": "",
            "description_tooltip": null,
            "layout": "IPY_MODEL_58f70820c2614984b3dfb3e045142a6d",
            "placeholder": "​",
            "style": "IPY_MODEL_9e0468df946043f5b1bf935891a58968",
            "value": "generation_config.json: 100%"
          }
        },
        "5e0a687079b6480f9313cf3352503d60": {
          "model_module": "@jupyter-widgets/controls",
          "model_name": "FloatProgressModel",
          "model_module_version": "1.5.0",
          "state": {
            "_dom_classes": [],
            "_model_module": "@jupyter-widgets/controls",
            "_model_module_version": "1.5.0",
            "_model_name": "FloatProgressModel",
            "_view_count": null,
            "_view_module": "@jupyter-widgets/controls",
            "_view_module_version": "1.5.0",
            "_view_name": "ProgressView",
            "bar_style": "success",
            "description": "",
            "description_tooltip": null,
            "layout": "IPY_MODEL_048b8a6eb47f41d28773032597fa9b34",
            "max": 141,
            "min": 0,
            "orientation": "horizontal",
            "style": "IPY_MODEL_07c56de91cde4629921c9197c80630ad",
            "value": 141
          }
        },
        "9d1a5e5bb0bf4079b5f65909f18a9230": {
          "model_module": "@jupyter-widgets/controls",
          "model_name": "HTMLModel",
          "model_module_version": "1.5.0",
          "state": {
            "_dom_classes": [],
            "_model_module": "@jupyter-widgets/controls",
            "_model_module_version": "1.5.0",
            "_model_name": "HTMLModel",
            "_view_count": null,
            "_view_module": "@jupyter-widgets/controls",
            "_view_module_version": "1.5.0",
            "_view_name": "HTMLView",
            "description": "",
            "description_tooltip": null,
            "layout": "IPY_MODEL_39ec7e17da234d02a65912ab6251147f",
            "placeholder": "​",
            "style": "IPY_MODEL_59d7ef500bee4daba3c733f1cec95902",
            "value": " 141/141 [00:00&lt;00:00, 12.2kB/s]"
          }
        },
        "9c8e31b3ed264409ab9fde20dc10f2ac": {
          "model_module": "@jupyter-widgets/base",
          "model_name": "LayoutModel",
          "model_module_version": "1.2.0",
          "state": {
            "_model_module": "@jupyter-widgets/base",
            "_model_module_version": "1.2.0",
            "_model_name": "LayoutModel",
            "_view_count": null,
            "_view_module": "@jupyter-widgets/base",
            "_view_module_version": "1.2.0",
            "_view_name": "LayoutView",
            "align_content": null,
            "align_items": null,
            "align_self": null,
            "border": null,
            "bottom": null,
            "display": null,
            "flex": null,
            "flex_flow": null,
            "grid_area": null,
            "grid_auto_columns": null,
            "grid_auto_flow": null,
            "grid_auto_rows": null,
            "grid_column": null,
            "grid_gap": null,
            "grid_row": null,
            "grid_template_areas": null,
            "grid_template_columns": null,
            "grid_template_rows": null,
            "height": null,
            "justify_content": null,
            "justify_items": null,
            "left": null,
            "margin": null,
            "max_height": null,
            "max_width": null,
            "min_height": null,
            "min_width": null,
            "object_fit": null,
            "object_position": null,
            "order": null,
            "overflow": null,
            "overflow_x": null,
            "overflow_y": null,
            "padding": null,
            "right": null,
            "top": null,
            "visibility": null,
            "width": null
          }
        },
        "58f70820c2614984b3dfb3e045142a6d": {
          "model_module": "@jupyter-widgets/base",
          "model_name": "LayoutModel",
          "model_module_version": "1.2.0",
          "state": {
            "_model_module": "@jupyter-widgets/base",
            "_model_module_version": "1.2.0",
            "_model_name": "LayoutModel",
            "_view_count": null,
            "_view_module": "@jupyter-widgets/base",
            "_view_module_version": "1.2.0",
            "_view_name": "LayoutView",
            "align_content": null,
            "align_items": null,
            "align_self": null,
            "border": null,
            "bottom": null,
            "display": null,
            "flex": null,
            "flex_flow": null,
            "grid_area": null,
            "grid_auto_columns": null,
            "grid_auto_flow": null,
            "grid_auto_rows": null,
            "grid_column": null,
            "grid_gap": null,
            "grid_row": null,
            "grid_template_areas": null,
            "grid_template_columns": null,
            "grid_template_rows": null,
            "height": null,
            "justify_content": null,
            "justify_items": null,
            "left": null,
            "margin": null,
            "max_height": null,
            "max_width": null,
            "min_height": null,
            "min_width": null,
            "object_fit": null,
            "object_position": null,
            "order": null,
            "overflow": null,
            "overflow_x": null,
            "overflow_y": null,
            "padding": null,
            "right": null,
            "top": null,
            "visibility": null,
            "width": null
          }
        },
        "9e0468df946043f5b1bf935891a58968": {
          "model_module": "@jupyter-widgets/controls",
          "model_name": "DescriptionStyleModel",
          "model_module_version": "1.5.0",
          "state": {
            "_model_module": "@jupyter-widgets/controls",
            "_model_module_version": "1.5.0",
            "_model_name": "DescriptionStyleModel",
            "_view_count": null,
            "_view_module": "@jupyter-widgets/base",
            "_view_module_version": "1.2.0",
            "_view_name": "StyleView",
            "description_width": ""
          }
        },
        "048b8a6eb47f41d28773032597fa9b34": {
          "model_module": "@jupyter-widgets/base",
          "model_name": "LayoutModel",
          "model_module_version": "1.2.0",
          "state": {
            "_model_module": "@jupyter-widgets/base",
            "_model_module_version": "1.2.0",
            "_model_name": "LayoutModel",
            "_view_count": null,
            "_view_module": "@jupyter-widgets/base",
            "_view_module_version": "1.2.0",
            "_view_name": "LayoutView",
            "align_content": null,
            "align_items": null,
            "align_self": null,
            "border": null,
            "bottom": null,
            "display": null,
            "flex": null,
            "flex_flow": null,
            "grid_area": null,
            "grid_auto_columns": null,
            "grid_auto_flow": null,
            "grid_auto_rows": null,
            "grid_column": null,
            "grid_gap": null,
            "grid_row": null,
            "grid_template_areas": null,
            "grid_template_columns": null,
            "grid_template_rows": null,
            "height": null,
            "justify_content": null,
            "justify_items": null,
            "left": null,
            "margin": null,
            "max_height": null,
            "max_width": null,
            "min_height": null,
            "min_width": null,
            "object_fit": null,
            "object_position": null,
            "order": null,
            "overflow": null,
            "overflow_x": null,
            "overflow_y": null,
            "padding": null,
            "right": null,
            "top": null,
            "visibility": null,
            "width": null
          }
        },
        "07c56de91cde4629921c9197c80630ad": {
          "model_module": "@jupyter-widgets/controls",
          "model_name": "ProgressStyleModel",
          "model_module_version": "1.5.0",
          "state": {
            "_model_module": "@jupyter-widgets/controls",
            "_model_module_version": "1.5.0",
            "_model_name": "ProgressStyleModel",
            "_view_count": null,
            "_view_module": "@jupyter-widgets/base",
            "_view_module_version": "1.2.0",
            "_view_name": "StyleView",
            "bar_color": null,
            "description_width": ""
          }
        },
        "39ec7e17da234d02a65912ab6251147f": {
          "model_module": "@jupyter-widgets/base",
          "model_name": "LayoutModel",
          "model_module_version": "1.2.0",
          "state": {
            "_model_module": "@jupyter-widgets/base",
            "_model_module_version": "1.2.0",
            "_model_name": "LayoutModel",
            "_view_count": null,
            "_view_module": "@jupyter-widgets/base",
            "_view_module_version": "1.2.0",
            "_view_name": "LayoutView",
            "align_content": null,
            "align_items": null,
            "align_self": null,
            "border": null,
            "bottom": null,
            "display": null,
            "flex": null,
            "flex_flow": null,
            "grid_area": null,
            "grid_auto_columns": null,
            "grid_auto_flow": null,
            "grid_auto_rows": null,
            "grid_column": null,
            "grid_gap": null,
            "grid_row": null,
            "grid_template_areas": null,
            "grid_template_columns": null,
            "grid_template_rows": null,
            "height": null,
            "justify_content": null,
            "justify_items": null,
            "left": null,
            "margin": null,
            "max_height": null,
            "max_width": null,
            "min_height": null,
            "min_width": null,
            "object_fit": null,
            "object_position": null,
            "order": null,
            "overflow": null,
            "overflow_x": null,
            "overflow_y": null,
            "padding": null,
            "right": null,
            "top": null,
            "visibility": null,
            "width": null
          }
        },
        "59d7ef500bee4daba3c733f1cec95902": {
          "model_module": "@jupyter-widgets/controls",
          "model_name": "DescriptionStyleModel",
          "model_module_version": "1.5.0",
          "state": {
            "_model_module": "@jupyter-widgets/controls",
            "_model_module_version": "1.5.0",
            "_model_name": "DescriptionStyleModel",
            "_view_count": null,
            "_view_module": "@jupyter-widgets/base",
            "_view_module_version": "1.2.0",
            "_view_name": "StyleView",
            "description_width": ""
          }
        }
      }
    },
    "accelerator": "GPU"
  },
  "nbformat": 4,
  "nbformat_minor": 0
}